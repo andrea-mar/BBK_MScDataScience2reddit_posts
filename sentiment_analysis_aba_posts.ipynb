{
 "cells": [
  {
   "cell_type": "code",
   "execution_count": 1355,
   "metadata": {},
   "outputs": [
    {
     "name": "stdout",
     "output_type": "stream",
     "text": [
      "<class 'pandas.core.frame.DataFrame'>\n",
      "RangeIndex: 3560 entries, 0 to 3559\n",
      "Data columns (total 8 columns):\n",
      " #   Column                   Non-Null Count  Dtype  \n",
      "---  ------                   --------------  -----  \n",
      " 0   Document                 3560 non-null   object \n",
      " 1   Topic                    3560 non-null   int64  \n",
      " 2   Name                     3560 non-null   object \n",
      " 3   Representation           3560 non-null   object \n",
      " 4   Representative_Docs      3560 non-null   object \n",
      " 5   Top_n_words              3560 non-null   object \n",
      " 6   Probability              3560 non-null   float64\n",
      " 7   Representative_document  3560 non-null   bool   \n",
      "dtypes: bool(1), float64(1), int64(1), object(5)\n",
      "memory usage: 198.3+ KB\n"
     ]
    }
   ],
   "source": [
    "# get data from google drive - optained via BERTopic \n",
    "import pandas as pd\n",
    "\n",
    "file_path = '/Users/andreeanistor/Google Drive/My Drive/MS_DS_NLP_project/bertopics_reddit_aba_posts.csv'\n",
    "aba_posts = pd.read_csv(file_path)\n",
    "aba_posts.info() # no missing data, documents text has been cleaned previously"
   ]
  },
  {
   "cell_type": "code",
   "execution_count": 1356,
   "metadata": {},
   "outputs": [
    {
     "data": {
      "text/html": [
       "<div>\n",
       "<style scoped>\n",
       "    .dataframe tbody tr th:only-of-type {\n",
       "        vertical-align: middle;\n",
       "    }\n",
       "\n",
       "    .dataframe tbody tr th {\n",
       "        vertical-align: top;\n",
       "    }\n",
       "\n",
       "    .dataframe thead th {\n",
       "        text-align: right;\n",
       "    }\n",
       "</style>\n",
       "<table border=\"1\" class=\"dataframe\">\n",
       "  <thead>\n",
       "    <tr style=\"text-align: right;\">\n",
       "      <th></th>\n",
       "      <th>Document</th>\n",
       "      <th>Topic</th>\n",
       "      <th>Name</th>\n",
       "      <th>Representation</th>\n",
       "      <th>Representative_Docs</th>\n",
       "      <th>Top_n_words</th>\n",
       "      <th>Probability</th>\n",
       "      <th>Representative_document</th>\n",
       "    </tr>\n",
       "  </thead>\n",
       "  <tbody>\n",
       "    <tr>\n",
       "      <th>0</th>\n",
       "      <td>As an autistic person please listen to us when...</td>\n",
       "      <td>4</td>\n",
       "      <td>4_aba_bcba_rbt_bcbas</td>\n",
       "      <td>['aba', 'bcba', 'rbt', 'bcbas', 'rbts', 'field...</td>\n",
       "      <td>['I had ABA and have nothing bad to say of it'...</td>\n",
       "      <td>aba - bcba - rbt - bcbas - rbts - field - hour...</td>\n",
       "      <td>1.0</td>\n",
       "      <td>False</td>\n",
       "    </tr>\n",
       "    <tr>\n",
       "      <th>1</th>\n",
       "      <td>My daughter who has down syndrome and autism d...</td>\n",
       "      <td>4</td>\n",
       "      <td>4_aba_bcba_rbt_bcbas</td>\n",
       "      <td>['aba', 'bcba', 'rbt', 'bcbas', 'rbts', 'field...</td>\n",
       "      <td>['I had ABA and have nothing bad to say of it'...</td>\n",
       "      <td>aba - bcba - rbt - bcbas - rbts - field - hour...</td>\n",
       "      <td>1.0</td>\n",
       "      <td>False</td>\n",
       "    </tr>\n",
       "    <tr>\n",
       "      <th>2</th>\n",
       "      <td>One bit of word from an autistic adult Stop AB...</td>\n",
       "      <td>4</td>\n",
       "      <td>4_aba_bcba_rbt_bcbas</td>\n",
       "      <td>['aba', 'bcba', 'rbt', 'bcbas', 'rbts', 'field...</td>\n",
       "      <td>['I had ABA and have nothing bad to say of it'...</td>\n",
       "      <td>aba - bcba - rbt - bcbas - rbts - field - hour...</td>\n",
       "      <td>1.0</td>\n",
       "      <td>False</td>\n",
       "    </tr>\n",
       "  </tbody>\n",
       "</table>\n",
       "</div>"
      ],
      "text/plain": [
       "                                            Document  Topic  \\\n",
       "0  As an autistic person please listen to us when...      4   \n",
       "1  My daughter who has down syndrome and autism d...      4   \n",
       "2  One bit of word from an autistic adult Stop AB...      4   \n",
       "\n",
       "                   Name                                     Representation  \\\n",
       "0  4_aba_bcba_rbt_bcbas  ['aba', 'bcba', 'rbt', 'bcbas', 'rbts', 'field...   \n",
       "1  4_aba_bcba_rbt_bcbas  ['aba', 'bcba', 'rbt', 'bcbas', 'rbts', 'field...   \n",
       "2  4_aba_bcba_rbt_bcbas  ['aba', 'bcba', 'rbt', 'bcbas', 'rbts', 'field...   \n",
       "\n",
       "                                 Representative_Docs  \\\n",
       "0  ['I had ABA and have nothing bad to say of it'...   \n",
       "1  ['I had ABA and have nothing bad to say of it'...   \n",
       "2  ['I had ABA and have nothing bad to say of it'...   \n",
       "\n",
       "                                         Top_n_words  Probability  \\\n",
       "0  aba - bcba - rbt - bcbas - rbts - field - hour...          1.0   \n",
       "1  aba - bcba - rbt - bcbas - rbts - field - hour...          1.0   \n",
       "2  aba - bcba - rbt - bcbas - rbts - field - hour...          1.0   \n",
       "\n",
       "   Representative_document  \n",
       "0                    False  \n",
       "1                    False  \n",
       "2                    False  "
      ]
     },
     "execution_count": 1356,
     "metadata": {},
     "output_type": "execute_result"
    }
   ],
   "source": [
    "aba_posts.head(3) "
   ]
  },
  {
   "cell_type": "code",
   "execution_count": 1357,
   "metadata": {},
   "outputs": [
    {
     "data": {
      "text/plain": [
       "'aba - bcba - rbt - bcbas - rbts - field - hours - slp - therapy - ot'"
      ]
     },
     "execution_count": 1357,
     "metadata": {},
     "output_type": "execute_result"
    }
   ],
   "source": [
    "aba_posts.Top_n_words[0]"
   ]
  },
  {
   "cell_type": "code",
   "execution_count": 1358,
   "metadata": {},
   "outputs": [
    {
     "data": {
      "text/plain": [
       "'[\\'I had ABA and have nothing bad to say of it\\', \\'I know what ABA is but what s PBIS\\', \"I don\\'t do ABA on myself I go to ABA therapy\"]'"
      ]
     },
     "execution_count": 1358,
     "metadata": {},
     "output_type": "execute_result"
    }
   ],
   "source": [
    "aba_posts.Representative_Docs[0]"
   ]
  },
  {
   "cell_type": "code",
   "execution_count": 1359,
   "metadata": {},
   "outputs": [
    {
     "data": {
      "image/png": "[encoded data removed]",
      "text/plain": [
       "<Figure size 1000x600 with 1 Axes>"
      ]
     },
     "metadata": {},
     "output_type": "display_data"
    }
   ],
   "source": [
    "import matplotlib.pyplot as plt\n",
    "\n",
    "# Plot the 'Probabilities' column\n",
    "plt.figure(figsize=(10, 6))  # Adjust the figure size if needed\n",
    "plt.hist(aba_posts['Probability'], bins=10, color='skyblue', edgecolor='black')\n",
    "plt.title('Probability Distribution')\n",
    "plt.xlabel('Probabilities')\n",
    "plt.ylabel('Frequency')\n",
    "plt.grid(True)\n",
    "plt.show()\n",
    "\n",
    "# all the posts found by bertopic seem to be relevant to aba , most have 100% probability to belong to this topic"
   ]
  },
  {
   "cell_type": "code",
   "execution_count": 1360,
   "metadata": {},
   "outputs": [
    {
     "name": "stdout",
     "output_type": "stream",
     "text": [
      "<class 'pandas.core.frame.DataFrame'>\n",
      "RangeIndex: 3560 entries, 0 to 3559\n",
      "Data columns (total 1 columns):\n",
      " #   Column    Non-Null Count  Dtype \n",
      "---  ------    --------------  ----- \n",
      " 0   Document  3560 non-null   object\n",
      "dtypes: object(1)\n",
      "memory usage: 27.9+ KB\n"
     ]
    },
    {
     "data": {
      "text/html": [
       "<div>\n",
       "<style scoped>\n",
       "    .dataframe tbody tr th:only-of-type {\n",
       "        vertical-align: middle;\n",
       "    }\n",
       "\n",
       "    .dataframe tbody tr th {\n",
       "        vertical-align: top;\n",
       "    }\n",
       "\n",
       "    .dataframe thead th {\n",
       "        text-align: right;\n",
       "    }\n",
       "</style>\n",
       "<table border=\"1\" class=\"dataframe\">\n",
       "  <thead>\n",
       "    <tr style=\"text-align: right;\">\n",
       "      <th></th>\n",
       "      <th>Document</th>\n",
       "    </tr>\n",
       "  </thead>\n",
       "  <tbody>\n",
       "    <tr>\n",
       "      <th>0</th>\n",
       "      <td>As an autistic person please listen to us when...</td>\n",
       "    </tr>\n",
       "    <tr>\n",
       "      <th>1</th>\n",
       "      <td>My daughter who has down syndrome and autism d...</td>\n",
       "    </tr>\n",
       "    <tr>\n",
       "      <th>2</th>\n",
       "      <td>One bit of word from an autistic adult Stop AB...</td>\n",
       "    </tr>\n",
       "  </tbody>\n",
       "</table>\n",
       "</div>"
      ],
      "text/plain": [
       "                                            Document\n",
       "0  As an autistic person please listen to us when...\n",
       "1  My daughter who has down syndrome and autism d...\n",
       "2  One bit of word from an autistic adult Stop AB..."
      ]
     },
     "execution_count": 1360,
     "metadata": {},
     "output_type": "execute_result"
    }
   ],
   "source": [
    "# we only need the text / document column \n",
    "# drop the other columns\n",
    "aba_posts = aba_posts[['Document']]\n",
    "aba_posts.info()\n",
    "aba_posts.head(3)"
   ]
  },
  {
   "cell_type": "markdown",
   "metadata": {},
   "source": [
    "### Which subreddits do the posts come form ?"
   ]
  },
  {
   "cell_type": "code",
   "execution_count": 1361,
   "metadata": {},
   "outputs": [
    {
     "name": "stdout",
     "output_type": "stream",
     "text": [
      "<class 'pandas.core.frame.DataFrame'>\n",
      "RangeIndex: 3560 entries, 0 to 3559\n",
      "Data columns (total 8 columns):\n",
      " #   Column                   Non-Null Count  Dtype  \n",
      "---  ------                   --------------  -----  \n",
      " 0   Unnamed: 0               3560 non-null   int64  \n",
      " 1   Document                 3560 non-null   object \n",
      " 2   Topic                    3560 non-null   int64  \n",
      " 3   Name                     3560 non-null   object \n",
      " 4   Representation           3560 non-null   object \n",
      " 5   Representative_Docs      0 non-null      float64\n",
      " 6   Top_n_words              3560 non-null   object \n",
      " 7   Representative_document  3560 non-null   bool   \n",
      "dtypes: bool(1), float64(1), int64(2), object(4)\n",
      "memory usage: 198.3+ KB\n"
     ]
    }
   ],
   "source": [
    "# as i have not saved the index of the dataset when fitting the model i will need to use datasest resaved after the labeling\n",
    "# i will leave the original dataset untouched as the labeling was done already and if the dataset is changed the random seed gives different results that don't match the labeled data\n",
    "file_path = '/Users/andreeanistor/Google Drive/My Drive/MS_DS_NLP_project/bertopics_reddit_aba_posts_indexed.csv'\n",
    "aba_posts_indexed = pd.read_csv(file_path)\n",
    "aba_posts_indexed.info() # no missing data, documents text has been cleaned previously"
   ]
  },
  {
   "cell_type": "code",
   "execution_count": 1362,
   "metadata": {},
   "outputs": [
    {
     "name": "stdout",
     "output_type": "stream",
     "text": [
      "<class 'pandas.core.frame.DataFrame'>\n",
      "RangeIndex: 3560 entries, 0 to 3559\n",
      "Data columns (total 8 columns):\n",
      " #   Column                   Non-Null Count  Dtype  \n",
      "---  ------                   --------------  -----  \n",
      " 0   original_index           3560 non-null   int64  \n",
      " 1   Document                 3560 non-null   object \n",
      " 2   Topic                    3560 non-null   int64  \n",
      " 3   Name                     3560 non-null   object \n",
      " 4   Representation           3560 non-null   object \n",
      " 5   Representative_Docs      0 non-null      float64\n",
      " 6   Top_n_words              3560 non-null   object \n",
      " 7   Representative_document  3560 non-null   bool   \n",
      "dtypes: bool(1), float64(1), int64(2), object(4)\n",
      "memory usage: 198.3+ KB\n"
     ]
    }
   ],
   "source": [
    "aba_posts_indexed = aba_posts_indexed.rename(columns={'Unnamed: 0': 'original_index'})\n",
    "aba_posts_indexed.info()"
   ]
  },
  {
   "cell_type": "code",
   "execution_count": 1363,
   "metadata": {},
   "outputs": [
    {
     "data": {
      "text/html": [
       "<div>\n",
       "<style scoped>\n",
       "    .dataframe tbody tr th:only-of-type {\n",
       "        vertical-align: middle;\n",
       "    }\n",
       "\n",
       "    .dataframe tbody tr th {\n",
       "        vertical-align: top;\n",
       "    }\n",
       "\n",
       "    .dataframe thead th {\n",
       "        text-align: right;\n",
       "    }\n",
       "</style>\n",
       "<table border=\"1\" class=\"dataframe\">\n",
       "  <thead>\n",
       "    <tr style=\"text-align: right;\">\n",
       "      <th></th>\n",
       "      <th>original_index</th>\n",
       "      <th>Document</th>\n",
       "    </tr>\n",
       "  </thead>\n",
       "  <tbody>\n",
       "    <tr>\n",
       "      <th>0</th>\n",
       "      <td>108</td>\n",
       "      <td>As an autistic person please listen to us when...</td>\n",
       "    </tr>\n",
       "    <tr>\n",
       "      <th>1</th>\n",
       "      <td>114</td>\n",
       "      <td>My daughter who has down syndrome and autism d...</td>\n",
       "    </tr>\n",
       "    <tr>\n",
       "      <th>2</th>\n",
       "      <td>117</td>\n",
       "      <td>One bit of word from an autistic adult Stop AB...</td>\n",
       "    </tr>\n",
       "  </tbody>\n",
       "</table>\n",
       "</div>"
      ],
      "text/plain": [
       "   original_index                                           Document\n",
       "0             108  As an autistic person please listen to us when...\n",
       "1             114  My daughter who has down syndrome and autism d...\n",
       "2             117  One bit of word from an autistic adult Stop AB..."
      ]
     },
     "execution_count": 1363,
     "metadata": {},
     "output_type": "execute_result"
    }
   ],
   "source": [
    "# take the original index and add it to the aba_poasts dataframe\n",
    "aba_posts_indexed = aba_posts_indexed[['original_index', 'Document']]\n",
    "aba_posts_indexed.head(3)"
   ]
  },
  {
   "cell_type": "code",
   "execution_count": 1364,
   "metadata": {},
   "outputs": [
    {
     "data": {
      "text/html": [
       "<div>\n",
       "<style scoped>\n",
       "    .dataframe tbody tr th:only-of-type {\n",
       "        vertical-align: middle;\n",
       "    }\n",
       "\n",
       "    .dataframe tbody tr th {\n",
       "        vertical-align: top;\n",
       "    }\n",
       "\n",
       "    .dataframe thead th {\n",
       "        text-align: right;\n",
       "    }\n",
       "</style>\n",
       "<table border=\"1\" class=\"dataframe\">\n",
       "  <thead>\n",
       "    <tr style=\"text-align: right;\">\n",
       "      <th></th>\n",
       "      <th>original_index</th>\n",
       "      <th>Document</th>\n",
       "    </tr>\n",
       "  </thead>\n",
       "  <tbody>\n",
       "    <tr>\n",
       "      <th>0</th>\n",
       "      <td>108</td>\n",
       "      <td>As an autistic person please listen to us when...</td>\n",
       "    </tr>\n",
       "    <tr>\n",
       "      <th>1</th>\n",
       "      <td>114</td>\n",
       "      <td>My daughter who has down syndrome and autism d...</td>\n",
       "    </tr>\n",
       "    <tr>\n",
       "      <th>2</th>\n",
       "      <td>117</td>\n",
       "      <td>One bit of word from an autistic adult Stop AB...</td>\n",
       "    </tr>\n",
       "  </tbody>\n",
       "</table>\n",
       "</div>"
      ],
      "text/plain": [
       "   original_index                                           Document\n",
       "0             108  As an autistic person please listen to us when...\n",
       "1             114  My daughter who has down syndrome and autism d...\n",
       "2             117  One bit of word from an autistic adult Stop AB..."
      ]
     },
     "execution_count": 1364,
     "metadata": {},
     "output_type": "execute_result"
    }
   ],
   "source": [
    "aba_posts_indexed = pd.merge(aba_posts_indexed, aba_posts, on='Document', how='inner')\n",
    "aba_posts_indexed.head(3)"
   ]
  },
  {
   "cell_type": "code",
   "execution_count": 1369,
   "metadata": {},
   "outputs": [
    {
     "data": {
      "text/html": [
       "<div>\n",
       "<style scoped>\n",
       "    .dataframe tbody tr th:only-of-type {\n",
       "        vertical-align: middle;\n",
       "    }\n",
       "\n",
       "    .dataframe tbody tr th {\n",
       "        vertical-align: top;\n",
       "    }\n",
       "\n",
       "    .dataframe thead th {\n",
       "        text-align: right;\n",
       "    }\n",
       "</style>\n",
       "<table border=\"1\" class=\"dataframe\">\n",
       "  <thead>\n",
       "    <tr style=\"text-align: right;\">\n",
       "      <th></th>\n",
       "      <th>id</th>\n",
       "      <th>main_submission_id</th>\n",
       "      <th>comment_parent_id</th>\n",
       "      <th>subreddit</th>\n",
       "      <th>post_type</th>\n",
       "      <th>text</th>\n",
       "      <th>datetime</th>\n",
       "      <th>month</th>\n",
       "      <th>year</th>\n",
       "      <th>text_length</th>\n",
       "      <th>language</th>\n",
       "      <th>language_ft</th>\n",
       "    </tr>\n",
       "  </thead>\n",
       "  <tbody>\n",
       "    <tr>\n",
       "      <th>0</th>\n",
       "      <td>is4ft9s</td>\n",
       "      <td>y2q46p</td>\n",
       "      <td>t3_y2q46p</td>\n",
       "      <td>autism</td>\n",
       "      <td>comment</td>\n",
       "      <td>I don t think it works like that</td>\n",
       "      <td>2022-10-13 05:58:56</td>\n",
       "      <td>10</td>\n",
       "      <td>2022</td>\n",
       "      <td>32</td>\n",
       "      <td>en</td>\n",
       "      <td>en</td>\n",
       "    </tr>\n",
       "    <tr>\n",
       "      <th>1</th>\n",
       "      <td>is4gwqj</td>\n",
       "      <td>y2q46p</td>\n",
       "      <td>t3_y2q46p</td>\n",
       "      <td>autism</td>\n",
       "      <td>comment</td>\n",
       "      <td>I do we have handicap add on to our government...</td>\n",
       "      <td>2022-10-13 06:12:48</td>\n",
       "      <td>10</td>\n",
       "      <td>2022</td>\n",
       "      <td>189</td>\n",
       "      <td>en</td>\n",
       "      <td>en</td>\n",
       "    </tr>\n",
       "    <tr>\n",
       "      <th>2</th>\n",
       "      <td>is4c22w</td>\n",
       "      <td>y2q46p</td>\n",
       "      <td>t3_y2q46p</td>\n",
       "      <td>autism</td>\n",
       "      <td>comment</td>\n",
       "      <td>Hey u Starflarity thank you for your post at r...</td>\n",
       "      <td>2022-10-13 05:14:14</td>\n",
       "      <td>10</td>\n",
       "      <td>2022</td>\n",
       "      <td>458</td>\n",
       "      <td>en</td>\n",
       "      <td>en</td>\n",
       "    </tr>\n",
       "  </tbody>\n",
       "</table>\n",
       "</div>"
      ],
      "text/plain": [
       "        id main_submission_id comment_parent_id subreddit post_type  \\\n",
       "0  is4ft9s             y2q46p         t3_y2q46p    autism   comment   \n",
       "1  is4gwqj             y2q46p         t3_y2q46p    autism   comment   \n",
       "2  is4c22w             y2q46p         t3_y2q46p    autism   comment   \n",
       "\n",
       "                                                text             datetime  \\\n",
       "0                   I don t think it works like that  2022-10-13 05:58:56   \n",
       "1  I do we have handicap add on to our government...  2022-10-13 06:12:48   \n",
       "2  Hey u Starflarity thank you for your post at r...  2022-10-13 05:14:14   \n",
       "\n",
       "   month  year  text_length language language_ft  \n",
       "0     10  2022           32       en          en  \n",
       "1     10  2022          189       en          en  \n",
       "2     10  2022          458       en          en  "
      ]
     },
     "execution_count": 1369,
     "metadata": {},
     "output_type": "execute_result"
    }
   ],
   "source": [
    "# get the original data set\n",
    "data_path = '/Users/andreeanistor/Google Drive/My Drive/MS_DS_NLP_project/english_posts_cleaned.csv'\n",
    "posts_data = pd.read_csv(data_path)\n",
    "posts_data.head(3)"
   ]
  },
  {
   "cell_type": "code",
   "execution_count": 1370,
   "metadata": {},
   "outputs": [
    {
     "data": {
      "text/html": [
       "<div>\n",
       "<style scoped>\n",
       "    .dataframe tbody tr th:only-of-type {\n",
       "        vertical-align: middle;\n",
       "    }\n",
       "\n",
       "    .dataframe tbody tr th {\n",
       "        vertical-align: top;\n",
       "    }\n",
       "\n",
       "    .dataframe thead th {\n",
       "        text-align: right;\n",
       "    }\n",
       "</style>\n",
       "<table border=\"1\" class=\"dataframe\">\n",
       "  <thead>\n",
       "    <tr style=\"text-align: right;\">\n",
       "      <th></th>\n",
       "      <th>id</th>\n",
       "      <th>main_submission_id</th>\n",
       "      <th>comment_parent_id</th>\n",
       "      <th>subreddit</th>\n",
       "      <th>post_type</th>\n",
       "      <th>text</th>\n",
       "      <th>datetime</th>\n",
       "      <th>month</th>\n",
       "      <th>year</th>\n",
       "      <th>text_length</th>\n",
       "      <th>language</th>\n",
       "      <th>language_ft</th>\n",
       "    </tr>\n",
       "  </thead>\n",
       "  <tbody>\n",
       "    <tr>\n",
       "      <th>108</th>\n",
       "      <td>isctbxz</td>\n",
       "      <td>y48270</td>\n",
       "      <td>t3_y48270</td>\n",
       "      <td>Parenting</td>\n",
       "      <td>comment</td>\n",
       "      <td>As an autistic person please listen to us when...</td>\n",
       "      <td>2022-10-14 23:49:51</td>\n",
       "      <td>10</td>\n",
       "      <td>2022</td>\n",
       "      <td>711</td>\n",
       "      <td>en</td>\n",
       "      <td>en</td>\n",
       "    </tr>\n",
       "    <tr>\n",
       "      <th>114</th>\n",
       "      <td>isduv7z</td>\n",
       "      <td>y48270</td>\n",
       "      <td>t3_y48270</td>\n",
       "      <td>Parenting</td>\n",
       "      <td>comment</td>\n",
       "      <td>My daughter who has down syndrome and autism d...</td>\n",
       "      <td>2022-10-15 05:28:18</td>\n",
       "      <td>10</td>\n",
       "      <td>2022</td>\n",
       "      <td>485</td>\n",
       "      <td>en</td>\n",
       "      <td>en</td>\n",
       "    </tr>\n",
       "    <tr>\n",
       "      <th>117</th>\n",
       "      <td>isei0sd</td>\n",
       "      <td>y48270</td>\n",
       "      <td>t3_y48270</td>\n",
       "      <td>Parenting</td>\n",
       "      <td>comment</td>\n",
       "      <td>One bit of word from an autistic adult Stop AB...</td>\n",
       "      <td>2022-10-15 10:52:37</td>\n",
       "      <td>10</td>\n",
       "      <td>2022</td>\n",
       "      <td>300</td>\n",
       "      <td>en</td>\n",
       "      <td>en</td>\n",
       "    </tr>\n",
       "  </tbody>\n",
       "</table>\n",
       "</div>"
      ],
      "text/plain": [
       "          id main_submission_id comment_parent_id  subreddit post_type  \\\n",
       "108  isctbxz             y48270         t3_y48270  Parenting   comment   \n",
       "114  isduv7z             y48270         t3_y48270  Parenting   comment   \n",
       "117  isei0sd             y48270         t3_y48270  Parenting   comment   \n",
       "\n",
       "                                                  text             datetime  \\\n",
       "108  As an autistic person please listen to us when...  2022-10-14 23:49:51   \n",
       "114  My daughter who has down syndrome and autism d...  2022-10-15 05:28:18   \n",
       "117  One bit of word from an autistic adult Stop AB...  2022-10-15 10:52:37   \n",
       "\n",
       "     month  year  text_length language language_ft  \n",
       "108     10  2022          711       en          en  \n",
       "114     10  2022          485       en          en  \n",
       "117     10  2022          300       en          en  "
      ]
     },
     "execution_count": 1370,
     "metadata": {},
     "output_type": "execute_result"
    }
   ],
   "source": [
    "aba_posts_indexed = posts_data[posts_data.index.isin(aba_posts_indexed['original_index'])]\n",
    "aba_posts_indexed.head(3)"
   ]
  },
  {
   "cell_type": "code",
   "execution_count": 1371,
   "metadata": {},
   "outputs": [
    {
     "name": "stdout",
     "output_type": "stream",
     "text": [
      "<class 'pandas.core.frame.DataFrame'>\n",
      "Index: 3560 entries, 108 to 522360\n",
      "Data columns (total 12 columns):\n",
      " #   Column              Non-Null Count  Dtype \n",
      "---  ------              --------------  ----- \n",
      " 0   id                  3560 non-null   object\n",
      " 1   main_submission_id  3560 non-null   object\n",
      " 2   comment_parent_id   3560 non-null   object\n",
      " 3   subreddit           3560 non-null   object\n",
      " 4   post_type           3560 non-null   object\n",
      " 5   text                3560 non-null   object\n",
      " 6   datetime            3560 non-null   object\n",
      " 7   month               3560 non-null   int64 \n",
      " 8   year                3560 non-null   int64 \n",
      " 9   text_length         3560 non-null   int64 \n",
      " 10  language            3560 non-null   object\n",
      " 11  language_ft         3560 non-null   object\n",
      "dtypes: int64(3), object(9)\n",
      "memory usage: 361.6+ KB\n"
     ]
    }
   ],
   "source": [
    "aba_posts_indexed.info() "
   ]
  },
  {
   "cell_type": "code",
   "execution_count": 1374,
   "metadata": {},
   "outputs": [
    {
     "data": {
      "text/plain": [
       "subreddit\n",
       "ABA                    1201\n",
       "Autism_Parenting        538\n",
       "slp                     229\n",
       "autism                  164\n",
       "bcba                    118\n",
       "                       ... \n",
       "Bahrain                   1\n",
       "CapitolConsequences       1\n",
       "Buffalo                   1\n",
       "hockey                    1\n",
       "askportland               1\n",
       "Name: count, Length: 185, dtype: int64"
      ]
     },
     "execution_count": 1374,
     "metadata": {},
     "output_type": "execute_result"
    }
   ],
   "source": [
    "subreddit_counts = aba_posts_indexed['subreddit'].value_counts()\n",
    "subreddit_counts  # the posts come from 185 subreddits"
   ]
  },
  {
   "cell_type": "code",
   "execution_count": 1390,
   "metadata": {},
   "outputs": [
    {
     "name": "stdout",
     "output_type": "stream",
     "text": [
      "Number of categories with more than 50 entries: 11\n"
     ]
    },
    {
     "data": {
      "image/png": "[encoded data removed]",
      "text/plain": [
       "<Figure size 1000x600 with 1 Axes>"
      ]
     },
     "metadata": {},
     "output_type": "display_data"
    }
   ],
   "source": [
    "# Plot the 'subreddit' column\n",
    "# filter for categories with more than 50 entries\n",
    "filtered_subreddit_counts= subreddit_counts[subreddit_counts > 50]\n",
    "print('Number of categories with more than 50 entries:', len(filtered_subreddit_counts))\n",
    "\n",
    "# plot the links type only for the categories with more than 10 entries\n",
    "plt.figure(figsize=(10, 6))\n",
    "filtered_subreddit_counts.plot(kind='barh').set_xlim(0, 1300)\n",
    "\n",
    "plt.xlabel('Number of posts')\n",
    "plt.ylabel('Subreddit')\n",
    "plt.title('Posts\\'s subreddit')\n",
    "plt.gca().invert_yaxis()\n",
    "plt.xticks(range(0, filtered_subreddit_counts.max() + 1, 100))\n",
    "plt.show()\n",
    "\n",
    "\n",
    "# most posts come from r/ABA, r/Autism_Parenting, r/slp, and r/autism"
   ]
  },
  {
   "cell_type": "markdown",
   "metadata": {},
   "source": [
    "### Most common type of post"
   ]
  },
  {
   "cell_type": "code",
   "execution_count": 1372,
   "metadata": {},
   "outputs": [
    {
     "data": {
      "text/plain": [
       "post_type\n",
       "comment       3285\n",
       "submission     275\n",
       "Name: count, dtype: int64"
      ]
     },
     "execution_count": 1372,
     "metadata": {},
     "output_type": "execute_result"
    }
   ],
   "source": [
    "# 275 original posts \n",
    "# 3285 comments \n",
    "# most posts are comments\n",
    "aba_posts_indexed.post_type.value_counts()"
   ]
  },
  {
   "cell_type": "markdown",
   "metadata": {},
   "source": [
    "### Posts descriptive statistics"
   ]
  },
  {
   "cell_type": "code",
   "execution_count": 1391,
   "metadata": {},
   "outputs": [
    {
     "data": {
      "text/html": [
       "<div>\n",
       "<style scoped>\n",
       "    .dataframe tbody tr th:only-of-type {\n",
       "        vertical-align: middle;\n",
       "    }\n",
       "\n",
       "    .dataframe tbody tr th {\n",
       "        vertical-align: top;\n",
       "    }\n",
       "\n",
       "    .dataframe thead th {\n",
       "        text-align: right;\n",
       "    }\n",
       "</style>\n",
       "<table border=\"1\" class=\"dataframe\">\n",
       "  <thead>\n",
       "    <tr style=\"text-align: right;\">\n",
       "      <th></th>\n",
       "      <th>month</th>\n",
       "      <th>year</th>\n",
       "      <th>text_length</th>\n",
       "    </tr>\n",
       "  </thead>\n",
       "  <tbody>\n",
       "    <tr>\n",
       "      <th>count</th>\n",
       "      <td>3560.000000</td>\n",
       "      <td>3560.000000</td>\n",
       "      <td>3560.000000</td>\n",
       "    </tr>\n",
       "    <tr>\n",
       "      <th>mean</th>\n",
       "      <td>6.497753</td>\n",
       "      <td>2022.858146</td>\n",
       "      <td>552.264045</td>\n",
       "    </tr>\n",
       "    <tr>\n",
       "      <th>std</th>\n",
       "      <td>3.261480</td>\n",
       "      <td>0.348949</td>\n",
       "      <td>751.808221</td>\n",
       "    </tr>\n",
       "    <tr>\n",
       "      <th>min</th>\n",
       "      <td>1.000000</td>\n",
       "      <td>2022.000000</td>\n",
       "      <td>31.000000</td>\n",
       "    </tr>\n",
       "    <tr>\n",
       "      <th>25%</th>\n",
       "      <td>4.000000</td>\n",
       "      <td>2023.000000</td>\n",
       "      <td>168.000000</td>\n",
       "    </tr>\n",
       "    <tr>\n",
       "      <th>50%</th>\n",
       "      <td>7.000000</td>\n",
       "      <td>2023.000000</td>\n",
       "      <td>356.000000</td>\n",
       "    </tr>\n",
       "    <tr>\n",
       "      <th>75%</th>\n",
       "      <td>9.000000</td>\n",
       "      <td>2023.000000</td>\n",
       "      <td>670.250000</td>\n",
       "    </tr>\n",
       "    <tr>\n",
       "      <th>max</th>\n",
       "      <td>12.000000</td>\n",
       "      <td>2023.000000</td>\n",
       "      <td>24053.000000</td>\n",
       "    </tr>\n",
       "  </tbody>\n",
       "</table>\n",
       "</div>"
      ],
      "text/plain": [
       "             month         year   text_length\n",
       "count  3560.000000  3560.000000   3560.000000\n",
       "mean      6.497753  2022.858146    552.264045\n",
       "std       3.261480     0.348949    751.808221\n",
       "min       1.000000  2022.000000     31.000000\n",
       "25%       4.000000  2023.000000    168.000000\n",
       "50%       7.000000  2023.000000    356.000000\n",
       "75%       9.000000  2023.000000    670.250000\n",
       "max      12.000000  2023.000000  24053.000000"
      ]
     },
     "execution_count": 1391,
     "metadata": {},
     "output_type": "execute_result"
    }
   ],
   "source": [
    "# descriptive statistics for numerical values\n",
    "aba_posts_indexed.describe()"
   ]
  },
  {
   "cell_type": "code",
   "execution_count": 1393,
   "metadata": {},
   "outputs": [
    {
     "data": {
      "image/png": "[encoded data removed]",
      "text/plain": [
       "<Figure size 1200x600 with 1 Axes>"
      ]
     },
     "metadata": {},
     "output_type": "display_data"
    }
   ],
   "source": [
    "# Create a box plot for the 'text_length' column\n",
    "plt.figure(figsize=(12, 6))\n",
    "# dont show the outliers on the box plot\n",
    "# all post with over 1400 characters is considered an outlier\n",
    "plt.boxplot(aba_posts_indexed['text_length'], vert=False,  showfliers=False, patch_artist=True,\n",
    "            boxprops=dict(facecolor=\"lightblue\"), capprops=dict(color=\"blue\"),\n",
    "            medianprops=dict(color=\"blue\"), whiskerprops=dict(color=\"blue\"))\n",
    "plt.title(\"Box Plot of Characters per Post\")\n",
    "plt.xlabel(\"Number of Characters\")\n",
    "plt.yticks([])  \n",
    "\n",
    "plt.show()\n",
    "\n",
    "# most post are short  - half are less than 356 characters long and 3/4 are less than 670 characters"
   ]
  },
  {
   "cell_type": "code",
   "execution_count": 1392,
   "metadata": {},
   "outputs": [
    {
     "data": {
      "image/png": "[encoded data removed]",
      "text/plain": [
       "<Figure size 1000x600 with 1 Axes>"
      ]
     },
     "metadata": {},
     "output_type": "display_data"
    }
   ],
   "source": [
    "# when were the posts made?\n",
    "import calendar \n",
    "\n",
    "# sort data first by year (in ascending order) and then by month (in ascending order)\n",
    "aba_posts_indexed = aba_posts_indexed.sort_values(['year', 'month'])\n",
    "# group the data by 'year' and 'month' and count the number of 'id' values per month\n",
    "counts = aba_posts_indexed.groupby(['year', 'month'])['id'].count().reset_index()\n",
    "\n",
    "# Create a bar plot\n",
    "plt.figure(figsize=(10, 6))\n",
    "plt.bar(counts['month'], counts['id'], color='skyblue')\n",
    "plt.xlabel('Month')\n",
    "plt.ylabel('Number of Posts')\n",
    "plt.title('Number of Posts per Month')\n",
    "\n",
    "# format the x-axis labels to display both month and year\n",
    "x_labels = [f'{calendar.month_abbr[month]} {year}' for year, month in zip(counts['year'], counts['month'])]\n",
    "\n",
    "# get the unique x_labels and their corresponding positions ( chronological order )\n",
    "unique_x_labels = list(set(x_labels))\n",
    "unique_x_positions = [x_labels.index(label) for label in unique_x_labels]\n",
    "\n",
    "plt.xticks(unique_x_positions, unique_x_labels, rotation=45)\n",
    "\n",
    "plt.grid(axis='y', linestyle='--', alpha=0.7)\n",
    "plt.tight_layout()\n",
    "plt.show()\n",
    "\n",
    "\n",
    "# posts seem to be equaly distiributed across the year ( wiht june and july have a slight increase in posting - this is consistent with the whole data set)"
   ]
  },
  {
   "cell_type": "markdown",
   "metadata": {},
   "source": [
    "# Sentiment analysis\n",
    "- Supervised NLP task --> we need labeled data\n",
    "\n",
    "- Like topic modeling there are 2 main approaches:<br><br>\n",
    "        1. Traditional machine learning (preprocess data, then apply classical classification algrith like random forest, svm, logistic regression etc.)<br><br>\n",
    "        2. Deep learning ( no preprocessing neccesary; raw data is fed into a transformer model, in NLP ususaly these come pretrained and are fine tuned to the speciffic dataset; this method has shown good performance even when using small datasets - Hartmann et al., 2023)<br>\n",
    "\n",
    "\n",
    "We need to have a dataset of labeled data -> 500 posts will be selected at random from the aba data set and manually labeled by the author. Sentiment analysis models will be train / fine tuned using this small data set and the best model will be used to clasify all the posts.\n",
    "\n",
    "\n",
    "<small>Hartmann, J., Heitmann, M., Siebert, C., & Schamp, C. (2023). More than a Feeling: Accuracy and Application of Sentiment Analysis. International Journal of Research in Marketing, 40, 75–87.</small>"
   ]
  },
  {
   "cell_type": "code",
   "execution_count": 1395,
   "metadata": {},
   "outputs": [
    {
     "name": "stdout",
     "output_type": "stream",
     "text": [
      "<class 'pandas.core.frame.DataFrame'>\n",
      "RangeIndex: 3560 entries, 0 to 3559\n",
      "Data columns (total 1 columns):\n",
      " #   Column    Non-Null Count  Dtype \n",
      "---  ------    --------------  ----- \n",
      " 0   Document  3560 non-null   object\n",
      "dtypes: object(1)\n",
      "memory usage: 27.9+ KB\n"
     ]
    },
    {
     "data": {
      "text/html": [
       "<div>\n",
       "<style scoped>\n",
       "    .dataframe tbody tr th:only-of-type {\n",
       "        vertical-align: middle;\n",
       "    }\n",
       "\n",
       "    .dataframe tbody tr th {\n",
       "        vertical-align: top;\n",
       "    }\n",
       "\n",
       "    .dataframe thead th {\n",
       "        text-align: right;\n",
       "    }\n",
       "</style>\n",
       "<table border=\"1\" class=\"dataframe\">\n",
       "  <thead>\n",
       "    <tr style=\"text-align: right;\">\n",
       "      <th></th>\n",
       "      <th>Document</th>\n",
       "    </tr>\n",
       "  </thead>\n",
       "  <tbody>\n",
       "    <tr>\n",
       "      <th>0</th>\n",
       "      <td>As an autistic person please listen to us when...</td>\n",
       "    </tr>\n",
       "    <tr>\n",
       "      <th>1</th>\n",
       "      <td>My daughter who has down syndrome and autism d...</td>\n",
       "    </tr>\n",
       "    <tr>\n",
       "      <th>2</th>\n",
       "      <td>One bit of word from an autistic adult Stop AB...</td>\n",
       "    </tr>\n",
       "  </tbody>\n",
       "</table>\n",
       "</div>"
      ],
      "text/plain": [
       "                                            Document\n",
       "0  As an autistic person please listen to us when...\n",
       "1  My daughter who has down syndrome and autism d...\n",
       "2  One bit of word from an autistic adult Stop AB..."
      ]
     },
     "execution_count": 1395,
     "metadata": {},
     "output_type": "execute_result"
    }
   ],
   "source": [
    "# the dataset\n",
    "aba_posts.info()\n",
    "aba_posts.head(3)"
   ]
  },
  {
   "cell_type": "code",
   "execution_count": 1396,
   "metadata": {},
   "outputs": [
    {
     "name": "stdout",
     "output_type": "stream",
     "text": [
      "<class 'pandas.core.frame.DataFrame'>\n",
      "Index: 500 entries, 2626 to 3029\n",
      "Data columns (total 1 columns):\n",
      " #   Column    Non-Null Count  Dtype \n",
      "---  ------    --------------  ----- \n",
      " 0   Document  500 non-null    object\n",
      "dtypes: object(1)\n",
      "memory usage: 7.8+ KB\n"
     ]
    },
    {
     "data": {
      "text/html": [
       "<div>\n",
       "<style scoped>\n",
       "    .dataframe tbody tr th:only-of-type {\n",
       "        vertical-align: middle;\n",
       "    }\n",
       "\n",
       "    .dataframe tbody tr th {\n",
       "        vertical-align: top;\n",
       "    }\n",
       "\n",
       "    .dataframe thead th {\n",
       "        text-align: right;\n",
       "    }\n",
       "</style>\n",
       "<table border=\"1\" class=\"dataframe\">\n",
       "  <thead>\n",
       "    <tr style=\"text-align: right;\">\n",
       "      <th></th>\n",
       "      <th>Document</th>\n",
       "    </tr>\n",
       "  </thead>\n",
       "  <tbody>\n",
       "    <tr>\n",
       "      <th>2626</th>\n",
       "      <td>Is she in ABA therapy I only ask because my hu...</td>\n",
       "    </tr>\n",
       "    <tr>\n",
       "      <th>858</th>\n",
       "      <td>I heard you are able to ask them questions May...</td>\n",
       "    </tr>\n",
       "    <tr>\n",
       "      <th>3210</th>\n",
       "      <td>I agree with that Even dr Lovaas said ABA does...</td>\n",
       "    </tr>\n",
       "  </tbody>\n",
       "</table>\n",
       "</div>"
      ],
      "text/plain": [
       "                                               Document\n",
       "2626  Is she in ABA therapy I only ask because my hu...\n",
       "858   I heard you are able to ask them questions May...\n",
       "3210  I agree with that Even dr Lovaas said ABA does..."
      ]
     },
     "execution_count": 1396,
     "metadata": {},
     "output_type": "execute_result"
    }
   ],
   "source": [
    "# select the data to be labeled - 500 row at random\n",
    "aba_posts_to_label = aba_posts.sample(n=500, random_state=7) \n",
    "aba_posts_to_label.info()\n",
    "aba_posts_to_label.head(3)"
   ]
  },
  {
   "cell_type": "code",
   "execution_count": 1241,
   "metadata": {},
   "outputs": [],
   "source": [
    "# save posts to be labeled in a csv file\n",
    "file_path = 'data/aba_posts_labeled.csv'\n",
    "aba_posts_to_label.to_csv(file_path, index=False)"
   ]
  },
  {
   "cell_type": "code",
   "execution_count": 1242,
   "metadata": {},
   "outputs": [
    {
     "name": "stdout",
     "output_type": "stream",
     "text": [
      "<class 'pandas.core.frame.DataFrame'>\n",
      "Index: 160 entries, 2626 to 889\n",
      "Data columns (total 1 columns):\n",
      " #   Column    Non-Null Count  Dtype \n",
      "---  ------    --------------  ----- \n",
      " 0   Document  160 non-null    object\n",
      "dtypes: object(1)\n",
      "memory usage: 2.5+ KB\n"
     ]
    }
   ],
   "source": [
    "# labeled by Elvira Lago - Registered Behavioural Technician (RBT)\n",
    "for_elvie = aba_posts_to_label.head(160)\n",
    "for_elvie.info()\n",
    "file_path = 'data/labeled_data/for_elvie.csv'\n",
    "for_elvie.to_csv(file_path, index=False)"
   ]
  },
  {
   "cell_type": "code",
   "execution_count": 1243,
   "metadata": {},
   "outputs": [
    {
     "name": "stdout",
     "output_type": "stream",
     "text": [
      "<class 'pandas.core.frame.DataFrame'>\n",
      "Index: 200 entries, 1805 to 180\n",
      "Data columns (total 1 columns):\n",
      " #   Column    Non-Null Count  Dtype \n",
      "---  ------    --------------  ----- \n",
      " 0   Document  200 non-null    object\n",
      "dtypes: object(1)\n",
      "memory usage: 3.1+ KB\n"
     ]
    }
   ],
   "source": [
    "for_elvie2 = aba_posts_to_label.iloc[160:360]\n",
    "for_elvie2.info()\n",
    "file_path = 'data/labeled_data/for_elvie2.csv'\n",
    "for_elvie2.to_csv(file_path, index=False)"
   ]
  },
  {
   "cell_type": "code",
   "execution_count": 1244,
   "metadata": {},
   "outputs": [
    {
     "name": "stdout",
     "output_type": "stream",
     "text": [
      "<class 'pandas.core.frame.DataFrame'>\n",
      "Index: 140 entries, 1799 to 3029\n",
      "Data columns (total 1 columns):\n",
      " #   Column    Non-Null Count  Dtype \n",
      "---  ------    --------------  ----- \n",
      " 0   Document  140 non-null    object\n",
      "dtypes: object(1)\n",
      "memory usage: 2.2+ KB\n"
     ]
    }
   ],
   "source": [
    "for_elvie3 = aba_posts_to_label.iloc[360:]\n",
    "for_elvie3.info()\n",
    "file_path = 'data/labeled_data/for_elvie3.csv'\n",
    "for_elvie3.to_csv(file_path, index=False)"
   ]
  },
  {
   "cell_type": "code",
   "execution_count": 1245,
   "metadata": {},
   "outputs": [
    {
     "name": "stdout",
     "output_type": "stream",
     "text": [
      "<class 'pandas.core.frame.DataFrame'>\n",
      "Index: 3060 entries, 0 to 3559\n",
      "Data columns (total 1 columns):\n",
      " #   Column    Non-Null Count  Dtype \n",
      "---  ------    --------------  ----- \n",
      " 0   Document  3060 non-null   object\n",
      "dtypes: object(1)\n",
      "memory usage: 47.8+ KB\n"
     ]
    }
   ],
   "source": [
    "# get more posts to lablel as Elvie is very fast :) ( this will give 1000 posts to train the model)\n",
    "# might actually be abel to label all the posts ??? - started this but not finished\n",
    "rows_not_in_aba_posts_to_label = aba_posts[~aba_posts.index.isin(aba_posts_to_label.index)]\n",
    "rows_not_in_aba_posts_to_label.info()"
   ]
  },
  {
   "cell_type": "code",
   "execution_count": 1246,
   "metadata": {},
   "outputs": [
    {
     "name": "stdout",
     "output_type": "stream",
     "text": [
      "<class 'pandas.core.frame.DataFrame'>\n",
      "Index: 500 entries, 781 to 3557\n",
      "Data columns (total 1 columns):\n",
      " #   Column    Non-Null Count  Dtype \n",
      "---  ------    --------------  ----- \n",
      " 0   Document  500 non-null    object\n",
      "dtypes: object(1)\n",
      "memory usage: 7.8+ KB\n"
     ]
    },
    {
     "data": {
      "text/html": [
       "<div>\n",
       "<style scoped>\n",
       "    .dataframe tbody tr th:only-of-type {\n",
       "        vertical-align: middle;\n",
       "    }\n",
       "\n",
       "    .dataframe tbody tr th {\n",
       "        vertical-align: top;\n",
       "    }\n",
       "\n",
       "    .dataframe thead th {\n",
       "        text-align: right;\n",
       "    }\n",
       "</style>\n",
       "<table border=\"1\" class=\"dataframe\">\n",
       "  <thead>\n",
       "    <tr style=\"text-align: right;\">\n",
       "      <th></th>\n",
       "      <th>Document</th>\n",
       "    </tr>\n",
       "  </thead>\n",
       "  <tbody>\n",
       "    <tr>\n",
       "      <th>781</th>\n",
       "      <td>The anti ABA camp I usually see would absolute...</td>\n",
       "    </tr>\n",
       "    <tr>\n",
       "      <th>2394</th>\n",
       "      <td>ABA is not the treatment you think it is Do so...</td>\n",
       "    </tr>\n",
       "    <tr>\n",
       "      <th>426</th>\n",
       "      <td>ABA is not necessarily awful if done with resp...</td>\n",
       "    </tr>\n",
       "  </tbody>\n",
       "</table>\n",
       "</div>"
      ],
      "text/plain": [
       "                                               Document\n",
       "781   The anti ABA camp I usually see would absolute...\n",
       "2394  ABA is not the treatment you think it is Do so...\n",
       "426   ABA is not necessarily awful if done with resp..."
      ]
     },
     "execution_count": 1246,
     "metadata": {},
     "output_type": "execute_result"
    }
   ],
   "source": [
    "# get 500 more random rows to labels\n",
    "for_elvie4 = rows_not_in_aba_posts_to_label.sample(n=500, random_state=7) \n",
    "for_elvie4.info()\n",
    "for_elvie4.head(3)"
   ]
  },
  {
   "cell_type": "code",
   "execution_count": 1247,
   "metadata": {},
   "outputs": [],
   "source": [
    "file_path = 'data/labeled_data/for_elvie4.csv'\n",
    "for_elvie4.to_csv(file_path, index=False)"
   ]
  },
  {
   "cell_type": "code",
   "execution_count": 1248,
   "metadata": {},
   "outputs": [
    {
     "name": "stdout",
     "output_type": "stream",
     "text": [
      "<class 'pandas.core.frame.DataFrame'>\n",
      "Index: 2560 entries, 1 to 3559\n",
      "Data columns (total 1 columns):\n",
      " #   Column    Non-Null Count  Dtype \n",
      "---  ------    --------------  ----- \n",
      " 0   Document  2560 non-null   object\n",
      "dtypes: object(1)\n",
      "memory usage: 40.0+ KB\n"
     ]
    }
   ],
   "source": [
    "# get the rest of the rows that have not yet been labeled / sent to elvie\n",
    "# 2560 rows ( elvie labeles 1000 )\n",
    "rows_still_tobe_labeled = rows_not_in_aba_posts_to_label[~rows_not_in_aba_posts_to_label.index.isin(for_elvie4.index)]\n",
    "rows_still_tobe_labeled.info()"
   ]
  },
  {
   "cell_type": "code",
   "execution_count": 1249,
   "metadata": {},
   "outputs": [
    {
     "name": "stdout",
     "output_type": "stream",
     "text": [
      "<class 'pandas.core.frame.DataFrame'>\n",
      "Index: 1000 entries, 1 to 1383\n",
      "Data columns (total 1 columns):\n",
      " #   Column    Non-Null Count  Dtype \n",
      "---  ------    --------------  ----- \n",
      " 0   Document  1000 non-null   object\n",
      "dtypes: object(1)\n",
      "memory usage: 15.6+ KB\n"
     ]
    }
   ],
   "source": [
    "# get the first 1000 rows\n",
    "for_andrea = rows_still_tobe_labeled.head(1000) # i will label 1000 of them \n",
    "for_andrea.info()"
   ]
  },
  {
   "cell_type": "code",
   "execution_count": 1250,
   "metadata": {},
   "outputs": [],
   "source": [
    "# save the dataset\n",
    "file_path = 'data/labeled_data/for_andrea.csv'\n",
    "for_andrea.to_csv(file_path, index=False)"
   ]
  },
  {
   "cell_type": "code",
   "execution_count": 1251,
   "metadata": {},
   "outputs": [
    {
     "name": "stdout",
     "output_type": "stream",
     "text": [
      "<class 'pandas.core.frame.DataFrame'>\n",
      "Index: 1000 entries, 1385 to 2775\n",
      "Data columns (total 1 columns):\n",
      " #   Column    Non-Null Count  Dtype \n",
      "---  ------    --------------  ----- \n",
      " 0   Document  1000 non-null   object\n",
      "dtypes: object(1)\n",
      "memory usage: 15.6+ KB\n"
     ]
    }
   ],
   "source": [
    "for_maria = df_next_1000 = rows_still_tobe_labeled.iloc[1000:2000]\n",
    "for_maria.info()"
   ]
  },
  {
   "cell_type": "code",
   "execution_count": 1252,
   "metadata": {},
   "outputs": [],
   "source": [
    "# save the dataset\n",
    "file_path = 'data/labeled_data/for_maria.csv'\n",
    "for_maria.to_csv(file_path, index=False)"
   ]
  },
  {
   "cell_type": "code",
   "execution_count": 1253,
   "metadata": {},
   "outputs": [
    {
     "name": "stdout",
     "output_type": "stream",
     "text": [
      "<class 'pandas.core.frame.DataFrame'>\n",
      "Index: 560 entries, 2777 to 3559\n",
      "Data columns (total 1 columns):\n",
      " #   Column    Non-Null Count  Dtype \n",
      "---  ------    --------------  ----- \n",
      " 0   Document  560 non-null    object\n",
      "dtypes: object(1)\n",
      "memory usage: 8.8+ KB\n"
     ]
    }
   ],
   "source": [
    "for_elvie5 = rows_still_tobe_labeled.iloc[2000:]\n",
    "# save the dataset\n",
    "file_path = 'data/labeled_data/for_elvie5.csv'\n",
    "for_elvie5.to_csv(file_path, index=False)\n",
    "\n",
    "for_elvie5.info()"
   ]
  },
  {
   "cell_type": "markdown",
   "metadata": {},
   "source": [
    "## Labeled data \n",
    "Data cleaning and preliminiary analysis"
   ]
  },
  {
   "cell_type": "code",
   "execution_count": 1406,
   "metadata": {},
   "outputs": [
    {
     "name": "stdout",
     "output_type": "stream",
     "text": [
      "<class 'pandas.core.frame.DataFrame'>\n",
      "RangeIndex: 160 entries, 0 to 159\n",
      "Data columns (total 4 columns):\n",
      " #   Column                                                                                             Non-Null Count  Dtype \n",
      "---  ------                                                                                             --------------  ----- \n",
      " 0   Document                                                                                           160 non-null    object\n",
      " 1   Sentiment (poz / neg/ neutral)                                                                     160 non-null    object\n",
      " 2   Author (can be parent/carer/professions/person with ASD) leave blank if it is not clearly stated)  85 non-null     object\n",
      " 3   Comments - anything you deem important info                                                        34 non-null     object\n",
      "dtypes: object(4)\n",
      "memory usage: 5.1+ KB\n",
      "\n",
      "<class 'pandas.core.frame.DataFrame'>\n",
      "RangeIndex: 200 entries, 0 to 199\n",
      "Data columns (total 4 columns):\n",
      " #   Column                                                                                             Non-Null Count  Dtype \n",
      "---  ------                                                                                             --------------  ----- \n",
      " 0   Document                                                                                           200 non-null    object\n",
      " 1   Sentiment (poz / neg/ neutral)                                                                     198 non-null    object\n",
      " 2   Author (can be parent/carer/professions/person with ASD) leave blank if it is not clearly stated)  80 non-null     object\n",
      " 3   Comments - anything you deem important info                                                        32 non-null     object\n",
      "dtypes: object(4)\n",
      "memory usage: 6.4+ KB\n",
      "\n",
      "<class 'pandas.core.frame.DataFrame'>\n",
      "RangeIndex: 140 entries, 0 to 139\n",
      "Data columns (total 4 columns):\n",
      " #   Column                                                                                             Non-Null Count  Dtype \n",
      "---  ------                                                                                             --------------  ----- \n",
      " 0   Document                                                                                           140 non-null    object\n",
      " 1   Sentiment (poz / neg/ neutral)                                                                     135 non-null    object\n",
      " 2   Author (can be parent/carer/professions/person with ASD) leave blank if it is not clearly stated)  63 non-null     object\n",
      " 3   Comments - anything you deem important info                                                        37 non-null     object\n",
      "dtypes: object(4)\n",
      "memory usage: 4.5+ KB\n",
      "\n",
      "<class 'pandas.core.frame.DataFrame'>\n",
      "RangeIndex: 500 entries, 0 to 499\n",
      "Data columns (total 4 columns):\n",
      " #   Column                                                                                             Non-Null Count  Dtype \n",
      "---  ------                                                                                             --------------  ----- \n",
      " 0   Document                                                                                           500 non-null    object\n",
      " 1   Sentiment (poz / neg/ neutral)                                                                     489 non-null    object\n",
      " 2   Author (can be parent/carer/professions/person with ASD) leave blank if it is not clearly stated)  158 non-null    object\n",
      " 3   Comments - anything you deem important info                                                        181 non-null    object\n",
      "dtypes: object(4)\n",
      "memory usage: 15.8+ KB\n"
     ]
    }
   ],
   "source": [
    "# import labeled data ( random 1000 posts lebeled by Elvie and  - 100 double checked by me )\n",
    "aba_posts_labeled1 = pd.read_csv('data/labeled_data/for_elvie_labeled.csv')\n",
    "aba_posts_labeled1.info()\n",
    "print()\n",
    "\n",
    "aba_posts_labeled2 = pd.read_csv('data/labeled_data/for_elvie2_labeled.csv')\n",
    "aba_posts_labeled2.info()\n",
    "print()\n",
    "\n",
    "aba_posts_labeled3 = pd.read_csv('data/labeled_data/for_elvie3_labeled.csv')\n",
    "aba_posts_labeled3.info()\n",
    "print()\n",
    "\n",
    "aba_posts_labeled4 = pd.read_csv('data/labeled_data/for_elvie4_labeled.csv')\n",
    "aba_posts_labeled4.info()\n"
   ]
  },
  {
   "cell_type": "code",
   "execution_count": 1407,
   "metadata": {},
   "outputs": [
    {
     "name": "stdout",
     "output_type": "stream",
     "text": [
      "<class 'pandas.core.frame.DataFrame'>\n",
      "RangeIndex: 1000 entries, 0 to 999\n",
      "Data columns (total 4 columns):\n",
      " #   Column                                                                                             Non-Null Count  Dtype \n",
      "---  ------                                                                                             --------------  ----- \n",
      " 0   Document                                                                                           1000 non-null   object\n",
      " 1   Sentiment (poz / neg/ neutral)                                                                     982 non-null    object\n",
      " 2   Author (can be parent/carer/professions/person with ASD) leave blank if it is not clearly stated)  386 non-null    object\n",
      " 3   Comments - anything you deem important info                                                        284 non-null    object\n",
      "dtypes: object(4)\n",
      "memory usage: 31.4+ KB\n"
     ]
    }
   ],
   "source": [
    "# join the labeled data ( 1000 random posts )\n",
    "aba_posts_labeled = pd.concat([aba_posts_labeled1, aba_posts_labeled2, aba_posts_labeled3, aba_posts_labeled4], ignore_index=True)\n",
    "aba_posts_labeled.info()"
   ]
  },
  {
   "cell_type": "code",
   "execution_count": 1408,
   "metadata": {},
   "outputs": [
    {
     "name": "stdout",
     "output_type": "stream",
     "text": [
      "<class 'pandas.core.frame.DataFrame'>\n",
      "RangeIndex: 1000 entries, 0 to 999\n",
      "Data columns (total 4 columns):\n",
      " #   Column     Non-Null Count  Dtype \n",
      "---  ------     --------------  ----- \n",
      " 0   Document   1000 non-null   object\n",
      " 1   sentiment  982 non-null    object\n",
      " 2   author     386 non-null    object\n",
      " 3   commnents  284 non-null    object\n",
      "dtypes: object(4)\n",
      "memory usage: 31.4+ KB\n"
     ]
    }
   ],
   "source": [
    "# Rename columns as needed\n",
    "column_mapping = {\n",
    "    'Sentiment (poz / neg/ neutral)': 'sentiment',\n",
    "    'Author (can be parent/carer/professions/person with ASD) leave blank if it is not clearly stated)': 'author',\n",
    "    'Comments - anything you deem important info': 'commnents'\n",
    "}\n",
    "\n",
    "aba_posts_labeled.rename(columns=column_mapping, inplace=True)\n",
    "aba_posts_labeled.info()"
   ]
  },
  {
   "cell_type": "code",
   "execution_count": 1409,
   "metadata": {},
   "outputs": [
    {
     "data": {
      "text/html": [
       "<div>\n",
       "<style scoped>\n",
       "    .dataframe tbody tr th:only-of-type {\n",
       "        vertical-align: middle;\n",
       "    }\n",
       "\n",
       "    .dataframe tbody tr th {\n",
       "        vertical-align: top;\n",
       "    }\n",
       "\n",
       "    .dataframe thead th {\n",
       "        text-align: right;\n",
       "    }\n",
       "</style>\n",
       "<table border=\"1\" class=\"dataframe\">\n",
       "  <thead>\n",
       "    <tr style=\"text-align: right;\">\n",
       "      <th></th>\n",
       "      <th>Document</th>\n",
       "      <th>sentiment</th>\n",
       "      <th>author</th>\n",
       "      <th>commnents</th>\n",
       "    </tr>\n",
       "  </thead>\n",
       "  <tbody>\n",
       "    <tr>\n",
       "      <th>0</th>\n",
       "      <td>Is she in ABA therapy I only ask because my hu...</td>\n",
       "      <td>Neutral</td>\n",
       "      <td>NaN</td>\n",
       "      <td>NaN</td>\n",
       "    </tr>\n",
       "    <tr>\n",
       "      <th>1</th>\n",
       "      <td>I heard you are able to ask them questions May...</td>\n",
       "      <td>Neutral</td>\n",
       "      <td>NaN</td>\n",
       "      <td></td>\n",
       "    </tr>\n",
       "    <tr>\n",
       "      <th>2</th>\n",
       "      <td>I agree with that Even dr Lovaas said ABA does...</td>\n",
       "      <td>Pozitive</td>\n",
       "      <td>NaN</td>\n",
       "      <td></td>\n",
       "    </tr>\n",
       "    <tr>\n",
       "      <th>3</th>\n",
       "      <td>Thank you so so much for sharing your experien...</td>\n",
       "      <td>Pozitive</td>\n",
       "      <td>Parent</td>\n",
       "      <td></td>\n",
       "    </tr>\n",
       "    <tr>\n",
       "      <th>4</th>\n",
       "      <td>Thank you that makes a lot of sense Seems pret...</td>\n",
       "      <td>Neutral</td>\n",
       "      <td>NaN</td>\n",
       "      <td>NaN</td>\n",
       "    </tr>\n",
       "  </tbody>\n",
       "</table>\n",
       "</div>"
      ],
      "text/plain": [
       "                                            Document sentiment  author  \\\n",
       "0  Is she in ABA therapy I only ask because my hu...   Neutral     NaN   \n",
       "1  I heard you are able to ask them questions May...   Neutral     NaN   \n",
       "2  I agree with that Even dr Lovaas said ABA does...  Pozitive     NaN   \n",
       "3  Thank you so so much for sharing your experien...  Pozitive  Parent   \n",
       "4  Thank you that makes a lot of sense Seems pret...   Neutral     NaN   \n",
       "\n",
       "  commnents  \n",
       "0       NaN  \n",
       "1            \n",
       "2            \n",
       "3            \n",
       "4       NaN  "
      ]
     },
     "execution_count": 1409,
     "metadata": {},
     "output_type": "execute_result"
    }
   ],
   "source": [
    "aba_posts_labeled.head()"
   ]
  },
  {
   "cell_type": "code",
   "execution_count": 1412,
   "metadata": {},
   "outputs": [
    {
     "data": {
      "text/html": [
       "<div>\n",
       "<style scoped>\n",
       "    .dataframe tbody tr th:only-of-type {\n",
       "        vertical-align: middle;\n",
       "    }\n",
       "\n",
       "    .dataframe tbody tr th {\n",
       "        vertical-align: top;\n",
       "    }\n",
       "\n",
       "    .dataframe thead th {\n",
       "        text-align: right;\n",
       "    }\n",
       "</style>\n",
       "<table border=\"1\" class=\"dataframe\">\n",
       "  <thead>\n",
       "    <tr style=\"text-align: right;\">\n",
       "      <th></th>\n",
       "      <th>Document</th>\n",
       "      <th>sentiment</th>\n",
       "      <th>author</th>\n",
       "      <th>commnents</th>\n",
       "    </tr>\n",
       "  </thead>\n",
       "  <tbody>\n",
       "    <tr>\n",
       "      <th>232</th>\n",
       "      <td>Sounds like this SLP is using outdated practic...</td>\n",
       "      <td>NaN</td>\n",
       "      <td>NaN</td>\n",
       "      <td>Not aba</td>\n",
       "    </tr>\n",
       "    <tr>\n",
       "      <th>288</th>\n",
       "      <td>Speech therapist here like many are saying I t...</td>\n",
       "      <td>NaN</td>\n",
       "      <td>NaN</td>\n",
       "      <td>Not aba</td>\n",
       "    </tr>\n",
       "    <tr>\n",
       "      <th>365</th>\n",
       "      <td>BT Survey Updates on Burnout and Satisfaction ...</td>\n",
       "      <td>NaN</td>\n",
       "      <td>ABA professional</td>\n",
       "      <td>Survey about professionals suffering burnout</td>\n",
       "    </tr>\n",
       "    <tr>\n",
       "      <th>416</th>\n",
       "      <td>If you're not an SLP you're not qualified to e...</td>\n",
       "      <td>NaN</td>\n",
       "      <td>NaN</td>\n",
       "      <td>Not ABA</td>\n",
       "    </tr>\n",
       "    <tr>\n",
       "      <th>421</th>\n",
       "      <td>I work with SLPS at my clinic because we are m...</td>\n",
       "      <td>NaN</td>\n",
       "      <td>NaN</td>\n",
       "      <td>Not ABA</td>\n",
       "    </tr>\n",
       "    <tr>\n",
       "      <th>467</th>\n",
       "      <td>This is a hard one I had to learn this alone G...</td>\n",
       "      <td>NaN</td>\n",
       "      <td>NaN</td>\n",
       "      <td>Not ABA</td>\n",
       "    </tr>\n",
       "    <tr>\n",
       "      <th>499</th>\n",
       "      <td>A tragic case with a mentally ill mother Using...</td>\n",
       "      <td>NaN</td>\n",
       "      <td>NaN</td>\n",
       "      <td>Not ABA</td>\n",
       "    </tr>\n",
       "    <tr>\n",
       "      <th>526</th>\n",
       "      <td>Are you implying that SLPs don't have the know...</td>\n",
       "      <td>NaN</td>\n",
       "      <td>NaN</td>\n",
       "      <td>Not ABA</td>\n",
       "    </tr>\n",
       "    <tr>\n",
       "      <th>573</th>\n",
       "      <td>Ah yes aans wres otherwise known as awarness</td>\n",
       "      <td>NaN</td>\n",
       "      <td>NaN</td>\n",
       "      <td>Not ABA</td>\n",
       "    </tr>\n",
       "    <tr>\n",
       "      <th>580</th>\n",
       "      <td>To become a licensed SLP you would need to com...</td>\n",
       "      <td>NaN</td>\n",
       "      <td>NaN</td>\n",
       "      <td>Not ABA</td>\n",
       "    </tr>\n",
       "    <tr>\n",
       "      <th>641</th>\n",
       "      <td>I was a DSP for years QIDP for As a DSP the hi...</td>\n",
       "      <td>NaN</td>\n",
       "      <td>NaN</td>\n",
       "      <td>Not ABA</td>\n",
       "    </tr>\n",
       "    <tr>\n",
       "      <th>654</th>\n",
       "      <td>SLP here and I really caution against adding s...</td>\n",
       "      <td>NaN</td>\n",
       "      <td>NaN</td>\n",
       "      <td>Not ABA</td>\n",
       "    </tr>\n",
       "    <tr>\n",
       "      <th>691</th>\n",
       "      <td>I saw bcp plan and the only think I could thin...</td>\n",
       "      <td>NaN</td>\n",
       "      <td>NaN</td>\n",
       "      <td>Not ABA</td>\n",
       "    </tr>\n",
       "    <tr>\n",
       "      <th>702</th>\n",
       "      <td>Your field should not have huge overlap with S...</td>\n",
       "      <td>NaN</td>\n",
       "      <td>NaN</td>\n",
       "      <td>Not ABA</td>\n",
       "    </tr>\n",
       "    <tr>\n",
       "      <th>703</th>\n",
       "      <td>I don't have a higher education in this area I...</td>\n",
       "      <td>NaN</td>\n",
       "      <td>NaN</td>\n",
       "      <td>Not ABA</td>\n",
       "    </tr>\n",
       "    <tr>\n",
       "      <th>744</th>\n",
       "      <td>I think that there is a chance that we could h...</td>\n",
       "      <td>NaN</td>\n",
       "      <td>NaN</td>\n",
       "      <td>Not ABA</td>\n",
       "    </tr>\n",
       "    <tr>\n",
       "      <th>763</th>\n",
       "      <td>That s not really true for all SLPs but ok The...</td>\n",
       "      <td>NaN</td>\n",
       "      <td>NaN</td>\n",
       "      <td>Not ABA</td>\n",
       "    </tr>\n",
       "    <tr>\n",
       "      <th>923</th>\n",
       "      <td>There is a huge range of what is ir al which i...</td>\n",
       "      <td>NaN</td>\n",
       "      <td>NaN</td>\n",
       "      <td>Not ABA</td>\n",
       "    </tr>\n",
       "  </tbody>\n",
       "</table>\n",
       "</div>"
      ],
      "text/plain": [
       "                                              Document sentiment  \\\n",
       "232  Sounds like this SLP is using outdated practic...       NaN   \n",
       "288  Speech therapist here like many are saying I t...       NaN   \n",
       "365  BT Survey Updates on Burnout and Satisfaction ...       NaN   \n",
       "416  If you're not an SLP you're not qualified to e...       NaN   \n",
       "421  I work with SLPS at my clinic because we are m...       NaN   \n",
       "467  This is a hard one I had to learn this alone G...       NaN   \n",
       "499  A tragic case with a mentally ill mother Using...       NaN   \n",
       "526  Are you implying that SLPs don't have the know...       NaN   \n",
       "573       Ah yes aans wres otherwise known as awarness       NaN   \n",
       "580  To become a licensed SLP you would need to com...       NaN   \n",
       "641  I was a DSP for years QIDP for As a DSP the hi...       NaN   \n",
       "654  SLP here and I really caution against adding s...       NaN   \n",
       "691  I saw bcp plan and the only think I could thin...       NaN   \n",
       "702  Your field should not have huge overlap with S...       NaN   \n",
       "703  I don't have a higher education in this area I...       NaN   \n",
       "744  I think that there is a chance that we could h...       NaN   \n",
       "763  That s not really true for all SLPs but ok The...       NaN   \n",
       "923  There is a huge range of what is ir al which i...       NaN   \n",
       "\n",
       "               author                                     commnents  \n",
       "232               NaN                                       Not aba  \n",
       "288               NaN                                       Not aba  \n",
       "365  ABA professional  Survey about professionals suffering burnout  \n",
       "416               NaN                                       Not ABA  \n",
       "421               NaN                                       Not ABA  \n",
       "467               NaN                                       Not ABA  \n",
       "499               NaN                                       Not ABA  \n",
       "526               NaN                                       Not ABA  \n",
       "573               NaN                                       Not ABA  \n",
       "580               NaN                                       Not ABA  \n",
       "641               NaN                                       Not ABA  \n",
       "654               NaN                                       Not ABA  \n",
       "691               NaN                                       Not ABA  \n",
       "702               NaN                                       Not ABA  \n",
       "703               NaN                                       Not ABA  \n",
       "744               NaN                                       Not ABA  \n",
       "763               NaN                                       Not ABA  \n",
       "923               NaN                                       Not ABA  "
      ]
     },
     "execution_count": 1412,
     "metadata": {},
     "output_type": "execute_result"
    }
   ],
   "source": [
    "# 18 entries sentiment col missing\n",
    "# sentiment was not recorded as the posts were not relevant to aba - see comments\n",
    "# remove these rows\n",
    "# the bertopic model resulted in almost all posts being relevant to aba - only 1 out of 1000 posts are not aba related (1.8%)\n",
    "aba_posts_labeled[aba_posts_labeled['sentiment'].isnull()]\n"
   ]
  },
  {
   "cell_type": "code",
   "execution_count": 1413,
   "metadata": {},
   "outputs": [
    {
     "data": {
      "text/plain": [
       "\"BT Survey Updates on Burnout and Satisfaction Hi I shared my supervisor's survey a couple of weeks ago and they have hit the mark Thank you Please fill out to share your opinion on burnout and satisfaction with the BT job if you haven't yet The more responses the better BT voices could truly be heard once published Click here for the BT Survey https forms office com Pages Response Page aspx id DQSIk Wds W yx Ejaj BLZtr QAAAAAAAAAAAAN j Ln ZNUMk ENE DR cx M BSk Qx Nl BUSj Q TU TOS u More info about the study Who Behavior Technicians Registered Behavior Technicians ABA paraprofessionals What IRB approved study using an anonymous min survey on BT's experiences with burnout company fairness and satisfaction with their job Why Researchers would like to learn about BT attitudes and experiences in the ABA industry and what companies can do to best support them Where Click here for the BT Survey https forms office com Pages Response Page aspx id DQSIk Wds W yx Ejaj BLZtr QAAAAAAAAAAAAN j Ln ZNUMk ENE DR cx M BSk Qx Nl BUSj Q TU TOS u\""
      ]
     },
     "execution_count": 1413,
     "metadata": {},
     "output_type": "execute_result"
    }
   ],
   "source": [
    "# the post is an invitation for aba professionals to complete a survey on burnout \n",
    "# not sentiment relevant ( at best neutral ) -> will be dropped\n",
    "aba_posts_labeled.Document[365]"
   ]
  },
  {
   "cell_type": "code",
   "execution_count": 1414,
   "metadata": {},
   "outputs": [
    {
     "name": "stdout",
     "output_type": "stream",
     "text": [
      "<class 'pandas.core.frame.DataFrame'>\n",
      "Index: 982 entries, 0 to 999\n",
      "Data columns (total 4 columns):\n",
      " #   Column     Non-Null Count  Dtype \n",
      "---  ------     --------------  ----- \n",
      " 0   Document   982 non-null    object\n",
      " 1   sentiment  982 non-null    object\n",
      " 2   author     385 non-null    object\n",
      " 3   commnents  266 non-null    object\n",
      "dtypes: object(4)\n",
      "memory usage: 38.4+ KB\n"
     ]
    }
   ],
   "source": [
    "aba_posts_labeled = aba_posts_labeled.dropna(subset=['sentiment'])\n",
    "aba_posts_labeled.info()"
   ]
  },
  {
   "cell_type": "code",
   "execution_count": 1415,
   "metadata": {},
   "outputs": [
    {
     "name": "stdout",
     "output_type": "stream",
     "text": [
      "<class 'pandas.core.frame.DataFrame'>\n",
      "Index: 982 entries, 0 to 999\n",
      "Data columns (total 4 columns):\n",
      " #   Column     Non-Null Count  Dtype \n",
      "---  ------     --------------  ----- \n",
      " 0   Document   982 non-null    object\n",
      " 1   sentiment  982 non-null    object\n",
      " 2   author     982 non-null    object\n",
      " 3   commnents  266 non-null    object\n",
      "dtypes: object(4)\n",
      "memory usage: 38.4+ KB\n"
     ]
    }
   ],
   "source": [
    "# as per instruction given for labling atuhor entry was left blank if the author was not clear in the post\n",
    "# replace the NaN values in authot with 'layperson' \n",
    "aba_posts_labeled['author'].fillna('layperson', inplace=True)\n",
    "aba_posts_labeled.info()"
   ]
  },
  {
   "cell_type": "code",
   "execution_count": 1416,
   "metadata": {},
   "outputs": [
    {
     "data": {
      "text/plain": [
       "sentiment\n",
       "Neutral              617\n",
       "Negative             221\n",
       "Positive             124\n",
       "                       4\n",
       "Positive               4\n",
       "Pozitive               3\n",
       "Neutral                3\n",
       "Neutral?               2\n",
       "Negative?              1\n",
       "Pozitive Negative      1\n",
       "Negative               1\n",
       "Ne                     1\n",
       "Name: count, dtype: int64"
      ]
     },
     "execution_count": 1416,
     "metadata": {},
     "output_type": "execute_result"
    }
   ],
   "source": [
    "# look at sentiment classes \n",
    "# there are some misspelling -> can be corrected\n",
    "# sentiment is blank space in 4 rows\n",
    "aba_posts_labeled['sentiment'].value_counts()"
   ]
  },
  {
   "cell_type": "code",
   "execution_count": 1417,
   "metadata": {},
   "outputs": [
    {
     "data": {
      "text/html": [
       "<div>\n",
       "<style scoped>\n",
       "    .dataframe tbody tr th:only-of-type {\n",
       "        vertical-align: middle;\n",
       "    }\n",
       "\n",
       "    .dataframe tbody tr th {\n",
       "        vertical-align: top;\n",
       "    }\n",
       "\n",
       "    .dataframe thead th {\n",
       "        text-align: right;\n",
       "    }\n",
       "</style>\n",
       "<table border=\"1\" class=\"dataframe\">\n",
       "  <thead>\n",
       "    <tr style=\"text-align: right;\">\n",
       "      <th></th>\n",
       "      <th>Document</th>\n",
       "      <th>sentiment</th>\n",
       "      <th>author</th>\n",
       "      <th>commnents</th>\n",
       "    </tr>\n",
       "  </thead>\n",
       "  <tbody>\n",
       "    <tr>\n",
       "      <th>11</th>\n",
       "      <td>Abata Therapeutics Announces First Development...</td>\n",
       "      <td></td>\n",
       "      <td>layperson</td>\n",
       "      <td>Not aba related</td>\n",
       "    </tr>\n",
       "    <tr>\n",
       "      <th>117</th>\n",
       "      <td>OT is amazing We have done speech and OT since...</td>\n",
       "      <td></td>\n",
       "      <td>Parent</td>\n",
       "      <td>Not aba related</td>\n",
       "    </tr>\n",
       "    <tr>\n",
       "      <th>160</th>\n",
       "      <td>I honestly don't know how Aba disagreed with P...</td>\n",
       "      <td></td>\n",
       "      <td>layperson</td>\n",
       "      <td>Aba N Preach - YouTube channel not relevant</td>\n",
       "    </tr>\n",
       "    <tr>\n",
       "      <th>184</th>\n",
       "      <td>Don't do SLPA It's extremely hard to find jobs...</td>\n",
       "      <td></td>\n",
       "      <td>layperson</td>\n",
       "      <td>Not aba</td>\n",
       "    </tr>\n",
       "  </tbody>\n",
       "</table>\n",
       "</div>"
      ],
      "text/plain": [
       "                                              Document sentiment     author  \\\n",
       "11   Abata Therapeutics Announces First Development...            layperson   \n",
       "117  OT is amazing We have done speech and OT since...               Parent   \n",
       "160  I honestly don't know how Aba disagreed with P...            layperson   \n",
       "184  Don't do SLPA It's extremely hard to find jobs...            layperson   \n",
       "\n",
       "                                        commnents  \n",
       "11                                Not aba related  \n",
       "117                               Not aba related  \n",
       "160   Aba N Preach - YouTube channel not relevant  \n",
       "184                                       Not aba  "
      ]
     },
     "execution_count": 1417,
     "metadata": {},
     "output_type": "execute_result"
    }
   ],
   "source": [
    "empty_sentiment_rows = aba_posts_labeled[aba_posts_labeled['sentiment'].str.isspace()] \n",
    "empty_sentiment_rows  # posts not about aba -> drop them\n",
    "# altogether 18 + 4 = 22 posts out of 1000 were not aba related ( ~ 2%) -> bertopic identified mosty relevant topics"
   ]
  },
  {
   "cell_type": "code",
   "execution_count": 1418,
   "metadata": {},
   "outputs": [
    {
     "name": "stdout",
     "output_type": "stream",
     "text": [
      "<class 'pandas.core.frame.DataFrame'>\n",
      "Index: 978 entries, 0 to 999\n",
      "Data columns (total 4 columns):\n",
      " #   Column     Non-Null Count  Dtype \n",
      "---  ------     --------------  ----- \n",
      " 0   Document   978 non-null    object\n",
      " 1   sentiment  978 non-null    object\n",
      " 2   author     978 non-null    object\n",
      " 3   commnents  262 non-null    object\n",
      "dtypes: object(4)\n",
      "memory usage: 38.2+ KB\n"
     ]
    }
   ],
   "source": [
    "aba_posts_labeled.drop(empty_sentiment_rows.index, inplace=True)\n",
    "aba_posts_labeled.info()\n",
    "# 978 posts to be inlcuded in the analysis \n",
    "# comments columns has missing data - however this col. is only for reference and will be dropped for final analysis"
   ]
  },
  {
   "cell_type": "code",
   "execution_count": 1420,
   "metadata": {},
   "outputs": [
    {
     "data": {
      "text/html": [
       "<div>\n",
       "<style scoped>\n",
       "    .dataframe tbody tr th:only-of-type {\n",
       "        vertical-align: middle;\n",
       "    }\n",
       "\n",
       "    .dataframe tbody tr th {\n",
       "        vertical-align: top;\n",
       "    }\n",
       "\n",
       "    .dataframe thead th {\n",
       "        text-align: right;\n",
       "    }\n",
       "</style>\n",
       "<table border=\"1\" class=\"dataframe\">\n",
       "  <thead>\n",
       "    <tr style=\"text-align: right;\">\n",
       "      <th></th>\n",
       "      <th>Document</th>\n",
       "      <th>sentiment</th>\n",
       "      <th>author</th>\n",
       "      <th>commnents</th>\n",
       "    </tr>\n",
       "  </thead>\n",
       "  <tbody>\n",
       "    <tr>\n",
       "      <th>103</th>\n",
       "      <td>This makes a lot of sense Thanks for giving su...</td>\n",
       "      <td>Negative?</td>\n",
       "      <td>ABA professional</td>\n",
       "      <td>Not sure if ABA is right to treat children wit...</td>\n",
       "    </tr>\n",
       "    <tr>\n",
       "      <th>147</th>\n",
       "      <td>Accommodating is one thing Installing a ramp f...</td>\n",
       "      <td>Neutral?</td>\n",
       "      <td>Parent</td>\n",
       "      <td>NaN</td>\n",
       "    </tr>\n",
       "    <tr>\n",
       "      <th>960</th>\n",
       "      <td>No I m saying he d be pissed about modern ABA ...</td>\n",
       "      <td>Neutral?</td>\n",
       "      <td>layperson</td>\n",
       "      <td>NaN</td>\n",
       "    </tr>\n",
       "  </tbody>\n",
       "</table>\n",
       "</div>"
      ],
      "text/plain": [
       "                                              Document  sentiment  \\\n",
       "103  This makes a lot of sense Thanks for giving su...  Negative?   \n",
       "147  Accommodating is one thing Installing a ramp f...   Neutral?   \n",
       "960  No I m saying he d be pissed about modern ABA ...   Neutral?   \n",
       "\n",
       "               author                                          commnents  \n",
       "103  ABA professional  Not sure if ABA is right to treat children wit...  \n",
       "147            Parent                                                NaN  \n",
       "960         layperson                                                NaN  "
      ]
     },
     "execution_count": 1420,
     "metadata": {},
     "output_type": "execute_result"
    }
   ],
   "source": [
    "# check rows where sentiment contains a ? ( grader was unsure )\n",
    "question_mark_rows = aba_posts_labeled[aba_posts_labeled['sentiment'].str.contains('\\?', na=False, regex=True)]\n",
    "question_mark_rows"
   ]
  },
  {
   "cell_type": "code",
   "execution_count": 1421,
   "metadata": {},
   "outputs": [
    {
     "name": "stdout",
     "output_type": "stream",
     "text": [
      "<class 'pandas.core.frame.DataFrame'>\n",
      "Index: 975 entries, 0 to 999\n",
      "Data columns (total 4 columns):\n",
      " #   Column     Non-Null Count  Dtype \n",
      "---  ------     --------------  ----- \n",
      " 0   Document   975 non-null    object\n",
      " 1   sentiment  975 non-null    object\n",
      " 2   author     975 non-null    object\n",
      " 3   commnents  261 non-null    object\n",
      "dtypes: object(4)\n",
      "memory usage: 38.1+ KB\n"
     ]
    }
   ],
   "source": [
    "# if the coders were confused the ML algo. might be as well \n",
    "# drop rows where sentiment contains '?'\n",
    "aba_posts_labeled = aba_posts_labeled[~aba_posts_labeled['sentiment'].str.contains('\\?')]\n",
    "aba_posts_labeled.info()\n",
    "\n",
    "# 975 rows / posts remain"
   ]
  },
  {
   "cell_type": "markdown",
   "metadata": {},
   "source": [
    "### Sentiment \n",
    "Descriptive statistics"
   ]
  },
  {
   "cell_type": "code",
   "execution_count": 1422,
   "metadata": {},
   "outputs": [
    {
     "data": {
      "text/plain": [
       "sentiment\n",
       "Neutral              617\n",
       "Negative             221\n",
       "Positive             124\n",
       "Positive               4\n",
       "Pozitive               3\n",
       "Neutral                3\n",
       "Pozitive Negative      1\n",
       "Negative               1\n",
       "Ne                     1\n",
       "Name: count, dtype: int64"
      ]
     },
     "execution_count": 1422,
     "metadata": {},
     "output_type": "execute_result"
    }
   ],
   "source": [
    "aba_posts_labeled['sentiment'].value_counts()  # category labeles need cleaning ( spelling checks and consistency )"
   ]
  },
  {
   "cell_type": "code",
   "execution_count": 1268,
   "metadata": {},
   "outputs": [
    {
     "data": {
      "text/html": [
       "<div>\n",
       "<style scoped>\n",
       "    .dataframe tbody tr th:only-of-type {\n",
       "        vertical-align: middle;\n",
       "    }\n",
       "\n",
       "    .dataframe tbody tr th {\n",
       "        vertical-align: top;\n",
       "    }\n",
       "\n",
       "    .dataframe thead th {\n",
       "        text-align: right;\n",
       "    }\n",
       "</style>\n",
       "<table border=\"1\" class=\"dataframe\">\n",
       "  <thead>\n",
       "    <tr style=\"text-align: right;\">\n",
       "      <th></th>\n",
       "      <th>Document</th>\n",
       "      <th>sentiment</th>\n",
       "      <th>author</th>\n",
       "      <th>commnents</th>\n",
       "    </tr>\n",
       "  </thead>\n",
       "  <tbody>\n",
       "    <tr>\n",
       "      <th>417</th>\n",
       "      <td>No personally as a RBT i would never suggest a...</td>\n",
       "      <td>Ne</td>\n",
       "      <td>ABA professional</td>\n",
       "      <td>NaN</td>\n",
       "    </tr>\n",
       "  </tbody>\n",
       "</table>\n",
       "</div>"
      ],
      "text/plain": [
       "                                              Document sentiment  \\\n",
       "417  No personally as a RBT i would never suggest a...        Ne   \n",
       "\n",
       "               author commnents  \n",
       "417  ABA professional       NaN  "
      ]
     },
     "execution_count": 1268,
     "metadata": {},
     "output_type": "execute_result"
    }
   ],
   "source": [
    "# show row with sentiment 'Ne'\n",
    "rows_with_sentiment_ne = aba_posts_labeled[aba_posts_labeled['sentiment'] == 'Ne']\n",
    "rows_with_sentiment_ne"
   ]
  },
  {
   "cell_type": "code",
   "execution_count": 1423,
   "metadata": {},
   "outputs": [
    {
     "data": {
      "text/plain": [
       "'No personally as a RBT i would never suggest anything like this'"
      ]
     },
     "execution_count": 1423,
     "metadata": {},
     "output_type": "execute_result"
    }
   ],
   "source": [
    "aba_posts_labeled.Document[417]"
   ]
  },
  {
   "cell_type": "code",
   "execution_count": 1424,
   "metadata": {},
   "outputs": [
    {
     "name": "stdout",
     "output_type": "stream",
     "text": [
      "<class 'pandas.core.frame.DataFrame'>\n",
      "Index: 974 entries, 0 to 999\n",
      "Data columns (total 4 columns):\n",
      " #   Column     Non-Null Count  Dtype \n",
      "---  ------     --------------  ----- \n",
      " 0   Document   974 non-null    object\n",
      " 1   sentiment  974 non-null    object\n",
      " 2   author     974 non-null    object\n",
      " 3   commnents  261 non-null    object\n",
      "dtypes: object(4)\n",
      "memory usage: 38.0+ KB\n"
     ]
    }
   ],
   "source": [
    "# not really aba sentiment related => drop it \n",
    "aba_posts_labeled = aba_posts_labeled[aba_posts_labeled['sentiment'] != 'Ne']\n",
    "aba_posts_labeled.info()\n"
   ]
  },
  {
   "cell_type": "code",
   "execution_count": 1425,
   "metadata": {},
   "outputs": [
    {
     "data": {
      "text/html": [
       "<div>\n",
       "<style scoped>\n",
       "    .dataframe tbody tr th:only-of-type {\n",
       "        vertical-align: middle;\n",
       "    }\n",
       "\n",
       "    .dataframe tbody tr th {\n",
       "        vertical-align: top;\n",
       "    }\n",
       "\n",
       "    .dataframe thead th {\n",
       "        text-align: right;\n",
       "    }\n",
       "</style>\n",
       "<table border=\"1\" class=\"dataframe\">\n",
       "  <thead>\n",
       "    <tr style=\"text-align: right;\">\n",
       "      <th></th>\n",
       "      <th>Document</th>\n",
       "      <th>sentiment</th>\n",
       "      <th>author</th>\n",
       "      <th>commnents</th>\n",
       "    </tr>\n",
       "  </thead>\n",
       "  <tbody>\n",
       "    <tr>\n",
       "      <th>161</th>\n",
       "      <td>I also can t bring myself to take my son to ab...</td>\n",
       "      <td>Pozitive Negative</td>\n",
       "      <td>Parent</td>\n",
       "      <td></td>\n",
       "    </tr>\n",
       "  </tbody>\n",
       "</table>\n",
       "</div>"
      ],
      "text/plain": [
       "                                              Document          sentiment  \\\n",
       "161  I also can t bring myself to take my son to ab...  Pozitive Negative   \n",
       "\n",
       "     author commnents  \n",
       "161  Parent            "
      ]
     },
     "execution_count": 1425,
     "metadata": {},
     "output_type": "execute_result"
    }
   ],
   "source": [
    "# look at the entry (Pozitive Negative) for semntiment\n",
    "aba_posts_labeled[aba_posts_labeled['sentiment'] == 'Pozitive Negative']"
   ]
  },
  {
   "cell_type": "code",
   "execution_count": 1426,
   "metadata": {},
   "outputs": [
    {
     "name": "stdout",
     "output_type": "stream",
     "text": [
      "I also can t bring myself to take my son to aba Every place I ve seen around here is shit There are some people who ve found amazing aba therapists so I guess it s worth looking into but I d never dump my son at a subpar place and there are many subpar places It s hard as it s the only thing covered by insurance and recommended by drs\n",
      "<class 'pandas.core.frame.DataFrame'>\n",
      "Index: 974 entries, 0 to 999\n",
      "Data columns (total 4 columns):\n",
      " #   Column     Non-Null Count  Dtype \n",
      "---  ------     --------------  ----- \n",
      " 0   Document   974 non-null    object\n",
      " 1   sentiment  974 non-null    object\n",
      " 2   author     974 non-null    object\n",
      " 3   commnents  261 non-null    object\n",
      "dtypes: object(4)\n",
      "memory usage: 70.3+ KB\n"
     ]
    }
   ],
   "source": [
    "print(aba_posts_labeled.Document[161])  # contains both positive and negative things -> flag as neutral\n",
    "# Replace 'Pozitive Negative' with 'Neutral' in the 'sentiment' column\n",
    "aba_posts_labeled['sentiment'] = aba_posts_labeled['sentiment'].replace('Pozitive Negative', 'Neutral')\n",
    "\n",
    "aba_posts_labeled.info()"
   ]
  },
  {
   "cell_type": "code",
   "execution_count": 1427,
   "metadata": {},
   "outputs": [
    {
     "data": {
      "text/plain": [
       "sentiment\n",
       "Neutral     621\n",
       "Negative    222\n",
       "Positive    128\n",
       "Pozitive      3\n",
       "Name: count, dtype: int64"
      ]
     },
     "execution_count": 1427,
     "metadata": {},
     "output_type": "execute_result"
    }
   ],
   "source": [
    "# remove whitespace \n",
    "aba_posts_labeled['sentiment'] = aba_posts_labeled['sentiment'].str.strip()\n",
    "aba_posts_labeled['sentiment'].value_counts() "
   ]
  },
  {
   "cell_type": "code",
   "execution_count": 1428,
   "metadata": {},
   "outputs": [
    {
     "data": {
      "text/plain": [
       "sentiment\n",
       "Neutral     621\n",
       "Negative    222\n",
       "Pozitive    131\n",
       "Name: count, dtype: int64"
      ]
     },
     "execution_count": 1428,
     "metadata": {},
     "output_type": "execute_result"
    }
   ],
   "source": [
    "# make spelling uniform for pozitive sentiment label \n",
    "mask = aba_posts_labeled['sentiment'].str.startswith('Po')\n",
    "aba_posts_labeled.loc[mask, 'sentiment'] = 'Pozitive'\n",
    "aba_posts_labeled['sentiment'].value_counts() "
   ]
  },
  {
   "cell_type": "code",
   "execution_count": 1430,
   "metadata": {},
   "outputs": [
    {
     "data": {
      "image/png": "[encoded data removed]",
      "text/plain": [
       "<Figure size 640x480 with 1 Axes>"
      ]
     },
     "metadata": {},
     "output_type": "display_data"
    }
   ],
   "source": [
    "# Plot the 'sentiment' column\n",
    "sentiment_counts = aba_posts_labeled['sentiment'].value_counts()\n",
    "sentiment_counts.plot(kind='bar', color='skyblue')\n",
    "plt.title('Sentiment Distribution')\n",
    "plt.xlabel('Sentiment')\n",
    "plt.ylabel('Number of posts')\n",
    "plt.show()\n",
    "\n",
    "# more than half the posts present as neutral regarding aba therapy \n",
    "# data is not balanced\n",
    "\n",
    "# as per instructions and also by inspecting the comments column :\n",
    "# posts that are neutral are either:\n",
    "#   - information/advice seeking about aba therapy related\n",
    "#   - information/advice seeking about aba job related\n",
    "#   - information/advice seeking about aba in general\n",
    "#   - people expressing both pozitive and negative opinions about aba in the same post \n",
    "\n",
    "# negative sentiments were recorded for those posts that:\n",
    "#   - expressed only opinions against aba therapy aor aba in general\n",
    "#   - expressed only opinions against aba as a career field/ job related \n",
    "\n",
    "# pozitive sentiments were recorded for those posts that:\n",
    "#   - expressed only pozitive opinions about aba therapy or aba in general\n",
    "#   - expressed only pozitive opinions about aba as a career field/ job related "
   ]
  },
  {
   "cell_type": "markdown",
   "metadata": {},
   "source": [
    "### Post's Author \n",
    "Descriptive statistics"
   ]
  },
  {
   "cell_type": "code",
   "execution_count": 1431,
   "metadata": {},
   "outputs": [
    {
     "data": {
      "text/plain": [
       "author\n",
       "layperson                                    593\n",
       "aba professional                             196\n",
       "parent                                        78\n",
       "asd person                                    27\n",
       "professional                                  13\n",
       "aba professional with asd                     10\n",
       "aba professional?                              6\n",
       "slp                                            5\n",
       "ex aba profesisonal                            4\n",
       "ex aba professional                            4\n",
       "asd person?                                    2\n",
       "relative                                       2\n",
       "student                                        2\n",
       "family                                         2\n",
       "professional?                                  2\n",
       "ex - aba professional                          2\n",
       "asd parent                                     2\n",
       "professors                                     1\n",
       "sibling                                        1\n",
       "psychologist with asd                          1\n",
       "education professional                         1\n",
       "parent with asd                                1\n",
       "asd student                                    1\n",
       "teacher                                        1\n",
       "occupational therapist                         1\n",
       "social worker with asd                         1\n",
       "aba student                                    1\n",
       "clinical therapist with asd                    1\n",
       "student?                                       1\n",
       "ot                                             1\n",
       "parent with asd child                          1\n",
       "friend of asd person                           1\n",
       "person with “special needs” not specified      1\n",
       "ot with asd                                    1\n",
       "parent?                                        1\n",
       "ex aba professional / ot                       1\n",
       "salt                                           1\n",
       "asd teacher                                    1\n",
       "ot/parent                                      1\n",
       "psychologist                                   1\n",
       "relativeo of aba professional                  1\n",
       "Name: count, dtype: int64"
      ]
     },
     "execution_count": 1431,
     "metadata": {},
     "output_type": "execute_result"
    }
   ],
   "source": [
    "# look at categories of authors\n",
    "# strip white spaces\n",
    "aba_posts_labeled['author'] = aba_posts_labeled['author'].str.strip()\n",
    "# lowewrcase all lables\n",
    "aba_posts_labeled['author'] = aba_posts_labeled['author'].str.lower()\n",
    "aba_posts_labeled['author'].value_counts() "
   ]
  },
  {
   "cell_type": "code",
   "execution_count": 1432,
   "metadata": {},
   "outputs": [
    {
     "data": {
      "text/plain": [
       "author\n",
       "layperson                                    605\n",
       "aba professional                             196\n",
       "parent                                        78\n",
       "asd person                                    27\n",
       "professional                                  13\n",
       "aba professional with asd                     10\n",
       "slp                                            5\n",
       "ex aba professional                            4\n",
       "ex aba profesisonal                            4\n",
       "family                                         2\n",
       "asd parent                                     2\n",
       "ex - aba professional                          2\n",
       "student                                        2\n",
       "relative                                       2\n",
       "ot                                             1\n",
       "teacher                                        1\n",
       "asd student                                    1\n",
       "social worker with asd                         1\n",
       "aba student                                    1\n",
       "parent with asd                                1\n",
       "clinical therapist with asd                    1\n",
       "sibling                                        1\n",
       "parent with asd child                          1\n",
       "ex aba professional / ot                       1\n",
       "friend of asd person                           1\n",
       "person with “special needs” not specified      1\n",
       "ot with asd                                    1\n",
       "salt                                           1\n",
       "asd teacher                                    1\n",
       "professors                                     1\n",
       "psychologist                                   1\n",
       "ot/parent                                      1\n",
       "occupational therapist                         1\n",
       "education professional                         1\n",
       "psychologist with asd                          1\n",
       "relativeo of aba professional                  1\n",
       "Name: count, dtype: int64"
      ]
     },
     "execution_count": 1432,
     "metadata": {},
     "output_type": "execute_result"
    }
   ],
   "source": [
    "# replace ? containing labels with layperson ( as the grader was not sure , it means it is not clear in the text)\n",
    "question_mark_rows = aba_posts_labeled[aba_posts_labeled['author'].str.contains('\\?', na=False, regex=True)]\n",
    "aba_posts_labeled.loc[question_mark_rows.index, 'author'] = 'layperson'\n",
    "aba_posts_labeled['author'].value_counts()"
   ]
  },
  {
   "cell_type": "code",
   "execution_count": 1436,
   "metadata": {},
   "outputs": [
    {
     "data": {
      "text/plain": [
       "author\n",
       "layperson                      610\n",
       "aba professional               196\n",
       "parent                          78\n",
       "asd person                      27\n",
       "other_professional              26\n",
       "aba professional with asd       10\n",
       "ex aba profesisonal              4\n",
       "ex aba professional              4\n",
       "asd parent                       2\n",
       "family                           2\n",
       "ex - aba professional            2\n",
       "relative                         2\n",
       "asd teacher                      1\n",
       "ot/parent                        1\n",
       "ot with asd                      1\n",
       "friend of asd person             1\n",
       "parent with asd child            1\n",
       "sibling                          1\n",
       "clinical therapist with asd      1\n",
       "social worker with asd           1\n",
       "psychologist with asd            1\n",
       "asd student                      1\n",
       "parent with asd                  1\n",
       "Name: count, dtype: int64"
      ]
     },
     "execution_count": 1436,
     "metadata": {},
     "output_type": "execute_result"
    }
   ],
   "source": [
    "# replace other people with layperson \n",
    "other_people = ['relativeo of aba professional', 'student', 'aba student', 'person with “special needs” not specified']\n",
    "\n",
    "other_people_mapping = {person: 'layperson' for person in other_people}\n",
    "aba_posts_labeled['author'] = aba_posts_labeled['author'].replace(other_people_mapping)\n",
    "\n",
    "aba_posts_labeled.author.value_counts()\n"
   ]
  },
  {
   "cell_type": "code",
   "execution_count": 1437,
   "metadata": {},
   "outputs": [
    {
     "data": {
      "text/plain": [
       "author\n",
       "layperson                      610\n",
       "aba professional               196\n",
       "parent                          78\n",
       "asd person                      27\n",
       "other_professional              26\n",
       "aba professional with asd       10\n",
       "ex aba profesisonal              4\n",
       "ex aba professional              4\n",
       "asd parent                       2\n",
       "family                           2\n",
       "ex - aba professional            2\n",
       "relative                         2\n",
       "asd teacher                      1\n",
       "ot/parent                        1\n",
       "ot with asd                      1\n",
       "friend of asd person             1\n",
       "parent with asd child            1\n",
       "sibling                          1\n",
       "clinical therapist with asd      1\n",
       "social worker with asd           1\n",
       "psychologist with asd            1\n",
       "asd student                      1\n",
       "parent with asd                  1\n",
       "Name: count, dtype: int64"
      ]
     },
     "execution_count": 1437,
     "metadata": {},
     "output_type": "execute_result"
    }
   ],
   "source": [
    "# replace other therapy/education related professions with other_professions\n",
    "other_professions = ['slp', 'ot', 'salt', 'psychologist', 'teacher', 'education professional', 'professors', 'occupational therapist', 'professional', 'ex aba professional / ot']\n",
    "\n",
    "profession_mapping = {profession: 'other_professional' for profession in other_professions}\n",
    "\n",
    "aba_posts_labeled['author'] = aba_posts_labeled['author'].replace(profession_mapping)\n",
    "\n",
    "aba_posts_labeled.author.value_counts()"
   ]
  },
  {
   "cell_type": "code",
   "execution_count": 1438,
   "metadata": {},
   "outputs": [
    {
     "data": {
      "text/plain": [
       "author\n",
       "layperson                      610\n",
       "aba professional               196\n",
       "parent                          78\n",
       "asd person                      27\n",
       "other_professional              26\n",
       "aba professional with asd       10\n",
       "family                           6\n",
       "ex aba profesisonal              4\n",
       "ex aba professional              4\n",
       "ex - aba professional            2\n",
       "asd parent                       2\n",
       "clinical therapist with asd      1\n",
       "asd student                      1\n",
       "social worker with asd           1\n",
       "asd teacher                      1\n",
       "parent with asd child            1\n",
       "ot with asd                      1\n",
       "ot/parent                        1\n",
       "psychologist with asd            1\n",
       "parent with asd                  1\n",
       "Name: count, dtype: int64"
      ]
     },
     "execution_count": 1438,
     "metadata": {},
     "output_type": "execute_result"
    }
   ],
   "source": [
    "# replace other therapy/education related professions with other_professions\n",
    "family = ['sibling', 'friend of asd person', 'relative']\n",
    "\n",
    "family_mapping = {member: 'family' for member in family}\n",
    "\n",
    "aba_posts_labeled['author'] = aba_posts_labeled['author'].replace(family_mapping)\n",
    "\n",
    "aba_posts_labeled.author.value_counts()"
   ]
  },
  {
   "cell_type": "code",
   "execution_count": 1439,
   "metadata": {},
   "outputs": [
    {
     "data": {
      "text/plain": [
       "author\n",
       "layperson                      610\n",
       "aba professional               196\n",
       "parent                          78\n",
       "asd person                      27\n",
       "other_professional              26\n",
       "ex aba profesisonal             10\n",
       "aba professional with asd       10\n",
       "family                           6\n",
       "asd parent                       2\n",
       "ot/parent                        1\n",
       "asd teacher                      1\n",
       "psychologist with asd            1\n",
       "ot with asd                      1\n",
       "parent with asd child            1\n",
       "clinical therapist with asd      1\n",
       "social worker with asd           1\n",
       "asd student                      1\n",
       "parent with asd                  1\n",
       "Name: count, dtype: int64"
      ]
     },
     "execution_count": 1439,
     "metadata": {},
     "output_type": "execute_result"
    }
   ],
   "source": [
    "# standardize labels for ex aba professional\n",
    "ex_aba_professional = ['ex aba professional', 'ex - aba professional']\n",
    "\n",
    "ex_aba_mapping = {member: 'ex aba profesisonal' for member in ex_aba_professional}\n",
    "\n",
    "aba_posts_labeled['author'] = aba_posts_labeled['author'].replace(ex_aba_mapping)\n",
    "\n",
    "aba_posts_labeled.author.value_counts()\n"
   ]
  },
  {
   "cell_type": "code",
   "execution_count": 1440,
   "metadata": {},
   "outputs": [
    {
     "data": {
      "text/plain": [
       "author\n",
       "layperson                      610\n",
       "aba professional               196\n",
       "parent                          79\n",
       "asd person                      28\n",
       "other_professional              26\n",
       "ex aba profesisonal             10\n",
       "aba professional with asd       10\n",
       "family                           6\n",
       "asd parent                       2\n",
       "psychologist with asd            1\n",
       "ot/parent                        1\n",
       "asd teacher                      1\n",
       "ot with asd                      1\n",
       "clinical therapist with asd      1\n",
       "social worker with asd           1\n",
       "parent with asd                  1\n",
       "Name: count, dtype: int64"
      ]
     },
     "execution_count": 1440,
     "metadata": {},
     "output_type": "execute_result"
    }
   ],
   "source": [
    "# standardize labels for person with “special needs” not specified ( = layperson) and parent\n",
    "aba_posts_labeled['author'] = aba_posts_labeled['author'].replace('asd student', 'asd person')\n",
    "aba_posts_labeled['author'] = aba_posts_labeled['author'].replace('parent with asd child', 'parent')\n",
    "\n",
    "aba_posts_labeled.author.value_counts()"
   ]
  },
  {
   "cell_type": "code",
   "execution_count": 1441,
   "metadata": {},
   "outputs": [
    {
     "data": {
      "text/plain": [
       "author\n",
       "layperson                             610\n",
       "aba professional                      196\n",
       "parent                                 79\n",
       "asd person                             28\n",
       "other_professionalher_professional     26\n",
       "ex aba profesisonal                    10\n",
       "aba professional with asd              10\n",
       "family                                  6\n",
       "other_professional with asd             4\n",
       "asd parent                              2\n",
       "other_professional/parent               1\n",
       "asd other_professional                  1\n",
       "parent with asd                         1\n",
       "Name: count, dtype: int64"
      ]
     },
     "execution_count": 1441,
     "metadata": {},
     "output_type": "execute_result"
    }
   ],
   "source": [
    "# replace other therapy/education related professions with other_professions in strings\n",
    "other_professions = [ 'ot', 'psychologist', 'teacher', 'social worker', 'clinical therapist']\n",
    "profession_mapping = {profession: 'other_professional' for profession in other_professions}\n",
    "\n",
    "aba_posts_labeled['author'] = aba_posts_labeled['author'].replace(profession_mapping, regex=True)\n",
    "\n",
    "aba_posts_labeled.author.value_counts()"
   ]
  },
  {
   "cell_type": "code",
   "execution_count": 1442,
   "metadata": {},
   "outputs": [
    {
     "data": {
      "text/plain": [
       "author\n",
       "layperson                      610\n",
       "aba professional               196\n",
       "parent                          79\n",
       "asd person                      28\n",
       "other_professional              26\n",
       "ex aba profesisonal             10\n",
       "aba professional with asd       10\n",
       "family                           6\n",
       "other_professional with asd      4\n",
       "asd parent                       2\n",
       "other_professional/parent        1\n",
       "asd other_professional           1\n",
       "parent with asd                  1\n",
       "Name: count, dtype: int64"
      ]
     },
     "execution_count": 1442,
     "metadata": {},
     "output_type": "execute_result"
    }
   ],
   "source": [
    "aba_posts_labeled['author'] = aba_posts_labeled['author'].replace('other_professionalher_professional', 'other_professional')\n",
    "aba_posts_labeled.author.value_counts()\n"
   ]
  },
  {
   "cell_type": "code",
   "execution_count": 1443,
   "metadata": {},
   "outputs": [
    {
     "data": {
      "text/plain": [
       "author\n",
       "layperson                    610\n",
       "aba professional             196\n",
       "parent                        79\n",
       "asd person                    28\n",
       "other_professional            26\n",
       "ex aba profesisonal           10\n",
       "aba professional / asd        10\n",
       "family                         6\n",
       "other_professional / asd       4\n",
       "asd parent                     2\n",
       "other_professional/parent      1\n",
       "asd other_professional         1\n",
       "parent / asd                   1\n",
       "Name: count, dtype: int64"
      ]
     },
     "execution_count": 1443,
     "metadata": {},
     "output_type": "execute_result"
    }
   ],
   "source": [
    "# repalce 'with' with '/'\n",
    "aba_posts_labeled['author'] = aba_posts_labeled['author'].replace('with', '/', regex=True)\n",
    "aba_posts_labeled.author.value_counts()"
   ]
  },
  {
   "cell_type": "code",
   "execution_count": 1444,
   "metadata": {},
   "outputs": [
    {
     "data": {
      "text/plain": [
       "author\n",
       "layperson                    610\n",
       "aba professional             196\n",
       "parent                        79\n",
       "asd                           28\n",
       "other_professional            26\n",
       "ex aba profesisonal           10\n",
       "aba professional / asd        10\n",
       "family                         6\n",
       "other_professional / asd       4\n",
       "parent / asd                   3\n",
       "other_professional/parent      1\n",
       "asd / other_professional       1\n",
       "Name: count, dtype: int64"
      ]
     },
     "execution_count": 1444,
     "metadata": {},
     "output_type": "execute_result"
    }
   ],
   "source": [
    "aba_posts_labeled['author'] = aba_posts_labeled['author'].replace('asd person', 'asd')\n",
    "aba_posts_labeled['author'] = aba_posts_labeled['author'].replace('asd parent', 'parent / asd')\n",
    "aba_posts_labeled['author'] = aba_posts_labeled['author'].replace('asd other_professional', 'asd / other_professional')\n",
    "\n",
    "aba_posts_labeled.author.value_counts()"
   ]
  },
  {
   "cell_type": "markdown",
   "metadata": {},
   "source": [
    "After consulting with Francesca degli Espinosa PhD, BCBA-D:<br>\n",
    "-> family put them in layperson as they are not caregivers, and not involved in the decission process<br>\n",
    "-> ex aba professionals - put them in other_prefessions and just keep curent ones as aba professions"
   ]
  },
  {
   "cell_type": "code",
   "execution_count": 1445,
   "metadata": {},
   "outputs": [
    {
     "data": {
      "text/plain": [
       "author\n",
       "layperson                    616\n",
       "aba professional             196\n",
       "parent                        79\n",
       "other_professional            36\n",
       "asd                           28\n",
       "aba professional / asd        10\n",
       "other_professional / asd       4\n",
       "parent / asd                   3\n",
       "other_professional/parent      1\n",
       "asd / other_professional       1\n",
       "Name: count, dtype: int64"
      ]
     },
     "execution_count": 1445,
     "metadata": {},
     "output_type": "execute_result"
    }
   ],
   "source": [
    "# family - > move to layperson as they are not directly involved in decission making regarding the therapy\n",
    "aba_posts_labeled['author'] = aba_posts_labeled['author'].replace('family', 'layperson')\n",
    "# ex aba proffessionals go into other_professionals as they are not currently practicing aba\n",
    "aba_posts_labeled['author'] = aba_posts_labeled['author'].replace('ex aba profesisonal', 'other_professional')\n",
    "\n",
    "aba_posts_labeled.author.value_counts()"
   ]
  },
  {
   "cell_type": "code",
   "execution_count": 1446,
   "metadata": {},
   "outputs": [
    {
     "data": {
      "text/plain": [
       "author\n",
       "[layperson]                     616\n",
       "[aba professional]              196\n",
       "[parent]                         79\n",
       "[other_professional]             36\n",
       "[asd]                            28\n",
       "[aba professional, asd]          10\n",
       "[other_professional, asd]         4\n",
       "[parent, asd]                     3\n",
       "[other_professional, parent]      1\n",
       "[asd, other_professional]         1\n",
       "Name: count, dtype: int64"
      ]
     },
     "execution_count": 1446,
     "metadata": {},
     "output_type": "execute_result"
    }
   ],
   "source": [
    "# split the 'author' column and convert to lists\n",
    "aba_posts_labeled['author'] = aba_posts_labeled['author'].str.split('/')\n",
    "# strip white spaces from each element within the 'author' column\n",
    "aba_posts_labeled['author'] = aba_posts_labeled['author'].apply(lambda x: [i.strip() for i in x])\n",
    "aba_posts_labeled.author.value_counts()"
   ]
  },
  {
   "cell_type": "code",
   "execution_count": 1447,
   "metadata": {},
   "outputs": [
    {
     "data": {
      "text/plain": [
       "author\n",
       "[layperson]                     616\n",
       "[aba professional]              196\n",
       "[parent]                         79\n",
       "[other_professional]             36\n",
       "[asd]                            28\n",
       "[aba professional, asd]          10\n",
       "[other_professional, asd]         5\n",
       "[parent, asd]                     3\n",
       "[parent, other_professional]      1\n",
       "Name: count, dtype: int64"
      ]
     },
     "execution_count": 1447,
     "metadata": {},
     "output_type": "execute_result"
    }
   ],
   "source": [
    "# some list have the same entries but reversed orther -> make it uniform\n",
    "aba_posts_labeled['author'] = aba_posts_labeled['author'].apply(set)\n",
    "aba_posts_labeled['author'] = aba_posts_labeled['author'].apply(list)\n",
    "aba_posts_labeled.author.value_counts()"
   ]
  },
  {
   "cell_type": "markdown",
   "metadata": {},
   "source": [
    "#### Dealing with List Values in Pandas Dataframes\n",
    "https://medium.com/p/a177e534f173 - source code"
   ]
  },
  {
   "cell_type": "code",
   "execution_count": 1299,
   "metadata": {},
   "outputs": [
    {
     "data": {
      "text/plain": [
       "888                [layperson]\n",
       "510                [layperson]\n",
       "455                [layperson]\n",
       "907                   [parent]\n",
       "474                [layperson]\n",
       "185                [layperson]\n",
       "298       [other_professional]\n",
       "159         [aba professional]\n",
       "644    [aba professional, asd]\n",
       "179                [layperson]\n",
       "Name: author, dtype: object"
      ]
     },
     "execution_count": 1299,
     "metadata": {},
     "output_type": "execute_result"
    }
   ],
   "source": [
    "aba_posts_labeled.author.sample(10)"
   ]
  },
  {
   "cell_type": "code",
   "execution_count": 1448,
   "metadata": {},
   "outputs": [
    {
     "name": "stdout",
     "output_type": "stream",
     "text": [
      "<class 'pandas.core.frame.DataFrame'>\n",
      "Index: 974 entries, 0 to 999\n",
      "Data columns (total 4 columns):\n",
      " #   Column     Non-Null Count  Dtype \n",
      "---  ------     --------------  ----- \n",
      " 0   Document   974 non-null    object\n",
      " 1   sentiment  974 non-null    object\n",
      " 2   author     974 non-null    object\n",
      " 3   commnents  261 non-null    object\n",
      "dtypes: object(4)\n",
      "memory usage: 70.3+ KB\n"
     ]
    }
   ],
   "source": [
    "aba_posts_labeled.info()  # 974 rows/ post to include in sentiment analisys"
   ]
  },
  {
   "cell_type": "code",
   "execution_count": 1481,
   "metadata": {},
   "outputs": [
    {
     "data": {
      "text/html": [
       "<div>\n",
       "<style scoped>\n",
       "    .dataframe tbody tr th:only-of-type {\n",
       "        vertical-align: middle;\n",
       "    }\n",
       "\n",
       "    .dataframe tbody tr th {\n",
       "        vertical-align: top;\n",
       "    }\n",
       "\n",
       "    .dataframe thead th {\n",
       "        text-align: right;\n",
       "    }\n",
       "</style>\n",
       "<table border=\"1\" class=\"dataframe\">\n",
       "  <thead>\n",
       "    <tr style=\"text-align: right;\">\n",
       "      <th></th>\n",
       "      <th>Document</th>\n",
       "      <th>sentiment</th>\n",
       "      <th>author</th>\n",
       "      <th>commnents</th>\n",
       "    </tr>\n",
       "  </thead>\n",
       "  <tbody>\n",
       "    <tr>\n",
       "      <th>723</th>\n",
       "      <td>You can def apply and say you plan to sit soon...</td>\n",
       "      <td>Neutral</td>\n",
       "      <td>[layperson]</td>\n",
       "      <td>NaN</td>\n",
       "    </tr>\n",
       "    <tr>\n",
       "      <th>249</th>\n",
       "      <td>My friend is studying to be an Occupational th...</td>\n",
       "      <td>Neutral</td>\n",
       "      <td>[layperson]</td>\n",
       "      <td>NaN</td>\n",
       "    </tr>\n",
       "    <tr>\n",
       "      <th>591</th>\n",
       "      <td>Discouraged In Home BCBA Hi folks I'm coming h...</td>\n",
       "      <td>Neutral</td>\n",
       "      <td>[aba professional]</td>\n",
       "      <td>Seeking information about ABA</td>\n",
       "    </tr>\n",
       "  </tbody>\n",
       "</table>\n",
       "</div>"
      ],
      "text/plain": [
       "                                              Document sentiment  \\\n",
       "723  You can def apply and say you plan to sit soon...   Neutral   \n",
       "249  My friend is studying to be an Occupational th...   Neutral   \n",
       "591  Discouraged In Home BCBA Hi folks I'm coming h...   Neutral   \n",
       "\n",
       "                 author                      commnents  \n",
       "723         [layperson]                            NaN  \n",
       "249         [layperson]                            NaN  \n",
       "591  [aba professional]  Seeking information about ABA  "
      ]
     },
     "execution_count": 1481,
     "metadata": {},
     "output_type": "execute_result"
    }
   ],
   "source": [
    "aba_posts_labeled.sample(3)"
   ]
  },
  {
   "cell_type": "code",
   "execution_count": 1449,
   "metadata": {},
   "outputs": [
    {
     "name": "stdout",
     "output_type": "stream",
     "text": [
      "list 0 is <class 'list'>\n",
      "list 1 is <class 'list'>\n",
      "list 2 is <class 'list'>\n",
      "list 3 is <class 'list'>\n",
      "list 4 is <class 'list'>\n",
      "list 5 is <class 'list'>\n",
      "list 6 is <class 'list'>\n",
      "list 7 is <class 'list'>\n",
      "list 8 is <class 'list'>\n",
      "list 9 is <class 'list'>\n",
      "list 10 is <class 'list'>\n",
      "list 11 is <class 'list'>\n",
      "list 12 is <class 'list'>\n",
      "list 13 is <class 'list'>\n",
      "list 14 is <class 'list'>\n",
      "list 15 is <class 'list'>\n",
      "list 16 is <class 'list'>\n",
      "list 17 is <class 'list'>\n",
      "list 18 is <class 'list'>\n",
      "list 19 is <class 'list'>\n",
      "list 20 is <class 'list'>\n",
      "list 21 is <class 'list'>\n",
      "list 22 is <class 'list'>\n",
      "list 23 is <class 'list'>\n",
      "list 24 is <class 'list'>\n",
      "list 25 is <class 'list'>\n",
      "list 26 is <class 'list'>\n",
      "list 27 is <class 'list'>\n",
      "list 28 is <class 'list'>\n",
      "list 29 is <class 'list'>\n",
      "list 30 is <class 'list'>\n",
      "list 31 is <class 'list'>\n",
      "list 32 is <class 'list'>\n",
      "list 33 is <class 'list'>\n",
      "list 34 is <class 'list'>\n",
      "list 35 is <class 'list'>\n",
      "list 36 is <class 'list'>\n",
      "list 37 is <class 'list'>\n",
      "list 38 is <class 'list'>\n",
      "list 39 is <class 'list'>\n",
      "list 40 is <class 'list'>\n",
      "list 41 is <class 'list'>\n",
      "list 42 is <class 'list'>\n",
      "list 43 is <class 'list'>\n",
      "list 44 is <class 'list'>\n",
      "list 45 is <class 'list'>\n",
      "list 46 is <class 'list'>\n",
      "list 47 is <class 'list'>\n",
      "list 48 is <class 'list'>\n",
      "list 49 is <class 'list'>\n",
      "list 50 is <class 'list'>\n",
      "list 51 is <class 'list'>\n",
      "list 52 is <class 'list'>\n",
      "list 53 is <class 'list'>\n",
      "list 54 is <class 'list'>\n",
      "list 55 is <class 'list'>\n",
      "list 56 is <class 'list'>\n",
      "list 57 is <class 'list'>\n",
      "list 58 is <class 'list'>\n",
      "list 59 is <class 'list'>\n",
      "list 60 is <class 'list'>\n",
      "list 61 is <class 'list'>\n",
      "list 62 is <class 'list'>\n",
      "list 63 is <class 'list'>\n",
      "list 64 is <class 'list'>\n",
      "list 65 is <class 'list'>\n",
      "list 66 is <class 'list'>\n",
      "list 67 is <class 'list'>\n",
      "list 68 is <class 'list'>\n",
      "list 69 is <class 'list'>\n",
      "list 70 is <class 'list'>\n",
      "list 71 is <class 'list'>\n",
      "list 72 is <class 'list'>\n",
      "list 73 is <class 'list'>\n",
      "list 74 is <class 'list'>\n",
      "list 75 is <class 'list'>\n",
      "list 76 is <class 'list'>\n",
      "list 77 is <class 'list'>\n",
      "list 78 is <class 'list'>\n",
      "list 79 is <class 'list'>\n",
      "list 80 is <class 'list'>\n",
      "list 81 is <class 'list'>\n",
      "list 82 is <class 'list'>\n",
      "list 83 is <class 'list'>\n",
      "list 84 is <class 'list'>\n",
      "list 85 is <class 'list'>\n",
      "list 86 is <class 'list'>\n",
      "list 87 is <class 'list'>\n",
      "list 88 is <class 'list'>\n",
      "list 89 is <class 'list'>\n",
      "list 90 is <class 'list'>\n",
      "list 91 is <class 'list'>\n",
      "list 92 is <class 'list'>\n",
      "list 93 is <class 'list'>\n",
      "list 94 is <class 'list'>\n",
      "list 95 is <class 'list'>\n",
      "list 96 is <class 'list'>\n",
      "list 97 is <class 'list'>\n",
      "list 98 is <class 'list'>\n",
      "list 99 is <class 'list'>\n",
      "list 100 is <class 'list'>\n",
      "list 101 is <class 'list'>\n",
      "list 102 is <class 'list'>\n",
      "list 103 is <class 'list'>\n",
      "list 104 is <class 'list'>\n",
      "list 105 is <class 'list'>\n",
      "list 106 is <class 'list'>\n",
      "list 107 is <class 'list'>\n",
      "list 108 is <class 'list'>\n",
      "list 109 is <class 'list'>\n",
      "list 110 is <class 'list'>\n",
      "list 111 is <class 'list'>\n",
      "list 112 is <class 'list'>\n",
      "list 113 is <class 'list'>\n",
      "list 114 is <class 'list'>\n",
      "list 115 is <class 'list'>\n",
      "list 116 is <class 'list'>\n",
      "list 117 is <class 'list'>\n",
      "list 118 is <class 'list'>\n",
      "list 119 is <class 'list'>\n",
      "list 120 is <class 'list'>\n",
      "list 121 is <class 'list'>\n",
      "list 122 is <class 'list'>\n",
      "list 123 is <class 'list'>\n",
      "list 124 is <class 'list'>\n",
      "list 125 is <class 'list'>\n",
      "list 126 is <class 'list'>\n",
      "list 127 is <class 'list'>\n",
      "list 128 is <class 'list'>\n",
      "list 129 is <class 'list'>\n",
      "list 130 is <class 'list'>\n",
      "list 131 is <class 'list'>\n",
      "list 132 is <class 'list'>\n",
      "list 133 is <class 'list'>\n",
      "list 134 is <class 'list'>\n",
      "list 135 is <class 'list'>\n",
      "list 136 is <class 'list'>\n",
      "list 137 is <class 'list'>\n",
      "list 138 is <class 'list'>\n",
      "list 139 is <class 'list'>\n",
      "list 140 is <class 'list'>\n",
      "list 141 is <class 'list'>\n",
      "list 142 is <class 'list'>\n",
      "list 143 is <class 'list'>\n",
      "list 144 is <class 'list'>\n",
      "list 145 is <class 'list'>\n",
      "list 146 is <class 'list'>\n",
      "list 147 is <class 'list'>\n",
      "list 148 is <class 'list'>\n",
      "list 149 is <class 'list'>\n",
      "list 150 is <class 'list'>\n",
      "list 151 is <class 'list'>\n",
      "list 152 is <class 'list'>\n",
      "list 153 is <class 'list'>\n",
      "list 154 is <class 'list'>\n",
      "list 155 is <class 'list'>\n",
      "list 156 is <class 'list'>\n",
      "list 157 is <class 'list'>\n",
      "list 158 is <class 'list'>\n",
      "list 159 is <class 'list'>\n",
      "list 160 is <class 'list'>\n",
      "list 161 is <class 'list'>\n",
      "list 162 is <class 'list'>\n",
      "list 163 is <class 'list'>\n",
      "list 164 is <class 'list'>\n",
      "list 165 is <class 'list'>\n",
      "list 166 is <class 'list'>\n",
      "list 167 is <class 'list'>\n",
      "list 168 is <class 'list'>\n",
      "list 169 is <class 'list'>\n",
      "list 170 is <class 'list'>\n",
      "list 171 is <class 'list'>\n",
      "list 172 is <class 'list'>\n",
      "list 173 is <class 'list'>\n",
      "list 174 is <class 'list'>\n",
      "list 175 is <class 'list'>\n",
      "list 176 is <class 'list'>\n",
      "list 177 is <class 'list'>\n",
      "list 178 is <class 'list'>\n",
      "list 179 is <class 'list'>\n",
      "list 180 is <class 'list'>\n",
      "list 181 is <class 'list'>\n",
      "list 182 is <class 'list'>\n",
      "list 183 is <class 'list'>\n",
      "list 184 is <class 'list'>\n",
      "list 185 is <class 'list'>\n",
      "list 186 is <class 'list'>\n",
      "list 187 is <class 'list'>\n",
      "list 188 is <class 'list'>\n",
      "list 189 is <class 'list'>\n",
      "list 190 is <class 'list'>\n",
      "list 191 is <class 'list'>\n",
      "list 192 is <class 'list'>\n",
      "list 193 is <class 'list'>\n",
      "list 194 is <class 'list'>\n",
      "list 195 is <class 'list'>\n",
      "list 196 is <class 'list'>\n",
      "list 197 is <class 'list'>\n",
      "list 198 is <class 'list'>\n",
      "list 199 is <class 'list'>\n",
      "list 200 is <class 'list'>\n",
      "list 201 is <class 'list'>\n",
      "list 202 is <class 'list'>\n",
      "list 203 is <class 'list'>\n",
      "list 204 is <class 'list'>\n",
      "list 205 is <class 'list'>\n",
      "list 206 is <class 'list'>\n",
      "list 207 is <class 'list'>\n",
      "list 208 is <class 'list'>\n",
      "list 209 is <class 'list'>\n",
      "list 210 is <class 'list'>\n",
      "list 211 is <class 'list'>\n",
      "list 212 is <class 'list'>\n",
      "list 213 is <class 'list'>\n",
      "list 214 is <class 'list'>\n",
      "list 215 is <class 'list'>\n",
      "list 216 is <class 'list'>\n",
      "list 217 is <class 'list'>\n",
      "list 218 is <class 'list'>\n",
      "list 219 is <class 'list'>\n",
      "list 220 is <class 'list'>\n",
      "list 221 is <class 'list'>\n",
      "list 222 is <class 'list'>\n",
      "list 223 is <class 'list'>\n",
      "list 224 is <class 'list'>\n",
      "list 225 is <class 'list'>\n",
      "list 226 is <class 'list'>\n",
      "list 227 is <class 'list'>\n",
      "list 228 is <class 'list'>\n",
      "list 229 is <class 'list'>\n",
      "list 230 is <class 'list'>\n",
      "list 231 is <class 'list'>\n",
      "list 232 is <class 'list'>\n",
      "list 233 is <class 'list'>\n",
      "list 234 is <class 'list'>\n",
      "list 235 is <class 'list'>\n",
      "list 236 is <class 'list'>\n",
      "list 237 is <class 'list'>\n",
      "list 238 is <class 'list'>\n",
      "list 239 is <class 'list'>\n",
      "list 240 is <class 'list'>\n",
      "list 241 is <class 'list'>\n",
      "list 242 is <class 'list'>\n",
      "list 243 is <class 'list'>\n",
      "list 244 is <class 'list'>\n",
      "list 245 is <class 'list'>\n",
      "list 246 is <class 'list'>\n",
      "list 247 is <class 'list'>\n",
      "list 248 is <class 'list'>\n",
      "list 249 is <class 'list'>\n",
      "list 250 is <class 'list'>\n",
      "list 251 is <class 'list'>\n",
      "list 252 is <class 'list'>\n",
      "list 253 is <class 'list'>\n",
      "list 254 is <class 'list'>\n",
      "list 255 is <class 'list'>\n",
      "list 256 is <class 'list'>\n",
      "list 257 is <class 'list'>\n",
      "list 258 is <class 'list'>\n",
      "list 259 is <class 'list'>\n",
      "list 260 is <class 'list'>\n",
      "list 261 is <class 'list'>\n",
      "list 262 is <class 'list'>\n",
      "list 263 is <class 'list'>\n",
      "list 264 is <class 'list'>\n",
      "list 265 is <class 'list'>\n",
      "list 266 is <class 'list'>\n",
      "list 267 is <class 'list'>\n",
      "list 268 is <class 'list'>\n",
      "list 269 is <class 'list'>\n",
      "list 270 is <class 'list'>\n",
      "list 271 is <class 'list'>\n",
      "list 272 is <class 'list'>\n",
      "list 273 is <class 'list'>\n",
      "list 274 is <class 'list'>\n",
      "list 275 is <class 'list'>\n",
      "list 276 is <class 'list'>\n",
      "list 277 is <class 'list'>\n",
      "list 278 is <class 'list'>\n",
      "list 279 is <class 'list'>\n",
      "list 280 is <class 'list'>\n",
      "list 281 is <class 'list'>\n",
      "list 282 is <class 'list'>\n",
      "list 283 is <class 'list'>\n",
      "list 284 is <class 'list'>\n",
      "list 285 is <class 'list'>\n",
      "list 286 is <class 'list'>\n",
      "list 287 is <class 'list'>\n",
      "list 288 is <class 'list'>\n",
      "list 289 is <class 'list'>\n",
      "list 290 is <class 'list'>\n",
      "list 291 is <class 'list'>\n",
      "list 292 is <class 'list'>\n",
      "list 293 is <class 'list'>\n",
      "list 294 is <class 'list'>\n",
      "list 295 is <class 'list'>\n",
      "list 296 is <class 'list'>\n",
      "list 297 is <class 'list'>\n",
      "list 298 is <class 'list'>\n",
      "list 299 is <class 'list'>\n",
      "list 300 is <class 'list'>\n",
      "list 301 is <class 'list'>\n",
      "list 302 is <class 'list'>\n",
      "list 303 is <class 'list'>\n",
      "list 304 is <class 'list'>\n",
      "list 305 is <class 'list'>\n",
      "list 306 is <class 'list'>\n",
      "list 307 is <class 'list'>\n",
      "list 308 is <class 'list'>\n",
      "list 309 is <class 'list'>\n",
      "list 310 is <class 'list'>\n",
      "list 311 is <class 'list'>\n",
      "list 312 is <class 'list'>\n",
      "list 313 is <class 'list'>\n",
      "list 314 is <class 'list'>\n",
      "list 315 is <class 'list'>\n",
      "list 316 is <class 'list'>\n",
      "list 317 is <class 'list'>\n",
      "list 318 is <class 'list'>\n",
      "list 319 is <class 'list'>\n",
      "list 320 is <class 'list'>\n",
      "list 321 is <class 'list'>\n",
      "list 322 is <class 'list'>\n",
      "list 323 is <class 'list'>\n",
      "list 324 is <class 'list'>\n",
      "list 325 is <class 'list'>\n",
      "list 326 is <class 'list'>\n",
      "list 327 is <class 'list'>\n",
      "list 328 is <class 'list'>\n",
      "list 329 is <class 'list'>\n",
      "list 330 is <class 'list'>\n",
      "list 331 is <class 'list'>\n",
      "list 332 is <class 'list'>\n",
      "list 333 is <class 'list'>\n",
      "list 334 is <class 'list'>\n",
      "list 335 is <class 'list'>\n",
      "list 336 is <class 'list'>\n",
      "list 337 is <class 'list'>\n",
      "list 338 is <class 'list'>\n",
      "list 339 is <class 'list'>\n",
      "list 340 is <class 'list'>\n",
      "list 341 is <class 'list'>\n",
      "list 342 is <class 'list'>\n",
      "list 343 is <class 'list'>\n",
      "list 344 is <class 'list'>\n",
      "list 345 is <class 'list'>\n",
      "list 346 is <class 'list'>\n",
      "list 347 is <class 'list'>\n",
      "list 348 is <class 'list'>\n",
      "list 349 is <class 'list'>\n",
      "list 350 is <class 'list'>\n",
      "list 351 is <class 'list'>\n",
      "list 352 is <class 'list'>\n",
      "list 353 is <class 'list'>\n",
      "list 354 is <class 'list'>\n",
      "list 355 is <class 'list'>\n",
      "list 356 is <class 'list'>\n",
      "list 357 is <class 'list'>\n",
      "list 358 is <class 'list'>\n",
      "list 359 is <class 'list'>\n",
      "list 360 is <class 'list'>\n",
      "list 361 is <class 'list'>\n",
      "list 362 is <class 'list'>\n",
      "list 363 is <class 'list'>\n",
      "list 364 is <class 'list'>\n",
      "list 365 is <class 'list'>\n",
      "list 366 is <class 'list'>\n",
      "list 367 is <class 'list'>\n",
      "list 368 is <class 'list'>\n",
      "list 369 is <class 'list'>\n",
      "list 370 is <class 'list'>\n",
      "list 371 is <class 'list'>\n",
      "list 372 is <class 'list'>\n",
      "list 373 is <class 'list'>\n",
      "list 374 is <class 'list'>\n",
      "list 375 is <class 'list'>\n",
      "list 376 is <class 'list'>\n",
      "list 377 is <class 'list'>\n",
      "list 378 is <class 'list'>\n",
      "list 379 is <class 'list'>\n",
      "list 380 is <class 'list'>\n",
      "list 381 is <class 'list'>\n",
      "list 382 is <class 'list'>\n",
      "list 383 is <class 'list'>\n",
      "list 384 is <class 'list'>\n",
      "list 385 is <class 'list'>\n",
      "list 386 is <class 'list'>\n",
      "list 387 is <class 'list'>\n",
      "list 388 is <class 'list'>\n",
      "list 389 is <class 'list'>\n",
      "list 390 is <class 'list'>\n",
      "list 391 is <class 'list'>\n",
      "list 392 is <class 'list'>\n",
      "list 393 is <class 'list'>\n",
      "list 394 is <class 'list'>\n",
      "list 395 is <class 'list'>\n",
      "list 396 is <class 'list'>\n",
      "list 397 is <class 'list'>\n",
      "list 398 is <class 'list'>\n",
      "list 399 is <class 'list'>\n",
      "list 400 is <class 'list'>\n",
      "list 401 is <class 'list'>\n",
      "list 402 is <class 'list'>\n",
      "list 403 is <class 'list'>\n",
      "list 404 is <class 'list'>\n",
      "list 405 is <class 'list'>\n",
      "list 406 is <class 'list'>\n",
      "list 407 is <class 'list'>\n",
      "list 408 is <class 'list'>\n",
      "list 409 is <class 'list'>\n",
      "list 410 is <class 'list'>\n",
      "list 411 is <class 'list'>\n",
      "list 412 is <class 'list'>\n",
      "list 413 is <class 'list'>\n",
      "list 414 is <class 'list'>\n",
      "list 415 is <class 'list'>\n",
      "list 416 is <class 'list'>\n",
      "list 417 is <class 'list'>\n",
      "list 418 is <class 'list'>\n",
      "list 419 is <class 'list'>\n",
      "list 420 is <class 'list'>\n",
      "list 421 is <class 'list'>\n",
      "list 422 is <class 'list'>\n",
      "list 423 is <class 'list'>\n",
      "list 424 is <class 'list'>\n",
      "list 425 is <class 'list'>\n",
      "list 426 is <class 'list'>\n",
      "list 427 is <class 'list'>\n",
      "list 428 is <class 'list'>\n",
      "list 429 is <class 'list'>\n",
      "list 430 is <class 'list'>\n",
      "list 431 is <class 'list'>\n",
      "list 432 is <class 'list'>\n",
      "list 433 is <class 'list'>\n",
      "list 434 is <class 'list'>\n",
      "list 435 is <class 'list'>\n",
      "list 436 is <class 'list'>\n",
      "list 437 is <class 'list'>\n",
      "list 438 is <class 'list'>\n",
      "list 439 is <class 'list'>\n",
      "list 440 is <class 'list'>\n",
      "list 441 is <class 'list'>\n",
      "list 442 is <class 'list'>\n",
      "list 443 is <class 'list'>\n",
      "list 444 is <class 'list'>\n",
      "list 445 is <class 'list'>\n",
      "list 446 is <class 'list'>\n",
      "list 447 is <class 'list'>\n",
      "list 448 is <class 'list'>\n",
      "list 449 is <class 'list'>\n",
      "list 450 is <class 'list'>\n",
      "list 451 is <class 'list'>\n",
      "list 452 is <class 'list'>\n",
      "list 453 is <class 'list'>\n",
      "list 454 is <class 'list'>\n",
      "list 455 is <class 'list'>\n",
      "list 456 is <class 'list'>\n",
      "list 457 is <class 'list'>\n",
      "list 458 is <class 'list'>\n",
      "list 459 is <class 'list'>\n",
      "list 460 is <class 'list'>\n",
      "list 461 is <class 'list'>\n",
      "list 462 is <class 'list'>\n",
      "list 463 is <class 'list'>\n",
      "list 464 is <class 'list'>\n",
      "list 465 is <class 'list'>\n",
      "list 466 is <class 'list'>\n",
      "list 467 is <class 'list'>\n",
      "list 468 is <class 'list'>\n",
      "list 469 is <class 'list'>\n",
      "list 470 is <class 'list'>\n",
      "list 471 is <class 'list'>\n",
      "list 472 is <class 'list'>\n",
      "list 473 is <class 'list'>\n",
      "list 474 is <class 'list'>\n",
      "list 475 is <class 'list'>\n",
      "list 476 is <class 'list'>\n",
      "list 477 is <class 'list'>\n",
      "list 478 is <class 'list'>\n",
      "list 479 is <class 'list'>\n",
      "list 480 is <class 'list'>\n",
      "list 481 is <class 'list'>\n",
      "list 482 is <class 'list'>\n",
      "list 483 is <class 'list'>\n",
      "list 484 is <class 'list'>\n",
      "list 485 is <class 'list'>\n",
      "list 486 is <class 'list'>\n",
      "list 487 is <class 'list'>\n",
      "list 488 is <class 'list'>\n",
      "list 489 is <class 'list'>\n",
      "list 490 is <class 'list'>\n",
      "list 491 is <class 'list'>\n",
      "list 492 is <class 'list'>\n",
      "list 493 is <class 'list'>\n",
      "list 494 is <class 'list'>\n",
      "list 495 is <class 'list'>\n",
      "list 496 is <class 'list'>\n",
      "list 497 is <class 'list'>\n",
      "list 498 is <class 'list'>\n",
      "list 499 is <class 'list'>\n",
      "list 500 is <class 'list'>\n",
      "list 501 is <class 'list'>\n",
      "list 502 is <class 'list'>\n",
      "list 503 is <class 'list'>\n",
      "list 504 is <class 'list'>\n",
      "list 505 is <class 'list'>\n",
      "list 506 is <class 'list'>\n",
      "list 507 is <class 'list'>\n",
      "list 508 is <class 'list'>\n",
      "list 509 is <class 'list'>\n",
      "list 510 is <class 'list'>\n",
      "list 511 is <class 'list'>\n",
      "list 512 is <class 'list'>\n",
      "list 513 is <class 'list'>\n",
      "list 514 is <class 'list'>\n",
      "list 515 is <class 'list'>\n",
      "list 516 is <class 'list'>\n",
      "list 517 is <class 'list'>\n",
      "list 518 is <class 'list'>\n",
      "list 519 is <class 'list'>\n",
      "list 520 is <class 'list'>\n",
      "list 521 is <class 'list'>\n",
      "list 522 is <class 'list'>\n",
      "list 523 is <class 'list'>\n",
      "list 524 is <class 'list'>\n",
      "list 525 is <class 'list'>\n",
      "list 526 is <class 'list'>\n",
      "list 527 is <class 'list'>\n",
      "list 528 is <class 'list'>\n",
      "list 529 is <class 'list'>\n",
      "list 530 is <class 'list'>\n",
      "list 531 is <class 'list'>\n",
      "list 532 is <class 'list'>\n",
      "list 533 is <class 'list'>\n",
      "list 534 is <class 'list'>\n",
      "list 535 is <class 'list'>\n",
      "list 536 is <class 'list'>\n",
      "list 537 is <class 'list'>\n",
      "list 538 is <class 'list'>\n",
      "list 539 is <class 'list'>\n",
      "list 540 is <class 'list'>\n",
      "list 541 is <class 'list'>\n",
      "list 542 is <class 'list'>\n",
      "list 543 is <class 'list'>\n",
      "list 544 is <class 'list'>\n",
      "list 545 is <class 'list'>\n",
      "list 546 is <class 'list'>\n",
      "list 547 is <class 'list'>\n",
      "list 548 is <class 'list'>\n",
      "list 549 is <class 'list'>\n",
      "list 550 is <class 'list'>\n",
      "list 551 is <class 'list'>\n",
      "list 552 is <class 'list'>\n",
      "list 553 is <class 'list'>\n",
      "list 554 is <class 'list'>\n",
      "list 555 is <class 'list'>\n",
      "list 556 is <class 'list'>\n",
      "list 557 is <class 'list'>\n",
      "list 558 is <class 'list'>\n",
      "list 559 is <class 'list'>\n",
      "list 560 is <class 'list'>\n",
      "list 561 is <class 'list'>\n",
      "list 562 is <class 'list'>\n",
      "list 563 is <class 'list'>\n",
      "list 564 is <class 'list'>\n",
      "list 565 is <class 'list'>\n",
      "list 566 is <class 'list'>\n",
      "list 567 is <class 'list'>\n",
      "list 568 is <class 'list'>\n",
      "list 569 is <class 'list'>\n",
      "list 570 is <class 'list'>\n",
      "list 571 is <class 'list'>\n",
      "list 572 is <class 'list'>\n",
      "list 573 is <class 'list'>\n",
      "list 574 is <class 'list'>\n",
      "list 575 is <class 'list'>\n",
      "list 576 is <class 'list'>\n",
      "list 577 is <class 'list'>\n",
      "list 578 is <class 'list'>\n",
      "list 579 is <class 'list'>\n",
      "list 580 is <class 'list'>\n",
      "list 581 is <class 'list'>\n",
      "list 582 is <class 'list'>\n",
      "list 583 is <class 'list'>\n",
      "list 584 is <class 'list'>\n",
      "list 585 is <class 'list'>\n",
      "list 586 is <class 'list'>\n",
      "list 587 is <class 'list'>\n",
      "list 588 is <class 'list'>\n",
      "list 589 is <class 'list'>\n",
      "list 590 is <class 'list'>\n",
      "list 591 is <class 'list'>\n",
      "list 592 is <class 'list'>\n",
      "list 593 is <class 'list'>\n",
      "list 594 is <class 'list'>\n",
      "list 595 is <class 'list'>\n",
      "list 596 is <class 'list'>\n",
      "list 597 is <class 'list'>\n",
      "list 598 is <class 'list'>\n",
      "list 599 is <class 'list'>\n",
      "list 600 is <class 'list'>\n",
      "list 601 is <class 'list'>\n",
      "list 602 is <class 'list'>\n",
      "list 603 is <class 'list'>\n",
      "list 604 is <class 'list'>\n",
      "list 605 is <class 'list'>\n",
      "list 606 is <class 'list'>\n",
      "list 607 is <class 'list'>\n",
      "list 608 is <class 'list'>\n",
      "list 609 is <class 'list'>\n",
      "list 610 is <class 'list'>\n",
      "list 611 is <class 'list'>\n",
      "list 612 is <class 'list'>\n",
      "list 613 is <class 'list'>\n",
      "list 614 is <class 'list'>\n",
      "list 615 is <class 'list'>\n",
      "list 616 is <class 'list'>\n",
      "list 617 is <class 'list'>\n",
      "list 618 is <class 'list'>\n",
      "list 619 is <class 'list'>\n",
      "list 620 is <class 'list'>\n",
      "list 621 is <class 'list'>\n",
      "list 622 is <class 'list'>\n",
      "list 623 is <class 'list'>\n",
      "list 624 is <class 'list'>\n",
      "list 625 is <class 'list'>\n",
      "list 626 is <class 'list'>\n",
      "list 627 is <class 'list'>\n",
      "list 628 is <class 'list'>\n",
      "list 629 is <class 'list'>\n",
      "list 630 is <class 'list'>\n",
      "list 631 is <class 'list'>\n",
      "list 632 is <class 'list'>\n",
      "list 633 is <class 'list'>\n",
      "list 634 is <class 'list'>\n",
      "list 635 is <class 'list'>\n",
      "list 636 is <class 'list'>\n",
      "list 637 is <class 'list'>\n",
      "list 638 is <class 'list'>\n",
      "list 639 is <class 'list'>\n",
      "list 640 is <class 'list'>\n",
      "list 641 is <class 'list'>\n",
      "list 642 is <class 'list'>\n",
      "list 643 is <class 'list'>\n",
      "list 644 is <class 'list'>\n",
      "list 645 is <class 'list'>\n",
      "list 646 is <class 'list'>\n",
      "list 647 is <class 'list'>\n",
      "list 648 is <class 'list'>\n",
      "list 649 is <class 'list'>\n",
      "list 650 is <class 'list'>\n",
      "list 651 is <class 'list'>\n",
      "list 652 is <class 'list'>\n",
      "list 653 is <class 'list'>\n",
      "list 654 is <class 'list'>\n",
      "list 655 is <class 'list'>\n",
      "list 656 is <class 'list'>\n",
      "list 657 is <class 'list'>\n",
      "list 658 is <class 'list'>\n",
      "list 659 is <class 'list'>\n",
      "list 660 is <class 'list'>\n",
      "list 661 is <class 'list'>\n",
      "list 662 is <class 'list'>\n",
      "list 663 is <class 'list'>\n",
      "list 664 is <class 'list'>\n",
      "list 665 is <class 'list'>\n",
      "list 666 is <class 'list'>\n",
      "list 667 is <class 'list'>\n",
      "list 668 is <class 'list'>\n",
      "list 669 is <class 'list'>\n",
      "list 670 is <class 'list'>\n",
      "list 671 is <class 'list'>\n",
      "list 672 is <class 'list'>\n",
      "list 673 is <class 'list'>\n",
      "list 674 is <class 'list'>\n",
      "list 675 is <class 'list'>\n",
      "list 676 is <class 'list'>\n",
      "list 677 is <class 'list'>\n",
      "list 678 is <class 'list'>\n",
      "list 679 is <class 'list'>\n",
      "list 680 is <class 'list'>\n",
      "list 681 is <class 'list'>\n",
      "list 682 is <class 'list'>\n",
      "list 683 is <class 'list'>\n",
      "list 684 is <class 'list'>\n",
      "list 685 is <class 'list'>\n",
      "list 686 is <class 'list'>\n",
      "list 687 is <class 'list'>\n",
      "list 688 is <class 'list'>\n",
      "list 689 is <class 'list'>\n",
      "list 690 is <class 'list'>\n",
      "list 691 is <class 'list'>\n",
      "list 692 is <class 'list'>\n",
      "list 693 is <class 'list'>\n",
      "list 694 is <class 'list'>\n",
      "list 695 is <class 'list'>\n",
      "list 696 is <class 'list'>\n",
      "list 697 is <class 'list'>\n",
      "list 698 is <class 'list'>\n",
      "list 699 is <class 'list'>\n",
      "list 700 is <class 'list'>\n",
      "list 701 is <class 'list'>\n",
      "list 702 is <class 'list'>\n",
      "list 703 is <class 'list'>\n",
      "list 704 is <class 'list'>\n",
      "list 705 is <class 'list'>\n",
      "list 706 is <class 'list'>\n",
      "list 707 is <class 'list'>\n",
      "list 708 is <class 'list'>\n",
      "list 709 is <class 'list'>\n",
      "list 710 is <class 'list'>\n",
      "list 711 is <class 'list'>\n",
      "list 712 is <class 'list'>\n",
      "list 713 is <class 'list'>\n",
      "list 714 is <class 'list'>\n",
      "list 715 is <class 'list'>\n",
      "list 716 is <class 'list'>\n",
      "list 717 is <class 'list'>\n",
      "list 718 is <class 'list'>\n",
      "list 719 is <class 'list'>\n",
      "list 720 is <class 'list'>\n",
      "list 721 is <class 'list'>\n",
      "list 722 is <class 'list'>\n",
      "list 723 is <class 'list'>\n",
      "list 724 is <class 'list'>\n",
      "list 725 is <class 'list'>\n",
      "list 726 is <class 'list'>\n",
      "list 727 is <class 'list'>\n",
      "list 728 is <class 'list'>\n",
      "list 729 is <class 'list'>\n",
      "list 730 is <class 'list'>\n",
      "list 731 is <class 'list'>\n",
      "list 732 is <class 'list'>\n",
      "list 733 is <class 'list'>\n",
      "list 734 is <class 'list'>\n",
      "list 735 is <class 'list'>\n",
      "list 736 is <class 'list'>\n",
      "list 737 is <class 'list'>\n",
      "list 738 is <class 'list'>\n",
      "list 739 is <class 'list'>\n",
      "list 740 is <class 'list'>\n",
      "list 741 is <class 'list'>\n",
      "list 742 is <class 'list'>\n",
      "list 743 is <class 'list'>\n",
      "list 744 is <class 'list'>\n",
      "list 745 is <class 'list'>\n",
      "list 746 is <class 'list'>\n",
      "list 747 is <class 'list'>\n",
      "list 748 is <class 'list'>\n",
      "list 749 is <class 'list'>\n",
      "list 750 is <class 'list'>\n",
      "list 751 is <class 'list'>\n",
      "list 752 is <class 'list'>\n",
      "list 753 is <class 'list'>\n",
      "list 754 is <class 'list'>\n",
      "list 755 is <class 'list'>\n",
      "list 756 is <class 'list'>\n",
      "list 757 is <class 'list'>\n",
      "list 758 is <class 'list'>\n",
      "list 759 is <class 'list'>\n",
      "list 760 is <class 'list'>\n",
      "list 761 is <class 'list'>\n",
      "list 762 is <class 'list'>\n",
      "list 763 is <class 'list'>\n",
      "list 764 is <class 'list'>\n",
      "list 765 is <class 'list'>\n",
      "list 766 is <class 'list'>\n",
      "list 767 is <class 'list'>\n",
      "list 768 is <class 'list'>\n",
      "list 769 is <class 'list'>\n",
      "list 770 is <class 'list'>\n",
      "list 771 is <class 'list'>\n",
      "list 772 is <class 'list'>\n",
      "list 773 is <class 'list'>\n",
      "list 774 is <class 'list'>\n",
      "list 775 is <class 'list'>\n",
      "list 776 is <class 'list'>\n",
      "list 777 is <class 'list'>\n",
      "list 778 is <class 'list'>\n",
      "list 779 is <class 'list'>\n",
      "list 780 is <class 'list'>\n",
      "list 781 is <class 'list'>\n",
      "list 782 is <class 'list'>\n",
      "list 783 is <class 'list'>\n",
      "list 784 is <class 'list'>\n",
      "list 785 is <class 'list'>\n",
      "list 786 is <class 'list'>\n",
      "list 787 is <class 'list'>\n",
      "list 788 is <class 'list'>\n",
      "list 789 is <class 'list'>\n",
      "list 790 is <class 'list'>\n",
      "list 791 is <class 'list'>\n",
      "list 792 is <class 'list'>\n",
      "list 793 is <class 'list'>\n",
      "list 794 is <class 'list'>\n",
      "list 795 is <class 'list'>\n",
      "list 796 is <class 'list'>\n",
      "list 797 is <class 'list'>\n",
      "list 798 is <class 'list'>\n",
      "list 799 is <class 'list'>\n",
      "list 800 is <class 'list'>\n",
      "list 801 is <class 'list'>\n",
      "list 802 is <class 'list'>\n",
      "list 803 is <class 'list'>\n",
      "list 804 is <class 'list'>\n",
      "list 805 is <class 'list'>\n",
      "list 806 is <class 'list'>\n",
      "list 807 is <class 'list'>\n",
      "list 808 is <class 'list'>\n",
      "list 809 is <class 'list'>\n",
      "list 810 is <class 'list'>\n",
      "list 811 is <class 'list'>\n",
      "list 812 is <class 'list'>\n",
      "list 813 is <class 'list'>\n",
      "list 814 is <class 'list'>\n",
      "list 815 is <class 'list'>\n",
      "list 816 is <class 'list'>\n",
      "list 817 is <class 'list'>\n",
      "list 818 is <class 'list'>\n",
      "list 819 is <class 'list'>\n",
      "list 820 is <class 'list'>\n",
      "list 821 is <class 'list'>\n",
      "list 822 is <class 'list'>\n",
      "list 823 is <class 'list'>\n",
      "list 824 is <class 'list'>\n",
      "list 825 is <class 'list'>\n",
      "list 826 is <class 'list'>\n",
      "list 827 is <class 'list'>\n",
      "list 828 is <class 'list'>\n",
      "list 829 is <class 'list'>\n",
      "list 830 is <class 'list'>\n",
      "list 831 is <class 'list'>\n",
      "list 832 is <class 'list'>\n",
      "list 833 is <class 'list'>\n",
      "list 834 is <class 'list'>\n",
      "list 835 is <class 'list'>\n",
      "list 836 is <class 'list'>\n",
      "list 837 is <class 'list'>\n",
      "list 838 is <class 'list'>\n",
      "list 839 is <class 'list'>\n",
      "list 840 is <class 'list'>\n",
      "list 841 is <class 'list'>\n",
      "list 842 is <class 'list'>\n",
      "list 843 is <class 'list'>\n",
      "list 844 is <class 'list'>\n",
      "list 845 is <class 'list'>\n",
      "list 846 is <class 'list'>\n",
      "list 847 is <class 'list'>\n",
      "list 848 is <class 'list'>\n",
      "list 849 is <class 'list'>\n",
      "list 850 is <class 'list'>\n",
      "list 851 is <class 'list'>\n",
      "list 852 is <class 'list'>\n",
      "list 853 is <class 'list'>\n",
      "list 854 is <class 'list'>\n",
      "list 855 is <class 'list'>\n",
      "list 856 is <class 'list'>\n",
      "list 857 is <class 'list'>\n",
      "list 858 is <class 'list'>\n",
      "list 859 is <class 'list'>\n",
      "list 860 is <class 'list'>\n",
      "list 861 is <class 'list'>\n",
      "list 862 is <class 'list'>\n",
      "list 863 is <class 'list'>\n",
      "list 864 is <class 'list'>\n",
      "list 865 is <class 'list'>\n",
      "list 866 is <class 'list'>\n",
      "list 867 is <class 'list'>\n",
      "list 868 is <class 'list'>\n",
      "list 869 is <class 'list'>\n",
      "list 870 is <class 'list'>\n",
      "list 871 is <class 'list'>\n",
      "list 872 is <class 'list'>\n",
      "list 873 is <class 'list'>\n",
      "list 874 is <class 'list'>\n",
      "list 875 is <class 'list'>\n",
      "list 876 is <class 'list'>\n",
      "list 877 is <class 'list'>\n",
      "list 878 is <class 'list'>\n",
      "list 879 is <class 'list'>\n",
      "list 880 is <class 'list'>\n",
      "list 881 is <class 'list'>\n",
      "list 882 is <class 'list'>\n",
      "list 883 is <class 'list'>\n",
      "list 884 is <class 'list'>\n",
      "list 885 is <class 'list'>\n",
      "list 886 is <class 'list'>\n",
      "list 887 is <class 'list'>\n",
      "list 888 is <class 'list'>\n",
      "list 889 is <class 'list'>\n",
      "list 890 is <class 'list'>\n",
      "list 891 is <class 'list'>\n",
      "list 892 is <class 'list'>\n",
      "list 893 is <class 'list'>\n",
      "list 894 is <class 'list'>\n",
      "list 895 is <class 'list'>\n",
      "list 896 is <class 'list'>\n",
      "list 897 is <class 'list'>\n",
      "list 898 is <class 'list'>\n",
      "list 899 is <class 'list'>\n",
      "list 900 is <class 'list'>\n",
      "list 901 is <class 'list'>\n",
      "list 902 is <class 'list'>\n",
      "list 903 is <class 'list'>\n",
      "list 904 is <class 'list'>\n",
      "list 905 is <class 'list'>\n",
      "list 906 is <class 'list'>\n",
      "list 907 is <class 'list'>\n",
      "list 908 is <class 'list'>\n",
      "list 909 is <class 'list'>\n",
      "list 910 is <class 'list'>\n",
      "list 911 is <class 'list'>\n",
      "list 912 is <class 'list'>\n",
      "list 913 is <class 'list'>\n",
      "list 914 is <class 'list'>\n",
      "list 915 is <class 'list'>\n",
      "list 916 is <class 'list'>\n",
      "list 917 is <class 'list'>\n",
      "list 918 is <class 'list'>\n",
      "list 919 is <class 'list'>\n",
      "list 920 is <class 'list'>\n",
      "list 921 is <class 'list'>\n",
      "list 922 is <class 'list'>\n",
      "list 923 is <class 'list'>\n",
      "list 924 is <class 'list'>\n",
      "list 925 is <class 'list'>\n",
      "list 926 is <class 'list'>\n",
      "list 927 is <class 'list'>\n",
      "list 928 is <class 'list'>\n",
      "list 929 is <class 'list'>\n",
      "list 930 is <class 'list'>\n",
      "list 931 is <class 'list'>\n",
      "list 932 is <class 'list'>\n",
      "list 933 is <class 'list'>\n",
      "list 934 is <class 'list'>\n",
      "list 935 is <class 'list'>\n",
      "list 936 is <class 'list'>\n",
      "list 937 is <class 'list'>\n",
      "list 938 is <class 'list'>\n",
      "list 939 is <class 'list'>\n",
      "list 940 is <class 'list'>\n",
      "list 941 is <class 'list'>\n",
      "list 942 is <class 'list'>\n",
      "list 943 is <class 'list'>\n",
      "list 944 is <class 'list'>\n",
      "list 945 is <class 'list'>\n",
      "list 946 is <class 'list'>\n",
      "list 947 is <class 'list'>\n",
      "list 948 is <class 'list'>\n",
      "list 949 is <class 'list'>\n",
      "list 950 is <class 'list'>\n",
      "list 951 is <class 'list'>\n",
      "list 952 is <class 'list'>\n",
      "list 953 is <class 'list'>\n",
      "list 954 is <class 'list'>\n",
      "list 955 is <class 'list'>\n",
      "list 956 is <class 'list'>\n",
      "list 957 is <class 'list'>\n",
      "list 958 is <class 'list'>\n",
      "list 959 is <class 'list'>\n",
      "list 960 is <class 'list'>\n",
      "list 961 is <class 'list'>\n",
      "list 962 is <class 'list'>\n",
      "list 963 is <class 'list'>\n",
      "list 964 is <class 'list'>\n",
      "list 965 is <class 'list'>\n",
      "list 966 is <class 'list'>\n",
      "list 967 is <class 'list'>\n",
      "list 968 is <class 'list'>\n",
      "list 969 is <class 'list'>\n",
      "list 970 is <class 'list'>\n",
      "list 971 is <class 'list'>\n",
      "list 972 is <class 'list'>\n",
      "list 973 is <class 'list'>\n"
     ]
    }
   ],
   "source": [
    "# because we created the lists with split() they are recognised as list by pandas\n",
    "for i, l in enumerate(aba_posts_labeled[\"author\"]):\n",
    "    print(\"list\",i,\"is\",type(l))"
   ]
  },
  {
   "cell_type": "code",
   "execution_count": 1451,
   "metadata": {},
   "outputs": [
    {
     "data": {
      "text/plain": [
       "author\n",
       "layperson             616\n",
       "aba professional      206\n",
       "parent                 83\n",
       "asd                    46\n",
       "other_professional     42\n",
       "Name: count, dtype: int64"
      ]
     },
     "execution_count": 1451,
     "metadata": {},
     "output_type": "execute_result"
    }
   ],
   "source": [
    "# Count all the labels per category\n",
    "aba_posts_labeled[\"author\"].explode().value_counts()  "
   ]
  },
  {
   "cell_type": "code",
   "execution_count": 1460,
   "metadata": {},
   "outputs": [
    {
     "data": {
      "image/png": "[encoded data removed]",
      "text/plain": [
       "<Figure size 1000x600 with 1 Axes>"
      ]
     },
     "metadata": {},
     "output_type": "display_data"
    }
   ],
   "source": [
    "# Get unique items & counts\n",
    "unique_values = aba_posts_labeled[\"author\"].explode().value_counts().index.tolist()\n",
    "unique_value_counts = aba_posts_labeled[\"author\"].explode().value_counts().values\n",
    "\n",
    "# Create plot\n",
    "fig, ax = plt.subplots(figsize = (10,6))\n",
    "ax.bar(unique_values, unique_value_counts)\n",
    "ax.set_ylabel(\"Frequency\", size = 12)\n",
    "ax.set_title(\"Type of author\", size = 14)\n",
    "plt.show()\n",
    "\n",
    "\n",
    "# data is not balanced\n",
    "# more than half the post do not explicitly state they are a professional, a parents/carer or if they have ASD\n",
    "# more than half the posts come from the general population ( that most likely has not directly experienced ABA, be it as a client or a proveder)"
   ]
  },
  {
   "cell_type": "code",
   "execution_count": 1463,
   "metadata": {},
   "outputs": [],
   "source": [
    "# Create Individual Columns for All Unique Values\n",
    "\n",
    "def boolean_df(item_lists, unique_items):\n",
    "# Create empty dict\n",
    "    bool_dict = {}\n",
    "    \n",
    "    # Loop through all the tags\n",
    "    for i, item in enumerate(unique_items):\n",
    "        \n",
    "        # Apply boolean mask\n",
    "        bool_dict[item] = item_lists.apply(lambda x: item in x)\n",
    "            \n",
    "    # Return the results as a dataframe\n",
    "    return pd.DataFrame(bool_dict)\n"
   ]
  },
  {
   "cell_type": "code",
   "execution_count": 1464,
   "metadata": {},
   "outputs": [],
   "source": [
    "aba_posts_labeled_bool = boolean_df(\n",
    "  item_lists = aba_posts_labeled[\"author\"],\n",
    "  unique_items = unique_values\n",
    ")"
   ]
  },
  {
   "cell_type": "code",
   "execution_count": 1465,
   "metadata": {},
   "outputs": [
    {
     "data": {
      "text/html": [
       "<div>\n",
       "<style scoped>\n",
       "    .dataframe tbody tr th:only-of-type {\n",
       "        vertical-align: middle;\n",
       "    }\n",
       "\n",
       "    .dataframe tbody tr th {\n",
       "        vertical-align: top;\n",
       "    }\n",
       "\n",
       "    .dataframe thead th {\n",
       "        text-align: right;\n",
       "    }\n",
       "</style>\n",
       "<table border=\"1\" class=\"dataframe\">\n",
       "  <thead>\n",
       "    <tr style=\"text-align: right;\">\n",
       "      <th></th>\n",
       "      <th>layperson</th>\n",
       "      <th>aba professional</th>\n",
       "      <th>parent</th>\n",
       "      <th>asd</th>\n",
       "      <th>other_professional</th>\n",
       "    </tr>\n",
       "  </thead>\n",
       "  <tbody>\n",
       "    <tr>\n",
       "      <th>0</th>\n",
       "      <td>True</td>\n",
       "      <td>False</td>\n",
       "      <td>False</td>\n",
       "      <td>False</td>\n",
       "      <td>False</td>\n",
       "    </tr>\n",
       "    <tr>\n",
       "      <th>1</th>\n",
       "      <td>True</td>\n",
       "      <td>False</td>\n",
       "      <td>False</td>\n",
       "      <td>False</td>\n",
       "      <td>False</td>\n",
       "    </tr>\n",
       "    <tr>\n",
       "      <th>2</th>\n",
       "      <td>True</td>\n",
       "      <td>False</td>\n",
       "      <td>False</td>\n",
       "      <td>False</td>\n",
       "      <td>False</td>\n",
       "    </tr>\n",
       "    <tr>\n",
       "      <th>3</th>\n",
       "      <td>False</td>\n",
       "      <td>False</td>\n",
       "      <td>True</td>\n",
       "      <td>False</td>\n",
       "      <td>False</td>\n",
       "    </tr>\n",
       "    <tr>\n",
       "      <th>4</th>\n",
       "      <td>True</td>\n",
       "      <td>False</td>\n",
       "      <td>False</td>\n",
       "      <td>False</td>\n",
       "      <td>False</td>\n",
       "    </tr>\n",
       "  </tbody>\n",
       "</table>\n",
       "</div>"
      ],
      "text/plain": [
       "   layperson  aba professional  parent    asd  other_professional\n",
       "0       True             False   False  False               False\n",
       "1       True             False   False  False               False\n",
       "2       True             False   False  False               False\n",
       "3      False             False    True  False               False\n",
       "4       True             False   False  False               False"
      ]
     },
     "execution_count": 1465,
     "metadata": {},
     "output_type": "execute_result"
    }
   ],
   "source": [
    "aba_posts_labeled_bool.head()"
   ]
  },
  {
   "cell_type": "code",
   "execution_count": 1468,
   "metadata": {},
   "outputs": [
    {
     "name": "stdout",
     "output_type": "stream",
     "text": [
      "<class 'pandas.core.frame.DataFrame'>\n",
      "Index: 974 entries, 0 to 999\n",
      "Data columns (total 7 columns):\n",
      " #   Column              Non-Null Count  Dtype \n",
      "---  ------              --------------  ----- \n",
      " 0   Document            974 non-null    object\n",
      " 1   sentiment           974 non-null    object\n",
      " 2   layperson           974 non-null    bool  \n",
      " 3   aba professional    974 non-null    bool  \n",
      " 4   parent              974 non-null    bool  \n",
      " 5   asd                 974 non-null    bool  \n",
      " 6   other_professional  974 non-null    bool  \n",
      "dtypes: bool(5), object(2)\n",
      "memory usage: 59.9+ KB\n"
     ]
    },
    {
     "data": {
      "text/html": [
       "<div>\n",
       "<style scoped>\n",
       "    .dataframe tbody tr th:only-of-type {\n",
       "        vertical-align: middle;\n",
       "    }\n",
       "\n",
       "    .dataframe tbody tr th {\n",
       "        vertical-align: top;\n",
       "    }\n",
       "\n",
       "    .dataframe thead th {\n",
       "        text-align: right;\n",
       "    }\n",
       "</style>\n",
       "<table border=\"1\" class=\"dataframe\">\n",
       "  <thead>\n",
       "    <tr style=\"text-align: right;\">\n",
       "      <th></th>\n",
       "      <th>Document</th>\n",
       "      <th>sentiment</th>\n",
       "      <th>layperson</th>\n",
       "      <th>aba professional</th>\n",
       "      <th>parent</th>\n",
       "      <th>asd</th>\n",
       "      <th>other_professional</th>\n",
       "    </tr>\n",
       "  </thead>\n",
       "  <tbody>\n",
       "    <tr>\n",
       "      <th>0</th>\n",
       "      <td>Is she in ABA therapy I only ask because my hu...</td>\n",
       "      <td>Neutral</td>\n",
       "      <td>True</td>\n",
       "      <td>False</td>\n",
       "      <td>False</td>\n",
       "      <td>False</td>\n",
       "      <td>False</td>\n",
       "    </tr>\n",
       "    <tr>\n",
       "      <th>1</th>\n",
       "      <td>I heard you are able to ask them questions May...</td>\n",
       "      <td>Neutral</td>\n",
       "      <td>True</td>\n",
       "      <td>False</td>\n",
       "      <td>False</td>\n",
       "      <td>False</td>\n",
       "      <td>False</td>\n",
       "    </tr>\n",
       "    <tr>\n",
       "      <th>2</th>\n",
       "      <td>I agree with that Even dr Lovaas said ABA does...</td>\n",
       "      <td>Pozitive</td>\n",
       "      <td>True</td>\n",
       "      <td>False</td>\n",
       "      <td>False</td>\n",
       "      <td>False</td>\n",
       "      <td>False</td>\n",
       "    </tr>\n",
       "    <tr>\n",
       "      <th>3</th>\n",
       "      <td>Thank you so so much for sharing your experien...</td>\n",
       "      <td>Pozitive</td>\n",
       "      <td>False</td>\n",
       "      <td>False</td>\n",
       "      <td>True</td>\n",
       "      <td>False</td>\n",
       "      <td>False</td>\n",
       "    </tr>\n",
       "    <tr>\n",
       "      <th>4</th>\n",
       "      <td>Thank you that makes a lot of sense Seems pret...</td>\n",
       "      <td>Neutral</td>\n",
       "      <td>True</td>\n",
       "      <td>False</td>\n",
       "      <td>False</td>\n",
       "      <td>False</td>\n",
       "      <td>False</td>\n",
       "    </tr>\n",
       "  </tbody>\n",
       "</table>\n",
       "</div>"
      ],
      "text/plain": [
       "                                            Document sentiment  layperson  \\\n",
       "0  Is she in ABA therapy I only ask because my hu...   Neutral       True   \n",
       "1  I heard you are able to ask them questions May...   Neutral       True   \n",
       "2  I agree with that Even dr Lovaas said ABA does...  Pozitive       True   \n",
       "3  Thank you so so much for sharing your experien...  Pozitive      False   \n",
       "4  Thank you that makes a lot of sense Seems pret...   Neutral       True   \n",
       "\n",
       "   aba professional  parent    asd  other_professional  \n",
       "0             False   False  False               False  \n",
       "1             False   False  False               False  \n",
       "2             False   False  False               False  \n",
       "3             False    True  False               False  \n",
       "4             False   False  False               False  "
      ]
     },
     "execution_count": 1468,
     "metadata": {},
     "output_type": "execute_result"
    }
   ],
   "source": [
    "# join 'Document' and 'sentiment' columns from aba_posts_labeled with aba_posts_labeled_bool\n",
    "aba_posts_labeled_new = pd.concat([aba_posts_labeled[['Document', 'sentiment']], aba_posts_labeled_bool], axis=1)\n",
    "\n",
    "aba_posts_labeled_new.info()\n",
    "aba_posts_labeled_new.head()"
   ]
  },
  {
   "cell_type": "code",
   "execution_count": 1482,
   "metadata": {},
   "outputs": [],
   "source": [
    "# save new dataset on google drive - needed to be imported in colab for running transformer models on GPU\n",
    "aba_posts_labeled_new.to_csv('/Users/andreeanistor/Google Drive/My Drive/MS_DS_NLP_project/aba_posts_labeled_cleaned.csv', index=False)"
   ]
  },
  {
   "cell_type": "markdown",
   "metadata": {},
   "source": [
    "## Deep learning - SiEBERT\n",
    "https://huggingface.co/siebert/sentiment-roberta-large-english\n",
    "\n",
    "code on google colab -> needs bigger GPU than locally available\n",
    "\n"
   ]
  },
  {
   "cell_type": "markdown",
   "metadata": {},
   "source": [
    "According to Hartmann et al (2023) transfer learning ( used mostly in  NLP with predtrained LLMs based on transformer architecture) produces generally the best results ( around 80% accuracy when dealing with 3 classes).\n",
    "\n",
    "Also according to the authors cited above, when fine-tuning SiEBERT on a new three-class sentiment dataset (sentiment140) with as little as 400 training examples, it reaches a classification accuracy of 68:37% after only 1 epoch of training.\n",
    "\n",
    "\n",
    "<small>Hartmann, J., Heitmann, M., Siebert, C., & Schamp, C. (2023). \"More than a Feeling: Accuracy and Application of Sentiment Analysis.\" International Journal of Research in Marketing, 40, 75–87.</small>\n",
    "\n",
    "<img src=\"flowcharts_diagrams/Hartmann et al_2023_decision_diagram.png\" alt=\"text sentiment/clasiffication decission diagram\">\n"
   ]
  },
  {
   "cell_type": "markdown",
   "metadata": {},
   "source": [
    "## Traditional Machine Learning \n",
    "As sentiment analysis is a text classification problem ( in our case 3 classes ) we can use traditional text clasification algorithms like Naive Bayes, SVM or KNN.\n",
    "\n",
    "Pipeline for NLP:\n",
    "\n",
    "1. get data -> (use the dataset generated above: /Users/andreeanistor/Google Drive/My Drive/MS_DS_NLP_project/aba_posts_labeled_cleaned.csv)\n",
    "2. text extraction and cleanup - text cleaned previously (before the topic modeling step)\n",
    "3. pre-processing: \n",
    "    -   3.1 split text into tokens/words (=sentence segmentation/ tokanisation NLTK or Spcy or AutoTokenizer if using transformers) \n",
    "    -   3.2 stemming (=remove prefixes and sufixes) and lemmatization (=get the base word - ext ate becomes (to)eat)\n",
    "4. feature engineering (= convert text / document into vector) count-vector, tf-idf or one-hot encode - not really used due to size and sparcity problems word/token-emebeding\n",
    "5. apply classifier ( any machine learning model classifier ) - use gridSearchCV to see which is the best performing classifier.\n",
    "6. evaluate model: Accuracy, Precision, Recall, F1 score ( if not good , go back to preprocessing step ) - > the current project will stop after this step \n",
    "7. Deploy (will not be implemented)\n",
    "8. Monitor and update (will not be implemented)"
   ]
  },
  {
   "cell_type": "code",
   "execution_count": 1483,
   "metadata": {},
   "outputs": [
    {
     "name": "stdout",
     "output_type": "stream",
     "text": [
      "<class 'pandas.core.frame.DataFrame'>\n",
      "RangeIndex: 974 entries, 0 to 973\n",
      "Data columns (total 7 columns):\n",
      " #   Column              Non-Null Count  Dtype \n",
      "---  ------              --------------  ----- \n",
      " 0   Document            974 non-null    object\n",
      " 1   sentiment           974 non-null    object\n",
      " 2   layperson           974 non-null    bool  \n",
      " 3   aba professional    974 non-null    bool  \n",
      " 4   parent              974 non-null    bool  \n",
      " 5   asd                 974 non-null    bool  \n",
      " 6   other_professional  974 non-null    bool  \n",
      "dtypes: bool(5), object(2)\n",
      "memory usage: 20.1+ KB\n"
     ]
    }
   ],
   "source": [
    "aba_posts_labeled_cleaned = pd.read_csv('/Users/andreeanistor/Google Drive/My Drive/MS_DS_NLP_project/aba_posts_labeled_cleaned.csv')\n",
    "aba_posts_labeled_cleaned.info() \n",
    "\n",
    "# no missing data \n",
    "# # columns to use in sentiment analisys = document (predictors - X) and sentiment(target -y)"
   ]
  },
  {
   "cell_type": "code",
   "execution_count": 1484,
   "metadata": {},
   "outputs": [
    {
     "name": "stdout",
     "output_type": "stream",
     "text": [
      "<class 'pandas.core.frame.DataFrame'>\n",
      "RangeIndex: 974 entries, 0 to 973\n",
      "Data columns (total 2 columns):\n",
      " #   Column     Non-Null Count  Dtype \n",
      "---  ------     --------------  ----- \n",
      " 0   Document   974 non-null    object\n",
      " 1   sentiment  974 non-null    object\n",
      "dtypes: object(2)\n",
      "memory usage: 15.3+ KB\n"
     ]
    }
   ],
   "source": [
    "# select from the dataset only the text features neccesary for text clasififcation - sentiment analysis\n",
    "# Features: Document and sentiment \n",
    "aba_posts_sentiment = aba_posts_labeled_cleaned[['Document', 'sentiment']]\n",
    "aba_posts_sentiment.info()"
   ]
  },
  {
   "cell_type": "code",
   "execution_count": 1490,
   "metadata": {},
   "outputs": [
    {
     "data": {
      "text/html": [
       "<div>\n",
       "<style scoped>\n",
       "    .dataframe tbody tr th:only-of-type {\n",
       "        vertical-align: middle;\n",
       "    }\n",
       "\n",
       "    .dataframe tbody tr th {\n",
       "        vertical-align: top;\n",
       "    }\n",
       "\n",
       "    .dataframe thead th {\n",
       "        text-align: right;\n",
       "    }\n",
       "</style>\n",
       "<table border=\"1\" class=\"dataframe\">\n",
       "  <thead>\n",
       "    <tr style=\"text-align: right;\">\n",
       "      <th></th>\n",
       "      <th>Document</th>\n",
       "      <th>sentiment</th>\n",
       "    </tr>\n",
       "  </thead>\n",
       "  <tbody>\n",
       "    <tr>\n",
       "      <th>0</th>\n",
       "      <td>Is she in ABA therapy I only ask because my hu...</td>\n",
       "      <td>Neutral</td>\n",
       "    </tr>\n",
       "    <tr>\n",
       "      <th>1</th>\n",
       "      <td>I heard you are able to ask them questions May...</td>\n",
       "      <td>Neutral</td>\n",
       "    </tr>\n",
       "    <tr>\n",
       "      <th>2</th>\n",
       "      <td>I agree with that Even dr Lovaas said ABA does...</td>\n",
       "      <td>Pozitive</td>\n",
       "    </tr>\n",
       "  </tbody>\n",
       "</table>\n",
       "</div>"
      ],
      "text/plain": [
       "                                            Document sentiment\n",
       "0  Is she in ABA therapy I only ask because my hu...   Neutral\n",
       "1  I heard you are able to ask them questions May...   Neutral\n",
       "2  I agree with that Even dr Lovaas said ABA does...  Pozitive"
      ]
     },
     "execution_count": 1490,
     "metadata": {},
     "output_type": "execute_result"
    }
   ],
   "source": [
    "aba_posts_sentiment.head(3)"
   ]
  },
  {
   "cell_type": "code",
   "execution_count": 1493,
   "metadata": {},
   "outputs": [
    {
     "data": {
      "image/png": "[encoded data removed]",
      "text/plain": [
       "<Figure size 640x480 with 1 Axes>"
      ]
     },
     "metadata": {},
     "output_type": "display_data"
    }
   ],
   "source": [
    "# plot sentiment\n",
    "sentiment_counts = aba_posts_sentiment['sentiment'].value_counts()\n",
    "sentiment_counts.plot(kind='bar', color='skyblue')\n",
    "plt.title('Sentiment Distribution')\n",
    "plt.xlabel('Sentiment')\n",
    "plt.ylabel('Number of posts')\n",
    "plt.show()\n",
    "\n",
    "\n",
    "# data is unbalanced \n",
    "# several ways to deal with this:\n",
    "#  - resampling methods\n",
    "#  - use ensemble methods (like Random Forests or Gradient Boosting)\n",
    "\n",
    "# how to deal with unbalanced data in classification ML\n",
    "# https://www.analyticsvidhya.com/blog/2020/07/10-techniques-to-deal-with-class-imbalance-in-machine-learning/"
   ]
  },
  {
   "cell_type": "code",
   "execution_count": 1495,
   "metadata": {},
   "outputs": [],
   "source": [
    "import numpy as np\n",
    "from sklearn.ensemble import RandomForestClassifier\n",
    "from sklearn.model_selection import train_test_split\n",
    "from sklearn.metrics import classification_report"
   ]
  },
  {
   "cell_type": "code",
   "execution_count": 1545,
   "metadata": {},
   "outputs": [],
   "source": [
    "X, y = aba_posts_sentiment[['Document']], aba_posts_sentiment[['sentiment']]\n",
    "\n",
    "# Split the data into training and testing sets\n",
    "# because the dataset is small, cross validation will be used instead of a separate validation set\n",
    "# this will increase computational resources neccesary\n",
    "X_train, X_test, y_train, y_test = train_test_split(X, y, test_size=0.2, random_state=7, stratify=y)\n"
   ]
  },
  {
   "cell_type": "code",
   "execution_count": 1546,
   "metadata": {},
   "outputs": [
    {
     "data": {
      "text/plain": [
       "((779, 1), (195, 1), (779, 1), (195, 1))"
      ]
     },
     "execution_count": 1546,
     "metadata": {},
     "output_type": "execute_result"
    }
   ],
   "source": [
    "X_train.shape, X_test.shape, y_train.shape, y_test.shape\n",
    "\n",
    "# training set contains 779 rows / text documents  \n",
    "# (this is a very small dataset for NLP; i don't expect good performance with traditional ML)\n",
    "# test set contains 195 rows"
   ]
  },
  {
   "cell_type": "code",
   "execution_count": 1547,
   "metadata": {},
   "outputs": [
    {
     "name": "stdout",
     "output_type": "stream",
     "text": [
      "y_train:\n",
      " sentiment\n",
      "Neutral      497\n",
      "Negative     177\n",
      "Pozitive     105\n",
      "Name: count, dtype: int64 \n",
      "\n",
      "y_test:\n",
      " sentiment\n",
      "Neutral      124\n",
      "Negative      45\n",
      "Pozitive      26\n",
      "Name: count, dtype: int64\n"
     ]
    }
   ],
   "source": [
    "print('y_train:\\n', y_train.value_counts(), '\\n')\n",
    "print('y_test:\\n', y_test.value_counts())\n",
    "\n",
    "# classes are unbalanced - accuracy will not be a good metric for evaluation\n",
    "# evaluate using precision, recall and F1 (define these metrics in the actual report)"
   ]
  },
  {
   "cell_type": "code",
   "execution_count": 1543,
   "metadata": {},
   "outputs": [],
   "source": [
    "%%capture\n",
    "%pip install imblearn"
   ]
  },
  {
   "cell_type": "code",
   "execution_count": 1590,
   "metadata": {},
   "outputs": [
    {
     "name": "stdout",
     "output_type": "stream",
     "text": [
      "Original dataset shape Counter({'sentiment': 1})\n",
      "Resample dataset shape Counter({'sentiment': 1})\n"
     ]
    }
   ],
   "source": [
    "# use oversmalpling ( https://www.analyticsvidhya.com/blog/2020/07/10-techniques-to-deal-with-class-imbalance-in-machine-learning/)\n",
    "# dataset is small and loosing info will not help ( thus no undersampling)\n",
    "# oversampling risks overfitting ( but so does undersampling -> thus a limitiation of the data set )\n",
    "from collections import Counter\n",
    "from imblearn.over_sampling import RandomOverSampler\n",
    "\n",
    "ros = RandomOverSampler(random_state=42)\n",
    "x_ros, y_ros = ros.fit_resample(X_train, y_train)\n",
    "\n",
    "print('Original dataset shape', Counter(y))\n",
    "print('Resample dataset shape', Counter(y_ros))"
   ]
  },
  {
   "cell_type": "code",
   "execution_count": 1591,
   "metadata": {},
   "outputs": [
    {
     "data": {
      "text/plain": [
       "((1491, 1), (1491, 1))"
      ]
     },
     "execution_count": 1591,
     "metadata": {},
     "output_type": "execute_result"
    }
   ],
   "source": [
    "x_ros.shape, y_ros.shape"
   ]
  },
  {
   "cell_type": "code",
   "execution_count": 1592,
   "metadata": {},
   "outputs": [
    {
     "data": {
      "text/plain": [
       "sentiment\n",
       "Negative     497\n",
       "Neutral      497\n",
       "Pozitive     497\n",
       "Name: count, dtype: int64"
      ]
     },
     "execution_count": 1592,
     "metadata": {},
     "output_type": "execute_result"
    }
   ],
   "source": [
    "y_ros.value_counts()\n",
    "# this training data is now balanced \n",
    "# 497 rows/documents for each category / sentiment class"
   ]
  },
  {
   "cell_type": "markdown",
   "metadata": {},
   "source": [
    "### Tokenize with SpaCy \n",
    "\n",
    "(explain what SpaCy is in the report)"
   ]
  },
  {
   "cell_type": "code",
   "execution_count": 1555,
   "metadata": {},
   "outputs": [],
   "source": [
    "%%capture\n",
    "%pip install -U pip setuptools wheel\n",
    "%pip install -U spacy"
   ]
  },
  {
   "cell_type": "code",
   "execution_count": 1556,
   "metadata": {},
   "outputs": [
    {
     "name": "stdout",
     "output_type": "stream",
     "text": [
      "Name: spacy\n",
      "Version: 3.7.2\n",
      "Summary: Industrial-strength Natural Language Processing (NLP) in Python\n",
      "Home-page: https://spacy.io\n",
      "Author: Explosion\n",
      "Author-email: contact@explosion.ai\n",
      "License: MIT\n",
      "Location: /Library/Frameworks/Python.framework/Versions/3.10/lib/python3.10/site-packages\n",
      "Requires: catalogue, cymem, jinja2, langcodes, murmurhash, numpy, packaging, preshed, pydantic, requests, setuptools, smart-open, spacy-legacy, spacy-loggers, srsly, thinc, tqdm, typer, wasabi, weasel\n",
      "Required-by: en-core-web-lg, en-core-web-md, en-core-web-sm\n",
      "Note: you may need to restart the kernel to use updated packages.\n"
     ]
    }
   ],
   "source": [
    "%pip show spacy"
   ]
  },
  {
   "cell_type": "code",
   "execution_count": 1557,
   "metadata": {},
   "outputs": [],
   "source": [
    "import spacy"
   ]
  },
  {
   "cell_type": "code",
   "execution_count": 1558,
   "metadata": {},
   "outputs": [],
   "source": [
    "%%capture\n",
    "!python3 -m spacy download en_core_web_sm # uses the small spacy model due to computation limitiations"
   ]
  },
  {
   "cell_type": "code",
   "execution_count": 1559,
   "metadata": {},
   "outputs": [],
   "source": [
    "nlp = spacy.load('en_core_web_sm')"
   ]
  },
  {
   "cell_type": "code",
   "execution_count": 1609,
   "metadata": {},
   "outputs": [
    {
     "data": {
      "text/html": [
       "<div>\n",
       "<style scoped>\n",
       "    .dataframe tbody tr th:only-of-type {\n",
       "        vertical-align: middle;\n",
       "    }\n",
       "\n",
       "    .dataframe tbody tr th {\n",
       "        vertical-align: top;\n",
       "    }\n",
       "\n",
       "    .dataframe thead th {\n",
       "        text-align: right;\n",
       "    }\n",
       "</style>\n",
       "<table border=\"1\" class=\"dataframe\">\n",
       "  <thead>\n",
       "    <tr style=\"text-align: right;\">\n",
       "      <th></th>\n",
       "      <th>Document</th>\n",
       "    </tr>\n",
       "  </thead>\n",
       "  <tbody>\n",
       "    <tr>\n",
       "      <th>0</th>\n",
       "      <td>Well that s a weird thing about it even being ...</td>\n",
       "    </tr>\n",
       "    <tr>\n",
       "      <th>1</th>\n",
       "      <td>Right I m getting that now as an RBT I have ol...</td>\n",
       "    </tr>\n",
       "    <tr>\n",
       "      <th>2</th>\n",
       "      <td>i ve been in the field a few years it will def...</td>\n",
       "    </tr>\n",
       "  </tbody>\n",
       "</table>\n",
       "</div>"
      ],
      "text/plain": [
       "                                            Document\n",
       "0  Well that s a weird thing about it even being ...\n",
       "1  Right I m getting that now as an RBT I have ol...\n",
       "2  i ve been in the field a few years it will def..."
      ]
     },
     "execution_count": 1609,
     "metadata": {},
     "output_type": "execute_result"
    }
   ],
   "source": [
    "x_ros.head(3)"
   ]
  },
  {
   "cell_type": "code",
   "execution_count": 1610,
   "metadata": {},
   "outputs": [],
   "source": [
    "# text is already cleaned - also keep all stopwords as these can be relevat to sentiment classification\n",
    "# for ex the stop word 'not' or \"don't\"\n",
    "# lemmatize tokens\n",
    "def preprocess_lem(text):\n",
    "    doc= nlp(text)\n",
    "    new_text = []\n",
    "    for t in doc:\n",
    "        new_text.append(t.lemma_)\n",
    "    return ' '.join(new_text)"
   ]
  },
  {
   "cell_type": "code",
   "execution_count": 1611,
   "metadata": {},
   "outputs": [
    {
     "data": {
      "text/html": [
       "<div>\n",
       "<style scoped>\n",
       "    .dataframe tbody tr th:only-of-type {\n",
       "        vertical-align: middle;\n",
       "    }\n",
       "\n",
       "    .dataframe tbody tr th {\n",
       "        vertical-align: top;\n",
       "    }\n",
       "\n",
       "    .dataframe thead th {\n",
       "        text-align: right;\n",
       "    }\n",
       "</style>\n",
       "<table border=\"1\" class=\"dataframe\">\n",
       "  <thead>\n",
       "    <tr style=\"text-align: right;\">\n",
       "      <th></th>\n",
       "      <th>Document</th>\n",
       "      <th>new_document</th>\n",
       "    </tr>\n",
       "  </thead>\n",
       "  <tbody>\n",
       "    <tr>\n",
       "      <th>0</th>\n",
       "      <td>Well that s a weird thing about it even being ...</td>\n",
       "      <td>well that s a weird thing about it even be cal...</td>\n",
       "    </tr>\n",
       "    <tr>\n",
       "      <th>1</th>\n",
       "      <td>Right I m getting that now as an RBT I have ol...</td>\n",
       "      <td>right I m get that now as an RBT I have older ...</td>\n",
       "    </tr>\n",
       "    <tr>\n",
       "      <th>2</th>\n",
       "      <td>i ve been in the field a few years it will def...</td>\n",
       "      <td>I ve be in the field a few year it will defini...</td>\n",
       "    </tr>\n",
       "  </tbody>\n",
       "</table>\n",
       "</div>"
      ],
      "text/plain": [
       "                                            Document  \\\n",
       "0  Well that s a weird thing about it even being ...   \n",
       "1  Right I m getting that now as an RBT I have ol...   \n",
       "2  i ve been in the field a few years it will def...   \n",
       "\n",
       "                                        new_document  \n",
       "0  well that s a weird thing about it even be cal...  \n",
       "1  right I m get that now as an RBT I have older ...  \n",
       "2  I ve be in the field a few year it will defini...  "
      ]
     },
     "execution_count": 1611,
     "metadata": {},
     "output_type": "execute_result"
    }
   ],
   "source": [
    "# pre-process traning set \n",
    "x_ros.loc[:, 'new_document'] = x_ros['Document'].apply(preprocess_lem)\n",
    "x_ros.head(3)"
   ]
  },
  {
   "cell_type": "code",
   "execution_count": 1612,
   "metadata": {},
   "outputs": [
    {
     "name": "stdout",
     "output_type": "stream",
     "text": [
      "['Well', 'that', 's', 'a', 'weird', 'thing', 'about', 'it', 'even', 'being', 'called', 'ABA', 'it', 's', 'not', 'a', 'packaged', 'therapy', 'It', 's', 'an', 'analysis', 'of', 'behavior', 'we', 'look', 'for', 'maintaining', 'variables', 'of', 'problem', 'behaviors', 'and', 'there', 's', 'a', 'ton', 'of', 'different', 'ways', 'to', 'do', 'that', 'and', 'treat', 'much', 'like', 'mental', 'health', 'therapy', 'There', 'is', 'no', 'ABA', 'you', 'can', 'have', 'discrete', 'trial', 'training', 'naturalistic', 'environment', 'teaching', 'behavioral', 'skills', 'training', 'which', 'all', 'I', 'think', 'the', 'Lovaas', 'method', 'is', 'usually', 'what', 'a', 'lot', 'of', 'people', 'are', 'referring', 'to', 'as', 'awful', 'intensive', 'hours', 'a', 'week', 'at', 'the', 'table', 'with', 'lots', 'of', 'correction', 'but', 'for', 'some', 'reason', 'that', 'was', 'called', 'ABA', 'even', 'though', 'I', 'was', 'never', 'trained', 'in', 'that', 'nor', 'do', 'I', 'know', 'a', 'lot', 'of', 'practitioners', 'who', 'do', 'so', 'Unfortunately', 'there', 's', 'still', 'an', 'impression', 'that', 'this', 'is', 'what', 'ABA', 'is', 'so', 'while', 'I', 'try', 'not', 'to', 'discount', 'autistic', 'individuals', 'lived', 'experiences', 'I', 'also', 'want', 'to', 'point', 'out', 'the', 'misconceptions', 'that', 'ABA', 'focuses', 'on', 'only', 'problem', 'behavior', 'or', 'that', 'ABA', 'seeks', 'to', 'eradicate', 'autism', 'The', 'goal', 'of', 'ABA', 'applied', 'behavior', 'analysis', 'was', 'to', 'apply', 'scientific', 'behavior', 'change', 'tactics', 'to', 'increase', 'socially', 'significant', 'behaviors', 'the', 'applied', 'part', 'Teaching', 'individuals', 'with', 'intellectual', 'and', 'developmental', 'disabilities', 'was', 'part', 'of', 'that', 'because', 'historically', 'these', 'individuals', 'were', 'institutionalized', 'and', 'ignored', 'Myself', 'and', 'others', 'aren', 't', 'focused', 'in', 'autism', 'specifically', 'other', 'areas', 'are', 'education', 'corporate', 'businesses', 'animal', 'training', 'safety', 'but', 'we', 'don', 't', 'market', 'ourselves', 'as', 'doing', 'ABA', 'because', 'somehow', 'the', 'term', 'became', 'so', 'synonymous', 'with', 'autism', 'treatment', 'which', 'of', 'course', 'contributes', 'to', 'the', 'issue', 'I', 'do', 'agree', 'a', 'name', 'change', 'would', 'be', 'beneficial', 'and', 'help', 'easily', 'convey', 'the', 'differences', 'but', 'I', 'can', 't', 'see', 'it', 'happening', 'any', 'time', 'soon']\n",
      "['well', 'that', 's', 'a', 'weird', 'thing', 'about', 'it', 'even', 'be', 'call', 'ABA', 'it', 's', 'not', 'a', 'package', 'therapy', 'it', 's', 'an', 'analysis', 'of', 'behavior', 'we', 'look', 'for', 'maintain', 'variable', 'of', 'problem', 'behavior', 'and', 'there', 's', 'a', 'ton', 'of', 'different', 'way', 'to', 'do', 'that', 'and', 'treat', 'much', 'like', 'mental', 'health', 'therapy', 'there', 'be', 'no', 'ABA', 'you', 'can', 'have', 'discrete', 'trial', 'training', 'naturalistic', 'environment', 'teach', 'behavioral', 'skill', 'training', 'which', 'all', 'I', 'think', 'the', 'lovaas', 'method', 'be', 'usually', 'what', 'a', 'lot', 'of', 'people', 'be', 'refer', 'to', 'as', 'awful', 'intensive', 'hour', 'a', 'week', 'at', 'the', 'table', 'with', 'lot', 'of', 'correction', 'but', 'for', 'some', 'reason', 'that', 'be', 'call', 'ABA', 'even', 'though', 'I', 'be', 'never', 'train', 'in', 'that', 'nor', 'do', 'I', 'know', 'a', 'lot', 'of', 'practitioner', 'who', 'do', 'so', 'unfortunately', 'there', 's', 'still', 'an', 'impression', 'that', 'this', 'be', 'what', 'ABA', 'be', 'so', 'while', 'I', 'try', 'not', 'to', 'discount', 'autistic', 'individual', 'live', 'experience', 'I', 'also', 'want', 'to', 'point', 'out', 'the', 'misconception', 'that', 'ABA', 'focus', 'on', 'only', 'problem', 'behavior', 'or', 'that', 'ABA', 'seek', 'to', 'eradicate', 'autism', 'the', 'goal', 'of', 'ABA', 'apply', 'behavior', 'analysis', 'be', 'to', 'apply', 'scientific', 'behavior', 'change', 'tactic', 'to', 'increase', 'socially', 'significant', 'behavior', 'the', 'apply', 'part', 'teach', 'individual', 'with', 'intellectual', 'and', 'developmental', 'disability', 'be', 'part', 'of', 'that', 'because', 'historically', 'these', 'individual', 'be', 'institutionalize', 'and', 'ignore', 'myself', 'and', 'other', 'aren', 't', 'focus', 'in', 'autism', 'specifically', 'other', 'area', 'be', 'education', 'corporate', 'business', 'animal', 'training', 'safety', 'but', 'we', 'don', 't', 'market', 'ourselves', 'as', 'do', 'ABA', 'because', 'somehow', 'the', 'term', 'become', 'so', 'synonymous', 'with', 'autism', 'treatment', 'which', 'of', 'course', 'contribute', 'to', 'the', 'issue', 'I', 'do', 'agree', 'a', 'name', 'change', 'would', 'be', 'beneficial', 'and', 'help', 'easily', 'convey', 'the', 'difference', 'but', 'I', 'can', 't', 'see', 'it', 'happen', 'any', 'time', 'soon']\n"
     ]
    }
   ],
   "source": [
    "# difference in text before and after preprocessing\n",
    "doc_text = nlp(x_ros.Document[0])\n",
    "doc_new_text = nlp(x_ros.new_document[0])\n",
    "print([t.text for t in doc_text])\n",
    "print([t.text for t in doc_new_text])"
   ]
  },
  {
   "cell_type": "markdown",
   "metadata": {},
   "source": [
    "### Vectorize, Apply Classifier and Evaluate the model - uses sklearn"
   ]
  },
  {
   "cell_type": "code",
   "execution_count": 1617,
   "metadata": {},
   "outputs": [
    {
     "data": {
      "text/plain": [
       "((1491,), (1491,))"
      ]
     },
     "execution_count": 1617,
     "metadata": {},
     "output_type": "execute_result"
    }
   ],
   "source": [
    "# training data\n",
    "x_ros.new_document.shape, y_ros['sentiment'].shape"
   ]
  },
  {
   "cell_type": "code",
   "execution_count": 1619,
   "metadata": {},
   "outputs": [
    {
     "data": {
      "text/html": [
       "<div>\n",
       "<style scoped>\n",
       "    .dataframe tbody tr th:only-of-type {\n",
       "        vertical-align: middle;\n",
       "    }\n",
       "\n",
       "    .dataframe tbody tr th {\n",
       "        vertical-align: top;\n",
       "    }\n",
       "\n",
       "    .dataframe thead th {\n",
       "        text-align: right;\n",
       "    }\n",
       "</style>\n",
       "<table border=\"1\" class=\"dataframe\">\n",
       "  <thead>\n",
       "    <tr style=\"text-align: right;\">\n",
       "      <th></th>\n",
       "      <th>sentiment</th>\n",
       "    </tr>\n",
       "  </thead>\n",
       "  <tbody>\n",
       "    <tr>\n",
       "      <th>0</th>\n",
       "      <td>Pozitive</td>\n",
       "    </tr>\n",
       "    <tr>\n",
       "      <th>1</th>\n",
       "      <td>Neutral</td>\n",
       "    </tr>\n",
       "    <tr>\n",
       "      <th>2</th>\n",
       "      <td>Neutral</td>\n",
       "    </tr>\n",
       "  </tbody>\n",
       "</table>\n",
       "</div>"
      ],
      "text/plain": [
       "  sentiment\n",
       "0  Pozitive\n",
       "1   Neutral\n",
       "2   Neutral"
      ]
     },
     "execution_count": 1619,
     "metadata": {},
     "output_type": "execute_result"
    }
   ],
   "source": [
    "y_ros.head(3) # classes need to be converted into numerical value"
   ]
  },
  {
   "cell_type": "markdown",
   "metadata": {},
   "source": [
    "The current problem is a multiclass classification problem - there are 3 classes for the target variable.\n",
    "When the data can be categorized into more than two classes, we must use a multiclass classification algorithm.\n",
    "\n",
    "Multiclass classification can be thought of as a combination of multiple binary classifiers. There are two ways in which you approach the problem:\n",
    "\n",
    "1. One vs Rest (OVR), in which a classifier is created for each possible class value, with a positive outcome for cases where the prediction is this class, and negative predictions for cases where the prediction is any other class. A classification problem with four possible shape classes (square, circle, triangle, hexagon) would require four classifiers that predict:\n",
    "\n",
    "- square or not\n",
    "- circle or not\n",
    "- triangle or not\n",
    "- hexagon or not\n",
    "\n",
    "2. One vs One (OVO), in which a classifier for each possible pair of classes is created. The classification problem with four shape classes would require the following binary classifiers:\n",
    "\n",
    "- square or circle\n",
    "- square or triangle\n",
    "- square or hexagon\n",
    "- circle or triangle\n",
    "- circle or hexagon\n",
    "- triangle or hexagon In both approaches, the overall model that combines the classifiers generates a vector of predictions in which the probabilities generated from the individual binary classifiers are used to determine which class to predict.\n",
    "\n",
    "Fortunately, in most machine learning frameworks, including scikit-learn, implementing a multiclass classification model is not significantly more complex than binary classification - and in most cases, the estimators used for binary classification implicitly support multiclass classification by abstracting an OVR algorithm, an OVO algorithm, or by allowing a choice of either.\n",
    "\n",
    "(https://www.kaggle.com/code/satishgunjal/binary-multiclass-classification-using-sklearn)"
   ]
  },
  {
   "cell_type": "code",
   "execution_count": 1731,
   "metadata": {},
   "outputs": [
    {
     "data": {
      "text/plain": [
       "(1491, 1000)"
      ]
     },
     "execution_count": 1731,
     "metadata": {},
     "output_type": "execute_result"
    }
   ],
   "source": [
    "# vectorize docuemnts using TF-DF\n",
    "from sklearn.feature_extraction.text import TfidfVectorizer\n",
    "\n",
    "\n",
    "vectorizer = TfidfVectorizer(max_features=1000) # the vectorizer will only consider the top 1000 terms with the highest TF-IDF scores ( otherwise the dimentionality would be too high; also this way the most important words - freqency - will be used => noise reduction)\n",
    "corpus = x_ros.new_document.tolist()\n",
    "\n",
    "vectorized_x_ros = vectorizer.fit_transform(corpus)\n",
    "vectorized_x_ros.shape\n",
    "\n",
    "# docuement vector = 4763 dimentsions \n"
   ]
  },
  {
   "cell_type": "code",
   "execution_count": 1732,
   "metadata": {},
   "outputs": [
    {
     "data": {
      "text/html": [
       "<div>\n",
       "<style scoped>\n",
       "    .dataframe tbody tr th:only-of-type {\n",
       "        vertical-align: middle;\n",
       "    }\n",
       "\n",
       "    .dataframe tbody tr th {\n",
       "        vertical-align: top;\n",
       "    }\n",
       "\n",
       "    .dataframe thead th {\n",
       "        text-align: right;\n",
       "    }\n",
       "</style>\n",
       "<table border=\"1\" class=\"dataframe\">\n",
       "  <thead>\n",
       "    <tr style=\"text-align: right;\">\n",
       "      <th></th>\n",
       "      <th>aac</th>\n",
       "      <th>aba</th>\n",
       "      <th>able</th>\n",
       "      <th>ableism</th>\n",
       "      <th>ableist</th>\n",
       "      <th>about</th>\n",
       "      <th>above</th>\n",
       "      <th>absolutely</th>\n",
       "      <th>abuse</th>\n",
       "      <th>abusive</th>\n",
       "      <th>...</th>\n",
       "      <th>www</th>\n",
       "      <th>yeah</th>\n",
       "      <th>year</th>\n",
       "      <th>yes</th>\n",
       "      <th>yet</th>\n",
       "      <th>yo</th>\n",
       "      <th>you</th>\n",
       "      <th>young</th>\n",
       "      <th>your</th>\n",
       "      <th>yourself</th>\n",
       "    </tr>\n",
       "  </thead>\n",
       "  <tbody>\n",
       "    <tr>\n",
       "      <th>0</th>\n",
       "      <td>0.0</td>\n",
       "      <td>0.149381</td>\n",
       "      <td>0.000000</td>\n",
       "      <td>0.0</td>\n",
       "      <td>0.0</td>\n",
       "      <td>0.034590</td>\n",
       "      <td>0.0</td>\n",
       "      <td>0.000000</td>\n",
       "      <td>0.0</td>\n",
       "      <td>0.0</td>\n",
       "      <td>...</td>\n",
       "      <td>0.0</td>\n",
       "      <td>0.0</td>\n",
       "      <td>0.000000</td>\n",
       "      <td>0.0</td>\n",
       "      <td>0.0</td>\n",
       "      <td>0.0</td>\n",
       "      <td>0.027465</td>\n",
       "      <td>0.0</td>\n",
       "      <td>0.000000</td>\n",
       "      <td>0.0</td>\n",
       "    </tr>\n",
       "    <tr>\n",
       "      <th>1</th>\n",
       "      <td>0.0</td>\n",
       "      <td>0.048753</td>\n",
       "      <td>0.000000</td>\n",
       "      <td>0.0</td>\n",
       "      <td>0.0</td>\n",
       "      <td>0.000000</td>\n",
       "      <td>0.0</td>\n",
       "      <td>0.000000</td>\n",
       "      <td>0.0</td>\n",
       "      <td>0.0</td>\n",
       "      <td>...</td>\n",
       "      <td>0.0</td>\n",
       "      <td>0.0</td>\n",
       "      <td>0.000000</td>\n",
       "      <td>0.0</td>\n",
       "      <td>0.0</td>\n",
       "      <td>0.0</td>\n",
       "      <td>0.000000</td>\n",
       "      <td>0.0</td>\n",
       "      <td>0.000000</td>\n",
       "      <td>0.0</td>\n",
       "    </tr>\n",
       "    <tr>\n",
       "      <th>2</th>\n",
       "      <td>0.0</td>\n",
       "      <td>0.025845</td>\n",
       "      <td>0.000000</td>\n",
       "      <td>0.0</td>\n",
       "      <td>0.0</td>\n",
       "      <td>0.047876</td>\n",
       "      <td>0.0</td>\n",
       "      <td>0.089835</td>\n",
       "      <td>0.0</td>\n",
       "      <td>0.0</td>\n",
       "      <td>...</td>\n",
       "      <td>0.0</td>\n",
       "      <td>0.0</td>\n",
       "      <td>0.124431</td>\n",
       "      <td>0.0</td>\n",
       "      <td>0.0</td>\n",
       "      <td>0.0</td>\n",
       "      <td>0.076028</td>\n",
       "      <td>0.0</td>\n",
       "      <td>0.054406</td>\n",
       "      <td>0.0</td>\n",
       "    </tr>\n",
       "    <tr>\n",
       "      <th>3</th>\n",
       "      <td>0.0</td>\n",
       "      <td>0.055261</td>\n",
       "      <td>0.102473</td>\n",
       "      <td>0.0</td>\n",
       "      <td>0.0</td>\n",
       "      <td>0.020474</td>\n",
       "      <td>0.0</td>\n",
       "      <td>0.000000</td>\n",
       "      <td>0.0</td>\n",
       "      <td>0.0</td>\n",
       "      <td>...</td>\n",
       "      <td>0.0</td>\n",
       "      <td>0.0</td>\n",
       "      <td>0.106425</td>\n",
       "      <td>0.0</td>\n",
       "      <td>0.0</td>\n",
       "      <td>0.0</td>\n",
       "      <td>0.032513</td>\n",
       "      <td>0.0</td>\n",
       "      <td>0.023266</td>\n",
       "      <td>0.0</td>\n",
       "    </tr>\n",
       "    <tr>\n",
       "      <th>4</th>\n",
       "      <td>0.0</td>\n",
       "      <td>0.000000</td>\n",
       "      <td>0.000000</td>\n",
       "      <td>0.0</td>\n",
       "      <td>0.0</td>\n",
       "      <td>0.000000</td>\n",
       "      <td>0.0</td>\n",
       "      <td>0.000000</td>\n",
       "      <td>0.0</td>\n",
       "      <td>0.0</td>\n",
       "      <td>...</td>\n",
       "      <td>0.0</td>\n",
       "      <td>0.0</td>\n",
       "      <td>0.000000</td>\n",
       "      <td>0.0</td>\n",
       "      <td>0.0</td>\n",
       "      <td>0.0</td>\n",
       "      <td>0.000000</td>\n",
       "      <td>0.0</td>\n",
       "      <td>0.000000</td>\n",
       "      <td>0.0</td>\n",
       "    </tr>\n",
       "  </tbody>\n",
       "</table>\n",
       "<p>5 rows × 1000 columns</p>\n",
       "</div>"
      ],
      "text/plain": [
       "   aac       aba      able  ableism  ableist     about  above  absolutely  \\\n",
       "0  0.0  0.149381  0.000000      0.0      0.0  0.034590    0.0    0.000000   \n",
       "1  0.0  0.048753  0.000000      0.0      0.0  0.000000    0.0    0.000000   \n",
       "2  0.0  0.025845  0.000000      0.0      0.0  0.047876    0.0    0.089835   \n",
       "3  0.0  0.055261  0.102473      0.0      0.0  0.020474    0.0    0.000000   \n",
       "4  0.0  0.000000  0.000000      0.0      0.0  0.000000    0.0    0.000000   \n",
       "\n",
       "   abuse  abusive  ...  www  yeah      year  yes  yet   yo       you  young  \\\n",
       "0    0.0      0.0  ...  0.0   0.0  0.000000  0.0  0.0  0.0  0.027465    0.0   \n",
       "1    0.0      0.0  ...  0.0   0.0  0.000000  0.0  0.0  0.0  0.000000    0.0   \n",
       "2    0.0      0.0  ...  0.0   0.0  0.124431  0.0  0.0  0.0  0.076028    0.0   \n",
       "3    0.0      0.0  ...  0.0   0.0  0.106425  0.0  0.0  0.0  0.032513    0.0   \n",
       "4    0.0      0.0  ...  0.0   0.0  0.000000  0.0  0.0  0.0  0.000000    0.0   \n",
       "\n",
       "       your  yourself  \n",
       "0  0.000000       0.0  \n",
       "1  0.000000       0.0  \n",
       "2  0.054406       0.0  \n",
       "3  0.023266       0.0  \n",
       "4  0.000000       0.0  \n",
       "\n",
       "[5 rows x 1000 columns]"
      ]
     },
     "execution_count": 1732,
     "metadata": {},
     "output_type": "execute_result"
    }
   ],
   "source": [
    "vectorized_x_ros = pd.DataFrame(vectorized_x_ros.toarray(), columns=vectorizer.get_feature_names_out())\n",
    "vectorized_x_ros.head()"
   ]
  },
  {
   "cell_type": "code",
   "execution_count": 1733,
   "metadata": {},
   "outputs": [
    {
     "name": "stdout",
     "output_type": "stream",
     "text": [
      "Class Mapping:\n",
      "Negative: 0\n",
      "Neutral: 1\n",
      "Pozitive: 2\n"
     ]
    }
   ],
   "source": [
    "from sklearn.preprocessing import LabelEncoder\n",
    "# encode the sentiment classes as numbers\n",
    "label_encoder = LabelEncoder()\n",
    "y_encoded = label_encoder.fit_transform(y_ros.sentiment)\n",
    "\n",
    "# get the mapping\n",
    "class_mapping = dict(zip(label_encoder.classes_, label_encoder.transform(label_encoder.classes_)))\n",
    "\n",
    "# print the mapping\n",
    "print(\"Class Mapping:\")\n",
    "for class_label, encoded_value in class_mapping.items():\n",
    "    print(f\"{class_label}: {encoded_value}\")\n"
   ]
  },
  {
   "cell_type": "code",
   "execution_count": 1752,
   "metadata": {},
   "outputs": [
    {
     "name": "stdout",
     "output_type": "stream",
     "text": [
      "Cross-validation scores: [0.88963211 0.89261745 0.90268456 0.91610738 0.93288591]\n",
      "Mean CV score: 0.9067854818073668\n",
      "Standard deviation of CV scores: 0.015999493171508727\n"
     ]
    }
   ],
   "source": [
    "from sklearn.model_selection import cross_val_score\n",
    "from sklearn.linear_model import LogisticRegression\n",
    "import numpy as np\n",
    "\n",
    "reg = 0.1\n",
    "# logistic regression model\n",
    "multi_model = LogisticRegression(C=1/reg, solver='lbfgs', multi_class='auto', max_iter=10000, random_state=7)\n",
    "\n",
    "# cross-validation\n",
    "num_folds = 5  \n",
    "cv_scores = cross_val_score(multi_model, vectorized_x_ros, y_encoded, cv=num_folds)\n",
    "\n",
    "# print the cross-validation scores\n",
    "print(f'Cross-validation scores: {cv_scores}')\n",
    "print(f'Mean CV score: {np.mean(cv_scores)}')\n",
    "print(f'Standard deviation of CV scores: {np.std(cv_scores)}')\n"
   ]
  },
  {
   "cell_type": "code",
   "execution_count": 1753,
   "metadata": {},
   "outputs": [
    {
     "name": "stdout",
     "output_type": "stream",
     "text": [
      "Random Forest Cross-validation scores: [0.90635452 0.94630872 0.95637584 0.95973154 0.95637584]\n",
      "Mean CV score for Random Forest: 0.9450292922717785\n",
      "Standard deviation of CV scores for Random Forest: 0.019854570141946536\n"
     ]
    }
   ],
   "source": [
    "from sklearn.ensemble import RandomForestClassifier\n",
    "from sklearn.model_selection import cross_val_score\n",
    "\n",
    "# parameters for the random forest\n",
    "n_estimators = 100  \n",
    "max_depth = None  \n",
    "\n",
    "# random forest model\n",
    "rf_model = RandomForestClassifier(n_estimators=n_estimators, max_depth=max_depth, random_state=7)\n",
    "\n",
    "# cross-validation\n",
    "num_folds = 5  \n",
    "cv_scores_rf = cross_val_score(rf_model, vectorized_x_ros, y_encoded, cv=num_folds)\n",
    "\n",
    "# print the cross-validation scores for random forest\n",
    "print(f'Random Forest Cross-validation scores: {cv_scores_rf}')\n",
    "print(f'Mean CV score for Random Forest: {np.mean(cv_scores_rf)}')\n",
    "print(f'Standard deviation of CV scores for Random Forest: {np.std(cv_scores_rf)}')\n"
   ]
  },
  {
   "cell_type": "code",
   "execution_count": 1754,
   "metadata": {},
   "outputs": [
    {
     "name": "stdout",
     "output_type": "stream",
     "text": [
      "Best Parameters: {'max_depth': 30, 'n_estimators': 100}\n",
      "Best Random Forest Cross-validation scores: [0.91638796 0.94966443 0.93624161 0.95973154 0.95973154]\n",
      "Mean CV score for the best Random Forest: 0.9443514174765998\n",
      "Standard deviation of CV scores for the best Random Forest: 0.01642588557474013\n"
     ]
    }
   ],
   "source": [
    "# random forest performance seems best \n",
    "# use grid search to find better parameters\n",
    "from sklearn.model_selection import GridSearchCV\n",
    "\n",
    "# parameter grid to search - limited number as computational resources are low\n",
    "param_grid = {\n",
    "    'n_estimators': [50, 100, 200],\n",
    "    'max_depth': [10, 20, 30],\n",
    "}\n",
    "\n",
    "# random forest model\n",
    "rf_model = RandomForestClassifier(random_state=7)\n",
    "\n",
    "# GridSearchCV object\n",
    "grid_search = GridSearchCV(rf_model, param_grid, cv=num_folds, scoring='f1_macro')\n",
    "\n",
    "# fit the grid search to the data\n",
    "grid_search.fit(vectorized_x_ros, y_encoded)\n",
    "\n",
    "# print the best parameters found by GridSearchCV\n",
    "print(f'Best Parameters: {grid_search.best_params_}')\n",
    "\n",
    "# get the best model \n",
    "best_rf_model = grid_search.best_estimator_\n",
    "\n",
    "# cross-validation with the best model\n",
    "cv_scores_best_rf = cross_val_score(best_rf_model, vectorized_x_ros, y_encoded, cv=num_folds)\n",
    "\n",
    "# print the cross-validation scores for the best RF model\n",
    "print(f'Best Random Forest Cross-validation scores: {cv_scores_best_rf}')\n",
    "print(f'Mean CV score for the best Random Forest: {np.mean(cv_scores_best_rf)}')\n",
    "print(f'Standard deviation of CV scores for the best Random Forest: {np.std(cv_scores_best_rf)}')\n"
   ]
  },
  {
   "cell_type": "code",
   "execution_count": 1756,
   "metadata": {},
   "outputs": [
    {
     "name": "stdout",
     "output_type": "stream",
     "text": [
      "Accuracy: 0.9993293091884641\n",
      "Precision: 0.999330655957162\n",
      "Recall: 0.9993293091884641\n",
      "F1 Score: 0.9993293085096514\n",
      "Confusion Matrix:\n",
      "[[497   0   0]\n",
      " [  1 496   0]\n",
      " [  0   0 497]]\n"
     ]
    }
   ],
   "source": [
    "from sklearn.metrics import accuracy_score, precision_score, recall_score, f1_score, confusion_matrix\n",
    "\n",
    "# performance on training dataset\n",
    "\n",
    "# compute predictions\n",
    "predicted_sentiments = best_rf_model.predict(vectorized_x_ros)\n",
    "\n",
    "# compute evaluation metrics\n",
    "accuracy = accuracy_score(y_encoded, predicted_sentiments)\n",
    "precision = precision_score(y_encoded, predicted_sentiments, average='macro')  \n",
    "recall = recall_score(y_encoded, predicted_sentiments, average='macro') \n",
    "f1 = f1_score(y_encoded, predicted_sentiments, average='macro')  \n",
    "conf_matrix = confusion_matrix(y_encoded, predicted_sentiments)\n",
    "\n",
    "# print metrics\n",
    "print(f'Accuracy: {accuracy}')\n",
    "print(f'Precision: {precision}')\n",
    "print(f'Recall: {recall}')\n",
    "print(f'F1 Score: {f1}')\n",
    "print(f'Confusion Matrix:\\n{conf_matrix}')\n"
   ]
  },
  {
   "cell_type": "markdown",
   "metadata": {},
   "source": [
    "#### Evaluate the best model on test data"
   ]
  },
  {
   "cell_type": "code",
   "execution_count": 1757,
   "metadata": {},
   "outputs": [],
   "source": [
    "# encode target test labels\n",
    "y_test_encoded = label_encoder.fit_transform(y_test.sentiment)"
   ]
  },
  {
   "cell_type": "code",
   "execution_count": 1758,
   "metadata": {},
   "outputs": [
    {
     "data": {
      "text/html": [
       "<div>\n",
       "<style scoped>\n",
       "    .dataframe tbody tr th:only-of-type {\n",
       "        vertical-align: middle;\n",
       "    }\n",
       "\n",
       "    .dataframe tbody tr th {\n",
       "        vertical-align: top;\n",
       "    }\n",
       "\n",
       "    .dataframe thead th {\n",
       "        text-align: right;\n",
       "    }\n",
       "</style>\n",
       "<table border=\"1\" class=\"dataframe\">\n",
       "  <thead>\n",
       "    <tr style=\"text-align: right;\">\n",
       "      <th></th>\n",
       "      <th>aac</th>\n",
       "      <th>aba</th>\n",
       "      <th>able</th>\n",
       "      <th>ableism</th>\n",
       "      <th>ableist</th>\n",
       "      <th>about</th>\n",
       "      <th>above</th>\n",
       "      <th>absolutely</th>\n",
       "      <th>abuse</th>\n",
       "      <th>abusive</th>\n",
       "      <th>...</th>\n",
       "      <th>www</th>\n",
       "      <th>yeah</th>\n",
       "      <th>year</th>\n",
       "      <th>yes</th>\n",
       "      <th>yet</th>\n",
       "      <th>yo</th>\n",
       "      <th>you</th>\n",
       "      <th>young</th>\n",
       "      <th>your</th>\n",
       "      <th>yourself</th>\n",
       "    </tr>\n",
       "  </thead>\n",
       "  <tbody>\n",
       "    <tr>\n",
       "      <th>0</th>\n",
       "      <td>0.0</td>\n",
       "      <td>0.000000</td>\n",
       "      <td>0.0</td>\n",
       "      <td>0.0</td>\n",
       "      <td>0.0</td>\n",
       "      <td>0.164342</td>\n",
       "      <td>0.0</td>\n",
       "      <td>0.0</td>\n",
       "      <td>0.0</td>\n",
       "      <td>0.0</td>\n",
       "      <td>...</td>\n",
       "      <td>0.0</td>\n",
       "      <td>0.0</td>\n",
       "      <td>0.213565</td>\n",
       "      <td>0.0</td>\n",
       "      <td>0.0</td>\n",
       "      <td>0.0</td>\n",
       "      <td>0.000000</td>\n",
       "      <td>0.0</td>\n",
       "      <td>0.0</td>\n",
       "      <td>0.0</td>\n",
       "    </tr>\n",
       "    <tr>\n",
       "      <th>1</th>\n",
       "      <td>0.0</td>\n",
       "      <td>0.044464</td>\n",
       "      <td>0.0</td>\n",
       "      <td>0.0</td>\n",
       "      <td>0.0</td>\n",
       "      <td>0.000000</td>\n",
       "      <td>0.0</td>\n",
       "      <td>0.0</td>\n",
       "      <td>0.0</td>\n",
       "      <td>0.0</td>\n",
       "      <td>...</td>\n",
       "      <td>0.0</td>\n",
       "      <td>0.0</td>\n",
       "      <td>0.000000</td>\n",
       "      <td>0.0</td>\n",
       "      <td>0.0</td>\n",
       "      <td>0.0</td>\n",
       "      <td>0.065401</td>\n",
       "      <td>0.0</td>\n",
       "      <td>0.0</td>\n",
       "      <td>0.0</td>\n",
       "    </tr>\n",
       "  </tbody>\n",
       "</table>\n",
       "<p>2 rows × 1000 columns</p>\n",
       "</div>"
      ],
      "text/plain": [
       "   aac       aba  able  ableism  ableist     about  above  absolutely  abuse  \\\n",
       "0  0.0  0.000000   0.0      0.0      0.0  0.164342    0.0         0.0    0.0   \n",
       "1  0.0  0.044464   0.0      0.0      0.0  0.000000    0.0         0.0    0.0   \n",
       "\n",
       "   abusive  ...  www  yeah      year  yes  yet   yo       you  young  your  \\\n",
       "0      0.0  ...  0.0   0.0  0.213565  0.0  0.0  0.0  0.000000    0.0   0.0   \n",
       "1      0.0  ...  0.0   0.0  0.000000  0.0  0.0  0.0  0.065401    0.0   0.0   \n",
       "\n",
       "   yourself  \n",
       "0       0.0  \n",
       "1       0.0  \n",
       "\n",
       "[2 rows x 1000 columns]"
      ]
     },
     "execution_count": 1758,
     "metadata": {},
     "output_type": "execute_result"
    }
   ],
   "source": [
    "# tokenize test data\n",
    "X_test.loc[:, 'new_document'] = X_test['Document'].apply(preprocess_lem)\n",
    "# vectorize test data\n",
    "vectorized_X_test = vectorizer.transform(X_test.new_document)\n",
    "vectorized_X_test = pd.DataFrame(vectorized_X_test.toarray(), columns=vectorizer.get_feature_names_out())\n",
    "vectorized_X_test.head(2)\n"
   ]
  },
  {
   "cell_type": "code",
   "execution_count": 1759,
   "metadata": {},
   "outputs": [
    {
     "name": "stdout",
     "output_type": "stream",
     "text": [
      "Accuracy: 0.7384615384615385\n",
      "Precision: 0.6918146987112505\n",
      "Recall: 0.559764727506663\n",
      "F1 Score: 0.5706424125976359\n",
      "Confusion Matrix:\n",
      "[[ 28  17   0]\n",
      " [ 10 112   2]\n",
      " [  6  16   4]]\n"
     ]
    }
   ],
   "source": [
    "from sklearn.metrics import accuracy_score, precision_score, recall_score, f1_score, confusion_matrix\n",
    "\n",
    "# performance on test dataset\n",
    "\n",
    "# compute predictions\n",
    "predicted_sentiments = best_rf_model.predict(vectorized_X_test)\n",
    "\n",
    "# compute evaluation metrics\n",
    "accuracy = accuracy_score(y_test_encoded, predicted_sentiments)\n",
    "precision = precision_score(y_test_encoded, predicted_sentiments, average='macro')  \n",
    "recall = recall_score(y_test_encoded, predicted_sentiments, average='macro')  \n",
    "f1 = f1_score(y_test_encoded, predicted_sentiments, average='macro')  \n",
    "conf_matrix = confusion_matrix(y_test_encoded, predicted_sentiments)\n",
    "\n",
    "# print metrics\n",
    "print(f'Accuracy: {accuracy}')\n",
    "print(f'Precision: {precision}')\n",
    "print(f'Recall: {recall}')\n",
    "print(f'F1 Score: {f1}')\n",
    "print(f'Confusion Matrix:\\n{conf_matrix}')\n",
    "\n",
    "\n",
    "# as expected the random forest does not perform well on the current dataset\n",
    "# the model is overfitted to the training data\n",
    "\n"
   ]
  },
  {
   "cell_type": "code",
   "execution_count": 1760,
   "metadata": {},
   "outputs": [
    {
     "data": {
      "image/png": "[encoded data removed]",
      "text/plain": [
       "<Figure size 640x480 with 2 Axes>"
      ]
     },
     "metadata": {},
     "output_type": "display_data"
    }
   ],
   "source": [
    "sentiment_classes = ['Negative', 'Neutral','Pozitive']\n",
    "# Negative: 0\n",
    "# Neutral: 1\n",
    "# Pozitive: 2\n",
    "\n",
    "# plot confusion matrix for test set\n",
    "plt.imshow(conf_matrix, interpolation=\"nearest\", cmap=plt.cm.Blues)\n",
    "plt.colorbar()\n",
    "tick_marks = np.arange(len(sentiment_classes))\n",
    "plt.xticks(tick_marks, sentiment_classes)\n",
    "plt.yticks(tick_marks, sentiment_classes)\n",
    "plt.xlabel(\"Actual sentiment\")\n",
    "plt.ylabel(\"Predicted sentiment\")\n",
    "plt.show()\n",
    "\n",
    "# the model can predict well the neutral text \n",
    "# it perfoms worst with Pozitive examples\n",
    "# this is to be expected as the dataset is very imbalanced and the model has access to a lot of examples for the neutral class \n",
    "# not many unique examples for the other 2 classes\n",
    "# this is consistent with Hartmann et al (2023) findings that traditional ML methods do not perform much better than chance for 3 class sentiment classification"
   ]
  }
 ],
 "metadata": {
  "kernelspec": {
   "display_name": "Python 3",
   "language": "python",
   "name": "python3"
  },
  "language_info": {
   "codemirror_mode": {
    "name": "ipython",
    "version": 3
   },
   "file_extension": ".py",
   "mimetype": "text/x-python",
   "name": "python",
   "nbconvert_exporter": "python",
   "pygments_lexer": "ipython3",
   "version": "3.10.7"
  }
 },
 "nbformat": 4,
 "nbformat_minor": 2
}
