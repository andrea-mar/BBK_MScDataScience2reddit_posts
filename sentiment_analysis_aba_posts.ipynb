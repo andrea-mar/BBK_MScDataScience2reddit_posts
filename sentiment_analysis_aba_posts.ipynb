{
 "cells": [
  {
   "cell_type": "code",
   "execution_count": 3,
   "metadata": {},
   "outputs": [
    {
     "name": "stdout",
     "output_type": "stream",
     "text": [
      "<class 'pandas.core.frame.DataFrame'>\n",
      "RangeIndex: 3560 entries, 0 to 3559\n",
      "Data columns (total 8 columns):\n",
      " #   Column                   Non-Null Count  Dtype  \n",
      "---  ------                   --------------  -----  \n",
      " 0   Document                 3560 non-null   object \n",
      " 1   Topic                    3560 non-null   int64  \n",
      " 2   Name                     3560 non-null   object \n",
      " 3   Representation           3560 non-null   object \n",
      " 4   Representative_Docs      3560 non-null   object \n",
      " 5   Top_n_words              3560 non-null   object \n",
      " 6   Probability              3560 non-null   float64\n",
      " 7   Representative_document  3560 non-null   bool   \n",
      "dtypes: bool(1), float64(1), int64(1), object(5)\n",
      "memory usage: 198.3+ KB\n"
     ]
    }
   ],
   "source": [
    "# get data from google drive - optained via BERTopic \n",
    "import pandas as pd\n",
    "\n",
    "file_path = '/Users/andreeanistor/Google Drive/My Drive/MS_DS_NLP_project/bertopics_reddit_aba_posts.csv'\n",
    "aba_posts = pd.read_csv(file_path)\n",
    "aba_posts.info() # no missing data, documents text has been cleaned previously"
   ]
  },
  {
   "cell_type": "code",
   "execution_count": 7,
   "metadata": {},
   "outputs": [
    {
     "data": {
      "text/html": [
       "<div>\n",
       "<style scoped>\n",
       "    .dataframe tbody tr th:only-of-type {\n",
       "        vertical-align: middle;\n",
       "    }\n",
       "\n",
       "    .dataframe tbody tr th {\n",
       "        vertical-align: top;\n",
       "    }\n",
       "\n",
       "    .dataframe thead th {\n",
       "        text-align: right;\n",
       "    }\n",
       "</style>\n",
       "<table border=\"1\" class=\"dataframe\">\n",
       "  <thead>\n",
       "    <tr style=\"text-align: right;\">\n",
       "      <th></th>\n",
       "      <th>Document</th>\n",
       "      <th>Topic</th>\n",
       "      <th>Name</th>\n",
       "      <th>Representation</th>\n",
       "      <th>Representative_Docs</th>\n",
       "      <th>Top_n_words</th>\n",
       "      <th>Probability</th>\n",
       "      <th>Representative_document</th>\n",
       "    </tr>\n",
       "  </thead>\n",
       "  <tbody>\n",
       "    <tr>\n",
       "      <th>0</th>\n",
       "      <td>As an autistic person please listen to us when...</td>\n",
       "      <td>4</td>\n",
       "      <td>4_aba_bcba_rbt_bcbas</td>\n",
       "      <td>['aba', 'bcba', 'rbt', 'bcbas', 'rbts', 'field...</td>\n",
       "      <td>['I had ABA and have nothing bad to say of it'...</td>\n",
       "      <td>aba - bcba - rbt - bcbas - rbts - field - hour...</td>\n",
       "      <td>1.0</td>\n",
       "      <td>False</td>\n",
       "    </tr>\n",
       "    <tr>\n",
       "      <th>1</th>\n",
       "      <td>My daughter who has down syndrome and autism d...</td>\n",
       "      <td>4</td>\n",
       "      <td>4_aba_bcba_rbt_bcbas</td>\n",
       "      <td>['aba', 'bcba', 'rbt', 'bcbas', 'rbts', 'field...</td>\n",
       "      <td>['I had ABA and have nothing bad to say of it'...</td>\n",
       "      <td>aba - bcba - rbt - bcbas - rbts - field - hour...</td>\n",
       "      <td>1.0</td>\n",
       "      <td>False</td>\n",
       "    </tr>\n",
       "    <tr>\n",
       "      <th>2</th>\n",
       "      <td>One bit of word from an autistic adult Stop AB...</td>\n",
       "      <td>4</td>\n",
       "      <td>4_aba_bcba_rbt_bcbas</td>\n",
       "      <td>['aba', 'bcba', 'rbt', 'bcbas', 'rbts', 'field...</td>\n",
       "      <td>['I had ABA and have nothing bad to say of it'...</td>\n",
       "      <td>aba - bcba - rbt - bcbas - rbts - field - hour...</td>\n",
       "      <td>1.0</td>\n",
       "      <td>False</td>\n",
       "    </tr>\n",
       "  </tbody>\n",
       "</table>\n",
       "</div>"
      ],
      "text/plain": [
       "                                            Document  Topic  \\\n",
       "0  As an autistic person please listen to us when...      4   \n",
       "1  My daughter who has down syndrome and autism d...      4   \n",
       "2  One bit of word from an autistic adult Stop AB...      4   \n",
       "\n",
       "                   Name                                     Representation  \\\n",
       "0  4_aba_bcba_rbt_bcbas  ['aba', 'bcba', 'rbt', 'bcbas', 'rbts', 'field...   \n",
       "1  4_aba_bcba_rbt_bcbas  ['aba', 'bcba', 'rbt', 'bcbas', 'rbts', 'field...   \n",
       "2  4_aba_bcba_rbt_bcbas  ['aba', 'bcba', 'rbt', 'bcbas', 'rbts', 'field...   \n",
       "\n",
       "                                 Representative_Docs  \\\n",
       "0  ['I had ABA and have nothing bad to say of it'...   \n",
       "1  ['I had ABA and have nothing bad to say of it'...   \n",
       "2  ['I had ABA and have nothing bad to say of it'...   \n",
       "\n",
       "                                         Top_n_words  Probability  \\\n",
       "0  aba - bcba - rbt - bcbas - rbts - field - hour...          1.0   \n",
       "1  aba - bcba - rbt - bcbas - rbts - field - hour...          1.0   \n",
       "2  aba - bcba - rbt - bcbas - rbts - field - hour...          1.0   \n",
       "\n",
       "   Representative_document  \n",
       "0                    False  \n",
       "1                    False  \n",
       "2                    False  "
      ]
     },
     "execution_count": 7,
     "metadata": {},
     "output_type": "execute_result"
    }
   ],
   "source": [
    "aba_posts.head(3) "
   ]
  },
  {
   "cell_type": "code",
   "execution_count": 4,
   "metadata": {},
   "outputs": [
    {
     "data": {
      "text/plain": [
       "'aba - bcba - rbt - bcbas - rbts - field - hours - slp - therapy - ot'"
      ]
     },
     "execution_count": 4,
     "metadata": {},
     "output_type": "execute_result"
    }
   ],
   "source": [
    "aba_posts.Top_n_words[0]"
   ]
  },
  {
   "cell_type": "code",
   "execution_count": 5,
   "metadata": {},
   "outputs": [
    {
     "data": {
      "text/plain": [
       "'[\\'I had ABA and have nothing bad to say of it\\', \\'I know what ABA is but what s PBIS\\', \"I don\\'t do ABA on myself I go to ABA therapy\"]'"
      ]
     },
     "execution_count": 5,
     "metadata": {},
     "output_type": "execute_result"
    }
   ],
   "source": [
    "aba_posts.Representative_Docs[0]"
   ]
  },
  {
   "cell_type": "code",
   "execution_count": 11,
   "metadata": {},
   "outputs": [
    {
     "data": {
      "image/png": "[encoded data removed]",
      "text/plain": [
       "<Figure size 1000x600 with 1 Axes>"
      ]
     },
     "metadata": {},
     "output_type": "display_data"
    }
   ],
   "source": [
    "import matplotlib.pyplot as plt\n",
    "\n",
    "# Plot the 'Probabilities' column\n",
    "plt.figure(figsize=(10, 6))  # Adjust the figure size if needed\n",
    "plt.hist(aba_posts['Probability'], bins=10, color='skyblue', edgecolor='black')\n",
    "plt.title('Probability Distribution')\n",
    "plt.xlabel('Probabilities')\n",
    "plt.ylabel('Frequency')\n",
    "plt.grid(True)\n",
    "plt.show()\n",
    "\n",
    "# all the posts found by bertopic seem to be relevant to aba , most have 100% probability to belong to this topic"
   ]
  },
  {
   "cell_type": "code",
   "execution_count": 15,
   "metadata": {},
   "outputs": [
    {
     "name": "stdout",
     "output_type": "stream",
     "text": [
      "<class 'pandas.core.frame.DataFrame'>\n",
      "RangeIndex: 3560 entries, 0 to 3559\n",
      "Data columns (total 1 columns):\n",
      " #   Column    Non-Null Count  Dtype \n",
      "---  ------    --------------  ----- \n",
      " 0   Document  3560 non-null   object\n",
      "dtypes: object(1)\n",
      "memory usage: 27.9+ KB\n"
     ]
    },
    {
     "data": {
      "text/html": [
       "<div>\n",
       "<style scoped>\n",
       "    .dataframe tbody tr th:only-of-type {\n",
       "        vertical-align: middle;\n",
       "    }\n",
       "\n",
       "    .dataframe tbody tr th {\n",
       "        vertical-align: top;\n",
       "    }\n",
       "\n",
       "    .dataframe thead th {\n",
       "        text-align: right;\n",
       "    }\n",
       "</style>\n",
       "<table border=\"1\" class=\"dataframe\">\n",
       "  <thead>\n",
       "    <tr style=\"text-align: right;\">\n",
       "      <th></th>\n",
       "      <th>Document</th>\n",
       "    </tr>\n",
       "  </thead>\n",
       "  <tbody>\n",
       "    <tr>\n",
       "      <th>0</th>\n",
       "      <td>As an autistic person please listen to us when...</td>\n",
       "    </tr>\n",
       "    <tr>\n",
       "      <th>1</th>\n",
       "      <td>My daughter who has down syndrome and autism d...</td>\n",
       "    </tr>\n",
       "    <tr>\n",
       "      <th>2</th>\n",
       "      <td>One bit of word from an autistic adult Stop AB...</td>\n",
       "    </tr>\n",
       "  </tbody>\n",
       "</table>\n",
       "</div>"
      ],
      "text/plain": [
       "                                            Document\n",
       "0  As an autistic person please listen to us when...\n",
       "1  My daughter who has down syndrome and autism d...\n",
       "2  One bit of word from an autistic adult Stop AB..."
      ]
     },
     "execution_count": 15,
     "metadata": {},
     "output_type": "execute_result"
    }
   ],
   "source": [
    "# we only need the text / document column \n",
    "# drop the other columns\n",
    "aba_posts = aba_posts[['Document']]\n",
    "aba_posts.info()\n",
    "aba_posts.head(3)"
   ]
  },
  {
   "cell_type": "markdown",
   "metadata": {},
   "source": [
    "# Sentiment analysis\n",
    "- Supervised NLP task --> we need labeled data\n",
    "\n",
    "- Like topic modeling there are 2 main approaches:<br><br>\n",
    "        1. Traditional machine learning (preprocess data, then apply classical classification algrith like random forest, svm, logistic regression etc.)<br><br>\n",
    "        2. Deep learning ( no preprocessing neccesary; raw data is fed into a transformer model, in NLP ususaly these come pretrained and are fine tuned to the speciffic dataset; this method has shown good performance even when using small datasets - Hartmann et al., 2023)<br>\n",
    "\n",
    "\n",
    "We need to have a dataset of labeled data -> 500 posts will be selected at random from the aba data set and manually labeled by the author. Sentiment analysis models will be train / fine tuned using this small data set and the best model will be used to clasify all the posts.\n",
    "\n",
    "\n",
    "<small>Hartmann, J., Heitmann, M., Siebert, C., & Schamp, C. (2023). More than a Feeling: Accuracy and Application of Sentiment Analysis. International Journal of Research in Marketing, 40, 75–87.</small>"
   ]
  },
  {
   "cell_type": "code",
   "execution_count": 16,
   "metadata": {},
   "outputs": [
    {
     "name": "stdout",
     "output_type": "stream",
     "text": [
      "<class 'pandas.core.frame.DataFrame'>\n",
      "Index: 500 entries, 2626 to 3029\n",
      "Data columns (total 1 columns):\n",
      " #   Column    Non-Null Count  Dtype \n",
      "---  ------    --------------  ----- \n",
      " 0   Document  500 non-null    object\n",
      "dtypes: object(1)\n",
      "memory usage: 7.8+ KB\n"
     ]
    },
    {
     "data": {
      "text/html": [
       "<div>\n",
       "<style scoped>\n",
       "    .dataframe tbody tr th:only-of-type {\n",
       "        vertical-align: middle;\n",
       "    }\n",
       "\n",
       "    .dataframe tbody tr th {\n",
       "        vertical-align: top;\n",
       "    }\n",
       "\n",
       "    .dataframe thead th {\n",
       "        text-align: right;\n",
       "    }\n",
       "</style>\n",
       "<table border=\"1\" class=\"dataframe\">\n",
       "  <thead>\n",
       "    <tr style=\"text-align: right;\">\n",
       "      <th></th>\n",
       "      <th>Document</th>\n",
       "    </tr>\n",
       "  </thead>\n",
       "  <tbody>\n",
       "    <tr>\n",
       "      <th>2626</th>\n",
       "      <td>Is she in ABA therapy I only ask because my hu...</td>\n",
       "    </tr>\n",
       "    <tr>\n",
       "      <th>858</th>\n",
       "      <td>I heard you are able to ask them questions May...</td>\n",
       "    </tr>\n",
       "    <tr>\n",
       "      <th>3210</th>\n",
       "      <td>I agree with that Even dr Lovaas said ABA does...</td>\n",
       "    </tr>\n",
       "  </tbody>\n",
       "</table>\n",
       "</div>"
      ],
      "text/plain": [
       "                                               Document\n",
       "2626  Is she in ABA therapy I only ask because my hu...\n",
       "858   I heard you are able to ask them questions May...\n",
       "3210  I agree with that Even dr Lovaas said ABA does..."
      ]
     },
     "execution_count": 16,
     "metadata": {},
     "output_type": "execute_result"
    }
   ],
   "source": [
    "# select the data to be labeled - 500 row at random\n",
    "aba_posts_to_label = aba_posts.sample(n=500, random_state=7) \n",
    "aba_posts_to_label.info()\n",
    "aba_posts_to_label.head(3)"
   ]
  },
  {
   "cell_type": "code",
   "execution_count": 17,
   "metadata": {},
   "outputs": [],
   "source": [
    "# save posts to be labeled in a csv file\n",
    "file_path = 'data/aba_posts_labeled.csv'\n",
    "aba_posts_to_label.to_csv(file_path, index=False)"
   ]
  }
 ],
 "metadata": {
  "kernelspec": {
   "display_name": "Python 3",
   "language": "python",
   "name": "python3"
  },
  "language_info": {
   "codemirror_mode": {
    "name": "ipython",
    "version": 3
   },
   "file_extension": ".py",
   "mimetype": "text/x-python",
   "name": "python",
   "nbconvert_exporter": "python",
   "pygments_lexer": "ipython3",
   "version": "3.10.7"
  }
 },
 "nbformat": 4,
 "nbformat_minor": 2
}
