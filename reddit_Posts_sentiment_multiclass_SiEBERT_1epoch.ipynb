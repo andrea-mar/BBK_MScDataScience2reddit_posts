{
  "cells": [
    {
      "cell_type": "markdown",
      "metadata": {
        "id": "view-in-github",
        "colab_type": "text"
      },
      "source": [
        "<a href=\"https://colab.research.google.com/github/andrea-mar/BBK_MScDataScience2reddit_posts/blob/main/reddit_Posts_sentiment_multiclass_SiEBERT_1epoch.ipynb\" target=\"_parent\"><img src=\"https://colab.research.google.com/assets/colab-badge.svg\" alt=\"Open In Colab\"/></a>"
      ]
    },
    {
      "cell_type": "markdown",
      "metadata": {
        "id": "1R8xJ3pRqlVt"
      },
      "source": [
        "code reference ( code was adaptaed after this): https://www.youtube.com/watch?v=vNKIg8rXK6w&t=1492s&ab_channel=rupertai"
      ]
    },
    {
      "cell_type": "code",
      "execution_count": 1,
      "metadata": {
        "colab": {
          "base_uri": "https://localhost:8080/"
        },
        "id": "OvG0sa3crbwv",
        "outputId": "70e88806-9eee-472a-fcf5-c8e220440836"
      },
      "outputs": [
        {
          "output_type": "stream",
          "name": "stdout",
          "text": [
            "Thu Dec  7 11:30:55 2023       \n",
            "+-----------------------------------------------------------------------------+\n",
            "| NVIDIA-SMI 525.105.17   Driver Version: 525.105.17   CUDA Version: 12.0     |\n",
            "|-------------------------------+----------------------+----------------------+\n",
            "| GPU  Name        Persistence-M| Bus-Id        Disp.A | Volatile Uncorr. ECC |\n",
            "| Fan  Temp  Perf  Pwr:Usage/Cap|         Memory-Usage | GPU-Util  Compute M. |\n",
            "|                               |                      |               MIG M. |\n",
            "|===============================+======================+======================|\n",
            "|   0  Tesla V100-SXM2...  Off  | 00000000:00:04.0 Off |                    0 |\n",
            "| N/A   35C    P0    24W / 300W |      0MiB / 16384MiB |      0%      Default |\n",
            "|                               |                      |                  N/A |\n",
            "+-------------------------------+----------------------+----------------------+\n",
            "                                                                               \n",
            "+-----------------------------------------------------------------------------+\n",
            "| Processes:                                                                  |\n",
            "|  GPU   GI   CI        PID   Type   Process name                  GPU Memory |\n",
            "|        ID   ID                                                   Usage      |\n",
            "|=============================================================================|\n",
            "|  No running processes found                                                 |\n",
            "+-----------------------------------------------------------------------------+\n"
          ]
        }
      ],
      "source": [
        "gpu_info = !nvidia-smi\n",
        "gpu_info = '\\n'.join(gpu_info)\n",
        "if gpu_info.find('failed') >= 0:\n",
        "  print('Not connected to a GPU')\n",
        "else:\n",
        "  print(gpu_info)"
      ]
    },
    {
      "cell_type": "code",
      "source": [
        "from psutil import virtual_memory\n",
        "ram_gb = virtual_memory().total / 1e9\n",
        "print('Your runtime has {:.1f} gigabytes of available RAM\\n'.format(ram_gb))\n",
        "\n",
        "if ram_gb < 20:\n",
        "  print('Not using a high-RAM runtime')\n",
        "else:\n",
        "  print('You are using a high-RAM runtime!')"
      ],
      "metadata": {
        "colab": {
          "base_uri": "https://localhost:8080/"
        },
        "id": "Hf4FYE44lzRB",
        "outputId": "61e3fe85-9b63-48cf-ec50-710b0cb58892"
      },
      "execution_count": 2,
      "outputs": [
        {
          "output_type": "stream",
          "name": "stdout",
          "text": [
            "Your runtime has 13.6 gigabytes of available RAM\n",
            "\n",
            "Not using a high-RAM runtime\n"
          ]
        }
      ]
    },
    {
      "cell_type": "markdown",
      "source": [
        "Setup"
      ],
      "metadata": {
        "id": "LBvfALMuhZ_H"
      }
    },
    {
      "cell_type": "code",
      "source": [
        "# Install the transformers library\n",
        "%%capture\n",
        "%pip install datasets transformers==4.28.0\n",
        "%pip install --upgrade accelerate\n",
        "%pip install transformers\n",
        "%pip install pytorch-lightning"
      ],
      "metadata": {
        "id": "gPhExa3KhcIo"
      },
      "execution_count": 3,
      "outputs": []
    },
    {
      "cell_type": "markdown",
      "source": [
        "Inspect data"
      ],
      "metadata": {
        "id": "gyZAh36yhrCh"
      }
    },
    {
      "cell_type": "code",
      "execution_count": 4,
      "metadata": {
        "id": "DTNdZvyWw0p9"
      },
      "outputs": [],
      "source": [
        "import pandas as pd\n",
        "import numpy as np\n",
        "import matplotlib.pyplot as plt\n",
        "import os\n",
        "from google.colab import drive"
      ]
    },
    {
      "cell_type": "code",
      "execution_count": 5,
      "metadata": {
        "colab": {
          "base_uri": "https://localhost:8080/"
        },
        "id": "Az09DAAzsmaD",
        "outputId": "cd5369dd-5935-4b26-f32b-ccdb0eed6aaa"
      },
      "outputs": [
        {
          "output_type": "stream",
          "name": "stdout",
          "text": [
            "Drive already mounted at /content/drive; to attempt to forcibly remount, call drive.mount(\"/content/drive\", force_remount=True).\n"
          ]
        }
      ],
      "source": [
        "drive.mount('/content/drive', force_remount=False)\n",
        "file_name = \"/content/drive/MyDrive/MS_DS_NLP_project/aba_posts_labeled_cleaned.csv\""
      ]
    },
    {
      "cell_type": "code",
      "execution_count": 6,
      "metadata": {
        "id": "-frpBV_pOa57",
        "colab": {
          "base_uri": "https://localhost:8080/"
        },
        "outputId": "e6204264-b912-4f8e-b984-07bc89f2c125"
      },
      "outputs": [
        {
          "output_type": "stream",
          "name": "stdout",
          "text": [
            "<class 'pandas.core.frame.DataFrame'>\n",
            "RangeIndex: 974 entries, 0 to 973\n",
            "Data columns (total 7 columns):\n",
            " #   Column              Non-Null Count  Dtype \n",
            "---  ------              --------------  ----- \n",
            " 0   Document            974 non-null    object\n",
            " 1   sentiment           974 non-null    object\n",
            " 2   layperson           974 non-null    bool  \n",
            " 3   aba professional    974 non-null    bool  \n",
            " 4   parent              974 non-null    bool  \n",
            " 5   asd                 974 non-null    bool  \n",
            " 6   other_professional  974 non-null    bool  \n",
            "dtypes: bool(5), object(2)\n",
            "memory usage: 20.1+ KB\n"
          ]
        }
      ],
      "source": [
        "data = pd.read_csv(file_name)\n",
        "data.info()"
      ]
    },
    {
      "cell_type": "code",
      "execution_count": 7,
      "metadata": {
        "id": "zYUr1j0JRLro",
        "colab": {
          "base_uri": "https://localhost:8080/"
        },
        "outputId": "35ed176c-4266-4755-94be-de2761ea1b0b"
      },
      "outputs": [
        {
          "output_type": "stream",
          "name": "stdout",
          "text": [
            "<class 'pandas.core.frame.DataFrame'>\n",
            "RangeIndex: 974 entries, 0 to 973\n",
            "Data columns (total 2 columns):\n",
            " #   Column     Non-Null Count  Dtype \n",
            "---  ------     --------------  ----- \n",
            " 0   Document   974 non-null    object\n",
            " 1   sentiment  974 non-null    object\n",
            "dtypes: object(2)\n",
            "memory usage: 15.3+ KB\n"
          ]
        }
      ],
      "source": [
        "columns_to_drop = ['layperson', 'aba professional', 'parent', 'asd', 'other_professional']\n",
        "data = data.drop(columns=columns_to_drop)\n",
        "data.info()"
      ]
    },
    {
      "cell_type": "code",
      "execution_count": 8,
      "metadata": {
        "colab": {
          "base_uri": "https://localhost:8080/"
        },
        "id": "8y9fUGLSRRLz",
        "outputId": "4889cedc-ab64-46d6-b844-867742f3fc8e"
      },
      "outputs": [
        {
          "output_type": "execute_result",
          "data": {
            "text/plain": [
              "Neutral     621\n",
              "Negative    222\n",
              "Pozitive    131\n",
              "Name: sentiment, dtype: int64"
            ]
          },
          "metadata": {},
          "execution_count": 8
        }
      ],
      "source": [
        "data.sentiment.value_counts() # data is imbalanced -> ROC AUC and f1 bettter evaluation metrics"
      ]
    },
    {
      "cell_type": "code",
      "source": [
        "# convert categories into integers\n",
        "from sklearn.preprocessing import LabelEncoder\n",
        "# encode the sentiment classes as numbers\n",
        "label_encoder = LabelEncoder()\n",
        "data['sentiment_encoded'] = label_encoder.fit_transform(data.sentiment)\n",
        "\n",
        "# get the mapping\n",
        "class_mapping = dict(zip(label_encoder.classes_, label_encoder.transform(label_encoder.classes_)))\n",
        "\n",
        "# print the mapping\n",
        "print(\"Class Mapping:\")\n",
        "for class_label, encoded_value in class_mapping.items():\n",
        "    print(f\"{class_label}: {encoded_value}\")\n"
      ],
      "metadata": {
        "colab": {
          "base_uri": "https://localhost:8080/"
        },
        "id": "WV0RqA-R11jN",
        "outputId": "ff2769d8-a678-4af7-a421-3b4f4027a225"
      },
      "execution_count": 9,
      "outputs": [
        {
          "output_type": "stream",
          "name": "stdout",
          "text": [
            "Class Mapping:\n",
            "Negative: 0\n",
            "Neutral: 1\n",
            "Pozitive: 2\n"
          ]
        }
      ]
    },
    {
      "cell_type": "code",
      "source": [
        "data.head(2)"
      ],
      "metadata": {
        "colab": {
          "base_uri": "https://localhost:8080/",
          "height": 112
        },
        "id": "IKz-V2Sf2Pce",
        "outputId": "8648a51e-8e80-4673-b92f-4d9f4f033902"
      },
      "execution_count": 10,
      "outputs": [
        {
          "output_type": "execute_result",
          "data": {
            "text/plain": [
              "                                            Document sentiment  \\\n",
              "0  Is she in ABA therapy I only ask because my hu...   Neutral   \n",
              "1  I heard you are able to ask them questions May...   Neutral   \n",
              "\n",
              "   sentiment_encoded  \n",
              "0                  1  \n",
              "1                  1  "
            ],
            "text/html": [
              "\n",
              "  <div id=\"df-3a84afaf-6334-42af-863a-5c2eeeab146a\" class=\"colab-df-container\">\n",
              "    <div>\n",
              "<style scoped>\n",
              "    .dataframe tbody tr th:only-of-type {\n",
              "        vertical-align: middle;\n",
              "    }\n",
              "\n",
              "    .dataframe tbody tr th {\n",
              "        vertical-align: top;\n",
              "    }\n",
              "\n",
              "    .dataframe thead th {\n",
              "        text-align: right;\n",
              "    }\n",
              "</style>\n",
              "<table border=\"1\" class=\"dataframe\">\n",
              "  <thead>\n",
              "    <tr style=\"text-align: right;\">\n",
              "      <th></th>\n",
              "      <th>Document</th>\n",
              "      <th>sentiment</th>\n",
              "      <th>sentiment_encoded</th>\n",
              "    </tr>\n",
              "  </thead>\n",
              "  <tbody>\n",
              "    <tr>\n",
              "      <th>0</th>\n",
              "      <td>Is she in ABA therapy I only ask because my hu...</td>\n",
              "      <td>Neutral</td>\n",
              "      <td>1</td>\n",
              "    </tr>\n",
              "    <tr>\n",
              "      <th>1</th>\n",
              "      <td>I heard you are able to ask them questions May...</td>\n",
              "      <td>Neutral</td>\n",
              "      <td>1</td>\n",
              "    </tr>\n",
              "  </tbody>\n",
              "</table>\n",
              "</div>\n",
              "    <div class=\"colab-df-buttons\">\n",
              "\n",
              "  <div class=\"colab-df-container\">\n",
              "    <button class=\"colab-df-convert\" onclick=\"convertToInteractive('df-3a84afaf-6334-42af-863a-5c2eeeab146a')\"\n",
              "            title=\"Convert this dataframe to an interactive table.\"\n",
              "            style=\"display:none;\">\n",
              "\n",
              "  <svg xmlns=\"http://www.w3.org/2000/svg\" height=\"24px\" viewBox=\"0 -960 960 960\">\n",
              "    <path d=\"M120-120v-720h720v720H120Zm60-500h600v-160H180v160Zm220 220h160v-160H400v160Zm0 220h160v-160H400v160ZM180-400h160v-160H180v160Zm440 0h160v-160H620v160ZM180-180h160v-160H180v160Zm440 0h160v-160H620v160Z\"/>\n",
              "  </svg>\n",
              "    </button>\n",
              "\n",
              "  <style>\n",
              "    .colab-df-container {\n",
              "      display:flex;\n",
              "      gap: 12px;\n",
              "    }\n",
              "\n",
              "    .colab-df-convert {\n",
              "      background-color: #E8F0FE;\n",
              "      border: none;\n",
              "      border-radius: 50%;\n",
              "      cursor: pointer;\n",
              "      display: none;\n",
              "      fill: #1967D2;\n",
              "      height: 32px;\n",
              "      padding: 0 0 0 0;\n",
              "      width: 32px;\n",
              "    }\n",
              "\n",
              "    .colab-df-convert:hover {\n",
              "      background-color: #E2EBFA;\n",
              "      box-shadow: 0px 1px 2px rgba(60, 64, 67, 0.3), 0px 1px 3px 1px rgba(60, 64, 67, 0.15);\n",
              "      fill: #174EA6;\n",
              "    }\n",
              "\n",
              "    .colab-df-buttons div {\n",
              "      margin-bottom: 4px;\n",
              "    }\n",
              "\n",
              "    [theme=dark] .colab-df-convert {\n",
              "      background-color: #3B4455;\n",
              "      fill: #D2E3FC;\n",
              "    }\n",
              "\n",
              "    [theme=dark] .colab-df-convert:hover {\n",
              "      background-color: #434B5C;\n",
              "      box-shadow: 0px 1px 3px 1px rgba(0, 0, 0, 0.15);\n",
              "      filter: drop-shadow(0px 1px 2px rgba(0, 0, 0, 0.3));\n",
              "      fill: #FFFFFF;\n",
              "    }\n",
              "  </style>\n",
              "\n",
              "    <script>\n",
              "      const buttonEl =\n",
              "        document.querySelector('#df-3a84afaf-6334-42af-863a-5c2eeeab146a button.colab-df-convert');\n",
              "      buttonEl.style.display =\n",
              "        google.colab.kernel.accessAllowed ? 'block' : 'none';\n",
              "\n",
              "      async function convertToInteractive(key) {\n",
              "        const element = document.querySelector('#df-3a84afaf-6334-42af-863a-5c2eeeab146a');\n",
              "        const dataTable =\n",
              "          await google.colab.kernel.invokeFunction('convertToInteractive',\n",
              "                                                    [key], {});\n",
              "        if (!dataTable) return;\n",
              "\n",
              "        const docLinkHtml = 'Like what you see? Visit the ' +\n",
              "          '<a target=\"_blank\" href=https://colab.research.google.com/notebooks/data_table.ipynb>data table notebook</a>'\n",
              "          + ' to learn more about interactive tables.';\n",
              "        element.innerHTML = '';\n",
              "        dataTable['output_type'] = 'display_data';\n",
              "        await google.colab.output.renderOutput(dataTable, element);\n",
              "        const docLink = document.createElement('div');\n",
              "        docLink.innerHTML = docLinkHtml;\n",
              "        element.appendChild(docLink);\n",
              "      }\n",
              "    </script>\n",
              "  </div>\n",
              "\n",
              "\n",
              "<div id=\"df-c46f8a41-50eb-435d-8271-ae8c79da1854\">\n",
              "  <button class=\"colab-df-quickchart\" onclick=\"quickchart('df-c46f8a41-50eb-435d-8271-ae8c79da1854')\"\n",
              "            title=\"Suggest charts\"\n",
              "            style=\"display:none;\">\n",
              "\n",
              "<svg xmlns=\"http://www.w3.org/2000/svg\" height=\"24px\"viewBox=\"0 0 24 24\"\n",
              "     width=\"24px\">\n",
              "    <g>\n",
              "        <path d=\"M19 3H5c-1.1 0-2 .9-2 2v14c0 1.1.9 2 2 2h14c1.1 0 2-.9 2-2V5c0-1.1-.9-2-2-2zM9 17H7v-7h2v7zm4 0h-2V7h2v10zm4 0h-2v-4h2v4z\"/>\n",
              "    </g>\n",
              "</svg>\n",
              "  </button>\n",
              "\n",
              "<style>\n",
              "  .colab-df-quickchart {\n",
              "      --bg-color: #E8F0FE;\n",
              "      --fill-color: #1967D2;\n",
              "      --hover-bg-color: #E2EBFA;\n",
              "      --hover-fill-color: #174EA6;\n",
              "      --disabled-fill-color: #AAA;\n",
              "      --disabled-bg-color: #DDD;\n",
              "  }\n",
              "\n",
              "  [theme=dark] .colab-df-quickchart {\n",
              "      --bg-color: #3B4455;\n",
              "      --fill-color: #D2E3FC;\n",
              "      --hover-bg-color: #434B5C;\n",
              "      --hover-fill-color: #FFFFFF;\n",
              "      --disabled-bg-color: #3B4455;\n",
              "      --disabled-fill-color: #666;\n",
              "  }\n",
              "\n",
              "  .colab-df-quickchart {\n",
              "    background-color: var(--bg-color);\n",
              "    border: none;\n",
              "    border-radius: 50%;\n",
              "    cursor: pointer;\n",
              "    display: none;\n",
              "    fill: var(--fill-color);\n",
              "    height: 32px;\n",
              "    padding: 0;\n",
              "    width: 32px;\n",
              "  }\n",
              "\n",
              "  .colab-df-quickchart:hover {\n",
              "    background-color: var(--hover-bg-color);\n",
              "    box-shadow: 0 1px 2px rgba(60, 64, 67, 0.3), 0 1px 3px 1px rgba(60, 64, 67, 0.15);\n",
              "    fill: var(--button-hover-fill-color);\n",
              "  }\n",
              "\n",
              "  .colab-df-quickchart-complete:disabled,\n",
              "  .colab-df-quickchart-complete:disabled:hover {\n",
              "    background-color: var(--disabled-bg-color);\n",
              "    fill: var(--disabled-fill-color);\n",
              "    box-shadow: none;\n",
              "  }\n",
              "\n",
              "  .colab-df-spinner {\n",
              "    border: 2px solid var(--fill-color);\n",
              "    border-color: transparent;\n",
              "    border-bottom-color: var(--fill-color);\n",
              "    animation:\n",
              "      spin 1s steps(1) infinite;\n",
              "  }\n",
              "\n",
              "  @keyframes spin {\n",
              "    0% {\n",
              "      border-color: transparent;\n",
              "      border-bottom-color: var(--fill-color);\n",
              "      border-left-color: var(--fill-color);\n",
              "    }\n",
              "    20% {\n",
              "      border-color: transparent;\n",
              "      border-left-color: var(--fill-color);\n",
              "      border-top-color: var(--fill-color);\n",
              "    }\n",
              "    30% {\n",
              "      border-color: transparent;\n",
              "      border-left-color: var(--fill-color);\n",
              "      border-top-color: var(--fill-color);\n",
              "      border-right-color: var(--fill-color);\n",
              "    }\n",
              "    40% {\n",
              "      border-color: transparent;\n",
              "      border-right-color: var(--fill-color);\n",
              "      border-top-color: var(--fill-color);\n",
              "    }\n",
              "    60% {\n",
              "      border-color: transparent;\n",
              "      border-right-color: var(--fill-color);\n",
              "    }\n",
              "    80% {\n",
              "      border-color: transparent;\n",
              "      border-right-color: var(--fill-color);\n",
              "      border-bottom-color: var(--fill-color);\n",
              "    }\n",
              "    90% {\n",
              "      border-color: transparent;\n",
              "      border-bottom-color: var(--fill-color);\n",
              "    }\n",
              "  }\n",
              "</style>\n",
              "\n",
              "  <script>\n",
              "    async function quickchart(key) {\n",
              "      const quickchartButtonEl =\n",
              "        document.querySelector('#' + key + ' button');\n",
              "      quickchartButtonEl.disabled = true;  // To prevent multiple clicks.\n",
              "      quickchartButtonEl.classList.add('colab-df-spinner');\n",
              "      try {\n",
              "        const charts = await google.colab.kernel.invokeFunction(\n",
              "            'suggestCharts', [key], {});\n",
              "      } catch (error) {\n",
              "        console.error('Error during call to suggestCharts:', error);\n",
              "      }\n",
              "      quickchartButtonEl.classList.remove('colab-df-spinner');\n",
              "      quickchartButtonEl.classList.add('colab-df-quickchart-complete');\n",
              "    }\n",
              "    (() => {\n",
              "      let quickchartButtonEl =\n",
              "        document.querySelector('#df-c46f8a41-50eb-435d-8271-ae8c79da1854 button');\n",
              "      quickchartButtonEl.style.display =\n",
              "        google.colab.kernel.accessAllowed ? 'block' : 'none';\n",
              "    })();\n",
              "  </script>\n",
              "</div>\n",
              "    </div>\n",
              "  </div>\n"
            ]
          },
          "metadata": {},
          "execution_count": 10
        }
      ]
    },
    {
      "cell_type": "code",
      "source": [
        "# data was cleaned previously in the project\n",
        "# split data into train and test sets\n",
        "# because the dataset is small, cross validation will be used instead of a separate validation set\n",
        "from sklearn.model_selection import train_test_split\n",
        "\n",
        "data_train, data_test = train_test_split(data, test_size=0.2, random_state=7, stratify=data['sentiment'])\n",
        "data_train.shape, data_test.shape\n",
        "# training set = 779 rows\n",
        "# test set = 195"
      ],
      "metadata": {
        "colab": {
          "base_uri": "https://localhost:8080/"
        },
        "id": "7F1mMDv1h_nT",
        "outputId": "b4d8b24a-b172-4ce5-be4f-2f74ae87c96d"
      },
      "execution_count": 12,
      "outputs": [
        {
          "output_type": "execute_result",
          "data": {
            "text/plain": [
              "((779, 3), (195, 3))"
            ]
          },
          "metadata": {},
          "execution_count": 12
        }
      ]
    },
    {
      "cell_type": "code",
      "source": [
        "data_train = data_train.drop(columns=['sentiment'])\n",
        "data_test = data_test.drop(columns=['sentiment'])\n",
        "print('train data:\\n',data_train.info(), '\\n')\n",
        "print('test data:\\n',data_test.info())"
      ],
      "metadata": {
        "colab": {
          "base_uri": "https://localhost:8080/"
        },
        "id": "_0nTljvH3H9u",
        "outputId": "cc742eb8-2dd5-4b2d-fc31-a5e0ac222059"
      },
      "execution_count": 14,
      "outputs": [
        {
          "output_type": "stream",
          "name": "stdout",
          "text": [
            "<class 'pandas.core.frame.DataFrame'>\n",
            "Int64Index: 779 entries, 690 to 746\n",
            "Data columns (total 2 columns):\n",
            " #   Column             Non-Null Count  Dtype \n",
            "---  ------             --------------  ----- \n",
            " 0   Document           779 non-null    object\n",
            " 1   sentiment_encoded  779 non-null    int64 \n",
            "dtypes: int64(1), object(1)\n",
            "memory usage: 18.3+ KB\n",
            "train data:\n",
            " None \n",
            "\n",
            "<class 'pandas.core.frame.DataFrame'>\n",
            "Int64Index: 195 entries, 135 to 361\n",
            "Data columns (total 2 columns):\n",
            " #   Column             Non-Null Count  Dtype \n",
            "---  ------             --------------  ----- \n",
            " 0   Document           195 non-null    object\n",
            " 1   sentiment_encoded  195 non-null    int64 \n",
            "dtypes: int64(1), object(1)\n",
            "memory usage: 4.6+ KB\n",
            "test data:\n",
            " None\n"
          ]
        }
      ]
    },
    {
      "cell_type": "code",
      "execution_count": 15,
      "metadata": {
        "colab": {
          "base_uri": "https://localhost:8080/"
        },
        "id": "veKCIydftG1g",
        "outputId": "c9ebfa54-4524-4971-fe3d-a5aa0cf4087b"
      },
      "outputs": [
        {
          "output_type": "execute_result",
          "data": {
            "text/plain": [
              "((779, 2), (195, 2))"
            ]
          },
          "metadata": {},
          "execution_count": 15
        }
      ],
      "source": [
        "data_train.shape, data_test.shape"
      ]
    },
    {
      "cell_type": "code",
      "execution_count": 16,
      "metadata": {
        "colab": {
          "base_uri": "https://localhost:8080/"
        },
        "id": "8t-t1Z9gSRuE",
        "outputId": "f872d4a5-cfe5-4844-9865-8b54f077136d"
      },
      "outputs": [
        {
          "output_type": "execute_result",
          "data": {
            "text/plain": [
              "1    497\n",
              "0    177\n",
              "2    105\n",
              "Name: sentiment_encoded, dtype: int64"
            ]
          },
          "metadata": {},
          "execution_count": 16
        }
      ],
      "source": [
        "data_train.sentiment_encoded.value_counts()\n",
        "\n",
        "# Class Mapping:\n",
        "# Negative: 0\n",
        "# Neutral: 1\n",
        "# Pozitive: 2\n",
        "\n",
        "# most examples are neutral , data is imbalanced"
      ]
    },
    {
      "cell_type": "code",
      "source": [
        "data_train.head(3)"
      ],
      "metadata": {
        "colab": {
          "base_uri": "https://localhost:8080/",
          "height": 143
        },
        "id": "xSpZjdeqi7A2",
        "outputId": "34aba0d2-cb64-41fc-ba5d-7afec355385e"
      },
      "execution_count": 17,
      "outputs": [
        {
          "output_type": "execute_result",
          "data": {
            "text/plain": [
              "                                              Document  sentiment_encoded\n",
              "690  Well that s a weird thing about it even being ...                  2\n",
              "892  Right I m getting that now as an RBT I have ol...                  1\n",
              "531  i ve been in the field a few years it will def...                  1"
            ],
            "text/html": [
              "\n",
              "  <div id=\"df-a8f33d40-3724-4fcd-88fb-d58910a1e38d\" class=\"colab-df-container\">\n",
              "    <div>\n",
              "<style scoped>\n",
              "    .dataframe tbody tr th:only-of-type {\n",
              "        vertical-align: middle;\n",
              "    }\n",
              "\n",
              "    .dataframe tbody tr th {\n",
              "        vertical-align: top;\n",
              "    }\n",
              "\n",
              "    .dataframe thead th {\n",
              "        text-align: right;\n",
              "    }\n",
              "</style>\n",
              "<table border=\"1\" class=\"dataframe\">\n",
              "  <thead>\n",
              "    <tr style=\"text-align: right;\">\n",
              "      <th></th>\n",
              "      <th>Document</th>\n",
              "      <th>sentiment_encoded</th>\n",
              "    </tr>\n",
              "  </thead>\n",
              "  <tbody>\n",
              "    <tr>\n",
              "      <th>690</th>\n",
              "      <td>Well that s a weird thing about it even being ...</td>\n",
              "      <td>2</td>\n",
              "    </tr>\n",
              "    <tr>\n",
              "      <th>892</th>\n",
              "      <td>Right I m getting that now as an RBT I have ol...</td>\n",
              "      <td>1</td>\n",
              "    </tr>\n",
              "    <tr>\n",
              "      <th>531</th>\n",
              "      <td>i ve been in the field a few years it will def...</td>\n",
              "      <td>1</td>\n",
              "    </tr>\n",
              "  </tbody>\n",
              "</table>\n",
              "</div>\n",
              "    <div class=\"colab-df-buttons\">\n",
              "\n",
              "  <div class=\"colab-df-container\">\n",
              "    <button class=\"colab-df-convert\" onclick=\"convertToInteractive('df-a8f33d40-3724-4fcd-88fb-d58910a1e38d')\"\n",
              "            title=\"Convert this dataframe to an interactive table.\"\n",
              "            style=\"display:none;\">\n",
              "\n",
              "  <svg xmlns=\"http://www.w3.org/2000/svg\" height=\"24px\" viewBox=\"0 -960 960 960\">\n",
              "    <path d=\"M120-120v-720h720v720H120Zm60-500h600v-160H180v160Zm220 220h160v-160H400v160Zm0 220h160v-160H400v160ZM180-400h160v-160H180v160Zm440 0h160v-160H620v160ZM180-180h160v-160H180v160Zm440 0h160v-160H620v160Z\"/>\n",
              "  </svg>\n",
              "    </button>\n",
              "\n",
              "  <style>\n",
              "    .colab-df-container {\n",
              "      display:flex;\n",
              "      gap: 12px;\n",
              "    }\n",
              "\n",
              "    .colab-df-convert {\n",
              "      background-color: #E8F0FE;\n",
              "      border: none;\n",
              "      border-radius: 50%;\n",
              "      cursor: pointer;\n",
              "      display: none;\n",
              "      fill: #1967D2;\n",
              "      height: 32px;\n",
              "      padding: 0 0 0 0;\n",
              "      width: 32px;\n",
              "    }\n",
              "\n",
              "    .colab-df-convert:hover {\n",
              "      background-color: #E2EBFA;\n",
              "      box-shadow: 0px 1px 2px rgba(60, 64, 67, 0.3), 0px 1px 3px 1px rgba(60, 64, 67, 0.15);\n",
              "      fill: #174EA6;\n",
              "    }\n",
              "\n",
              "    .colab-df-buttons div {\n",
              "      margin-bottom: 4px;\n",
              "    }\n",
              "\n",
              "    [theme=dark] .colab-df-convert {\n",
              "      background-color: #3B4455;\n",
              "      fill: #D2E3FC;\n",
              "    }\n",
              "\n",
              "    [theme=dark] .colab-df-convert:hover {\n",
              "      background-color: #434B5C;\n",
              "      box-shadow: 0px 1px 3px 1px rgba(0, 0, 0, 0.15);\n",
              "      filter: drop-shadow(0px 1px 2px rgba(0, 0, 0, 0.3));\n",
              "      fill: #FFFFFF;\n",
              "    }\n",
              "  </style>\n",
              "\n",
              "    <script>\n",
              "      const buttonEl =\n",
              "        document.querySelector('#df-a8f33d40-3724-4fcd-88fb-d58910a1e38d button.colab-df-convert');\n",
              "      buttonEl.style.display =\n",
              "        google.colab.kernel.accessAllowed ? 'block' : 'none';\n",
              "\n",
              "      async function convertToInteractive(key) {\n",
              "        const element = document.querySelector('#df-a8f33d40-3724-4fcd-88fb-d58910a1e38d');\n",
              "        const dataTable =\n",
              "          await google.colab.kernel.invokeFunction('convertToInteractive',\n",
              "                                                    [key], {});\n",
              "        if (!dataTable) return;\n",
              "\n",
              "        const docLinkHtml = 'Like what you see? Visit the ' +\n",
              "          '<a target=\"_blank\" href=https://colab.research.google.com/notebooks/data_table.ipynb>data table notebook</a>'\n",
              "          + ' to learn more about interactive tables.';\n",
              "        element.innerHTML = '';\n",
              "        dataTable['output_type'] = 'display_data';\n",
              "        await google.colab.output.renderOutput(dataTable, element);\n",
              "        const docLink = document.createElement('div');\n",
              "        docLink.innerHTML = docLinkHtml;\n",
              "        element.appendChild(docLink);\n",
              "      }\n",
              "    </script>\n",
              "  </div>\n",
              "\n",
              "\n",
              "<div id=\"df-79d662e5-c9fe-4690-a277-4208fa2a235c\">\n",
              "  <button class=\"colab-df-quickchart\" onclick=\"quickchart('df-79d662e5-c9fe-4690-a277-4208fa2a235c')\"\n",
              "            title=\"Suggest charts\"\n",
              "            style=\"display:none;\">\n",
              "\n",
              "<svg xmlns=\"http://www.w3.org/2000/svg\" height=\"24px\"viewBox=\"0 0 24 24\"\n",
              "     width=\"24px\">\n",
              "    <g>\n",
              "        <path d=\"M19 3H5c-1.1 0-2 .9-2 2v14c0 1.1.9 2 2 2h14c1.1 0 2-.9 2-2V5c0-1.1-.9-2-2-2zM9 17H7v-7h2v7zm4 0h-2V7h2v10zm4 0h-2v-4h2v4z\"/>\n",
              "    </g>\n",
              "</svg>\n",
              "  </button>\n",
              "\n",
              "<style>\n",
              "  .colab-df-quickchart {\n",
              "      --bg-color: #E8F0FE;\n",
              "      --fill-color: #1967D2;\n",
              "      --hover-bg-color: #E2EBFA;\n",
              "      --hover-fill-color: #174EA6;\n",
              "      --disabled-fill-color: #AAA;\n",
              "      --disabled-bg-color: #DDD;\n",
              "  }\n",
              "\n",
              "  [theme=dark] .colab-df-quickchart {\n",
              "      --bg-color: #3B4455;\n",
              "      --fill-color: #D2E3FC;\n",
              "      --hover-bg-color: #434B5C;\n",
              "      --hover-fill-color: #FFFFFF;\n",
              "      --disabled-bg-color: #3B4455;\n",
              "      --disabled-fill-color: #666;\n",
              "  }\n",
              "\n",
              "  .colab-df-quickchart {\n",
              "    background-color: var(--bg-color);\n",
              "    border: none;\n",
              "    border-radius: 50%;\n",
              "    cursor: pointer;\n",
              "    display: none;\n",
              "    fill: var(--fill-color);\n",
              "    height: 32px;\n",
              "    padding: 0;\n",
              "    width: 32px;\n",
              "  }\n",
              "\n",
              "  .colab-df-quickchart:hover {\n",
              "    background-color: var(--hover-bg-color);\n",
              "    box-shadow: 0 1px 2px rgba(60, 64, 67, 0.3), 0 1px 3px 1px rgba(60, 64, 67, 0.15);\n",
              "    fill: var(--button-hover-fill-color);\n",
              "  }\n",
              "\n",
              "  .colab-df-quickchart-complete:disabled,\n",
              "  .colab-df-quickchart-complete:disabled:hover {\n",
              "    background-color: var(--disabled-bg-color);\n",
              "    fill: var(--disabled-fill-color);\n",
              "    box-shadow: none;\n",
              "  }\n",
              "\n",
              "  .colab-df-spinner {\n",
              "    border: 2px solid var(--fill-color);\n",
              "    border-color: transparent;\n",
              "    border-bottom-color: var(--fill-color);\n",
              "    animation:\n",
              "      spin 1s steps(1) infinite;\n",
              "  }\n",
              "\n",
              "  @keyframes spin {\n",
              "    0% {\n",
              "      border-color: transparent;\n",
              "      border-bottom-color: var(--fill-color);\n",
              "      border-left-color: var(--fill-color);\n",
              "    }\n",
              "    20% {\n",
              "      border-color: transparent;\n",
              "      border-left-color: var(--fill-color);\n",
              "      border-top-color: var(--fill-color);\n",
              "    }\n",
              "    30% {\n",
              "      border-color: transparent;\n",
              "      border-left-color: var(--fill-color);\n",
              "      border-top-color: var(--fill-color);\n",
              "      border-right-color: var(--fill-color);\n",
              "    }\n",
              "    40% {\n",
              "      border-color: transparent;\n",
              "      border-right-color: var(--fill-color);\n",
              "      border-top-color: var(--fill-color);\n",
              "    }\n",
              "    60% {\n",
              "      border-color: transparent;\n",
              "      border-right-color: var(--fill-color);\n",
              "    }\n",
              "    80% {\n",
              "      border-color: transparent;\n",
              "      border-right-color: var(--fill-color);\n",
              "      border-bottom-color: var(--fill-color);\n",
              "    }\n",
              "    90% {\n",
              "      border-color: transparent;\n",
              "      border-bottom-color: var(--fill-color);\n",
              "    }\n",
              "  }\n",
              "</style>\n",
              "\n",
              "  <script>\n",
              "    async function quickchart(key) {\n",
              "      const quickchartButtonEl =\n",
              "        document.querySelector('#' + key + ' button');\n",
              "      quickchartButtonEl.disabled = true;  // To prevent multiple clicks.\n",
              "      quickchartButtonEl.classList.add('colab-df-spinner');\n",
              "      try {\n",
              "        const charts = await google.colab.kernel.invokeFunction(\n",
              "            'suggestCharts', [key], {});\n",
              "      } catch (error) {\n",
              "        console.error('Error during call to suggestCharts:', error);\n",
              "      }\n",
              "      quickchartButtonEl.classList.remove('colab-df-spinner');\n",
              "      quickchartButtonEl.classList.add('colab-df-quickchart-complete');\n",
              "    }\n",
              "    (() => {\n",
              "      let quickchartButtonEl =\n",
              "        document.querySelector('#df-79d662e5-c9fe-4690-a277-4208fa2a235c button');\n",
              "      quickchartButtonEl.style.display =\n",
              "        google.colab.kernel.accessAllowed ? 'block' : 'none';\n",
              "    })();\n",
              "  </script>\n",
              "</div>\n",
              "    </div>\n",
              "  </div>\n"
            ]
          },
          "metadata": {},
          "execution_count": 17
        }
      ]
    },
    {
      "cell_type": "code",
      "source": [
        "data_train.info()"
      ],
      "metadata": {
        "colab": {
          "base_uri": "https://localhost:8080/"
        },
        "id": "fn5QiRZf3pHS",
        "outputId": "4e14a458-af15-4740-f40f-9c0e472ff4d4"
      },
      "execution_count": 18,
      "outputs": [
        {
          "output_type": "stream",
          "name": "stdout",
          "text": [
            "<class 'pandas.core.frame.DataFrame'>\n",
            "Int64Index: 779 entries, 690 to 746\n",
            "Data columns (total 2 columns):\n",
            " #   Column             Non-Null Count  Dtype \n",
            "---  ------             --------------  ----- \n",
            " 0   Document           779 non-null    object\n",
            " 1   sentiment_encoded  779 non-null    int64 \n",
            "dtypes: int64(1), object(1)\n",
            "memory usage: 18.3+ KB\n"
          ]
        }
      ]
    },
    {
      "cell_type": "code",
      "source": [
        "attributes = {encoded_value: class_label for class_label, encoded_value in class_mapping.items()}\n",
        "attributes"
      ],
      "metadata": {
        "id": "ItKIvimhjDBs",
        "colab": {
          "base_uri": "https://localhost:8080/"
        },
        "outputId": "d7aa9b01-9063-4f8f-e223-57e9e708638f"
      },
      "execution_count": 73,
      "outputs": [
        {
          "output_type": "execute_result",
          "data": {
            "text/plain": [
              "{0: 'Negative', 1: 'Neutral', 2: 'Pozitive'}"
            ]
          },
          "metadata": {},
          "execution_count": 73
        }
      ]
    },
    {
      "cell_type": "code",
      "source": [
        "label_column = 'sentiment_encoded'"
      ],
      "metadata": {
        "id": "Hndn5__T_n_1"
      },
      "execution_count": 20,
      "outputs": []
    },
    {
      "cell_type": "markdown",
      "source": [
        "Data Set"
      ],
      "metadata": {
        "id": "_KESzIfejEnY"
      }
    },
    {
      "cell_type": "markdown",
      "metadata": {
        "id": "nvs4gTdshTa5"
      },
      "source": [
        "DEEP LEARNING LLMs - RoBERTa-large huggingface"
      ]
    },
    {
      "cell_type": "markdown",
      "metadata": {
        "id": "vchyrDh7_Gj7"
      },
      "source": [
        "Pipeline"
      ]
    },
    {
      "cell_type": "markdown",
      "metadata": {
        "id": "aGyoGrUR7GGg"
      },
      "source": [
        "model to fine tune : RoBERTa. - due to comutational limitations the smaller version will be used (distiledroberta).\n",
        "\n",
        "original article : https://arxiv.org/abs/1907.11692\n",
        "\n",
        "huggingface:\n",
        "RoBERTa: https://huggingface.co/roberta-base\n",
        "distilroberta: https://huggingface.co/distilroberta-base\n",
        "\n",
        "roberta-base is case sensitive\n",
        "The datasets have no stop words (droped in the data cleaning stage) - even if there is a loss of useful context in the case of RoBERTa, it was done with a perspective of having a maximum of important words within the limit of the RoBERTa maximum sequence length, which is 512 tokens. (same as this article https://hal.science/hal-03725602)\n",
        "\n",
        "\n"
      ]
    },
    {
      "cell_type": "code",
      "execution_count": 21,
      "metadata": {
        "id": "U0b4cHnB_L0H"
      },
      "outputs": [],
      "source": [
        "import torch.nn.functional as F\n",
        "import torch\n",
        "from torch.utils.data import Dataset\n",
        "from transformers import pipeline\n",
        "\n",
        "from sklearn.model_selection import train_test_split"
      ]
    },
    {
      "cell_type": "code",
      "execution_count": 22,
      "metadata": {
        "id": "d_YfmB1j3Pmm"
      },
      "outputs": [],
      "source": [
        "# create a pytorch Dataset object containing tokenized and vectorized data\n",
        "class Reddit_Dataset(Dataset):\n",
        "  def __init__(self, data, tokenizer, label_column, max_token_len: int=512):\n",
        "    self.data = data # dataframe (pandas)\n",
        "    self.tokenizer = tokenizer # will use the model's AutoTokenizer\n",
        "    self.label_column = label_column # class label : Negative: 0, Neutral: 1, Pozitive: 2\n",
        "    self.max_token_len = max_token_len # 512 is the max tokens RoBERTa accepts (see above)\n",
        "\n",
        "\n",
        "  def __len__(self):\n",
        "    return(len(self.data))\n",
        "\n",
        "\n",
        "  def __getitem__(self, index):\n",
        "    item = self.data.iloc[index] # get the item in the dataframe at the given index\n",
        "    text = str(item.Document) # get the text for that row and save it as a string\n",
        "    label = torch.tensor(item[self.label_column], dtype=torch.long) # get the label as a tensor\n",
        "\n",
        "    # tokenize the text (as PyTorch tensors)\n",
        "    tokens = self.tokenizer.encode_plus(text,\n",
        "                                        return_tensors='pt', # return pytorch tensors\n",
        "                                        add_special_tokens=True, # adds special tokens as <EOS> - end of sentence\n",
        "                                        truncation=True, # truncate the longer text\n",
        "                                        max_length=self.max_token_len, # truncate the text to a max length of 512 tokens\n",
        "                                        padding='max_length', # apply a padding to all text that is shorter that the max length (512)\n",
        "                                        return_attention_mask=True)\n",
        "    return {\n",
        "        'input_ids': tokens.input_ids.flatten(),\n",
        "        'attention_mask': tokens.attention_mask.flatten(),\n",
        "        'labels': label\n",
        "        }\n"
      ]
    },
    {
      "cell_type": "code",
      "execution_count": 23,
      "metadata": {
        "id": "kzPVOAKq_aSe"
      },
      "outputs": [],
      "source": [
        "from transformers import AutoTokenizer, AutoModelForSequenceClassification, RobertaForSequenceClassification, RobertaTokenizer, Trainer, TrainingArguments\n",
        "\n",
        "# test the outputs of dataset\n",
        "# Model and tokenizer names\n",
        "model_name = 'distilroberta-base'\n",
        "\n",
        "# Load tokenizer and model\n",
        "tokenizer = AutoTokenizer.from_pretrained(model_name)\n",
        "trainset = Reddit_Dataset(data_train, tokenizer, label_column)\n",
        "testset = Reddit_Dataset(data_test, tokenizer, label_column)"
      ]
    },
    {
      "cell_type": "code",
      "execution_count": 24,
      "metadata": {
        "colab": {
          "base_uri": "https://localhost:8080/"
        },
        "id": "o8gtVVPhBKzk",
        "outputId": "04e1d7fd-6acb-44cc-f302-e09aeee77c14"
      },
      "outputs": [
        {
          "output_type": "execute_result",
          "data": {
            "text/plain": [
              "{'input_ids': tensor([   0, 6209,   79,   11,   83, 3813, 5804,   38,  129, 1394,  142,  127,\n",
              "         1623,   16,   10, 9543, 3813,    8,   37,   34,   10, 3653, 1122,    7,\n",
              "           42,   20, 4607,   18, 1041,   32,  562, 2997,    8,   65,    9,    5,\n",
              "          383,   51,   32,  447,   16, 1903,    5, 4607,   98,   51,   64,   28,\n",
              "           23,    5, 3312,  396,  143,  743,    2,    1,    1,    1,    1,    1,\n",
              "            1,    1,    1,    1,    1,    1,    1,    1,    1,    1,    1,    1,\n",
              "            1,    1,    1,    1,    1,    1,    1,    1,    1,    1,    1,    1,\n",
              "            1,    1,    1,    1,    1,    1,    1,    1,    1,    1,    1,    1,\n",
              "            1,    1,    1,    1,    1,    1,    1,    1,    1,    1,    1,    1,\n",
              "            1,    1,    1,    1,    1,    1,    1,    1,    1,    1,    1,    1,\n",
              "            1,    1,    1,    1,    1,    1,    1,    1,    1,    1,    1,    1,\n",
              "            1,    1,    1,    1,    1,    1,    1,    1,    1,    1,    1,    1,\n",
              "            1,    1,    1,    1,    1,    1,    1,    1,    1,    1,    1,    1,\n",
              "            1,    1,    1,    1,    1,    1,    1,    1,    1,    1,    1,    1,\n",
              "            1,    1,    1,    1,    1,    1,    1,    1,    1,    1,    1,    1,\n",
              "            1,    1,    1,    1,    1,    1,    1,    1,    1,    1,    1,    1,\n",
              "            1,    1,    1,    1,    1,    1,    1,    1,    1,    1,    1,    1,\n",
              "            1,    1,    1,    1,    1,    1,    1,    1,    1,    1,    1,    1,\n",
              "            1,    1,    1,    1,    1,    1,    1,    1,    1,    1,    1,    1,\n",
              "            1,    1,    1,    1,    1,    1,    1,    1,    1,    1,    1,    1,\n",
              "            1,    1,    1,    1,    1,    1,    1,    1,    1,    1,    1,    1,\n",
              "            1,    1,    1,    1,    1,    1,    1,    1,    1,    1,    1,    1,\n",
              "            1,    1,    1,    1,    1,    1,    1,    1,    1,    1,    1,    1,\n",
              "            1,    1,    1,    1,    1,    1,    1,    1,    1,    1,    1,    1,\n",
              "            1,    1,    1,    1,    1,    1,    1,    1,    1,    1,    1,    1,\n",
              "            1,    1,    1,    1,    1,    1,    1,    1,    1,    1,    1,    1,\n",
              "            1,    1,    1,    1,    1,    1,    1,    1,    1,    1,    1,    1,\n",
              "            1,    1,    1,    1,    1,    1,    1,    1,    1,    1,    1,    1,\n",
              "            1,    1,    1,    1,    1,    1,    1,    1,    1,    1,    1,    1,\n",
              "            1,    1,    1,    1,    1,    1,    1,    1,    1,    1,    1,    1,\n",
              "            1,    1,    1,    1,    1,    1,    1,    1,    1,    1,    1,    1,\n",
              "            1,    1,    1,    1,    1,    1,    1,    1,    1,    1,    1,    1,\n",
              "            1,    1,    1,    1,    1,    1,    1,    1,    1,    1,    1,    1,\n",
              "            1,    1,    1,    1,    1,    1,    1,    1,    1,    1,    1,    1,\n",
              "            1,    1,    1,    1,    1,    1,    1,    1,    1,    1,    1,    1,\n",
              "            1,    1,    1,    1,    1,    1,    1,    1,    1,    1,    1,    1,\n",
              "            1,    1,    1,    1,    1,    1,    1,    1,    1,    1,    1,    1,\n",
              "            1,    1,    1,    1,    1,    1,    1,    1,    1,    1,    1,    1,\n",
              "            1,    1,    1,    1,    1,    1,    1,    1,    1,    1,    1,    1,\n",
              "            1,    1,    1,    1,    1,    1,    1,    1,    1,    1,    1,    1,\n",
              "            1,    1,    1,    1,    1,    1,    1,    1,    1,    1,    1,    1,\n",
              "            1,    1,    1,    1,    1,    1,    1,    1,    1,    1,    1,    1,\n",
              "            1,    1,    1,    1,    1,    1,    1,    1]),\n",
              " 'attention_mask': tensor([1, 1, 1, 1, 1, 1, 1, 1, 1, 1, 1, 1, 1, 1, 1, 1, 1, 1, 1, 1, 1, 1, 1, 1,\n",
              "         1, 1, 1, 1, 1, 1, 1, 1, 1, 1, 1, 1, 1, 1, 1, 1, 1, 1, 1, 1, 1, 1, 1, 1,\n",
              "         1, 1, 1, 1, 1, 1, 1, 0, 0, 0, 0, 0, 0, 0, 0, 0, 0, 0, 0, 0, 0, 0, 0, 0,\n",
              "         0, 0, 0, 0, 0, 0, 0, 0, 0, 0, 0, 0, 0, 0, 0, 0, 0, 0, 0, 0, 0, 0, 0, 0,\n",
              "         0, 0, 0, 0, 0, 0, 0, 0, 0, 0, 0, 0, 0, 0, 0, 0, 0, 0, 0, 0, 0, 0, 0, 0,\n",
              "         0, 0, 0, 0, 0, 0, 0, 0, 0, 0, 0, 0, 0, 0, 0, 0, 0, 0, 0, 0, 0, 0, 0, 0,\n",
              "         0, 0, 0, 0, 0, 0, 0, 0, 0, 0, 0, 0, 0, 0, 0, 0, 0, 0, 0, 0, 0, 0, 0, 0,\n",
              "         0, 0, 0, 0, 0, 0, 0, 0, 0, 0, 0, 0, 0, 0, 0, 0, 0, 0, 0, 0, 0, 0, 0, 0,\n",
              "         0, 0, 0, 0, 0, 0, 0, 0, 0, 0, 0, 0, 0, 0, 0, 0, 0, 0, 0, 0, 0, 0, 0, 0,\n",
              "         0, 0, 0, 0, 0, 0, 0, 0, 0, 0, 0, 0, 0, 0, 0, 0, 0, 0, 0, 0, 0, 0, 0, 0,\n",
              "         0, 0, 0, 0, 0, 0, 0, 0, 0, 0, 0, 0, 0, 0, 0, 0, 0, 0, 0, 0, 0, 0, 0, 0,\n",
              "         0, 0, 0, 0, 0, 0, 0, 0, 0, 0, 0, 0, 0, 0, 0, 0, 0, 0, 0, 0, 0, 0, 0, 0,\n",
              "         0, 0, 0, 0, 0, 0, 0, 0, 0, 0, 0, 0, 0, 0, 0, 0, 0, 0, 0, 0, 0, 0, 0, 0,\n",
              "         0, 0, 0, 0, 0, 0, 0, 0, 0, 0, 0, 0, 0, 0, 0, 0, 0, 0, 0, 0, 0, 0, 0, 0,\n",
              "         0, 0, 0, 0, 0, 0, 0, 0, 0, 0, 0, 0, 0, 0, 0, 0, 0, 0, 0, 0, 0, 0, 0, 0,\n",
              "         0, 0, 0, 0, 0, 0, 0, 0, 0, 0, 0, 0, 0, 0, 0, 0, 0, 0, 0, 0, 0, 0, 0, 0,\n",
              "         0, 0, 0, 0, 0, 0, 0, 0, 0, 0, 0, 0, 0, 0, 0, 0, 0, 0, 0, 0, 0, 0, 0, 0,\n",
              "         0, 0, 0, 0, 0, 0, 0, 0, 0, 0, 0, 0, 0, 0, 0, 0, 0, 0, 0, 0, 0, 0, 0, 0,\n",
              "         0, 0, 0, 0, 0, 0, 0, 0, 0, 0, 0, 0, 0, 0, 0, 0, 0, 0, 0, 0, 0, 0, 0, 0,\n",
              "         0, 0, 0, 0, 0, 0, 0, 0, 0, 0, 0, 0, 0, 0, 0, 0, 0, 0, 0, 0, 0, 0, 0, 0,\n",
              "         0, 0, 0, 0, 0, 0, 0, 0, 0, 0, 0, 0, 0, 0, 0, 0, 0, 0, 0, 0, 0, 0, 0, 0,\n",
              "         0, 0, 0, 0, 0, 0, 0, 0]),\n",
              " 'labels': tensor(1)}"
            ]
          },
          "metadata": {},
          "execution_count": 24
        }
      ],
      "source": [
        "# what the item (text representation  and labels) looks like as PyTorch tensors\n",
        "trainset.__getitem__(690)"
      ]
    },
    {
      "cell_type": "code",
      "execution_count": 25,
      "metadata": {
        "colab": {
          "base_uri": "https://localhost:8080/"
        },
        "id": "WUvdg4MFXfK8",
        "outputId": "999a1b0f-bf7e-47ee-d775-fd75cde2dbc3"
      },
      "outputs": [
        {
          "output_type": "execute_result",
          "data": {
            "text/plain": [
              "(779, 195)"
            ]
          },
          "metadata": {},
          "execution_count": 25
        }
      ],
      "source": [
        "len(trainset), len(testset)"
      ]
    },
    {
      "cell_type": "markdown",
      "source": [
        "Data module"
      ],
      "metadata": {
        "id": "eLpSVwH0lSUs"
      }
    },
    {
      "cell_type": "code",
      "execution_count": 26,
      "metadata": {
        "id": "m6Xrh8XyXvW3"
      },
      "outputs": [],
      "source": [
        "import pytorch_lightning as pl\n",
        "from torch.utils.data import DataLoader\n",
        "from sklearn.model_selection import KFold\n",
        "from pytorch_lightning import LightningDataModule\n",
        "from typing import Optional"
      ]
    },
    {
      "cell_type": "code",
      "execution_count": 27,
      "metadata": {
        "id": "Q8Otg0gOQZyw"
      },
      "outputs": [],
      "source": [
        "class Reddit_Data_Module(LightningDataModule):\n",
        "    def __init__(\n",
        "        self,\n",
        "        traindata,\n",
        "        testdata,\n",
        "        label_column,\n",
        "        model_name=\"roberta-base\",  # default model name if not provided\n",
        "        k: int = 1,  # fold number\n",
        "        num_splits: int = 10,\n",
        "        split_seed = 7, # split the folds consistently the same each time code runs\n",
        "        batch_size: int = 4,\n",
        "        max_token_len: int=128,\n",
        "        num_workers: int = 1, # number of cpus used\n",
        "    ):\n",
        "        super().__init__()\n",
        "\n",
        "        # save hyperparameters ( this allows use of self.hparams.<hparam>)\n",
        "        self.save_hyperparameters()\n",
        "        self.traindata = traindata\n",
        "        self.testdata = testdata\n",
        "        self.label_column = label_column\n",
        "\n",
        "        # initialize the tokenizer\n",
        "        self.tokenizer = AutoTokenizer.from_pretrained(self.hparams.model_name)\n",
        "\n",
        "        # data transformations\n",
        "        self.transforms = None\n",
        "\n",
        "        # Initialize datasets as None\n",
        "        self.data_train = None\n",
        "        self.data_val = None\n",
        "        self.data_test = None\n",
        "\n",
        "    def setup(self, stage=None):\n",
        "        if not self.data_train and not self.data_val:\n",
        "            # split the training data into k folds for training and validation\n",
        "            kf = KFold(n_splits=self.hparams.num_splits, shuffle=True, random_state=self.hparams.split_seed)\n",
        "            all_splits = [k for k in kf.split(self.traindata)]\n",
        "            train_indexes, val_indexes = all_splits[self.hparams.k]\n",
        "            train_indexes, val_indexes = train_indexes.tolist(), val_indexes.tolist()\n",
        "\n",
        "            # create training and validation datasets\n",
        "            trainset = Reddit_Dataset(data_train, tokenizer, attributes)\n",
        "\n",
        "            self.data_train = Reddit_Dataset(self.traindata.iloc[train_indexes], self.tokenizer, self.label_column)\n",
        "            self.data_val = Reddit_Dataset(self.traindata.iloc[val_indexes], self.tokenizer, self.label_column)\n",
        "\n",
        "        if stage == 'predict':\n",
        "            self.data_test = Reddit_Dataset(self.testdata, self.tokenizer, self.label_column)\n",
        "\n",
        "    def train_dataloader(self):\n",
        "        return DataLoader(\n",
        "            dataset=self.data_train,\n",
        "            batch_size=self.hparams.batch_size,\n",
        "            num_workers=self.hparams.num_workers,\n",
        "            shuffle=True,\n",
        "        )\n",
        "\n",
        "    def val_dataloader(self):\n",
        "        return DataLoader(\n",
        "            dataset=self.data_val,\n",
        "            batch_size=self.hparams.batch_size,\n",
        "            num_workers=self.hparams.num_workers,\n",
        "        )\n",
        "\n",
        "    def predict_dataloader(self):\n",
        "        return DataLoader(\n",
        "            dataset=self.data_test,\n",
        "            batch_size=self.hparams.batch_size,\n",
        "            num_workers=self.hparams.num_workers,\n",
        "            # pin_memory=self.hparams.pin_memory,\n",
        "        )"
      ]
    },
    {
      "cell_type": "code",
      "execution_count": 35,
      "metadata": {
        "id": "nxW3ijt_o5Xy"
      },
      "outputs": [],
      "source": [
        "reddit_module = Reddit_Data_Module(data_train, data_test, label_column)"
      ]
    },
    {
      "cell_type": "code",
      "execution_count": 36,
      "metadata": {
        "id": "mpKnSbFapXsu"
      },
      "outputs": [],
      "source": [
        "reddit_module.setup()"
      ]
    },
    {
      "cell_type": "code",
      "execution_count": 37,
      "metadata": {
        "id": "djHgwyDRpbVS"
      },
      "outputs": [],
      "source": [
        "dl = reddit_module.train_dataloader()"
      ]
    },
    {
      "cell_type": "code",
      "execution_count": 38,
      "metadata": {
        "colab": {
          "base_uri": "https://localhost:8080/"
        },
        "id": "QDqemN88pjD1",
        "outputId": "dd391b19-2b5e-4cf0-f02b-0ce5ad1afc13"
      },
      "outputs": [
        {
          "output_type": "execute_result",
          "data": {
            "text/plain": [
              "176"
            ]
          },
          "metadata": {},
          "execution_count": 38
        }
      ],
      "source": [
        "len(dl)"
      ]
    },
    {
      "cell_type": "markdown",
      "metadata": {
        "id": "U47aHlC2qKmS"
      },
      "source": [
        "Model"
      ]
    },
    {
      "cell_type": "code",
      "execution_count": 32,
      "metadata": {
        "id": "AhHPOILRqLcP"
      },
      "outputs": [],
      "source": [
        "from transformers import AutoModel, get_cosine_schedule_with_warmup\n",
        "from torch.optim import AdamW\n",
        "import torch.nn as nn\n",
        "import math\n",
        "from torchmetrics.functional.classification import auroc\n",
        "import torch.nn.functional as F"
      ]
    },
    {
      "cell_type": "code",
      "execution_count": 33,
      "metadata": {
        "id": "hWt-iCFEr2vQ"
      },
      "outputs": [],
      "source": [
        "class Reddit_Classifier(pl.LightningModule):\n",
        "  def __init__(self, config: dict):\n",
        "    super().__init__()\n",
        "    # save and pass the parameters in a separate dict (makes it easier to change)\n",
        "    self.config = config\n",
        "    # get the pretrained model\n",
        "    self.pretrained_model = AutoModel.from_pretrained(config['model_name'], return_dict=True)\n",
        "    # append a classification layer to the pretrained model (2 layers to be have better performance: one hidden, one classification output)\n",
        "    self.hidden = nn.Linear(self.pretrained_model.config.hidden_size, self.pretrained_model.config.hidden_size)\n",
        "    self.classifier = nn.Linear(self.pretrained_model.config.hidden_size, self.config['n_labels'])\n",
        "    # initialize weights for the 2 layers\n",
        "    torch.nn.init.xavier_uniform(self.hidden.weight)\n",
        "    torch.nn.init.xavier_uniform(self.classifier.weight)\n",
        "    # loss function\n",
        "    # PyTorch documentation:\n",
        "    # applying CrossEntropyLoss is equivalent to applying LogSoftmax on an input, followed by NLLLoss\n",
        "    # a Sigmoid activation function is used for multiclass classification problems ( where the same data point can be in only class - classes are mutually exclusive)\n",
        "    self.loss_function = nn.CrossEntropyLoss(reduction='mean')\n",
        "    # create drop out layer - prevent overfitting\n",
        "    self.dropout = nn.Dropout()\n",
        "\n",
        "\n",
        "  def forward(self, input_ids, attention_mask, labels=None):\n",
        "    # pretrained model\n",
        "    output = self.pretrained_model(input_ids=input_ids, attention_mask=attention_mask)\n",
        "    # get the output of the last hidden layer of the pretrained model\n",
        "    pooled_output = torch.mean(output.last_hidden_state, 1)\n",
        "    # nn classification layers - feed the output of the pretrained model to the new layers we created\n",
        "    pooled_output = self.hidden(pooled_output)  # new hidden layer\n",
        "    pooled_output = self.dropout(pooled_output) # add dropout before the activation function (because we use relu this layer needs to be before - see AML lectures)\n",
        "    # pooled_output = F.relu(pooled_output) # use relu activation function before the output layer\n",
        "    logits = self.classifier(pooled_output) # classification / final output layer\n",
        "    # compute the loss\n",
        "    loss = 0\n",
        "    if labels is not None:\n",
        "      loss = self.loss_function(logits, labels)\n",
        "      # loss = self.loss_function(logits.view(-1, self.config['n_labels']), labels.view(-1, self.config['n_labels']))\n",
        "    return loss, logits\n",
        "\n",
        "  def training_step(self, batch, batch_index):\n",
        "    loss, logits = self(**batch)\n",
        "    self.log('train_loss', loss, prog_bar=True, logger=True)\n",
        "    return {'loss': loss, 'predictions': logits, 'labels': batch['labels']}\n",
        "\n",
        "  def validation_step(self, batch, batch_index):\n",
        "    loss, logits = self(**batch)\n",
        "    self.log('validation loss', loss, prog_bar=True, logger=True)\n",
        "    return {'val_loss': loss, 'predictions': logits, 'labels': batch['labels']}\n",
        "\n",
        "  def predict_step(self, batch, batch_index):\n",
        "    _, logits = self(**batch)\n",
        "    return logits\n",
        "\n",
        "  def configure_optimizers(self):\n",
        "    optimizer = AdamW(self.parameters(), lr=self.config['lr'], weight_decay=self.config['w_decay'])\n",
        "    total_steps = self.config['train_size'] / self.config['batch_size']\n",
        "    warmup_steps = math.floor(total_steps * self.config['warmup'])\n",
        "    scheduler = get_cosine_schedule_with_warmup(optimizer, warmup_steps, total_steps)\n",
        "    return [optimizer], [scheduler]"
      ]
    },
    {
      "cell_type": "markdown",
      "metadata": {
        "id": "DlqIBBYb06BX"
      },
      "source": [
        "Train"
      ]
    },
    {
      "cell_type": "code",
      "execution_count": 39,
      "metadata": {
        "id": "MR2aq7zd06yr"
      },
      "outputs": [],
      "source": [
        "config = {\n",
        "    'model_name': 'siebert/sentiment-roberta-large-english',\n",
        "    'n_labels': len(attributes),\n",
        "    'batch_size': 4,\n",
        "    'lr': 1.5e-6,\n",
        "    'warmup': 0.2,\n",
        "    'train_size': len(reddit_module.train_dataloader()),\n",
        "    'w_decay': 0.001,\n",
        "    'n_epoch': 1 # test the asumption of the SiEBERT authors that the model can achieve around 70% accuracy after 1 epoch of training on a new small dataset\n",
        "}"
      ]
    },
    {
      "cell_type": "code",
      "execution_count": 40,
      "metadata": {
        "id": "VmHFcvdv2kQV"
      },
      "outputs": [],
      "source": [
        "# np.random.seed(7)\n",
        "# model = Reddit_Classifier(config)"
      ]
    },
    {
      "cell_type": "code",
      "execution_count": 41,
      "metadata": {
        "id": "283mwn-Q3HD_"
      },
      "outputs": [],
      "source": [
        "# # check the model is working on one case ( bug and output check )\n",
        "# idx = 690\n",
        "# input_ids = trainset.__getitem__(idx)['input_ids']\n",
        "# att_mask = trainset.__getitem__(idx)['attention_mask']\n",
        "# labels = trainset.__getitem__(idx)['labels']\n",
        "# loss, output = model(input_ids.unsqueeze(dim=0), att_mask.unsqueeze(dim=0), labels.unsqueeze(dim=0))\n"
      ]
    },
    {
      "cell_type": "code",
      "execution_count": 42,
      "metadata": {
        "id": "xAiWZV7a4NOm"
      },
      "outputs": [],
      "source": [
        "# loss, output"
      ]
    },
    {
      "cell_type": "markdown",
      "metadata": {
        "id": "LWcXrIlM4WkA"
      },
      "source": [
        "Train"
      ]
    },
    {
      "cell_type": "code",
      "execution_count": 43,
      "metadata": {
        "id": "bwvfoi2nx8ju"
      },
      "outputs": [],
      "source": [
        "# from pytorch_lightning.callbacks import EarlyStopping\n",
        "\n",
        "# # prevent overfitting\n",
        "# # early stopping callback\n",
        "# early_stopping_callback = EarlyStopping(\n",
        "#     monitor='validation loss',  # metric to monitor\n",
        "#     min_delta=0.001,  # min change in validation loss to be considered an improvement\n",
        "#     patience=10,  # Nnumber of epochs with no improvement before stopping\n",
        "#     verbose=True,\n",
        "#     mode='min'  # 'min' because we want to minimize loss\n",
        "# )"
      ]
    },
    {
      "cell_type": "code",
      "execution_count": 44,
      "metadata": {
        "colab": {
          "base_uri": "https://localhost:8080/",
          "height": 587,
          "referenced_widgets": [
            "ffe94666019a48688d36928bd435ad02",
            "f317131dafbc408dbb619b190449c9fe",
            "5293a2d57ace45498083f5117b7a5d8d",
            "6a6b07a581b9414e8a03c32de2306c1f",
            "412483c38cb047418c6e6b12011a054e",
            "fa8bdd9f01e64b808757883a75a8767f",
            "24facd358e2f4067a5383efe6ce42ae0",
            "e174ce7285f94bcf93f76b67aae18ee5",
            "790150fb88a64619b08ecb3b523dcfda",
            "15ec8475908c4cffab9f148325e8b865",
            "2a507d72715c41379ebf639a5cd4b8a3",
            "7d371066e4d240a5b79c911bb11febd3",
            "c20f13303c40443994cf5c5aaa22ec80",
            "e9da070c22684f7583ce69c26bd6649b",
            "1a66f6caff164a70a819bb007cfa7df7",
            "2c243499ac15473b85618414a8172a05",
            "3cae41808df0498fb0542d335cf4e17c",
            "c86cac8428c24f9d9f61e079fcfd5d6c",
            "31ba88fd9fb349a1bd8a0b62e9eb970a",
            "34176955eea34246b8616bf94dfb0b8a",
            "1cc3401eb0f14e33a08b0dc852ea8e5c",
            "f0929fca0afe42879e01016575615506",
            "7cf15f1f1a604532bfa30a9a2b2c0f2e",
            "204051da2eee4779b4fbbe951473fb02",
            "d9d1a47a562f4aed8b64db129cf5697b",
            "1c3bc370f2c844f6986490ddf3cb3473",
            "ac53004df94f4ec2ba3a6704f0cf127d",
            "c423e466b8ea40a488d9826218807302",
            "d703bcb7e0654135bf39512f635c10da",
            "38b2357e8d7f4e8b8fb2160195f96d52",
            "e9a4b012bbf14174a6e32e194aedfab2",
            "6a67fc1130954d62a99dca2795ca5de8",
            "cc4c772cc20844939f1ab8f3f992db1f"
          ]
        },
        "id": "a-jx6cCe4Xid",
        "outputId": "6811ae79-3a19-4a73-bfef-dd5aff7fa57d"
      },
      "outputs": [
        {
          "output_type": "stream",
          "name": "stderr",
          "text": [
            "INFO:lightning_fabric.utilities.seed:Seed set to 42\n",
            "Some weights of the model checkpoint at siebert/sentiment-roberta-large-english were not used when initializing RobertaModel: ['classifier.dense.weight', 'classifier.dense.bias', 'classifier.out_proj.weight', 'classifier.out_proj.bias']\n",
            "- This IS expected if you are initializing RobertaModel from the checkpoint of a model trained on another task or with another architecture (e.g. initializing a BertForSequenceClassification model from a BertForPreTraining model).\n",
            "- This IS NOT expected if you are initializing RobertaModel from the checkpoint of a model that you expect to be exactly identical (initializing a BertForSequenceClassification model from a BertForSequenceClassification model).\n",
            "<ipython-input-33-f4f55d4b185e>:12: UserWarning: nn.init.xavier_uniform is now deprecated in favor of nn.init.xavier_uniform_.\n",
            "  torch.nn.init.xavier_uniform(self.hidden.weight)\n",
            "<ipython-input-33-f4f55d4b185e>:13: UserWarning: nn.init.xavier_uniform is now deprecated in favor of nn.init.xavier_uniform_.\n",
            "  torch.nn.init.xavier_uniform(self.classifier.weight)\n",
            "INFO:pytorch_lightning.utilities.rank_zero:GPU available: True (cuda), used: True\n",
            "INFO:pytorch_lightning.utilities.rank_zero:TPU available: False, using: 0 TPU cores\n",
            "INFO:pytorch_lightning.utilities.rank_zero:IPU available: False, using: 0 IPUs\n",
            "INFO:pytorch_lightning.utilities.rank_zero:HPU available: False, using: 0 HPUs\n",
            "INFO:pytorch_lightning.accelerators.cuda:LOCAL_RANK: 0 - CUDA_VISIBLE_DEVICES: [0]\n",
            "INFO:pytorch_lightning.callbacks.model_summary:\n",
            "  | Name             | Type             | Params\n",
            "------------------------------------------------------\n",
            "0 | pretrained_model | RobertaModel     | 355 M \n",
            "1 | hidden           | Linear           | 1.0 M \n",
            "2 | classifier       | Linear           | 3.1 K \n",
            "3 | loss_function    | CrossEntropyLoss | 0     \n",
            "4 | dropout          | Dropout          | 0     \n",
            "------------------------------------------------------\n",
            "356 M     Trainable params\n",
            "0         Non-trainable params\n",
            "356 M     Total params\n",
            "1,425.650 Total estimated model params size (MB)\n"
          ]
        },
        {
          "output_type": "display_data",
          "data": {
            "text/plain": [
              "Sanity Checking: |          | 0/? [00:00<?, ?it/s]"
            ],
            "application/vnd.jupyter.widget-view+json": {
              "version_major": 2,
              "version_minor": 0,
              "model_id": "ffe94666019a48688d36928bd435ad02"
            }
          },
          "metadata": {}
        },
        {
          "output_type": "stream",
          "name": "stderr",
          "text": [
            "/usr/local/lib/python3.10/dist-packages/pytorch_lightning/trainer/connectors/data_connector.py:441: The 'val_dataloader' does not have many workers which may be a bottleneck. Consider increasing the value of the `num_workers` argument` to `num_workers=1` in the `DataLoader` to improve performance.\n",
            "/usr/local/lib/python3.10/dist-packages/pytorch_lightning/trainer/connectors/data_connector.py:441: The 'train_dataloader' does not have many workers which may be a bottleneck. Consider increasing the value of the `num_workers` argument` to `num_workers=1` in the `DataLoader` to improve performance.\n"
          ]
        },
        {
          "output_type": "display_data",
          "data": {
            "text/plain": [
              "Training: |          | 0/? [00:00<?, ?it/s]"
            ],
            "application/vnd.jupyter.widget-view+json": {
              "version_major": 2,
              "version_minor": 0,
              "model_id": "7d371066e4d240a5b79c911bb11febd3"
            }
          },
          "metadata": {}
        },
        {
          "output_type": "display_data",
          "data": {
            "text/plain": [
              "Validation: |          | 0/? [00:00<?, ?it/s]"
            ],
            "application/vnd.jupyter.widget-view+json": {
              "version_major": 2,
              "version_minor": 0,
              "model_id": "7cf15f1f1a604532bfa30a9a2b2c0f2e"
            }
          },
          "metadata": {}
        },
        {
          "output_type": "stream",
          "name": "stderr",
          "text": [
            "INFO:pytorch_lightning.utilities.rank_zero:`Trainer.fit` stopped: `max_epochs=1` reached.\n"
          ]
        }
      ],
      "source": [
        "from pytorch_lightning import Trainer, seed_everything\n",
        "torch.cuda.empty_cache()\n",
        "\n",
        "seed_everything(42, workers=True)\n",
        "\n",
        "# train module\n",
        "train_module = Reddit_Data_Module(data_train, data_test, label_column, batch_size=config['batch_size'])\n",
        "train_module.setup()\n",
        "\n",
        "# model\n",
        "model = Reddit_Classifier(config)\n",
        "\n",
        "# train\n",
        "trainer = pl.Trainer(\n",
        "    max_epochs=config['n_epoch'],\n",
        "    num_sanity_val_steps=2,\n",
        "    accelerator=\"auto\"\n",
        "    # callbacks=[early_stopping_callback] this is not needed at for this training as in only trains for 1 epoch\n",
        "    )\n",
        "\n",
        "trainer.fit(model, train_module)"
      ]
    },
    {
      "cell_type": "code",
      "execution_count": 45,
      "metadata": {
        "id": "H50D5SDYNOI7"
      },
      "outputs": [],
      "source": [
        "# %load_ext tensorboard\n"
      ]
    },
    {
      "cell_type": "code",
      "execution_count": 46,
      "metadata": {
        "id": "Ukg5LfmYMMNJ"
      },
      "outputs": [],
      "source": [
        "# %tensorboard --logdir '/content/lightning_logs/version_0'"
      ]
    },
    {
      "cell_type": "code",
      "execution_count": 47,
      "metadata": {
        "id": "SckiypJPLztt"
      },
      "outputs": [],
      "source": [
        "# !ls -l"
      ]
    },
    {
      "cell_type": "code",
      "execution_count": 48,
      "metadata": {
        "id": "dfznN7JCLd08"
      },
      "outputs": [],
      "source": [
        "# !lsof -i :6006\n"
      ]
    },
    {
      "cell_type": "code",
      "source": [
        "# !kill 8563"
      ],
      "metadata": {
        "id": "6zSw9h97SW1h"
      },
      "execution_count": 49,
      "outputs": []
    },
    {
      "cell_type": "code",
      "execution_count": 50,
      "metadata": {
        "id": "Z0Y7piiwhyTQ"
      },
      "outputs": [],
      "source": [
        "# from tensorboard import notebook\n",
        "# notebook.list()"
      ]
    },
    {
      "cell_type": "code",
      "execution_count": 51,
      "metadata": {
        "id": "k2Jz9WIiiheE"
      },
      "outputs": [],
      "source": [
        "# notebook.display(port=6006, height=500)"
      ]
    },
    {
      "cell_type": "code",
      "execution_count": 52,
      "metadata": {
        "id": "ko3IVTabinlN"
      },
      "outputs": [],
      "source": [
        "# !tensorboard dev upload \\\n",
        "#   --logdir '/content/lightning_logs/version_0' \\\n",
        "#   --name 'ditilroberta finetuned' \\\n",
        "#   --description 'ditilroberta finetuned to reddit data' \\\n",
        "#   --one_shot"
      ]
    },
    {
      "cell_type": "code",
      "source": [
        "# import psutil\n",
        "# print(f\"Memory Usage: {psutil.virtual_memory()}\")"
      ],
      "metadata": {
        "id": "xNrm680dKelO"
      },
      "execution_count": 53,
      "outputs": []
    },
    {
      "cell_type": "code",
      "source": [
        "# Save the trained model\n",
        "# trainer.save_checkpoint(\"/content/drive/MyDrive/MS_DS_NLP_project/models/Sentiment_SiEBERT_1epoch.ckpt\")"
      ],
      "metadata": {
        "id": "_rb6BxLTAXvO"
      },
      "execution_count": 54,
      "outputs": []
    },
    {
      "cell_type": "markdown",
      "metadata": {
        "id": "XZaOt_BADTU-"
      },
      "source": [
        "Predict with model"
      ]
    },
    {
      "cell_type": "code",
      "source": [
        "def classify_raw_text(model, dm, num_threads=1):\n",
        "\n",
        "    device = torch.device(\"cuda\" if torch.cuda.is_available() else \"cpu\")\n",
        "    model.to(device)\n",
        "\n",
        "    # set the number of CPU threads\n",
        "    torch.set_num_threads(num_threads)\n",
        "\n",
        "    # put model in evaluation mode\n",
        "    model.eval()\n",
        "\n",
        "    # initialize list to store predictions\n",
        "    predictions = []\n",
        "\n",
        "    with torch.no_grad():\n",
        "        # iterate through the test dataloader in dm\n",
        "          for batch in dm.predict_dataloader():\n",
        "            input_ids = batch['input_ids'].to(device)\n",
        "            attention_mask = batch['attention_mask'].to(device)\n",
        "\n",
        "            # predict\n",
        "            output = model(input_ids, attention_mask)\n",
        "\n",
        "            # get logits from the tuple ; output[0]=loss output[1]=logits\n",
        "            logits = output[1]\n",
        "\n",
        "            probabilities = nn.functional.softmax(logits, dim=1)\n",
        "\n",
        "            # convert predictions to np array and append to the list\n",
        "            predictions.append(probabilities.cpu().numpy())\n",
        "\n",
        "    # stack predictions from all batches into one array\n",
        "    flatten_predictions = np.vstack(predictions)\n",
        "    return flatten_predictions"
      ],
      "metadata": {
        "id": "Udj-VReWGIxb"
      },
      "execution_count": 60,
      "outputs": []
    },
    {
      "cell_type": "code",
      "execution_count": 61,
      "metadata": {
        "id": "KgeVXT3jEWZl"
      },
      "outputs": [],
      "source": [
        "try:\n",
        "    predictions = classify_raw_text(model, train_module)\n",
        "except Exception as e:\n",
        "    print(f\"An error occurred: {e}\")"
      ]
    },
    {
      "cell_type": "code",
      "source": [
        "import matplotlib.pyplot as plt\n",
        "from sklearn import metrics\n",
        "\n",
        "test_data_labels = np.array(data_test[label_column])\n",
        "\n",
        "plt.figure(figsize=(15, 8))\n",
        "\n",
        "for i, attribute in enumerate(attributes.values()):\n",
        "    fpr, tpr, _ = metrics.roc_curve(\n",
        "        (test_data_labels == i).astype(int), predictions[:, i]\n",
        "    )\n",
        "    auc = metrics.roc_auc_score(\n",
        "        (test_data_labels == i).astype(int), predictions[:, i]\n",
        "    )\n",
        "\n",
        "    plt.plot(fpr, tpr, label=f'{attribute} AUC={auc:.2f}')\n",
        "\n",
        "plt.xlabel('False positive rate')\n",
        "plt.ylabel('True positive rate')\n",
        "plt.legend(loc='lower right')\n",
        "plt.title('SiEBERT Trained on Reddit posts Dataset (1 epoch) - AUC ROC')\n",
        "\n",
        "plt.show()\n"
      ],
      "metadata": {
        "colab": {
          "base_uri": "https://localhost:8080/",
          "height": 384
        },
        "id": "Dx-b06G8HkdJ",
        "outputId": "81f63765-b9fa-46f4-c3b8-5685df245b23"
      },
      "execution_count": 88,
      "outputs": [
        {
          "output_type": "display_data",
          "data": {
            "text/plain": [
              "<Figure size 1500x800 with 1 Axes>"
            ],
            "image/png": "[encoded data removed]"
          },
          "metadata": {}
        }
      ]
    },
    {
      "cell_type": "code",
      "source": [
        "import numpy as np\n",
        "import matplotlib.pyplot as plt\n",
        "from sklearn.metrics import confusion_matrix\n",
        "import seaborn as sns\n",
        "\n",
        "# Assuming predictions and test_data_labels are 1D arrays\n",
        "\n",
        "# convert probabilities to class labels\n",
        "predictions_labels = np.argmax(predictions, axis=1)\n",
        "\n",
        "# create a confusion matrix\n",
        "conf_matrix = confusion_matrix(test_data_labels, predictions_labels)\n",
        "\n",
        "# get class names based on the dictionary\n",
        "class_names = [attributes[i] for i in range(len(attributes))]\n",
        "\n",
        "# plot confusion matrix for the test set using seaborn\n",
        "plt.figure(figsize=(8, 6))\n",
        "sns.heatmap(conf_matrix, annot=True, fmt='d', cmap='Blues', xticklabels=class_names, yticklabels=class_names)\n",
        "plt.xlabel(\"Predicted sentiment\")\n",
        "plt.ylabel(\"Actual sentiment\")\n",
        "plt.title(\"Confusion Matrix\")\n",
        "plt.show()\n"
      ],
      "metadata": {
        "colab": {
          "base_uri": "https://localhost:8080/",
          "height": 564
        },
        "id": "aI_x102-IfKI",
        "outputId": "24833de7-84ba-4bb5-e2f4-e6bb3f3255e0"
      },
      "execution_count": 78,
      "outputs": [
        {
          "output_type": "display_data",
          "data": {
            "text/plain": [
              "<Figure size 800x600 with 2 Axes>"
            ],
            "image/png": "[encoded data removed]"
          },
          "metadata": {}
        }
      ]
    },
    {
      "cell_type": "code",
      "execution_count": 82,
      "metadata": {
        "id": "_goF_zbqOreu",
        "colab": {
          "base_uri": "https://localhost:8080/"
        },
        "outputId": "0b063a45-6568-4e85-9d64-596488532fe8"
      },
      "outputs": [
        {
          "output_type": "stream",
          "name": "stdout",
          "text": [
            "Accuracy:   0.2769\n",
            "Precision:  0.39729118618007503\n",
            "Recall:     0.27692307692307694\n",
            "F1 Score:   0.3179233397685147\n",
            "F2 Score:   0.2878644987252728\n"
          ]
        }
      ],
      "source": [
        "from sklearn.metrics import accuracy_score, precision_score, recall_score, f1_score, fbeta_score\n",
        "\n",
        "# convert probabilities to class labels\n",
        "rounded_predictions = np.argmax(predictions, axis=1)\n",
        "\n",
        "# accuracy score\n",
        "accuracy = accuracy_score(test_data_labels, rounded_predictions)\n",
        "\n",
        "# precision, recall, and F1 score (compute the weighted version for all metrics as this take into account the class imbalance/distribution)\n",
        "precisions = precision_score(test_data_labels, rounded_predictions, average='weighted')\n",
        "recalls = recall_score(test_data_labels, rounded_predictions, average='weighted')\n",
        "f1_scores = f1_score(test_data_labels, rounded_predictions, average='weighted')\n",
        "f2_scores = fbeta_score(test_data_labels, rounded_predictions, beta=2, average='weighted')\n",
        "\n",
        "print(f\"Accuracy:   {accuracy:.4f}\")\n",
        "print(f\"Precision:  {precisions}\")\n",
        "print(f\"Recall:     {recalls}\")\n",
        "print(f\"F1 Score:   {f1_scores}\")\n",
        "print(f\"F2 Score:   {f2_scores}\")\n",
        "\n",
        "\n",
        "# f1=0.31 => the model performs very poorly after just one epoch of training\n",
        "# this does not support the claim made in the paper (at least on this dataset)\n"
      ]
    },
    {
      "cell_type": "code",
      "execution_count": 83,
      "metadata": {
        "id": "OqeytoEKYH96",
        "colab": {
          "base_uri": "https://localhost:8080/"
        },
        "outputId": "1183851b-cd0a-4dbb-e435-9e1448988309"
      },
      "outputs": [
        {
          "output_type": "stream",
          "name": "stdout",
          "text": [
            "Reddit_Classifier(\n",
            "  (pretrained_model): RobertaModel(\n",
            "    (embeddings): RobertaEmbeddings(\n",
            "      (word_embeddings): Embedding(50265, 1024, padding_idx=1)\n",
            "      (position_embeddings): Embedding(514, 1024, padding_idx=1)\n",
            "      (token_type_embeddings): Embedding(1, 1024)\n",
            "      (LayerNorm): LayerNorm((1024,), eps=1e-05, elementwise_affine=True)\n",
            "      (dropout): Dropout(p=0.1, inplace=False)\n",
            "    )\n",
            "    (encoder): RobertaEncoder(\n",
            "      (layer): ModuleList(\n",
            "        (0-23): 24 x RobertaLayer(\n",
            "          (attention): RobertaAttention(\n",
            "            (self): RobertaSelfAttention(\n",
            "              (query): Linear(in_features=1024, out_features=1024, bias=True)\n",
            "              (key): Linear(in_features=1024, out_features=1024, bias=True)\n",
            "              (value): Linear(in_features=1024, out_features=1024, bias=True)\n",
            "              (dropout): Dropout(p=0.1, inplace=False)\n",
            "            )\n",
            "            (output): RobertaSelfOutput(\n",
            "              (dense): Linear(in_features=1024, out_features=1024, bias=True)\n",
            "              (LayerNorm): LayerNorm((1024,), eps=1e-05, elementwise_affine=True)\n",
            "              (dropout): Dropout(p=0.1, inplace=False)\n",
            "            )\n",
            "          )\n",
            "          (intermediate): RobertaIntermediate(\n",
            "            (dense): Linear(in_features=1024, out_features=4096, bias=True)\n",
            "            (intermediate_act_fn): GELUActivation()\n",
            "          )\n",
            "          (output): RobertaOutput(\n",
            "            (dense): Linear(in_features=4096, out_features=1024, bias=True)\n",
            "            (LayerNorm): LayerNorm((1024,), eps=1e-05, elementwise_affine=True)\n",
            "            (dropout): Dropout(p=0.1, inplace=False)\n",
            "          )\n",
            "        )\n",
            "      )\n",
            "    )\n",
            "    (pooler): RobertaPooler(\n",
            "      (dense): Linear(in_features=1024, out_features=1024, bias=True)\n",
            "      (activation): Tanh()\n",
            "    )\n",
            "  )\n",
            "  (hidden): Linear(in_features=1024, out_features=1024, bias=True)\n",
            "  (classifier): Linear(in_features=1024, out_features=3, bias=True)\n",
            "  (loss_function): CrossEntropyLoss()\n",
            "  (dropout): Dropout(p=0.5, inplace=False)\n",
            ")\n"
          ]
        }
      ],
      "source": [
        "# the finetuned SiEBERT 1 epoch model ( using subreddits data )\n",
        "print(model)"
      ]
    }
  ],
  "metadata": {
    "accelerator": "GPU",
    "colab": {
      "provenance": [],
      "gpuType": "V100",
      "mount_file_id": "1kW2o_FW3R7cTpHidwvZDpAD_QtEfG4jQ",
      "authorship_tag": "ABX9TyPYenBHwh8O3xYMdRYkRViw",
      "include_colab_link": true
    },
    "kernelspec": {
      "display_name": "Python 3",
      "name": "python3"
    },
    "language_info": {
      "name": "python"
    },
    "widgets": {
      "application/vnd.jupyter.widget-state+json": {
        "ffe94666019a48688d36928bd435ad02": {
          "model_module": "@jupyter-widgets/controls",
          "model_name": "HBoxModel",
          "model_module_version": "1.5.0",
          "state": {
            "_dom_classes": [],
            "_model_module": "@jupyter-widgets/controls",
            "_model_module_version": "1.5.0",
            "_model_name": "HBoxModel",
            "_view_count": null,
            "_view_module": "@jupyter-widgets/controls",
            "_view_module_version": "1.5.0",
            "_view_name": "HBoxView",
            "box_style": "",
            "children": [
              "IPY_MODEL_f317131dafbc408dbb619b190449c9fe",
              "IPY_MODEL_5293a2d57ace45498083f5117b7a5d8d",
              "IPY_MODEL_6a6b07a581b9414e8a03c32de2306c1f"
            ],
            "layout": "IPY_MODEL_412483c38cb047418c6e6b12011a054e"
          }
        },
        "f317131dafbc408dbb619b190449c9fe": {
          "model_module": "@jupyter-widgets/controls",
          "model_name": "HTMLModel",
          "model_module_version": "1.5.0",
          "state": {
            "_dom_classes": [],
            "_model_module": "@jupyter-widgets/controls",
            "_model_module_version": "1.5.0",
            "_model_name": "HTMLModel",
            "_view_count": null,
            "_view_module": "@jupyter-widgets/controls",
            "_view_module_version": "1.5.0",
            "_view_name": "HTMLView",
            "description": "",
            "description_tooltip": null,
            "layout": "IPY_MODEL_fa8bdd9f01e64b808757883a75a8767f",
            "placeholder": "​",
            "style": "IPY_MODEL_24facd358e2f4067a5383efe6ce42ae0",
            "value": "Sanity Checking DataLoader 0: 100%"
          }
        },
        "5293a2d57ace45498083f5117b7a5d8d": {
          "model_module": "@jupyter-widgets/controls",
          "model_name": "FloatProgressModel",
          "model_module_version": "1.5.0",
          "state": {
            "_dom_classes": [],
            "_model_module": "@jupyter-widgets/controls",
            "_model_module_version": "1.5.0",
            "_model_name": "FloatProgressModel",
            "_view_count": null,
            "_view_module": "@jupyter-widgets/controls",
            "_view_module_version": "1.5.0",
            "_view_name": "ProgressView",
            "bar_style": "",
            "description": "",
            "description_tooltip": null,
            "layout": "IPY_MODEL_e174ce7285f94bcf93f76b67aae18ee5",
            "max": 2,
            "min": 0,
            "orientation": "horizontal",
            "style": "IPY_MODEL_790150fb88a64619b08ecb3b523dcfda",
            "value": 2
          }
        },
        "6a6b07a581b9414e8a03c32de2306c1f": {
          "model_module": "@jupyter-widgets/controls",
          "model_name": "HTMLModel",
          "model_module_version": "1.5.0",
          "state": {
            "_dom_classes": [],
            "_model_module": "@jupyter-widgets/controls",
            "_model_module_version": "1.5.0",
            "_model_name": "HTMLModel",
            "_view_count": null,
            "_view_module": "@jupyter-widgets/controls",
            "_view_module_version": "1.5.0",
            "_view_name": "HTMLView",
            "description": "",
            "description_tooltip": null,
            "layout": "IPY_MODEL_15ec8475908c4cffab9f148325e8b865",
            "placeholder": "​",
            "style": "IPY_MODEL_2a507d72715c41379ebf639a5cd4b8a3",
            "value": " 2/2 [00:00&lt;00:00,  2.67it/s]"
          }
        },
        "412483c38cb047418c6e6b12011a054e": {
          "model_module": "@jupyter-widgets/base",
          "model_name": "LayoutModel",
          "model_module_version": "1.2.0",
          "state": {
            "_model_module": "@jupyter-widgets/base",
            "_model_module_version": "1.2.0",
            "_model_name": "LayoutModel",
            "_view_count": null,
            "_view_module": "@jupyter-widgets/base",
            "_view_module_version": "1.2.0",
            "_view_name": "LayoutView",
            "align_content": null,
            "align_items": null,
            "align_self": null,
            "border": null,
            "bottom": null,
            "display": "inline-flex",
            "flex": null,
            "flex_flow": "row wrap",
            "grid_area": null,
            "grid_auto_columns": null,
            "grid_auto_flow": null,
            "grid_auto_rows": null,
            "grid_column": null,
            "grid_gap": null,
            "grid_row": null,
            "grid_template_areas": null,
            "grid_template_columns": null,
            "grid_template_rows": null,
            "height": null,
            "justify_content": null,
            "justify_items": null,
            "left": null,
            "margin": null,
            "max_height": null,
            "max_width": null,
            "min_height": null,
            "min_width": null,
            "object_fit": null,
            "object_position": null,
            "order": null,
            "overflow": null,
            "overflow_x": null,
            "overflow_y": null,
            "padding": null,
            "right": null,
            "top": null,
            "visibility": "hidden",
            "width": "100%"
          }
        },
        "fa8bdd9f01e64b808757883a75a8767f": {
          "model_module": "@jupyter-widgets/base",
          "model_name": "LayoutModel",
          "model_module_version": "1.2.0",
          "state": {
            "_model_module": "@jupyter-widgets/base",
            "_model_module_version": "1.2.0",
            "_model_name": "LayoutModel",
            "_view_count": null,
            "_view_module": "@jupyter-widgets/base",
            "_view_module_version": "1.2.0",
            "_view_name": "LayoutView",
            "align_content": null,
            "align_items": null,
            "align_self": null,
            "border": null,
            "bottom": null,
            "display": null,
            "flex": null,
            "flex_flow": null,
            "grid_area": null,
            "grid_auto_columns": null,
            "grid_auto_flow": null,
            "grid_auto_rows": null,
            "grid_column": null,
            "grid_gap": null,
            "grid_row": null,
            "grid_template_areas": null,
            "grid_template_columns": null,
            "grid_template_rows": null,
            "height": null,
            "justify_content": null,
            "justify_items": null,
            "left": null,
            "margin": null,
            "max_height": null,
            "max_width": null,
            "min_height": null,
            "min_width": null,
            "object_fit": null,
            "object_position": null,
            "order": null,
            "overflow": null,
            "overflow_x": null,
            "overflow_y": null,
            "padding": null,
            "right": null,
            "top": null,
            "visibility": null,
            "width": null
          }
        },
        "24facd358e2f4067a5383efe6ce42ae0": {
          "model_module": "@jupyter-widgets/controls",
          "model_name": "DescriptionStyleModel",
          "model_module_version": "1.5.0",
          "state": {
            "_model_module": "@jupyter-widgets/controls",
            "_model_module_version": "1.5.0",
            "_model_name": "DescriptionStyleModel",
            "_view_count": null,
            "_view_module": "@jupyter-widgets/base",
            "_view_module_version": "1.2.0",
            "_view_name": "StyleView",
            "description_width": ""
          }
        },
        "e174ce7285f94bcf93f76b67aae18ee5": {
          "model_module": "@jupyter-widgets/base",
          "model_name": "LayoutModel",
          "model_module_version": "1.2.0",
          "state": {
            "_model_module": "@jupyter-widgets/base",
            "_model_module_version": "1.2.0",
            "_model_name": "LayoutModel",
            "_view_count": null,
            "_view_module": "@jupyter-widgets/base",
            "_view_module_version": "1.2.0",
            "_view_name": "LayoutView",
            "align_content": null,
            "align_items": null,
            "align_self": null,
            "border": null,
            "bottom": null,
            "display": null,
            "flex": "2",
            "flex_flow": null,
            "grid_area": null,
            "grid_auto_columns": null,
            "grid_auto_flow": null,
            "grid_auto_rows": null,
            "grid_column": null,
            "grid_gap": null,
            "grid_row": null,
            "grid_template_areas": null,
            "grid_template_columns": null,
            "grid_template_rows": null,
            "height": null,
            "justify_content": null,
            "justify_items": null,
            "left": null,
            "margin": null,
            "max_height": null,
            "max_width": null,
            "min_height": null,
            "min_width": null,
            "object_fit": null,
            "object_position": null,
            "order": null,
            "overflow": null,
            "overflow_x": null,
            "overflow_y": null,
            "padding": null,
            "right": null,
            "top": null,
            "visibility": null,
            "width": null
          }
        },
        "790150fb88a64619b08ecb3b523dcfda": {
          "model_module": "@jupyter-widgets/controls",
          "model_name": "ProgressStyleModel",
          "model_module_version": "1.5.0",
          "state": {
            "_model_module": "@jupyter-widgets/controls",
            "_model_module_version": "1.5.0",
            "_model_name": "ProgressStyleModel",
            "_view_count": null,
            "_view_module": "@jupyter-widgets/base",
            "_view_module_version": "1.2.0",
            "_view_name": "StyleView",
            "bar_color": null,
            "description_width": ""
          }
        },
        "15ec8475908c4cffab9f148325e8b865": {
          "model_module": "@jupyter-widgets/base",
          "model_name": "LayoutModel",
          "model_module_version": "1.2.0",
          "state": {
            "_model_module": "@jupyter-widgets/base",
            "_model_module_version": "1.2.0",
            "_model_name": "LayoutModel",
            "_view_count": null,
            "_view_module": "@jupyter-widgets/base",
            "_view_module_version": "1.2.0",
            "_view_name": "LayoutView",
            "align_content": null,
            "align_items": null,
            "align_self": null,
            "border": null,
            "bottom": null,
            "display": null,
            "flex": null,
            "flex_flow": null,
            "grid_area": null,
            "grid_auto_columns": null,
            "grid_auto_flow": null,
            "grid_auto_rows": null,
            "grid_column": null,
            "grid_gap": null,
            "grid_row": null,
            "grid_template_areas": null,
            "grid_template_columns": null,
            "grid_template_rows": null,
            "height": null,
            "justify_content": null,
            "justify_items": null,
            "left": null,
            "margin": null,
            "max_height": null,
            "max_width": null,
            "min_height": null,
            "min_width": null,
            "object_fit": null,
            "object_position": null,
            "order": null,
            "overflow": null,
            "overflow_x": null,
            "overflow_y": null,
            "padding": null,
            "right": null,
            "top": null,
            "visibility": null,
            "width": null
          }
        },
        "2a507d72715c41379ebf639a5cd4b8a3": {
          "model_module": "@jupyter-widgets/controls",
          "model_name": "DescriptionStyleModel",
          "model_module_version": "1.5.0",
          "state": {
            "_model_module": "@jupyter-widgets/controls",
            "_model_module_version": "1.5.0",
            "_model_name": "DescriptionStyleModel",
            "_view_count": null,
            "_view_module": "@jupyter-widgets/base",
            "_view_module_version": "1.2.0",
            "_view_name": "StyleView",
            "description_width": ""
          }
        },
        "7d371066e4d240a5b79c911bb11febd3": {
          "model_module": "@jupyter-widgets/controls",
          "model_name": "HBoxModel",
          "model_module_version": "1.5.0",
          "state": {
            "_dom_classes": [],
            "_model_module": "@jupyter-widgets/controls",
            "_model_module_version": "1.5.0",
            "_model_name": "HBoxModel",
            "_view_count": null,
            "_view_module": "@jupyter-widgets/controls",
            "_view_module_version": "1.5.0",
            "_view_name": "HBoxView",
            "box_style": "",
            "children": [
              "IPY_MODEL_c20f13303c40443994cf5c5aaa22ec80",
              "IPY_MODEL_e9da070c22684f7583ce69c26bd6649b",
              "IPY_MODEL_1a66f6caff164a70a819bb007cfa7df7"
            ],
            "layout": "IPY_MODEL_2c243499ac15473b85618414a8172a05"
          }
        },
        "c20f13303c40443994cf5c5aaa22ec80": {
          "model_module": "@jupyter-widgets/controls",
          "model_name": "HTMLModel",
          "model_module_version": "1.5.0",
          "state": {
            "_dom_classes": [],
            "_model_module": "@jupyter-widgets/controls",
            "_model_module_version": "1.5.0",
            "_model_name": "HTMLModel",
            "_view_count": null,
            "_view_module": "@jupyter-widgets/controls",
            "_view_module_version": "1.5.0",
            "_view_name": "HTMLView",
            "description": "",
            "description_tooltip": null,
            "layout": "IPY_MODEL_3cae41808df0498fb0542d335cf4e17c",
            "placeholder": "​",
            "style": "IPY_MODEL_c86cac8428c24f9d9f61e079fcfd5d6c",
            "value": "Epoch 0: 100%"
          }
        },
        "e9da070c22684f7583ce69c26bd6649b": {
          "model_module": "@jupyter-widgets/controls",
          "model_name": "FloatProgressModel",
          "model_module_version": "1.5.0",
          "state": {
            "_dom_classes": [],
            "_model_module": "@jupyter-widgets/controls",
            "_model_module_version": "1.5.0",
            "_model_name": "FloatProgressModel",
            "_view_count": null,
            "_view_module": "@jupyter-widgets/controls",
            "_view_module_version": "1.5.0",
            "_view_name": "ProgressView",
            "bar_style": "success",
            "description": "",
            "description_tooltip": null,
            "layout": "IPY_MODEL_31ba88fd9fb349a1bd8a0b62e9eb970a",
            "max": 176,
            "min": 0,
            "orientation": "horizontal",
            "style": "IPY_MODEL_34176955eea34246b8616bf94dfb0b8a",
            "value": 176
          }
        },
        "1a66f6caff164a70a819bb007cfa7df7": {
          "model_module": "@jupyter-widgets/controls",
          "model_name": "HTMLModel",
          "model_module_version": "1.5.0",
          "state": {
            "_dom_classes": [],
            "_model_module": "@jupyter-widgets/controls",
            "_model_module_version": "1.5.0",
            "_model_name": "HTMLModel",
            "_view_count": null,
            "_view_module": "@jupyter-widgets/controls",
            "_view_module_version": "1.5.0",
            "_view_name": "HTMLView",
            "description": "",
            "description_tooltip": null,
            "layout": "IPY_MODEL_1cc3401eb0f14e33a08b0dc852ea8e5c",
            "placeholder": "​",
            "style": "IPY_MODEL_f0929fca0afe42879e01016575615506",
            "value": " 176/176 [01:49&lt;00:00,  1.61it/s, v_num=1, train_loss=1.780, validation loss=1.850]"
          }
        },
        "2c243499ac15473b85618414a8172a05": {
          "model_module": "@jupyter-widgets/base",
          "model_name": "LayoutModel",
          "model_module_version": "1.2.0",
          "state": {
            "_model_module": "@jupyter-widgets/base",
            "_model_module_version": "1.2.0",
            "_model_name": "LayoutModel",
            "_view_count": null,
            "_view_module": "@jupyter-widgets/base",
            "_view_module_version": "1.2.0",
            "_view_name": "LayoutView",
            "align_content": null,
            "align_items": null,
            "align_self": null,
            "border": null,
            "bottom": null,
            "display": "inline-flex",
            "flex": null,
            "flex_flow": "row wrap",
            "grid_area": null,
            "grid_auto_columns": null,
            "grid_auto_flow": null,
            "grid_auto_rows": null,
            "grid_column": null,
            "grid_gap": null,
            "grid_row": null,
            "grid_template_areas": null,
            "grid_template_columns": null,
            "grid_template_rows": null,
            "height": null,
            "justify_content": null,
            "justify_items": null,
            "left": null,
            "margin": null,
            "max_height": null,
            "max_width": null,
            "min_height": null,
            "min_width": null,
            "object_fit": null,
            "object_position": null,
            "order": null,
            "overflow": null,
            "overflow_x": null,
            "overflow_y": null,
            "padding": null,
            "right": null,
            "top": null,
            "visibility": null,
            "width": "100%"
          }
        },
        "3cae41808df0498fb0542d335cf4e17c": {
          "model_module": "@jupyter-widgets/base",
          "model_name": "LayoutModel",
          "model_module_version": "1.2.0",
          "state": {
            "_model_module": "@jupyter-widgets/base",
            "_model_module_version": "1.2.0",
            "_model_name": "LayoutModel",
            "_view_count": null,
            "_view_module": "@jupyter-widgets/base",
            "_view_module_version": "1.2.0",
            "_view_name": "LayoutView",
            "align_content": null,
            "align_items": null,
            "align_self": null,
            "border": null,
            "bottom": null,
            "display": null,
            "flex": null,
            "flex_flow": null,
            "grid_area": null,
            "grid_auto_columns": null,
            "grid_auto_flow": null,
            "grid_auto_rows": null,
            "grid_column": null,
            "grid_gap": null,
            "grid_row": null,
            "grid_template_areas": null,
            "grid_template_columns": null,
            "grid_template_rows": null,
            "height": null,
            "justify_content": null,
            "justify_items": null,
            "left": null,
            "margin": null,
            "max_height": null,
            "max_width": null,
            "min_height": null,
            "min_width": null,
            "object_fit": null,
            "object_position": null,
            "order": null,
            "overflow": null,
            "overflow_x": null,
            "overflow_y": null,
            "padding": null,
            "right": null,
            "top": null,
            "visibility": null,
            "width": null
          }
        },
        "c86cac8428c24f9d9f61e079fcfd5d6c": {
          "model_module": "@jupyter-widgets/controls",
          "model_name": "DescriptionStyleModel",
          "model_module_version": "1.5.0",
          "state": {
            "_model_module": "@jupyter-widgets/controls",
            "_model_module_version": "1.5.0",
            "_model_name": "DescriptionStyleModel",
            "_view_count": null,
            "_view_module": "@jupyter-widgets/base",
            "_view_module_version": "1.2.0",
            "_view_name": "StyleView",
            "description_width": ""
          }
        },
        "31ba88fd9fb349a1bd8a0b62e9eb970a": {
          "model_module": "@jupyter-widgets/base",
          "model_name": "LayoutModel",
          "model_module_version": "1.2.0",
          "state": {
            "_model_module": "@jupyter-widgets/base",
            "_model_module_version": "1.2.0",
            "_model_name": "LayoutModel",
            "_view_count": null,
            "_view_module": "@jupyter-widgets/base",
            "_view_module_version": "1.2.0",
            "_view_name": "LayoutView",
            "align_content": null,
            "align_items": null,
            "align_self": null,
            "border": null,
            "bottom": null,
            "display": null,
            "flex": "2",
            "flex_flow": null,
            "grid_area": null,
            "grid_auto_columns": null,
            "grid_auto_flow": null,
            "grid_auto_rows": null,
            "grid_column": null,
            "grid_gap": null,
            "grid_row": null,
            "grid_template_areas": null,
            "grid_template_columns": null,
            "grid_template_rows": null,
            "height": null,
            "justify_content": null,
            "justify_items": null,
            "left": null,
            "margin": null,
            "max_height": null,
            "max_width": null,
            "min_height": null,
            "min_width": null,
            "object_fit": null,
            "object_position": null,
            "order": null,
            "overflow": null,
            "overflow_x": null,
            "overflow_y": null,
            "padding": null,
            "right": null,
            "top": null,
            "visibility": null,
            "width": null
          }
        },
        "34176955eea34246b8616bf94dfb0b8a": {
          "model_module": "@jupyter-widgets/controls",
          "model_name": "ProgressStyleModel",
          "model_module_version": "1.5.0",
          "state": {
            "_model_module": "@jupyter-widgets/controls",
            "_model_module_version": "1.5.0",
            "_model_name": "ProgressStyleModel",
            "_view_count": null,
            "_view_module": "@jupyter-widgets/base",
            "_view_module_version": "1.2.0",
            "_view_name": "StyleView",
            "bar_color": null,
            "description_width": ""
          }
        },
        "1cc3401eb0f14e33a08b0dc852ea8e5c": {
          "model_module": "@jupyter-widgets/base",
          "model_name": "LayoutModel",
          "model_module_version": "1.2.0",
          "state": {
            "_model_module": "@jupyter-widgets/base",
            "_model_module_version": "1.2.0",
            "_model_name": "LayoutModel",
            "_view_count": null,
            "_view_module": "@jupyter-widgets/base",
            "_view_module_version": "1.2.0",
            "_view_name": "LayoutView",
            "align_content": null,
            "align_items": null,
            "align_self": null,
            "border": null,
            "bottom": null,
            "display": null,
            "flex": null,
            "flex_flow": null,
            "grid_area": null,
            "grid_auto_columns": null,
            "grid_auto_flow": null,
            "grid_auto_rows": null,
            "grid_column": null,
            "grid_gap": null,
            "grid_row": null,
            "grid_template_areas": null,
            "grid_template_columns": null,
            "grid_template_rows": null,
            "height": null,
            "justify_content": null,
            "justify_items": null,
            "left": null,
            "margin": null,
            "max_height": null,
            "max_width": null,
            "min_height": null,
            "min_width": null,
            "object_fit": null,
            "object_position": null,
            "order": null,
            "overflow": null,
            "overflow_x": null,
            "overflow_y": null,
            "padding": null,
            "right": null,
            "top": null,
            "visibility": null,
            "width": null
          }
        },
        "f0929fca0afe42879e01016575615506": {
          "model_module": "@jupyter-widgets/controls",
          "model_name": "DescriptionStyleModel",
          "model_module_version": "1.5.0",
          "state": {
            "_model_module": "@jupyter-widgets/controls",
            "_model_module_version": "1.5.0",
            "_model_name": "DescriptionStyleModel",
            "_view_count": null,
            "_view_module": "@jupyter-widgets/base",
            "_view_module_version": "1.2.0",
            "_view_name": "StyleView",
            "description_width": ""
          }
        },
        "7cf15f1f1a604532bfa30a9a2b2c0f2e": {
          "model_module": "@jupyter-widgets/controls",
          "model_name": "HBoxModel",
          "model_module_version": "1.5.0",
          "state": {
            "_dom_classes": [],
            "_model_module": "@jupyter-widgets/controls",
            "_model_module_version": "1.5.0",
            "_model_name": "HBoxModel",
            "_view_count": null,
            "_view_module": "@jupyter-widgets/controls",
            "_view_module_version": "1.5.0",
            "_view_name": "HBoxView",
            "box_style": "",
            "children": [
              "IPY_MODEL_204051da2eee4779b4fbbe951473fb02",
              "IPY_MODEL_d9d1a47a562f4aed8b64db129cf5697b",
              "IPY_MODEL_1c3bc370f2c844f6986490ddf3cb3473"
            ],
            "layout": "IPY_MODEL_ac53004df94f4ec2ba3a6704f0cf127d"
          }
        },
        "204051da2eee4779b4fbbe951473fb02": {
          "model_module": "@jupyter-widgets/controls",
          "model_name": "HTMLModel",
          "model_module_version": "1.5.0",
          "state": {
            "_dom_classes": [],
            "_model_module": "@jupyter-widgets/controls",
            "_model_module_version": "1.5.0",
            "_model_name": "HTMLModel",
            "_view_count": null,
            "_view_module": "@jupyter-widgets/controls",
            "_view_module_version": "1.5.0",
            "_view_name": "HTMLView",
            "description": "",
            "description_tooltip": null,
            "layout": "IPY_MODEL_c423e466b8ea40a488d9826218807302",
            "placeholder": "​",
            "style": "IPY_MODEL_d703bcb7e0654135bf39512f635c10da",
            "value": "Validation DataLoader 0: 100%"
          }
        },
        "d9d1a47a562f4aed8b64db129cf5697b": {
          "model_module": "@jupyter-widgets/controls",
          "model_name": "FloatProgressModel",
          "model_module_version": "1.5.0",
          "state": {
            "_dom_classes": [],
            "_model_module": "@jupyter-widgets/controls",
            "_model_module_version": "1.5.0",
            "_model_name": "FloatProgressModel",
            "_view_count": null,
            "_view_module": "@jupyter-widgets/controls",
            "_view_module_version": "1.5.0",
            "_view_name": "ProgressView",
            "bar_style": "",
            "description": "",
            "description_tooltip": null,
            "layout": "IPY_MODEL_38b2357e8d7f4e8b8fb2160195f96d52",
            "max": 20,
            "min": 0,
            "orientation": "horizontal",
            "style": "IPY_MODEL_e9a4b012bbf14174a6e32e194aedfab2",
            "value": 20
          }
        },
        "1c3bc370f2c844f6986490ddf3cb3473": {
          "model_module": "@jupyter-widgets/controls",
          "model_name": "HTMLModel",
          "model_module_version": "1.5.0",
          "state": {
            "_dom_classes": [],
            "_model_module": "@jupyter-widgets/controls",
            "_model_module_version": "1.5.0",
            "_model_name": "HTMLModel",
            "_view_count": null,
            "_view_module": "@jupyter-widgets/controls",
            "_view_module_version": "1.5.0",
            "_view_name": "HTMLView",
            "description": "",
            "description_tooltip": null,
            "layout": "IPY_MODEL_6a67fc1130954d62a99dca2795ca5de8",
            "placeholder": "​",
            "style": "IPY_MODEL_cc4c772cc20844939f1ab8f3f992db1f",
            "value": " 20/20 [00:02&lt;00:00,  9.01it/s]"
          }
        },
        "ac53004df94f4ec2ba3a6704f0cf127d": {
          "model_module": "@jupyter-widgets/base",
          "model_name": "LayoutModel",
          "model_module_version": "1.2.0",
          "state": {
            "_model_module": "@jupyter-widgets/base",
            "_model_module_version": "1.2.0",
            "_model_name": "LayoutModel",
            "_view_count": null,
            "_view_module": "@jupyter-widgets/base",
            "_view_module_version": "1.2.0",
            "_view_name": "LayoutView",
            "align_content": null,
            "align_items": null,
            "align_self": null,
            "border": null,
            "bottom": null,
            "display": "inline-flex",
            "flex": null,
            "flex_flow": "row wrap",
            "grid_area": null,
            "grid_auto_columns": null,
            "grid_auto_flow": null,
            "grid_auto_rows": null,
            "grid_column": null,
            "grid_gap": null,
            "grid_row": null,
            "grid_template_areas": null,
            "grid_template_columns": null,
            "grid_template_rows": null,
            "height": null,
            "justify_content": null,
            "justify_items": null,
            "left": null,
            "margin": null,
            "max_height": null,
            "max_width": null,
            "min_height": null,
            "min_width": null,
            "object_fit": null,
            "object_position": null,
            "order": null,
            "overflow": null,
            "overflow_x": null,
            "overflow_y": null,
            "padding": null,
            "right": null,
            "top": null,
            "visibility": "hidden",
            "width": "100%"
          }
        },
        "c423e466b8ea40a488d9826218807302": {
          "model_module": "@jupyter-widgets/base",
          "model_name": "LayoutModel",
          "model_module_version": "1.2.0",
          "state": {
            "_model_module": "@jupyter-widgets/base",
            "_model_module_version": "1.2.0",
            "_model_name": "LayoutModel",
            "_view_count": null,
            "_view_module": "@jupyter-widgets/base",
            "_view_module_version": "1.2.0",
            "_view_name": "LayoutView",
            "align_content": null,
            "align_items": null,
            "align_self": null,
            "border": null,
            "bottom": null,
            "display": null,
            "flex": null,
            "flex_flow": null,
            "grid_area": null,
            "grid_auto_columns": null,
            "grid_auto_flow": null,
            "grid_auto_rows": null,
            "grid_column": null,
            "grid_gap": null,
            "grid_row": null,
            "grid_template_areas": null,
            "grid_template_columns": null,
            "grid_template_rows": null,
            "height": null,
            "justify_content": null,
            "justify_items": null,
            "left": null,
            "margin": null,
            "max_height": null,
            "max_width": null,
            "min_height": null,
            "min_width": null,
            "object_fit": null,
            "object_position": null,
            "order": null,
            "overflow": null,
            "overflow_x": null,
            "overflow_y": null,
            "padding": null,
            "right": null,
            "top": null,
            "visibility": null,
            "width": null
          }
        },
        "d703bcb7e0654135bf39512f635c10da": {
          "model_module": "@jupyter-widgets/controls",
          "model_name": "DescriptionStyleModel",
          "model_module_version": "1.5.0",
          "state": {
            "_model_module": "@jupyter-widgets/controls",
            "_model_module_version": "1.5.0",
            "_model_name": "DescriptionStyleModel",
            "_view_count": null,
            "_view_module": "@jupyter-widgets/base",
            "_view_module_version": "1.2.0",
            "_view_name": "StyleView",
            "description_width": ""
          }
        },
        "38b2357e8d7f4e8b8fb2160195f96d52": {
          "model_module": "@jupyter-widgets/base",
          "model_name": "LayoutModel",
          "model_module_version": "1.2.0",
          "state": {
            "_model_module": "@jupyter-widgets/base",
            "_model_module_version": "1.2.0",
            "_model_name": "LayoutModel",
            "_view_count": null,
            "_view_module": "@jupyter-widgets/base",
            "_view_module_version": "1.2.0",
            "_view_name": "LayoutView",
            "align_content": null,
            "align_items": null,
            "align_self": null,
            "border": null,
            "bottom": null,
            "display": null,
            "flex": "2",
            "flex_flow": null,
            "grid_area": null,
            "grid_auto_columns": null,
            "grid_auto_flow": null,
            "grid_auto_rows": null,
            "grid_column": null,
            "grid_gap": null,
            "grid_row": null,
            "grid_template_areas": null,
            "grid_template_columns": null,
            "grid_template_rows": null,
            "height": null,
            "justify_content": null,
            "justify_items": null,
            "left": null,
            "margin": null,
            "max_height": null,
            "max_width": null,
            "min_height": null,
            "min_width": null,
            "object_fit": null,
            "object_position": null,
            "order": null,
            "overflow": null,
            "overflow_x": null,
            "overflow_y": null,
            "padding": null,
            "right": null,
            "top": null,
            "visibility": null,
            "width": null
          }
        },
        "e9a4b012bbf14174a6e32e194aedfab2": {
          "model_module": "@jupyter-widgets/controls",
          "model_name": "ProgressStyleModel",
          "model_module_version": "1.5.0",
          "state": {
            "_model_module": "@jupyter-widgets/controls",
            "_model_module_version": "1.5.0",
            "_model_name": "ProgressStyleModel",
            "_view_count": null,
            "_view_module": "@jupyter-widgets/base",
            "_view_module_version": "1.2.0",
            "_view_name": "StyleView",
            "bar_color": null,
            "description_width": ""
          }
        },
        "6a67fc1130954d62a99dca2795ca5de8": {
          "model_module": "@jupyter-widgets/base",
          "model_name": "LayoutModel",
          "model_module_version": "1.2.0",
          "state": {
            "_model_module": "@jupyter-widgets/base",
            "_model_module_version": "1.2.0",
            "_model_name": "LayoutModel",
            "_view_count": null,
            "_view_module": "@jupyter-widgets/base",
            "_view_module_version": "1.2.0",
            "_view_name": "LayoutView",
            "align_content": null,
            "align_items": null,
            "align_self": null,
            "border": null,
            "bottom": null,
            "display": null,
            "flex": null,
            "flex_flow": null,
            "grid_area": null,
            "grid_auto_columns": null,
            "grid_auto_flow": null,
            "grid_auto_rows": null,
            "grid_column": null,
            "grid_gap": null,
            "grid_row": null,
            "grid_template_areas": null,
            "grid_template_columns": null,
            "grid_template_rows": null,
            "height": null,
            "justify_content": null,
            "justify_items": null,
            "left": null,
            "margin": null,
            "max_height": null,
            "max_width": null,
            "min_height": null,
            "min_width": null,
            "object_fit": null,
            "object_position": null,
            "order": null,
            "overflow": null,
            "overflow_x": null,
            "overflow_y": null,
            "padding": null,
            "right": null,
            "top": null,
            "visibility": null,
            "width": null
          }
        },
        "cc4c772cc20844939f1ab8f3f992db1f": {
          "model_module": "@jupyter-widgets/controls",
          "model_name": "DescriptionStyleModel",
          "model_module_version": "1.5.0",
          "state": {
            "_model_module": "@jupyter-widgets/controls",
            "_model_module_version": "1.5.0",
            "_model_name": "DescriptionStyleModel",
            "_view_count": null,
            "_view_module": "@jupyter-widgets/base",
            "_view_module_version": "1.2.0",
            "_view_name": "StyleView",
            "description_width": ""
          }
        }
      }
    }
  },
  "nbformat": 4,
  "nbformat_minor": 0
}