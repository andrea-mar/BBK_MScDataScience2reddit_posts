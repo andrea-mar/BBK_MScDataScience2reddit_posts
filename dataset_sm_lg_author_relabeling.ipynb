{
 "cells": [
  {
   "cell_type": "code",
   "execution_count": 1,
   "metadata": {},
   "outputs": [],
   "source": [
    "import pandas as pd \n",
    "import numpy as np \n",
    "import matplotlib.pyplot as plt \n",
    "import seaborn as sns\n",
    "%matplotlib inline"
   ]
  },
  {
   "cell_type": "code",
   "execution_count": 2,
   "metadata": {},
   "outputs": [],
   "source": [
    "# datapath = 'data/aba_posts_labeled_cleaned.csv'\n",
    "datapath = 'data/aba_posts_labeled_cleaned_full_set.csv'\n",
    "data = pd.read_csv(datapath)"
   ]
  },
  {
   "cell_type": "code",
   "execution_count": 3,
   "metadata": {},
   "outputs": [
    {
     "data": {
      "text/html": [
       "<div>\n",
       "<style scoped>\n",
       "    .dataframe tbody tr th:only-of-type {\n",
       "        vertical-align: middle;\n",
       "    }\n",
       "\n",
       "    .dataframe tbody tr th {\n",
       "        vertical-align: top;\n",
       "    }\n",
       "\n",
       "    .dataframe thead th {\n",
       "        text-align: right;\n",
       "    }\n",
       "</style>\n",
       "<table border=\"1\" class=\"dataframe\">\n",
       "  <thead>\n",
       "    <tr style=\"text-align: right;\">\n",
       "      <th></th>\n",
       "      <th>Document</th>\n",
       "      <th>sentiment</th>\n",
       "      <th>layperson</th>\n",
       "      <th>aba professional</th>\n",
       "      <th>parent</th>\n",
       "      <th>other_professional</th>\n",
       "      <th>asd</th>\n",
       "    </tr>\n",
       "  </thead>\n",
       "  <tbody>\n",
       "    <tr>\n",
       "      <th>0</th>\n",
       "      <td>Is she in ABA therapy I only ask because my hu...</td>\n",
       "      <td>Neutral</td>\n",
       "      <td>True</td>\n",
       "      <td>False</td>\n",
       "      <td>False</td>\n",
       "      <td>False</td>\n",
       "      <td>False</td>\n",
       "    </tr>\n",
       "    <tr>\n",
       "      <th>1</th>\n",
       "      <td>I heard you are able to ask them questions May...</td>\n",
       "      <td>Neutral</td>\n",
       "      <td>True</td>\n",
       "      <td>False</td>\n",
       "      <td>False</td>\n",
       "      <td>False</td>\n",
       "      <td>False</td>\n",
       "    </tr>\n",
       "    <tr>\n",
       "      <th>2</th>\n",
       "      <td>I agree with that Even dr Lovaas said ABA does...</td>\n",
       "      <td>Positive</td>\n",
       "      <td>True</td>\n",
       "      <td>False</td>\n",
       "      <td>False</td>\n",
       "      <td>False</td>\n",
       "      <td>False</td>\n",
       "    </tr>\n",
       "  </tbody>\n",
       "</table>\n",
       "</div>"
      ],
      "text/plain": [
       "                                            Document sentiment  layperson  \\\n",
       "0  Is she in ABA therapy I only ask because my hu...   Neutral       True   \n",
       "1  I heard you are able to ask them questions May...   Neutral       True   \n",
       "2  I agree with that Even dr Lovaas said ABA does...  Positive       True   \n",
       "\n",
       "   aba professional  parent  other_professional    asd  \n",
       "0             False   False               False  False  \n",
       "1             False   False               False  False  \n",
       "2             False   False               False  False  "
      ]
     },
     "execution_count": 3,
     "metadata": {},
     "output_type": "execute_result"
    }
   ],
   "source": [
    "data.head(3)"
   ]
  },
  {
   "cell_type": "code",
   "execution_count": 4,
   "metadata": {},
   "outputs": [
    {
     "name": "stdout",
     "output_type": "stream",
     "text": [
      "<class 'pandas.core.frame.DataFrame'>\n",
      "RangeIndex: 3448 entries, 0 to 3447\n",
      "Data columns (total 7 columns):\n",
      " #   Column              Non-Null Count  Dtype \n",
      "---  ------              --------------  ----- \n",
      " 0   Document            3448 non-null   object\n",
      " 1   sentiment           3448 non-null   object\n",
      " 2   layperson           3448 non-null   bool  \n",
      " 3   aba professional    3448 non-null   bool  \n",
      " 4   parent              3448 non-null   bool  \n",
      " 5   other_professional  3448 non-null   bool  \n",
      " 6   asd                 3448 non-null   bool  \n",
      "dtypes: bool(5), object(2)\n",
      "memory usage: 70.8+ KB\n"
     ]
    }
   ],
   "source": [
    "data.info()"
   ]
  },
  {
   "cell_type": "code",
   "execution_count": 5,
   "metadata": {},
   "outputs": [
    {
     "data": {
      "image/png": "[encoded data removed]",
      "text/plain": [
       "<Figure size 1000x600 with 1 Axes>"
      ]
     },
     "metadata": {},
     "output_type": "display_data"
    }
   ],
   "source": [
    "# plot sentiment\n",
    "true_counts = data['sentiment'].value_counts()\n",
    "\n",
    "# Plot the counts using a bar plot\n",
    "plt.figure(figsize=(10, 6))\n",
    "ax = true_counts.plot(kind='bar', color='skyblue')\n",
    "ax.set_xticklabels(ax.get_xticklabels(), rotation=0, ha='center')\n",
    "\n",
    "plt.title('Sentiment distribution')\n",
    "plt.xlabel('')\n",
    "plt.ylabel('Number of posts')\n",
    "plt.show()"
   ]
  },
  {
   "cell_type": "code",
   "execution_count": 6,
   "metadata": {},
   "outputs": [
    {
     "data": {
      "text/plain": [
       "sentiment\n",
       "Neutral     2227\n",
       "Negative     834\n",
       "Positive     387\n",
       "Name: count, dtype: int64"
      ]
     },
     "execution_count": 6,
     "metadata": {},
     "output_type": "execute_result"
    }
   ],
   "source": [
    "data.sentiment.value_counts()"
   ]
  },
  {
   "cell_type": "code",
   "execution_count": 191,
   "metadata": {},
   "outputs": [
    {
     "data": {
      "text/html": [
       "<div>\n",
       "<style scoped>\n",
       "    .dataframe tbody tr th:only-of-type {\n",
       "        vertical-align: middle;\n",
       "    }\n",
       "\n",
       "    .dataframe tbody tr th {\n",
       "        vertical-align: top;\n",
       "    }\n",
       "\n",
       "    .dataframe thead th {\n",
       "        text-align: right;\n",
       "    }\n",
       "</style>\n",
       "<table border=\"1\" class=\"dataframe\">\n",
       "  <thead>\n",
       "    <tr style=\"text-align: right;\">\n",
       "      <th></th>\n",
       "      <th>Document</th>\n",
       "      <th>layperson</th>\n",
       "      <th>aba professional</th>\n",
       "      <th>parent</th>\n",
       "      <th>other_professional</th>\n",
       "      <th>asd</th>\n",
       "    </tr>\n",
       "  </thead>\n",
       "  <tbody>\n",
       "    <tr>\n",
       "      <th>0</th>\n",
       "      <td>Is she in ABA therapy I only ask because my hu...</td>\n",
       "      <td>True</td>\n",
       "      <td>False</td>\n",
       "      <td>False</td>\n",
       "      <td>False</td>\n",
       "      <td>False</td>\n",
       "    </tr>\n",
       "    <tr>\n",
       "      <th>1</th>\n",
       "      <td>I heard you are able to ask them questions May...</td>\n",
       "      <td>True</td>\n",
       "      <td>False</td>\n",
       "      <td>False</td>\n",
       "      <td>False</td>\n",
       "      <td>False</td>\n",
       "    </tr>\n",
       "    <tr>\n",
       "      <th>2</th>\n",
       "      <td>I agree with that Even dr Lovaas said ABA does...</td>\n",
       "      <td>True</td>\n",
       "      <td>False</td>\n",
       "      <td>False</td>\n",
       "      <td>False</td>\n",
       "      <td>False</td>\n",
       "    </tr>\n",
       "  </tbody>\n",
       "</table>\n",
       "</div>"
      ],
      "text/plain": [
       "                                            Document  layperson  \\\n",
       "0  Is she in ABA therapy I only ask because my hu...       True   \n",
       "1  I heard you are able to ask them questions May...       True   \n",
       "2  I agree with that Even dr Lovaas said ABA does...       True   \n",
       "\n",
       "   aba professional  parent  other_professional    asd  \n",
       "0             False   False               False  False  \n",
       "1             False   False               False  False  \n",
       "2             False   False               False  False  "
      ]
     },
     "execution_count": 191,
     "metadata": {},
     "output_type": "execute_result"
    }
   ],
   "source": [
    "# drop sentiment\n",
    "authors = data.drop(columns='sentiment')\n",
    "authors.head(3)"
   ]
  },
  {
   "cell_type": "code",
   "execution_count": 192,
   "metadata": {},
   "outputs": [
    {
     "data": {
      "image/png": "[encoded data removed]",
      "text/plain": [
       "<Figure size 1000x600 with 1 Axes>"
      ]
     },
     "metadata": {},
     "output_type": "display_data"
    }
   ],
   "source": [
    "# plot categories\n",
    "author_categories = authors.drop(columns='Document')\n",
    "true_counts = author_categories.sum()\n",
    "\n",
    "# Plot the counts using a bar plot\n",
    "plt.figure(figsize=(10, 6))\n",
    "true_counts.plot(kind='bar', color='skyblue')\n",
    "plt.title('Counts of True Values in Each Column')\n",
    "plt.xlabel('Columns')\n",
    "plt.ylabel('Count')\n",
    "plt.show()"
   ]
  },
  {
   "cell_type": "code",
   "execution_count": 193,
   "metadata": {},
   "outputs": [
    {
     "name": "stdout",
     "output_type": "stream",
     "text": [
      "<class 'pandas.core.frame.DataFrame'>\n",
      "Index: 172 entries, 7 to 3442\n",
      "Data columns (total 6 columns):\n",
      " #   Column              Non-Null Count  Dtype \n",
      "---  ------              --------------  ----- \n",
      " 0   Document            172 non-null    object\n",
      " 1   layperson           172 non-null    bool  \n",
      " 2   aba professional    172 non-null    bool  \n",
      " 3   parent              172 non-null    bool  \n",
      " 4   other_professional  172 non-null    bool  \n",
      " 5   asd                 172 non-null    bool  \n",
      "dtypes: bool(5), object(1)\n",
      "memory usage: 3.5+ KB\n"
     ]
    }
   ],
   "source": [
    "# select rows where other_professional is True\n",
    "other_professionals = authors[authors['other_professional'] == True]\n",
    "other_professionals.info()"
   ]
  },
  {
   "cell_type": "code",
   "execution_count": 194,
   "metadata": {},
   "outputs": [
    {
     "data": {
      "image/png": "[encoded data removed]",
      "text/plain": [
       "<Figure size 1000x600 with 1 Axes>"
      ]
     },
     "metadata": {},
     "output_type": "display_data"
    }
   ],
   "source": [
    "author_categories = other_professionals.drop(columns='Document')\n",
    "true_counts = author_categories.sum()\n",
    "\n",
    "# Plot the counts using a bar plot\n",
    "plt.figure(figsize=(10, 6))\n",
    "true_counts.plot(kind='bar', color='skyblue')\n",
    "plt.title('Counts of True Values in Each Column')\n",
    "plt.xlabel('Columns')\n",
    "plt.ylabel('Count')\n",
    "plt.show()\n",
    "\n",
    "# some people in the other professional category also have asd or are parents"
   ]
  },
  {
   "cell_type": "code",
   "execution_count": 195,
   "metadata": {},
   "outputs": [
    {
     "data": {
      "text/plain": [
       "other_professional\n",
       "False    3276\n",
       "True      172\n",
       "Name: count, dtype: int64"
      ]
     },
     "execution_count": 195,
     "metadata": {},
     "output_type": "execute_result"
    }
   ],
   "source": [
    "data.other_professional.value_counts()"
   ]
  },
  {
   "cell_type": "code",
   "execution_count": 196,
   "metadata": {},
   "outputs": [
    {
     "data": {
      "text/html": [
       "<div>\n",
       "<style scoped>\n",
       "    .dataframe tbody tr th:only-of-type {\n",
       "        vertical-align: middle;\n",
       "    }\n",
       "\n",
       "    .dataframe tbody tr th {\n",
       "        vertical-align: top;\n",
       "    }\n",
       "\n",
       "    .dataframe thead th {\n",
       "        text-align: right;\n",
       "    }\n",
       "</style>\n",
       "<table border=\"1\" class=\"dataframe\">\n",
       "  <thead>\n",
       "    <tr style=\"text-align: right;\">\n",
       "      <th></th>\n",
       "      <th>parent</th>\n",
       "      <th>asd</th>\n",
       "    </tr>\n",
       "  </thead>\n",
       "  <tbody>\n",
       "    <tr>\n",
       "      <th>7</th>\n",
       "      <td>False</td>\n",
       "      <td>True</td>\n",
       "    </tr>\n",
       "    <tr>\n",
       "      <th>65</th>\n",
       "      <td>True</td>\n",
       "      <td>False</td>\n",
       "    </tr>\n",
       "    <tr>\n",
       "      <th>115</th>\n",
       "      <td>False</td>\n",
       "      <td>True</td>\n",
       "    </tr>\n",
       "    <tr>\n",
       "      <th>227</th>\n",
       "      <td>False</td>\n",
       "      <td>True</td>\n",
       "    </tr>\n",
       "    <tr>\n",
       "      <th>491</th>\n",
       "      <td>False</td>\n",
       "      <td>True</td>\n",
       "    </tr>\n",
       "    <tr>\n",
       "      <th>526</th>\n",
       "      <td>False</td>\n",
       "      <td>True</td>\n",
       "    </tr>\n",
       "    <tr>\n",
       "      <th>1949</th>\n",
       "      <td>False</td>\n",
       "      <td>True</td>\n",
       "    </tr>\n",
       "    <tr>\n",
       "      <th>2056</th>\n",
       "      <td>True</td>\n",
       "      <td>False</td>\n",
       "    </tr>\n",
       "    <tr>\n",
       "      <th>2244</th>\n",
       "      <td>True</td>\n",
       "      <td>False</td>\n",
       "    </tr>\n",
       "    <tr>\n",
       "      <th>2326</th>\n",
       "      <td>False</td>\n",
       "      <td>True</td>\n",
       "    </tr>\n",
       "    <tr>\n",
       "      <th>2628</th>\n",
       "      <td>False</td>\n",
       "      <td>True</td>\n",
       "    </tr>\n",
       "    <tr>\n",
       "      <th>2637</th>\n",
       "      <td>False</td>\n",
       "      <td>True</td>\n",
       "    </tr>\n",
       "    <tr>\n",
       "      <th>2653</th>\n",
       "      <td>False</td>\n",
       "      <td>True</td>\n",
       "    </tr>\n",
       "    <tr>\n",
       "      <th>2832</th>\n",
       "      <td>False</td>\n",
       "      <td>True</td>\n",
       "    </tr>\n",
       "  </tbody>\n",
       "</table>\n",
       "</div>"
      ],
      "text/plain": [
       "      parent    asd\n",
       "7      False   True\n",
       "65      True  False\n",
       "115    False   True\n",
       "227    False   True\n",
       "491    False   True\n",
       "526    False   True\n",
       "1949   False   True\n",
       "2056    True  False\n",
       "2244    True  False\n",
       "2326   False   True\n",
       "2628   False   True\n",
       "2637   False   True\n",
       "2653   False   True\n",
       "2832   False   True"
      ]
     },
     "execution_count": 196,
     "metadata": {},
     "output_type": "execute_result"
    }
   ],
   "source": [
    "filtered_data = author_categories.drop(columns=['layperson', 'aba professional', 'other_professional'])\n",
    "filtered_data[filtered_data.any(axis=1)]"
   ]
  },
  {
   "cell_type": "code",
   "execution_count": 197,
   "metadata": {},
   "outputs": [
    {
     "data": {
      "text/html": [
       "<div>\n",
       "<style scoped>\n",
       "    .dataframe tbody tr th:only-of-type {\n",
       "        vertical-align: middle;\n",
       "    }\n",
       "\n",
       "    .dataframe tbody tr th {\n",
       "        vertical-align: top;\n",
       "    }\n",
       "\n",
       "    .dataframe thead th {\n",
       "        text-align: right;\n",
       "    }\n",
       "</style>\n",
       "<table border=\"1\" class=\"dataframe\">\n",
       "  <thead>\n",
       "    <tr style=\"text-align: right;\">\n",
       "      <th></th>\n",
       "      <th>Document</th>\n",
       "      <th>sentiment</th>\n",
       "      <th>layperson</th>\n",
       "      <th>aba professional</th>\n",
       "      <th>parent</th>\n",
       "      <th>other_professional</th>\n",
       "      <th>asd</th>\n",
       "    </tr>\n",
       "  </thead>\n",
       "  <tbody>\n",
       "    <tr>\n",
       "      <th>65</th>\n",
       "      <td>Occupational therapist though I work mostly wi...</td>\n",
       "      <td>Positive</td>\n",
       "      <td>False</td>\n",
       "      <td>False</td>\n",
       "      <td>True</td>\n",
       "      <td>True</td>\n",
       "      <td>False</td>\n",
       "    </tr>\n",
       "    <tr>\n",
       "      <th>2056</th>\n",
       "      <td>I have my son with the same company that I wor...</td>\n",
       "      <td>Neutral</td>\n",
       "      <td>False</td>\n",
       "      <td>False</td>\n",
       "      <td>True</td>\n",
       "      <td>True</td>\n",
       "      <td>False</td>\n",
       "    </tr>\n",
       "    <tr>\n",
       "      <th>2244</th>\n",
       "      <td>My kid needs behavioural therapy due to her di...</td>\n",
       "      <td>Positive</td>\n",
       "      <td>False</td>\n",
       "      <td>False</td>\n",
       "      <td>True</td>\n",
       "      <td>True</td>\n",
       "      <td>False</td>\n",
       "    </tr>\n",
       "  </tbody>\n",
       "</table>\n",
       "</div>"
      ],
      "text/plain": [
       "                                               Document sentiment  layperson  \\\n",
       "65    Occupational therapist though I work mostly wi...  Positive      False   \n",
       "2056  I have my son with the same company that I wor...   Neutral      False   \n",
       "2244  My kid needs behavioural therapy due to her di...  Positive      False   \n",
       "\n",
       "      aba professional  parent  other_professional    asd  \n",
       "65               False    True                True  False  \n",
       "2056             False    True                True  False  \n",
       "2244             False    True                True  False  "
      ]
     },
     "execution_count": 197,
     "metadata": {},
     "output_type": "execute_result"
    }
   ],
   "source": [
    "data[(data['parent'] == True) & (data['other_professional'] == True)]"
   ]
  },
  {
   "cell_type": "code",
   "execution_count": 198,
   "metadata": {},
   "outputs": [
    {
     "data": {
      "text/html": [
       "<div>\n",
       "<style scoped>\n",
       "    .dataframe tbody tr th:only-of-type {\n",
       "        vertical-align: middle;\n",
       "    }\n",
       "\n",
       "    .dataframe tbody tr th {\n",
       "        vertical-align: top;\n",
       "    }\n",
       "\n",
       "    .dataframe thead th {\n",
       "        text-align: right;\n",
       "    }\n",
       "</style>\n",
       "<table border=\"1\" class=\"dataframe\">\n",
       "  <thead>\n",
       "    <tr style=\"text-align: right;\">\n",
       "      <th></th>\n",
       "      <th>Document</th>\n",
       "      <th>sentiment</th>\n",
       "      <th>layperson</th>\n",
       "      <th>aba professional</th>\n",
       "      <th>parent</th>\n",
       "      <th>other_professional</th>\n",
       "      <th>asd</th>\n",
       "    </tr>\n",
       "  </thead>\n",
       "  <tbody>\n",
       "    <tr>\n",
       "      <th>7</th>\n",
       "      <td>Hi there Clinical psychologist with ASD here P...</td>\n",
       "      <td>Negative</td>\n",
       "      <td>False</td>\n",
       "      <td>False</td>\n",
       "      <td>False</td>\n",
       "      <td>True</td>\n",
       "      <td>True</td>\n",
       "    </tr>\n",
       "    <tr>\n",
       "      <th>115</th>\n",
       "      <td>ABA Therapy thoughts I m an autistic adult and...</td>\n",
       "      <td>Negative</td>\n",
       "      <td>False</td>\n",
       "      <td>False</td>\n",
       "      <td>False</td>\n",
       "      <td>True</td>\n",
       "      <td>True</td>\n",
       "    </tr>\n",
       "    <tr>\n",
       "      <th>227</th>\n",
       "      <td>Hi I m an autistic OT and even new reformed AB...</td>\n",
       "      <td>Negative</td>\n",
       "      <td>False</td>\n",
       "      <td>False</td>\n",
       "      <td>False</td>\n",
       "      <td>True</td>\n",
       "      <td>True</td>\n",
       "    </tr>\n",
       "    <tr>\n",
       "      <th>491</th>\n",
       "      <td>Actually you aren't correct I have seen you in...</td>\n",
       "      <td>Negative</td>\n",
       "      <td>False</td>\n",
       "      <td>False</td>\n",
       "      <td>False</td>\n",
       "      <td>True</td>\n",
       "      <td>True</td>\n",
       "    </tr>\n",
       "    <tr>\n",
       "      <th>526</th>\n",
       "      <td>Hello there I am an autistic social worker I d...</td>\n",
       "      <td>Negative</td>\n",
       "      <td>False</td>\n",
       "      <td>False</td>\n",
       "      <td>False</td>\n",
       "      <td>True</td>\n",
       "      <td>True</td>\n",
       "    </tr>\n",
       "    <tr>\n",
       "      <th>1949</th>\n",
       "      <td>I've worked in a clinic where they used ABA Ho...</td>\n",
       "      <td>Negative</td>\n",
       "      <td>False</td>\n",
       "      <td>False</td>\n",
       "      <td>False</td>\n",
       "      <td>True</td>\n",
       "      <td>True</td>\n",
       "    </tr>\n",
       "    <tr>\n",
       "      <th>2326</th>\n",
       "      <td>You will be shunned by the majority of the aut...</td>\n",
       "      <td>Negative</td>\n",
       "      <td>False</td>\n",
       "      <td>False</td>\n",
       "      <td>False</td>\n",
       "      <td>True</td>\n",
       "      <td>True</td>\n",
       "    </tr>\n",
       "    <tr>\n",
       "      <th>2628</th>\n",
       "      <td>Hey I'm an autistic psychiatrist I think you a...</td>\n",
       "      <td>Negative</td>\n",
       "      <td>False</td>\n",
       "      <td>False</td>\n",
       "      <td>False</td>\n",
       "      <td>True</td>\n",
       "      <td>True</td>\n",
       "    </tr>\n",
       "    <tr>\n",
       "      <th>2637</th>\n",
       "      <td>I m autistic and I worked in ABA before becomi...</td>\n",
       "      <td>Negative</td>\n",
       "      <td>False</td>\n",
       "      <td>False</td>\n",
       "      <td>False</td>\n",
       "      <td>True</td>\n",
       "      <td>True</td>\n",
       "    </tr>\n",
       "    <tr>\n",
       "      <th>2653</th>\n",
       "      <td>I m currently a one to one para in an aba type...</td>\n",
       "      <td>Neutral</td>\n",
       "      <td>False</td>\n",
       "      <td>False</td>\n",
       "      <td>False</td>\n",
       "      <td>True</td>\n",
       "      <td>True</td>\n",
       "    </tr>\n",
       "    <tr>\n",
       "      <th>2832</th>\n",
       "      <td>About to quit a job where I use ABA methods to...</td>\n",
       "      <td>Negative</td>\n",
       "      <td>False</td>\n",
       "      <td>False</td>\n",
       "      <td>False</td>\n",
       "      <td>True</td>\n",
       "      <td>True</td>\n",
       "    </tr>\n",
       "  </tbody>\n",
       "</table>\n",
       "</div>"
      ],
      "text/plain": [
       "                                               Document sentiment  layperson  \\\n",
       "7     Hi there Clinical psychologist with ASD here P...  Negative      False   \n",
       "115   ABA Therapy thoughts I m an autistic adult and...  Negative      False   \n",
       "227   Hi I m an autistic OT and even new reformed AB...  Negative      False   \n",
       "491   Actually you aren't correct I have seen you in...  Negative      False   \n",
       "526   Hello there I am an autistic social worker I d...  Negative      False   \n",
       "1949  I've worked in a clinic where they used ABA Ho...  Negative      False   \n",
       "2326  You will be shunned by the majority of the aut...  Negative      False   \n",
       "2628  Hey I'm an autistic psychiatrist I think you a...  Negative      False   \n",
       "2637  I m autistic and I worked in ABA before becomi...  Negative      False   \n",
       "2653  I m currently a one to one para in an aba type...   Neutral      False   \n",
       "2832  About to quit a job where I use ABA methods to...  Negative      False   \n",
       "\n",
       "      aba professional  parent  other_professional   asd  \n",
       "7                False   False                True  True  \n",
       "115              False   False                True  True  \n",
       "227              False   False                True  True  \n",
       "491              False   False                True  True  \n",
       "526              False   False                True  True  \n",
       "1949             False   False                True  True  \n",
       "2326             False   False                True  True  \n",
       "2628             False   False                True  True  \n",
       "2637             False   False                True  True  \n",
       "2653             False   False                True  True  \n",
       "2832             False   False                True  True  "
      ]
     },
     "execution_count": 198,
     "metadata": {},
     "output_type": "execute_result"
    }
   ],
   "source": [
    "data[(data['asd'] == True) & (data['other_professional'] == True)]"
   ]
  },
  {
   "cell_type": "code",
   "execution_count": 199,
   "metadata": {},
   "outputs": [],
   "source": [
    "# change the value of other_professional to false is the person is also a parent\n",
    "selected_rows = data[(data['parent'] == True) & (data['other_professional'] == True)]\n",
    "data.loc[selected_rows.index, 'other_professional'] = False\n",
    "# change the value of other_professional to false is the person also has asd\n",
    "selected_rows = data[(data['asd'] == True) & (data['other_professional'] == True)]\n",
    "data.loc[selected_rows.index, 'other_professional'] = False"
   ]
  },
  {
   "cell_type": "code",
   "execution_count": 200,
   "metadata": {},
   "outputs": [
    {
     "data": {
      "text/html": [
       "<div>\n",
       "<style scoped>\n",
       "    .dataframe tbody tr th:only-of-type {\n",
       "        vertical-align: middle;\n",
       "    }\n",
       "\n",
       "    .dataframe tbody tr th {\n",
       "        vertical-align: top;\n",
       "    }\n",
       "\n",
       "    .dataframe thead th {\n",
       "        text-align: right;\n",
       "    }\n",
       "</style>\n",
       "<table border=\"1\" class=\"dataframe\">\n",
       "  <thead>\n",
       "    <tr style=\"text-align: right;\">\n",
       "      <th></th>\n",
       "      <th>Document</th>\n",
       "      <th>sentiment</th>\n",
       "      <th>layperson</th>\n",
       "      <th>aba professional</th>\n",
       "      <th>parent</th>\n",
       "      <th>other_professional</th>\n",
       "      <th>asd</th>\n",
       "    </tr>\n",
       "  </thead>\n",
       "  <tbody>\n",
       "  </tbody>\n",
       "</table>\n",
       "</div>"
      ],
      "text/plain": [
       "Empty DataFrame\n",
       "Columns: [Document, sentiment, layperson, aba professional, parent, other_professional, asd]\n",
       "Index: []"
      ]
     },
     "execution_count": 200,
     "metadata": {},
     "output_type": "execute_result"
    }
   ],
   "source": [
    "data[(data['parent'] == True) & (data['other_professional'] == True)]"
   ]
  },
  {
   "cell_type": "code",
   "execution_count": 201,
   "metadata": {},
   "outputs": [
    {
     "data": {
      "text/html": [
       "<div>\n",
       "<style scoped>\n",
       "    .dataframe tbody tr th:only-of-type {\n",
       "        vertical-align: middle;\n",
       "    }\n",
       "\n",
       "    .dataframe tbody tr th {\n",
       "        vertical-align: top;\n",
       "    }\n",
       "\n",
       "    .dataframe thead th {\n",
       "        text-align: right;\n",
       "    }\n",
       "</style>\n",
       "<table border=\"1\" class=\"dataframe\">\n",
       "  <thead>\n",
       "    <tr style=\"text-align: right;\">\n",
       "      <th></th>\n",
       "      <th>Document</th>\n",
       "      <th>sentiment</th>\n",
       "      <th>layperson</th>\n",
       "      <th>aba professional</th>\n",
       "      <th>parent</th>\n",
       "      <th>other_professional</th>\n",
       "      <th>asd</th>\n",
       "    </tr>\n",
       "  </thead>\n",
       "  <tbody>\n",
       "  </tbody>\n",
       "</table>\n",
       "</div>"
      ],
      "text/plain": [
       "Empty DataFrame\n",
       "Columns: [Document, sentiment, layperson, aba professional, parent, other_professional, asd]\n",
       "Index: []"
      ]
     },
     "execution_count": 201,
     "metadata": {},
     "output_type": "execute_result"
    }
   ],
   "source": [
    "data[(data['asd'] == True) & (data['other_professional'] == True)]"
   ]
  },
  {
   "cell_type": "code",
   "execution_count": 202,
   "metadata": {},
   "outputs": [
    {
     "data": {
      "text/plain": [
       "other_professional\n",
       "False    3290\n",
       "True      158\n",
       "Name: count, dtype: int64"
      ]
     },
     "execution_count": 202,
     "metadata": {},
     "output_type": "execute_result"
    }
   ],
   "source": [
    "data.other_professional.value_counts()"
   ]
  },
  {
   "cell_type": "code",
   "execution_count": 203,
   "metadata": {},
   "outputs": [
    {
     "data": {
      "text/plain": [
       "layperson\n",
       "True     2178\n",
       "False    1270\n",
       "Name: count, dtype: int64"
      ]
     },
     "execution_count": 203,
     "metadata": {},
     "output_type": "execute_result"
    }
   ],
   "source": [
    "data.layperson.value_counts()"
   ]
  },
  {
   "cell_type": "code",
   "execution_count": 204,
   "metadata": {},
   "outputs": [
    {
     "data": {
      "text/html": [
       "<div>\n",
       "<style scoped>\n",
       "    .dataframe tbody tr th:only-of-type {\n",
       "        vertical-align: middle;\n",
       "    }\n",
       "\n",
       "    .dataframe tbody tr th {\n",
       "        vertical-align: top;\n",
       "    }\n",
       "\n",
       "    .dataframe thead th {\n",
       "        text-align: right;\n",
       "    }\n",
       "</style>\n",
       "<table border=\"1\" class=\"dataframe\">\n",
       "  <thead>\n",
       "    <tr style=\"text-align: right;\">\n",
       "      <th></th>\n",
       "      <th>Document</th>\n",
       "      <th>sentiment</th>\n",
       "      <th>layperson</th>\n",
       "      <th>aba professional</th>\n",
       "      <th>parent</th>\n",
       "      <th>asd</th>\n",
       "    </tr>\n",
       "  </thead>\n",
       "  <tbody>\n",
       "    <tr>\n",
       "      <th>0</th>\n",
       "      <td>Is she in ABA therapy I only ask because my hu...</td>\n",
       "      <td>Neutral</td>\n",
       "      <td>True</td>\n",
       "      <td>False</td>\n",
       "      <td>False</td>\n",
       "      <td>False</td>\n",
       "    </tr>\n",
       "    <tr>\n",
       "      <th>1</th>\n",
       "      <td>I heard you are able to ask them questions May...</td>\n",
       "      <td>Neutral</td>\n",
       "      <td>True</td>\n",
       "      <td>False</td>\n",
       "      <td>False</td>\n",
       "      <td>False</td>\n",
       "    </tr>\n",
       "    <tr>\n",
       "      <th>2</th>\n",
       "      <td>I agree with that Even dr Lovaas said ABA does...</td>\n",
       "      <td>Positive</td>\n",
       "      <td>True</td>\n",
       "      <td>False</td>\n",
       "      <td>False</td>\n",
       "      <td>False</td>\n",
       "    </tr>\n",
       "  </tbody>\n",
       "</table>\n",
       "</div>"
      ],
      "text/plain": [
       "                                            Document sentiment  layperson  \\\n",
       "0  Is she in ABA therapy I only ask because my hu...   Neutral       True   \n",
       "1  I heard you are able to ask them questions May...   Neutral       True   \n",
       "2  I agree with that Even dr Lovaas said ABA does...  Positive       True   \n",
       "\n",
       "   aba professional  parent    asd  \n",
       "0             False   False  False  \n",
       "1             False   False  False  \n",
       "2             False   False  False  "
      ]
     },
     "execution_count": 204,
     "metadata": {},
     "output_type": "execute_result"
    }
   ],
   "source": [
    "# change the value of other professional to layman \n",
    "data.loc[data['other_professional'] == True, 'layperson'] = True\n",
    "# drop the other professional column\n",
    "data = data.drop(columns='other_professional')\n",
    "data.head(3)\n"
   ]
  },
  {
   "cell_type": "code",
   "execution_count": 205,
   "metadata": {},
   "outputs": [
    {
     "data": {
      "text/plain": [
       "layperson\n",
       "True     2336\n",
       "False    1112\n",
       "Name: count, dtype: int64"
      ]
     },
     "execution_count": 205,
     "metadata": {},
     "output_type": "execute_result"
    }
   ],
   "source": [
    "data.layperson.value_counts()"
   ]
  },
  {
   "cell_type": "code",
   "execution_count": 206,
   "metadata": {},
   "outputs": [
    {
     "data": {
      "text/html": [
       "<div>\n",
       "<style scoped>\n",
       "    .dataframe tbody tr th:only-of-type {\n",
       "        vertical-align: middle;\n",
       "    }\n",
       "\n",
       "    .dataframe tbody tr th {\n",
       "        vertical-align: top;\n",
       "    }\n",
       "\n",
       "    .dataframe thead th {\n",
       "        text-align: right;\n",
       "    }\n",
       "</style>\n",
       "<table border=\"1\" class=\"dataframe\">\n",
       "  <thead>\n",
       "    <tr style=\"text-align: right;\">\n",
       "      <th></th>\n",
       "      <th>Document</th>\n",
       "      <th>sentiment</th>\n",
       "      <th>other</th>\n",
       "      <th>aba professional</th>\n",
       "      <th>parent</th>\n",
       "      <th>asd</th>\n",
       "    </tr>\n",
       "  </thead>\n",
       "  <tbody>\n",
       "    <tr>\n",
       "      <th>0</th>\n",
       "      <td>Is she in ABA therapy I only ask because my hu...</td>\n",
       "      <td>Neutral</td>\n",
       "      <td>True</td>\n",
       "      <td>False</td>\n",
       "      <td>False</td>\n",
       "      <td>False</td>\n",
       "    </tr>\n",
       "    <tr>\n",
       "      <th>1</th>\n",
       "      <td>I heard you are able to ask them questions May...</td>\n",
       "      <td>Neutral</td>\n",
       "      <td>True</td>\n",
       "      <td>False</td>\n",
       "      <td>False</td>\n",
       "      <td>False</td>\n",
       "    </tr>\n",
       "    <tr>\n",
       "      <th>2</th>\n",
       "      <td>I agree with that Even dr Lovaas said ABA does...</td>\n",
       "      <td>Positive</td>\n",
       "      <td>True</td>\n",
       "      <td>False</td>\n",
       "      <td>False</td>\n",
       "      <td>False</td>\n",
       "    </tr>\n",
       "  </tbody>\n",
       "</table>\n",
       "</div>"
      ],
      "text/plain": [
       "                                            Document sentiment  other  \\\n",
       "0  Is she in ABA therapy I only ask because my hu...   Neutral   True   \n",
       "1  I heard you are able to ask them questions May...   Neutral   True   \n",
       "2  I agree with that Even dr Lovaas said ABA does...  Positive   True   \n",
       "\n",
       "   aba professional  parent    asd  \n",
       "0             False   False  False  \n",
       "1             False   False  False  \n",
       "2             False   False  False  "
      ]
     },
     "execution_count": 206,
     "metadata": {},
     "output_type": "execute_result"
    }
   ],
   "source": [
    "# rename 'layman' column to 'other'\n",
    "data.rename(columns={'layperson': 'other'}, inplace=True)\n",
    "data.head(3)"
   ]
  },
  {
   "cell_type": "code",
   "execution_count": 207,
   "metadata": {},
   "outputs": [
    {
     "data": {
      "image/png": "[encoded data removed]",
      "text/plain": [
       "<Figure size 1000x600 with 1 Axes>"
      ]
     },
     "metadata": {},
     "output_type": "display_data"
    }
   ],
   "source": [
    "# plot categories\n",
    "author_categories = data.drop(columns=['Document', 'sentiment'])\n",
    "true_counts = author_categories.sum()\n",
    "\n",
    "# Plot the counts using a bar plot\n",
    "plt.figure(figsize=(10, 6))\n",
    "ax = true_counts.plot(kind='bar', color='skyblue')\n",
    "ax.set_xticklabels(ax.get_xticklabels(), rotation=0, ha='center')\n",
    "\n",
    "plt.title('Type of author distribution')\n",
    "plt.xlabel('')\n",
    "plt.ylabel('Number of posts')\n",
    "plt.show()"
   ]
  },
  {
   "cell_type": "code",
   "execution_count": 208,
   "metadata": {},
   "outputs": [
    {
     "name": "stdout",
     "output_type": "stream",
     "text": [
      "other\n",
      "True     2336\n",
      "False    1112\n",
      "Name: count, dtype: int64\n",
      "__________________________________________________\n",
      "aba professional\n",
      "False    2858\n",
      "True      590\n",
      "Name: count, dtype: int64\n",
      "__________________________________________________\n",
      "parent\n",
      "False    3056\n",
      "True      392\n",
      "Name: count, dtype: int64\n",
      "__________________________________________________\n",
      "asd\n",
      "False    3286\n",
      "True      162\n",
      "Name: count, dtype: int64\n"
     ]
    }
   ],
   "source": [
    "print(author_categories.other.value_counts())\n",
    "print(50*'_')\n",
    "print(author_categories['aba professional'].value_counts())\n",
    "print(50*'_')\n",
    "print(author_categories.parent.value_counts())\n",
    "print(50*'_')\n",
    "print(author_categories.asd.value_counts())\n"
   ]
  },
  {
   "cell_type": "code",
   "execution_count": 209,
   "metadata": {},
   "outputs": [
    {
     "name": "stdout",
     "output_type": "stream",
     "text": [
      "<class 'pandas.core.frame.DataFrame'>\n",
      "RangeIndex: 3448 entries, 0 to 3447\n",
      "Data columns (total 6 columns):\n",
      " #   Column            Non-Null Count  Dtype \n",
      "---  ------            --------------  ----- \n",
      " 0   Document          3448 non-null   object\n",
      " 1   sentiment         3448 non-null   object\n",
      " 2   other             3448 non-null   bool  \n",
      " 3   aba professional  3448 non-null   bool  \n",
      " 4   parent            3448 non-null   bool  \n",
      " 5   asd               3448 non-null   bool  \n",
      "dtypes: bool(4), object(2)\n",
      "memory usage: 67.5+ KB\n"
     ]
    }
   ],
   "source": [
    "data.info()"
   ]
  },
  {
   "cell_type": "code",
   "execution_count": 210,
   "metadata": {},
   "outputs": [
    {
     "data": {
      "text/html": [
       "<div>\n",
       "<style scoped>\n",
       "    .dataframe tbody tr th:only-of-type {\n",
       "        vertical-align: middle;\n",
       "    }\n",
       "\n",
       "    .dataframe tbody tr th {\n",
       "        vertical-align: top;\n",
       "    }\n",
       "\n",
       "    .dataframe thead th {\n",
       "        text-align: right;\n",
       "    }\n",
       "</style>\n",
       "<table border=\"1\" class=\"dataframe\">\n",
       "  <thead>\n",
       "    <tr style=\"text-align: right;\">\n",
       "      <th></th>\n",
       "      <th>Document</th>\n",
       "      <th>sentiment</th>\n",
       "      <th>other</th>\n",
       "      <th>aba professional</th>\n",
       "      <th>parent</th>\n",
       "      <th>asd</th>\n",
       "    </tr>\n",
       "  </thead>\n",
       "  <tbody>\n",
       "    <tr>\n",
       "      <th>0</th>\n",
       "      <td>Is she in ABA therapy I only ask because my hu...</td>\n",
       "      <td>Neutral</td>\n",
       "      <td>True</td>\n",
       "      <td>False</td>\n",
       "      <td>False</td>\n",
       "      <td>False</td>\n",
       "    </tr>\n",
       "    <tr>\n",
       "      <th>1</th>\n",
       "      <td>I heard you are able to ask them questions May...</td>\n",
       "      <td>Neutral</td>\n",
       "      <td>True</td>\n",
       "      <td>False</td>\n",
       "      <td>False</td>\n",
       "      <td>False</td>\n",
       "    </tr>\n",
       "    <tr>\n",
       "      <th>2</th>\n",
       "      <td>I agree with that Even dr Lovaas said ABA does...</td>\n",
       "      <td>Positive</td>\n",
       "      <td>True</td>\n",
       "      <td>False</td>\n",
       "      <td>False</td>\n",
       "      <td>False</td>\n",
       "    </tr>\n",
       "    <tr>\n",
       "      <th>3</th>\n",
       "      <td>Thank you so so much for sharing your experien...</td>\n",
       "      <td>Positive</td>\n",
       "      <td>False</td>\n",
       "      <td>False</td>\n",
       "      <td>True</td>\n",
       "      <td>False</td>\n",
       "    </tr>\n",
       "    <tr>\n",
       "      <th>4</th>\n",
       "      <td>Thank you that makes a lot of sense Seems pret...</td>\n",
       "      <td>Neutral</td>\n",
       "      <td>True</td>\n",
       "      <td>False</td>\n",
       "      <td>False</td>\n",
       "      <td>False</td>\n",
       "    </tr>\n",
       "  </tbody>\n",
       "</table>\n",
       "</div>"
      ],
      "text/plain": [
       "                                            Document sentiment  other  \\\n",
       "0  Is she in ABA therapy I only ask because my hu...   Neutral   True   \n",
       "1  I heard you are able to ask them questions May...   Neutral   True   \n",
       "2  I agree with that Even dr Lovaas said ABA does...  Positive   True   \n",
       "3  Thank you so so much for sharing your experien...  Positive  False   \n",
       "4  Thank you that makes a lot of sense Seems pret...   Neutral   True   \n",
       "\n",
       "   aba professional  parent    asd  \n",
       "0             False   False  False  \n",
       "1             False   False  False  \n",
       "2             False   False  False  \n",
       "3             False    True  False  \n",
       "4             False   False  False  "
      ]
     },
     "execution_count": 210,
     "metadata": {},
     "output_type": "execute_result"
    }
   ],
   "source": [
    "data.head()"
   ]
  },
  {
   "cell_type": "code",
   "execution_count": 3,
   "metadata": {},
   "outputs": [
    {
     "data": {
      "text/html": [
       "<div>\n",
       "<style scoped>\n",
       "    .dataframe tbody tr th:only-of-type {\n",
       "        vertical-align: middle;\n",
       "    }\n",
       "\n",
       "    .dataframe tbody tr th {\n",
       "        vertical-align: top;\n",
       "    }\n",
       "\n",
       "    .dataframe thead th {\n",
       "        text-align: right;\n",
       "    }\n",
       "</style>\n",
       "<table border=\"1\" class=\"dataframe\">\n",
       "  <thead>\n",
       "    <tr style=\"text-align: right;\">\n",
       "      <th></th>\n",
       "      <th>Document</th>\n",
       "      <th>sentiment</th>\n",
       "      <th>other</th>\n",
       "      <th>aba professional</th>\n",
       "      <th>parent</th>\n",
       "      <th>asd</th>\n",
       "    </tr>\n",
       "  </thead>\n",
       "  <tbody>\n",
       "    <tr>\n",
       "      <th>0</th>\n",
       "      <td>Is she in ABA therapy I only ask because my hu...</td>\n",
       "      <td>Neutral</td>\n",
       "      <td>True</td>\n",
       "      <td>False</td>\n",
       "      <td>False</td>\n",
       "      <td>False</td>\n",
       "    </tr>\n",
       "    <tr>\n",
       "      <th>1</th>\n",
       "      <td>I heard you are able to ask them questions May...</td>\n",
       "      <td>Neutral</td>\n",
       "      <td>True</td>\n",
       "      <td>False</td>\n",
       "      <td>False</td>\n",
       "      <td>False</td>\n",
       "    </tr>\n",
       "    <tr>\n",
       "      <th>2</th>\n",
       "      <td>I agree with that Even dr Lovaas said ABA does...</td>\n",
       "      <td>Positive</td>\n",
       "      <td>True</td>\n",
       "      <td>False</td>\n",
       "      <td>False</td>\n",
       "      <td>False</td>\n",
       "    </tr>\n",
       "  </tbody>\n",
       "</table>\n",
       "</div>"
      ],
      "text/plain": [
       "                                            Document sentiment  other  \\\n",
       "0  Is she in ABA therapy I only ask because my hu...   Neutral   True   \n",
       "1  I heard you are able to ask them questions May...   Neutral   True   \n",
       "2  I agree with that Even dr Lovaas said ABA does...  Positive   True   \n",
       "\n",
       "   aba professional  parent    asd  \n",
       "0             False   False  False  \n",
       "1             False   False  False  \n",
       "2             False   False  False  "
      ]
     },
     "execution_count": 3,
     "metadata": {},
     "output_type": "execute_result"
    }
   ],
   "source": [
    "filepath = 'data/aba_posts_re_labeled_cleaned_full_set.csv'\n",
    "data = pd.read_csv(filepath)\n",
    "data.head(3)"
   ]
  },
  {
   "cell_type": "code",
   "execution_count": 4,
   "metadata": {},
   "outputs": [
    {
     "data": {
      "text/html": [
       "<div>\n",
       "<style scoped>\n",
       "    .dataframe tbody tr th:only-of-type {\n",
       "        vertical-align: middle;\n",
       "    }\n",
       "\n",
       "    .dataframe tbody tr th {\n",
       "        vertical-align: top;\n",
       "    }\n",
       "\n",
       "    .dataframe thead th {\n",
       "        text-align: right;\n",
       "    }\n",
       "</style>\n",
       "<table border=\"1\" class=\"dataframe\">\n",
       "  <thead>\n",
       "    <tr style=\"text-align: right;\">\n",
       "      <th></th>\n",
       "      <th>Document</th>\n",
       "      <th>aba professional</th>\n",
       "      <th>parent</th>\n",
       "      <th>asd</th>\n",
       "    </tr>\n",
       "  </thead>\n",
       "  <tbody>\n",
       "    <tr>\n",
       "      <th>0</th>\n",
       "      <td>Is she in ABA therapy I only ask because my hu...</td>\n",
       "      <td>False</td>\n",
       "      <td>False</td>\n",
       "      <td>False</td>\n",
       "    </tr>\n",
       "    <tr>\n",
       "      <th>1</th>\n",
       "      <td>I heard you are able to ask them questions May...</td>\n",
       "      <td>False</td>\n",
       "      <td>False</td>\n",
       "      <td>False</td>\n",
       "    </tr>\n",
       "    <tr>\n",
       "      <th>2</th>\n",
       "      <td>I agree with that Even dr Lovaas said ABA does...</td>\n",
       "      <td>False</td>\n",
       "      <td>False</td>\n",
       "      <td>False</td>\n",
       "    </tr>\n",
       "  </tbody>\n",
       "</table>\n",
       "</div>"
      ],
      "text/plain": [
       "                                            Document  aba professional  \\\n",
       "0  Is she in ABA therapy I only ask because my hu...             False   \n",
       "1  I heard you are able to ask them questions May...             False   \n",
       "2  I agree with that Even dr Lovaas said ABA does...             False   \n",
       "\n",
       "   parent    asd  \n",
       "0   False  False  \n",
       "1   False  False  \n",
       "2   False  False  "
      ]
     },
     "execution_count": 4,
     "metadata": {},
     "output_type": "execute_result"
    }
   ],
   "source": [
    "data = data.drop(['sentiment', 'other'], axis=1)\n",
    "data.head(3)"
   ]
  },
  {
   "cell_type": "code",
   "execution_count": 5,
   "metadata": {},
   "outputs": [
    {
     "data": {
      "text/html": [
       "<div>\n",
       "<style scoped>\n",
       "    .dataframe tbody tr th:only-of-type {\n",
       "        vertical-align: middle;\n",
       "    }\n",
       "\n",
       "    .dataframe tbody tr th {\n",
       "        vertical-align: top;\n",
       "    }\n",
       "\n",
       "    .dataframe thead th {\n",
       "        text-align: right;\n",
       "    }\n",
       "</style>\n",
       "<table border=\"1\" class=\"dataframe\">\n",
       "  <thead>\n",
       "    <tr style=\"text-align: right;\">\n",
       "      <th></th>\n",
       "      <th>Document</th>\n",
       "      <th>aba professional</th>\n",
       "      <th>parent</th>\n",
       "      <th>asd</th>\n",
       "    </tr>\n",
       "  </thead>\n",
       "  <tbody>\n",
       "    <tr>\n",
       "      <th>0</th>\n",
       "      <td>Is she in ABA therapy I only ask because my hu...</td>\n",
       "      <td>0</td>\n",
       "      <td>0</td>\n",
       "      <td>0</td>\n",
       "    </tr>\n",
       "    <tr>\n",
       "      <th>1</th>\n",
       "      <td>I heard you are able to ask them questions May...</td>\n",
       "      <td>0</td>\n",
       "      <td>0</td>\n",
       "      <td>0</td>\n",
       "    </tr>\n",
       "    <tr>\n",
       "      <th>2</th>\n",
       "      <td>I agree with that Even dr Lovaas said ABA does...</td>\n",
       "      <td>0</td>\n",
       "      <td>0</td>\n",
       "      <td>0</td>\n",
       "    </tr>\n",
       "  </tbody>\n",
       "</table>\n",
       "</div>"
      ],
      "text/plain": [
       "                                            Document  aba professional  \\\n",
       "0  Is she in ABA therapy I only ask because my hu...                 0   \n",
       "1  I heard you are able to ask them questions May...                 0   \n",
       "2  I agree with that Even dr Lovaas said ABA does...                 0   \n",
       "\n",
       "   parent  asd  \n",
       "0       0    0  \n",
       "1       0    0  \n",
       "2       0    0  "
      ]
     },
     "execution_count": 5,
     "metadata": {},
     "output_type": "execute_result"
    }
   ],
   "source": [
    "# convert boolean values to integers\n",
    "\n",
    "data[['aba professional', 'parent', 'asd']] = data[['aba professional', 'parent', 'asd']].astype(int)\n",
    "data.head(3)"
   ]
  },
  {
   "cell_type": "code",
   "execution_count": 6,
   "metadata": {},
   "outputs": [
    {
     "data": {
      "text/plain": [
       "aba professional  parent  asd\n",
       "0                 0       0      2336\n",
       "1                 0       0       564\n",
       "0                 1       0       383\n",
       "                  0       1       133\n",
       "1                 0       1        23\n",
       "0                 1       1         6\n",
       "1                 1       0         3\n",
       "Name: count, dtype: int64"
      ]
     },
     "execution_count": 6,
     "metadata": {},
     "output_type": "execute_result"
    }
   ],
   "source": [
    "author_categories = ['aba professional', 'parent', 'asd']\n",
    "data[author_categories].value_counts()"
   ]
  },
  {
   "cell_type": "code",
   "execution_count": 7,
   "metadata": {},
   "outputs": [
    {
     "data": {
      "image/png": "[encoded data removed]",
      "text/plain": [
       "<Figure size 1000x600 with 1 Axes>"
      ]
     },
     "metadata": {},
     "output_type": "display_data"
    },
    {
     "name": "stdout",
     "output_type": "stream",
     "text": [
      "aba professional\n",
      "0    2858\n",
      "1     590\n",
      "Name: count, dtype: int64\n",
      "parent\n",
      "0    3056\n",
      "1     392\n",
      "Name: count, dtype: int64\n",
      "asd\n",
      "0    3286\n",
      "1     162\n",
      "Name: count, dtype: int64\n"
     ]
    }
   ],
   "source": [
    "# plot categories\n",
    "true_counts = data[author_categories].sum()\n",
    "\n",
    "# Plot the counts using a bar plot\n",
    "plt.figure(figsize=(10, 6))\n",
    "ax = true_counts.plot(kind='bar', color='skyblue')\n",
    "plt.title('ASD-ABA authors distribution')\n",
    "plt.xlabel('')\n",
    "plt.ylabel('Number of posts')\n",
    "ax.set_xticklabels(author_categories, rotation=0)\n",
    "plt.show()\n",
    "\n",
    "print(data['aba professional'].value_counts())\n",
    "print(data['parent'].value_counts())\n",
    "print(data['asd'].value_counts())"
   ]
  },
  {
   "cell_type": "code",
   "execution_count": 8,
   "metadata": {},
   "outputs": [],
   "source": [
    "%%capture\n",
    "%pip install scikit-multilearn\n",
    "%pip install iterative-stratification"
   ]
  },
  {
   "cell_type": "code",
   "execution_count": 9,
   "metadata": {},
   "outputs": [
    {
     "data": {
      "text/plain": [
       "((3448, 1), (3448, 3))"
      ]
     },
     "execution_count": 9,
     "metadata": {},
     "output_type": "execute_result"
    }
   ],
   "source": [
    "X = data[['Document']]\n",
    "y = data[author_categories]\n",
    "X.shape, y.shape"
   ]
  },
  {
   "cell_type": "code",
   "execution_count": 10,
   "metadata": {},
   "outputs": [
    {
     "name": "stdout",
     "output_type": "stream",
     "text": [
      "(2758, 4) (690, 4)\n"
     ]
    }
   ],
   "source": [
    "# because multilabel classification, stratification needs to take into account the distribution of pair columns as well and individual ones\n",
    "#  https://github.com/trent-b/iterative-stratification\n",
    "from iterstrat.ml_stratifiers import MultilabelStratifiedShuffleSplit\n",
    "\n",
    "msss = MultilabelStratifiedShuffleSplit(n_splits=2, test_size=0.2, random_state=7)\n",
    "\n",
    "for train_index, test_index in msss.split(X, y):\n",
    "    # print(\"TRAIN:\", train_index, \"TEST:\", test_index)\n",
    "    data_train, data_test = data.iloc[train_index], data.iloc[test_index]\n",
    "\n",
    "print(data_train.shape, data_test.shape)"
   ]
  },
  {
   "cell_type": "code",
   "execution_count": 11,
   "metadata": {},
   "outputs": [
    {
     "data": {
      "text/plain": [
       "aba professional  parent  asd\n",
       "0                 0       0      1869\n",
       "1                 0       0       450\n",
       "0                 1       0       306\n",
       "                  0       1       106\n",
       "1                 0       1        19\n",
       "0                 1       1         5\n",
       "1                 1       0         3\n",
       "Name: count, dtype: int64"
      ]
     },
     "execution_count": 11,
     "metadata": {},
     "output_type": "execute_result"
    }
   ],
   "source": [
    "data_train[author_categories].value_counts()"
   ]
  },
  {
   "cell_type": "code",
   "execution_count": 12,
   "metadata": {},
   "outputs": [
    {
     "data": {
      "text/plain": [
       "aba professional  parent  asd\n",
       "0                 0       0      467\n",
       "1                 0       0      114\n",
       "0                 1       0       77\n",
       "                  0       1       27\n",
       "1                 0       1        4\n",
       "0                 1       1        1\n",
       "Name: count, dtype: int64"
      ]
     },
     "execution_count": 12,
     "metadata": {},
     "output_type": "execute_result"
    }
   ],
   "source": [
    "data_test[author_categories].value_counts()"
   ]
  },
  {
   "cell_type": "code",
   "execution_count": 19,
   "metadata": {},
   "outputs": [
    {
     "name": "stdout",
     "output_type": "stream",
     "text": [
      "<class 'pandas.core.frame.DataFrame'>\n",
      "Index: 2758 entries, 0 to 3447\n",
      "Data columns (total 4 columns):\n",
      " #   Column            Non-Null Count  Dtype \n",
      "---  ------            --------------  ----- \n",
      " 0   Document          2758 non-null   object\n",
      " 1   aba professional  2758 non-null   int64 \n",
      " 2   parent            2758 non-null   int64 \n",
      " 3   asd               2758 non-null   int64 \n",
      "dtypes: int64(3), object(1)\n",
      "memory usage: 107.7+ KB\n",
      "train data:\n",
      " None \n",
      "\n",
      "<class 'pandas.core.frame.DataFrame'>\n",
      "Index: 690 entries, 6 to 3444\n",
      "Data columns (total 4 columns):\n",
      " #   Column            Non-Null Count  Dtype \n",
      "---  ------            --------------  ----- \n",
      " 0   Document          690 non-null    object\n",
      " 1   aba professional  690 non-null    int64 \n",
      " 2   parent            690 non-null    int64 \n",
      " 3   asd               690 non-null    int64 \n",
      "dtypes: int64(3), object(1)\n",
      "memory usage: 27.0+ KB\n",
      "test data:\n",
      " None\n"
     ]
    }
   ],
   "source": [
    "print('train data:\\n',data_train.info(), '\\n')\n",
    "print('test data:\\n',data_test.info())"
   ]
  },
  {
   "cell_type": "code",
   "execution_count": 15,
   "metadata": {},
   "outputs": [
    {
     "data": {
      "image/png": "[encoded data removed]",
      "text/plain": [
       "<Figure size 1000x600 with 1 Axes>"
      ]
     },
     "metadata": {},
     "output_type": "display_data"
    },
    {
     "name": "stdout",
     "output_type": "stream",
     "text": [
      "aba professional\n",
      "0    2286\n",
      "1     472\n",
      "Name: count, dtype: int64\n",
      "parent\n",
      "0    2444\n",
      "1     314\n",
      "Name: count, dtype: int64\n",
      "asd\n",
      "0    2628\n",
      "1     130\n",
      "Name: count, dtype: int64\n"
     ]
    }
   ],
   "source": [
    "# plot categories\n",
    "true_counts = data_train[author_categories].sum()\n",
    "\n",
    "# Plot the counts using a bar plot\n",
    "plt.figure(figsize=(10, 6))\n",
    "ax = true_counts.plot(kind='bar', color='skyblue')\n",
    "plt.title('ASD-ABA authors distribution')\n",
    "plt.xlabel('')\n",
    "plt.ylabel('Number of posts')\n",
    "ax.set_xticklabels(author_categories, rotation=0)\n",
    "plt.show()\n",
    "\n",
    "print(data_train['aba professional'].value_counts())\n",
    "print(data_train['parent'].value_counts())\n",
    "print(data_train['asd'].value_counts())"
   ]
  },
  {
   "cell_type": "code",
   "execution_count": 18,
   "metadata": {},
   "outputs": [
    {
     "data": {
      "image/png": "[encoded data removed]",
      "text/plain": [
       "<Figure size 1000x600 with 1 Axes>"
      ]
     },
     "metadata": {},
     "output_type": "display_data"
    },
    {
     "name": "stdout",
     "output_type": "stream",
     "text": [
      "aba professional\n",
      "0    572\n",
      "1    118\n",
      "Name: count, dtype: int64\n",
      "parent\n",
      "0    612\n",
      "1     78\n",
      "Name: count, dtype: int64\n",
      "asd\n",
      "0    658\n",
      "1     32\n",
      "Name: count, dtype: int64\n"
     ]
    }
   ],
   "source": [
    "# plot categories\n",
    "true_counts = data_test[author_categories].sum()\n",
    "\n",
    "# Plot the counts using a bar plot\n",
    "plt.figure(figsize=(10, 6))\n",
    "ax = true_counts.plot(kind='bar', color='skyblue')\n",
    "plt.title('ASD-ABA authors distribution')\n",
    "plt.xlabel('')\n",
    "plt.ylabel('Number of posts')\n",
    "ax.set_xticklabels(author_categories, rotation=0)\n",
    "plt.show()\n",
    "\n",
    "print(data_test['aba professional'].value_counts())\n",
    "print(data_test['parent'].value_counts())\n",
    "print(data_test['asd'].value_counts())"
   ]
  },
  {
   "cell_type": "code",
   "execution_count": null,
   "metadata": {},
   "outputs": [],
   "source": [
    "# from skmultilearn.model_selection import IterativeStratification\n",
    "# from sklearn.utils import shuffle\n",
    "# random_state = 7\n",
    "# X_shuffled, y_shuffled = shuffle(X, y, random_state=random_state)\n",
    "\n",
    "# stratifier = IterativeStratification(n_splits=2, order=2, sample_distribution_per_fold=[0.2, 0.8])\n",
    "# train_indexes, test_indexes = next(stratifier.split(X_shuffled, y_shuffled))\n",
    "# X_train, y_train = X_shuffled.loc[train_indexes], y_shuffled.loc[train_indexes]\n",
    "# X_test, y_test = X_shuffled.loc[test_indexes], y_shuffled.loc[test_indexes]\n",
    "\n",
    "# print(X_train.shape, y_train.shape)\n",
    "# print(X_test.shape, y_test.shape)"
   ]
  },
  {
   "cell_type": "code",
   "execution_count": 20,
   "metadata": {},
   "outputs": [
    {
     "data": {
      "text/plain": [
       "['aba professional', 'parent', 'asd']"
      ]
     },
     "execution_count": 20,
     "metadata": {},
     "output_type": "execute_result"
    }
   ],
   "source": [
    "attributes = author_categories\n",
    "attributes"
   ]
  },
  {
   "cell_type": "code",
   "execution_count": 24,
   "metadata": {},
   "outputs": [
    {
     "name": "stdout",
     "output_type": "stream",
     "text": [
      "TRAIN: [0 2 3 6 7 8] TEST: [1 4 5]\n",
      "TRAIN: [0 1 3 4 5 7] TEST: [2 6 8]\n",
      "TRAIN: [1 2 4 5 6 8] TEST: [0 3 7]\n"
     ]
    }
   ],
   "source": [
    "# example of MultilabelStratifiedKFold on dummy data\n",
    "from iterstrat.ml_stratifiers import MultilabelStratifiedKFold\n",
    "import numpy as np\n",
    "\n",
    "X = np.array([[1,2], [3,4], [1,2], [3,4], [1,2], [3,4], [1,2], [3,4], [1,2]])\n",
    "y = np.array([[0,0], [0,0], [0,1], [0,1], [1,1], [1,1], [1,0], [1,0], [1,0]])\n",
    "\n",
    "mskf = MultilabelStratifiedKFold(n_splits=3, shuffle=True, random_state=0)\n",
    "\n",
    "for train_index, test_index in mskf.split(X, y):\n",
    "   print(\"TRAIN:\", train_index, \"TEST:\", test_index)\n",
    "   X_train, X_test = X[train_index], X[test_index]\n",
    "   y_train, y_test = y[train_index], y[test_index]"
   ]
  }
 ],
 "metadata": {
  "kernelspec": {
   "display_name": "Python 3",
   "language": "python",
   "name": "python3"
  },
  "language_info": {
   "codemirror_mode": {
    "name": "ipython",
    "version": 3
   },
   "file_extension": ".py",
   "mimetype": "text/x-python",
   "name": "python",
   "nbconvert_exporter": "python",
   "pygments_lexer": "ipython3",
   "version": "3.10.7"
  }
 },
 "nbformat": 4,
 "nbformat_minor": 2
}
