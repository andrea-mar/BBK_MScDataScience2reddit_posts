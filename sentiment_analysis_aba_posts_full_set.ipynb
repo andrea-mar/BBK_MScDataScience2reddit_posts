{
 "cells": [
  {
   "cell_type": "markdown",
   "metadata": {},
   "source": [
    "# Labeled data full set"
   ]
  },
  {
   "cell_type": "code",
   "execution_count": 166,
   "metadata": {},
   "outputs": [],
   "source": [
    "import pandas as pd"
   ]
  },
  {
   "cell_type": "code",
   "execution_count": 167,
   "metadata": {},
   "outputs": [
    {
     "name": "stdout",
     "output_type": "stream",
     "text": [
      "<class 'pandas.core.frame.DataFrame'>\n",
      "RangeIndex: 160 entries, 0 to 159\n",
      "Data columns (total 4 columns):\n",
      " #   Column                                                                                             Non-Null Count  Dtype \n",
      "---  ------                                                                                             --------------  ----- \n",
      " 0   Document                                                                                           160 non-null    object\n",
      " 1   Sentiment (poz / neg/ neutral)                                                                     160 non-null    object\n",
      " 2   Author (can be parent/carer/professions/person with ASD) leave blank if it is not clearly stated)  85 non-null     object\n",
      " 3   Comments - anything you deem important info                                                        34 non-null     object\n",
      "dtypes: object(4)\n",
      "memory usage: 5.1+ KB\n",
      "\n",
      "<class 'pandas.core.frame.DataFrame'>\n",
      "RangeIndex: 200 entries, 0 to 199\n",
      "Data columns (total 4 columns):\n",
      " #   Column                                                                                             Non-Null Count  Dtype \n",
      "---  ------                                                                                             --------------  ----- \n",
      " 0   Document                                                                                           200 non-null    object\n",
      " 1   Sentiment (poz / neg/ neutral)                                                                     198 non-null    object\n",
      " 2   Author (can be parent/carer/professions/person with ASD) leave blank if it is not clearly stated)  80 non-null     object\n",
      " 3   Comments - anything you deem important info                                                        32 non-null     object\n",
      "dtypes: object(4)\n",
      "memory usage: 6.4+ KB\n",
      "\n",
      "<class 'pandas.core.frame.DataFrame'>\n",
      "RangeIndex: 140 entries, 0 to 139\n",
      "Data columns (total 4 columns):\n",
      " #   Column                                                                                             Non-Null Count  Dtype \n",
      "---  ------                                                                                             --------------  ----- \n",
      " 0   Document                                                                                           140 non-null    object\n",
      " 1   Sentiment (poz / neg/ neutral)                                                                     135 non-null    object\n",
      " 2   Author (can be parent/carer/professions/person with ASD) leave blank if it is not clearly stated)  63 non-null     object\n",
      " 3   Comments - anything you deem important info                                                        37 non-null     object\n",
      "dtypes: object(4)\n",
      "memory usage: 4.5+ KB\n",
      "\n",
      "<class 'pandas.core.frame.DataFrame'>\n",
      "RangeIndex: 500 entries, 0 to 499\n",
      "Data columns (total 4 columns):\n",
      " #   Column                                                                                             Non-Null Count  Dtype \n",
      "---  ------                                                                                             --------------  ----- \n",
      " 0   Document                                                                                           500 non-null    object\n",
      " 1   Sentiment (poz / neg/ neutral)                                                                     489 non-null    object\n",
      " 2   Author (can be parent/carer/professions/person with ASD) leave blank if it is not clearly stated)  158 non-null    object\n",
      " 3   Comments - anything you deem important info                                                        181 non-null    object\n",
      "dtypes: object(4)\n",
      "memory usage: 15.8+ KB\n",
      "\n",
      "<class 'pandas.core.frame.DataFrame'>\n",
      "RangeIndex: 560 entries, 0 to 559\n",
      "Data columns (total 4 columns):\n",
      " #   Column                                                                                             Non-Null Count  Dtype \n",
      "---  ------                                                                                             --------------  ----- \n",
      " 0   Document                                                                                           560 non-null    object\n",
      " 1   Sentiment (poz / neg/ neutral)                                                                     557 non-null    object\n",
      " 2   Author (can be parent/carer/professions/person with ASD) leave blank if it is not clearly stated)  232 non-null    object\n",
      " 3   Comments - anything you deem important info                                                        273 non-null    object\n",
      "dtypes: object(4)\n",
      "memory usage: 17.6+ KB\n",
      "\n",
      "<class 'pandas.core.frame.DataFrame'>\n",
      "RangeIndex: 1000 entries, 0 to 999\n",
      "Data columns (total 4 columns):\n",
      " #   Column                                                                                             Non-Null Count  Dtype \n",
      "---  ------                                                                                             --------------  ----- \n",
      " 0   Document                                                                                           1000 non-null   object\n",
      " 1   Sentiment (poz / neg/ neutral)                                                                     956 non-null    object\n",
      " 2   Author (can be parent/carer/professions/person with ASD) leave blank if it is not clearly stated)  378 non-null    object\n",
      " 3   Comments - anything you deem important info                                                        32 non-null     object\n",
      "dtypes: object(4)\n",
      "memory usage: 31.4+ KB\n",
      "\n",
      "<class 'pandas.core.frame.DataFrame'>\n",
      "RangeIndex: 1000 entries, 0 to 999\n",
      "Data columns (total 4 columns):\n",
      " #   Column                                                                                             Non-Null Count  Dtype \n",
      "---  ------                                                                                             --------------  ----- \n",
      " 0   Document                                                                                           1000 non-null   object\n",
      " 1   Sentiment (poz / neg/ neutral)                                                                     961 non-null    object\n",
      " 2   Author (can be parent/carer/professions/person with ASD) leave blank if it is not clearly stated)  343 non-null    object\n",
      " 3   Comments - anything you deem important info                                                        43 non-null     object\n",
      "dtypes: object(4)\n",
      "memory usage: 31.4+ KB\n"
     ]
    }
   ],
   "source": [
    "# import labeled data ( random 1000 posts lebeled by Elvie and  - 100 double checked by me )\n",
    "aba_posts_labeled1 = pd.read_csv('data/labeled_data/for_elvie_labeled.csv')\n",
    "aba_posts_labeled1.info()\n",
    "print()\n",
    "\n",
    "aba_posts_labeled2 = pd.read_csv('data/labeled_data/for_elvie2_labeled.csv')\n",
    "aba_posts_labeled2.info()\n",
    "print()\n",
    "\n",
    "aba_posts_labeled3 = pd.read_csv('data/labeled_data/for_elvie3_labeled.csv')\n",
    "aba_posts_labeled3.info()\n",
    "print()\n",
    "\n",
    "aba_posts_labeled4 = pd.read_csv('data/labeled_data/for_elvie4_labeled.csv')\n",
    "aba_posts_labeled4.info()\n",
    "print()\n",
    "\n",
    "aba_posts_labeled5 = pd.read_csv('data/labeled_data/for_elvie5_labeled.csv')\n",
    "aba_posts_labeled5.info()\n",
    "print()\n",
    "\n",
    "aba_posts_labeled6 = pd.read_csv('data/labeled_data/for_maria_labeled.csv')\n",
    "aba_posts_labeled6.info()\n",
    "print()\n",
    "\n",
    "aba_posts_labeled7 = pd.read_csv('data/labeled_data/for_andrea_labeled.csv')\n",
    "aba_posts_labeled7.info()"
   ]
  },
  {
   "cell_type": "code",
   "execution_count": 168,
   "metadata": {},
   "outputs": [
    {
     "name": "stdout",
     "output_type": "stream",
     "text": [
      "<class 'pandas.core.frame.DataFrame'>\n",
      "RangeIndex: 3560 entries, 0 to 3559\n",
      "Data columns (total 4 columns):\n",
      " #   Column                                                                                             Non-Null Count  Dtype \n",
      "---  ------                                                                                             --------------  ----- \n",
      " 0   Document                                                                                           3560 non-null   object\n",
      " 1   Sentiment (poz / neg/ neutral)                                                                     3456 non-null   object\n",
      " 2   Author (can be parent/carer/professions/person with ASD) leave blank if it is not clearly stated)  1339 non-null   object\n",
      " 3   Comments - anything you deem important info                                                        632 non-null    object\n",
      "dtypes: object(4)\n",
      "memory usage: 111.4+ KB\n"
     ]
    }
   ],
   "source": [
    "# join the labeled data ( 1000 random posts )\n",
    "aba_posts_labeled = pd.concat([aba_posts_labeled1, aba_posts_labeled2, aba_posts_labeled3, aba_posts_labeled4, aba_posts_labeled5, aba_posts_labeled6, aba_posts_labeled7], ignore_index=True)\n",
    "aba_posts_labeled.info()"
   ]
  },
  {
   "cell_type": "code",
   "execution_count": 169,
   "metadata": {},
   "outputs": [
    {
     "name": "stdout",
     "output_type": "stream",
     "text": [
      "<class 'pandas.core.frame.DataFrame'>\n",
      "RangeIndex: 3560 entries, 0 to 3559\n",
      "Data columns (total 4 columns):\n",
      " #   Column     Non-Null Count  Dtype \n",
      "---  ------     --------------  ----- \n",
      " 0   Document   3560 non-null   object\n",
      " 1   sentiment  3456 non-null   object\n",
      " 2   author     1339 non-null   object\n",
      " 3   commnents  632 non-null    object\n",
      "dtypes: object(4)\n",
      "memory usage: 111.4+ KB\n"
     ]
    }
   ],
   "source": [
    "# Rename columns as needed\n",
    "column_mapping = {\n",
    "    'Sentiment (poz / neg/ neutral)': 'sentiment',\n",
    "    'Author (can be parent/carer/professions/person with ASD) leave blank if it is not clearly stated)': 'author',\n",
    "    'Comments - anything you deem important info': 'commnents'\n",
    "}\n",
    "\n",
    "aba_posts_labeled.rename(columns=column_mapping, inplace=True)\n",
    "aba_posts_labeled.info()"
   ]
  },
  {
   "cell_type": "code",
   "execution_count": 170,
   "metadata": {},
   "outputs": [
    {
     "data": {
      "text/html": [
       "<div>\n",
       "<style scoped>\n",
       "    .dataframe tbody tr th:only-of-type {\n",
       "        vertical-align: middle;\n",
       "    }\n",
       "\n",
       "    .dataframe tbody tr th {\n",
       "        vertical-align: top;\n",
       "    }\n",
       "\n",
       "    .dataframe thead th {\n",
       "        text-align: right;\n",
       "    }\n",
       "</style>\n",
       "<table border=\"1\" class=\"dataframe\">\n",
       "  <thead>\n",
       "    <tr style=\"text-align: right;\">\n",
       "      <th></th>\n",
       "      <th>Document</th>\n",
       "      <th>sentiment</th>\n",
       "      <th>author</th>\n",
       "      <th>commnents</th>\n",
       "    </tr>\n",
       "  </thead>\n",
       "  <tbody>\n",
       "    <tr>\n",
       "      <th>0</th>\n",
       "      <td>Is she in ABA therapy I only ask because my hu...</td>\n",
       "      <td>Neutral</td>\n",
       "      <td>NaN</td>\n",
       "      <td>NaN</td>\n",
       "    </tr>\n",
       "    <tr>\n",
       "      <th>1</th>\n",
       "      <td>I heard you are able to ask them questions May...</td>\n",
       "      <td>Neutral</td>\n",
       "      <td>NaN</td>\n",
       "      <td></td>\n",
       "    </tr>\n",
       "    <tr>\n",
       "      <th>2</th>\n",
       "      <td>I agree with that Even dr Lovaas said ABA does...</td>\n",
       "      <td>Pozitive</td>\n",
       "      <td>NaN</td>\n",
       "      <td></td>\n",
       "    </tr>\n",
       "    <tr>\n",
       "      <th>3</th>\n",
       "      <td>Thank you so so much for sharing your experien...</td>\n",
       "      <td>Pozitive</td>\n",
       "      <td>Parent</td>\n",
       "      <td></td>\n",
       "    </tr>\n",
       "    <tr>\n",
       "      <th>4</th>\n",
       "      <td>Thank you that makes a lot of sense Seems pret...</td>\n",
       "      <td>Neutral</td>\n",
       "      <td>NaN</td>\n",
       "      <td>NaN</td>\n",
       "    </tr>\n",
       "  </tbody>\n",
       "</table>\n",
       "</div>"
      ],
      "text/plain": [
       "                                            Document sentiment  author  \\\n",
       "0  Is she in ABA therapy I only ask because my hu...   Neutral     NaN   \n",
       "1  I heard you are able to ask them questions May...   Neutral     NaN   \n",
       "2  I agree with that Even dr Lovaas said ABA does...  Pozitive     NaN   \n",
       "3  Thank you so so much for sharing your experien...  Pozitive  Parent   \n",
       "4  Thank you that makes a lot of sense Seems pret...   Neutral     NaN   \n",
       "\n",
       "  commnents  \n",
       "0       NaN  \n",
       "1            \n",
       "2            \n",
       "3            \n",
       "4       NaN  "
      ]
     },
     "execution_count": 170,
     "metadata": {},
     "output_type": "execute_result"
    }
   ],
   "source": [
    "aba_posts_labeled.head()"
   ]
  },
  {
   "cell_type": "code",
   "execution_count": 171,
   "metadata": {},
   "outputs": [
    {
     "data": {
      "text/html": [
       "<div>\n",
       "<style scoped>\n",
       "    .dataframe tbody tr th:only-of-type {\n",
       "        vertical-align: middle;\n",
       "    }\n",
       "\n",
       "    .dataframe tbody tr th {\n",
       "        vertical-align: top;\n",
       "    }\n",
       "\n",
       "    .dataframe thead th {\n",
       "        text-align: right;\n",
       "    }\n",
       "</style>\n",
       "<table border=\"1\" class=\"dataframe\">\n",
       "  <thead>\n",
       "    <tr style=\"text-align: right;\">\n",
       "      <th></th>\n",
       "      <th>Document</th>\n",
       "      <th>sentiment</th>\n",
       "      <th>author</th>\n",
       "      <th>commnents</th>\n",
       "    </tr>\n",
       "  </thead>\n",
       "  <tbody>\n",
       "    <tr>\n",
       "      <th>232</th>\n",
       "      <td>Sounds like this SLP is using outdated practic...</td>\n",
       "      <td>NaN</td>\n",
       "      <td>NaN</td>\n",
       "      <td>Not aba</td>\n",
       "    </tr>\n",
       "    <tr>\n",
       "      <th>288</th>\n",
       "      <td>Speech therapist here like many are saying I t...</td>\n",
       "      <td>NaN</td>\n",
       "      <td>NaN</td>\n",
       "      <td>Not aba</td>\n",
       "    </tr>\n",
       "    <tr>\n",
       "      <th>365</th>\n",
       "      <td>BT Survey Updates on Burnout and Satisfaction ...</td>\n",
       "      <td>NaN</td>\n",
       "      <td>ABA professional</td>\n",
       "      <td>Survey about professionals suffering burnout</td>\n",
       "    </tr>\n",
       "    <tr>\n",
       "      <th>416</th>\n",
       "      <td>If you're not an SLP you're not qualified to e...</td>\n",
       "      <td>NaN</td>\n",
       "      <td>NaN</td>\n",
       "      <td>Not ABA</td>\n",
       "    </tr>\n",
       "    <tr>\n",
       "      <th>421</th>\n",
       "      <td>I work with SLPS at my clinic because we are m...</td>\n",
       "      <td>NaN</td>\n",
       "      <td>NaN</td>\n",
       "      <td>Not ABA</td>\n",
       "    </tr>\n",
       "    <tr>\n",
       "      <th>...</th>\n",
       "      <td>...</td>\n",
       "      <td>...</td>\n",
       "      <td>...</td>\n",
       "      <td>...</td>\n",
       "    </tr>\n",
       "    <tr>\n",
       "      <th>3421</th>\n",
       "      <td>I think Aba interacting with Train would be fu...</td>\n",
       "      <td>NaN</td>\n",
       "      <td>NaN</td>\n",
       "      <td>Not aba</td>\n",
       "    </tr>\n",
       "    <tr>\n",
       "      <th>3475</th>\n",
       "      <td>Wow ABA and nazi jokes What a catch s</td>\n",
       "      <td>NaN</td>\n",
       "      <td>NaN</td>\n",
       "      <td>Not aba</td>\n",
       "    </tr>\n",
       "    <tr>\n",
       "      <th>3479</th>\n",
       "      <td>I always thought it was ABBA not ABA probs jus...</td>\n",
       "      <td>NaN</td>\n",
       "      <td>NaN</td>\n",
       "      <td>Not aba</td>\n",
       "    </tr>\n",
       "    <tr>\n",
       "      <th>3514</th>\n",
       "      <td>I m an SLP and do not condone withholding</td>\n",
       "      <td>NaN</td>\n",
       "      <td>NaN</td>\n",
       "      <td>Not aba</td>\n",
       "    </tr>\n",
       "    <tr>\n",
       "      <th>3518</th>\n",
       "      <td>can people get OT and speech therapy is it ava...</td>\n",
       "      <td>NaN</td>\n",
       "      <td>NaN</td>\n",
       "      <td>Not aba</td>\n",
       "    </tr>\n",
       "  </tbody>\n",
       "</table>\n",
       "<p>104 rows × 4 columns</p>\n",
       "</div>"
      ],
      "text/plain": [
       "                                               Document sentiment  \\\n",
       "232   Sounds like this SLP is using outdated practic...       NaN   \n",
       "288   Speech therapist here like many are saying I t...       NaN   \n",
       "365   BT Survey Updates on Burnout and Satisfaction ...       NaN   \n",
       "416   If you're not an SLP you're not qualified to e...       NaN   \n",
       "421   I work with SLPS at my clinic because we are m...       NaN   \n",
       "...                                                 ...       ...   \n",
       "3421  I think Aba interacting with Train would be fu...       NaN   \n",
       "3475              Wow ABA and nazi jokes What a catch s       NaN   \n",
       "3479  I always thought it was ABBA not ABA probs jus...       NaN   \n",
       "3514          I m an SLP and do not condone withholding       NaN   \n",
       "3518  can people get OT and speech therapy is it ava...       NaN   \n",
       "\n",
       "                author                                     commnents  \n",
       "232                NaN                                       Not aba  \n",
       "288                NaN                                       Not aba  \n",
       "365   ABA professional  Survey about professionals suffering burnout  \n",
       "416                NaN                                       Not ABA  \n",
       "421                NaN                                       Not ABA  \n",
       "...                ...                                           ...  \n",
       "3421               NaN                                       Not aba  \n",
       "3475               NaN                                       Not aba  \n",
       "3479               NaN                                       Not aba  \n",
       "3514               NaN                                       Not aba  \n",
       "3518               NaN                                       Not aba  \n",
       "\n",
       "[104 rows x 4 columns]"
      ]
     },
     "execution_count": 171,
     "metadata": {},
     "output_type": "execute_result"
    }
   ],
   "source": [
    "# 104 entries sentiment col missing\n",
    "# sentiment was not recorded as the posts were not relevant to aba - see comments\n",
    "# remove these rows\n",
    "# the bertopic model resulted in almost all posts being relevant to aba - only about 100 out of 3500 posts are not aba related (less than 1%)\n",
    "aba_posts_labeled[aba_posts_labeled['sentiment'].isnull()]"
   ]
  },
  {
   "cell_type": "code",
   "execution_count": 172,
   "metadata": {},
   "outputs": [
    {
     "name": "stdout",
     "output_type": "stream",
     "text": [
      "<class 'pandas.core.frame.DataFrame'>\n",
      "Index: 3456 entries, 0 to 3559\n",
      "Data columns (total 4 columns):\n",
      " #   Column     Non-Null Count  Dtype \n",
      "---  ------     --------------  ----- \n",
      " 0   Document   3456 non-null   object\n",
      " 1   sentiment  3456 non-null   object\n",
      " 2   author     1326 non-null   object\n",
      " 3   commnents  540 non-null    object\n",
      "dtypes: object(4)\n",
      "memory usage: 135.0+ KB\n"
     ]
    }
   ],
   "source": [
    "aba_posts_labeled = aba_posts_labeled.dropna(subset=['sentiment'])\n",
    "aba_posts_labeled.info()"
   ]
  },
  {
   "cell_type": "code",
   "execution_count": 173,
   "metadata": {},
   "outputs": [
    {
     "name": "stdout",
     "output_type": "stream",
     "text": [
      "<class 'pandas.core.frame.DataFrame'>\n",
      "Index: 3456 entries, 0 to 3559\n",
      "Data columns (total 4 columns):\n",
      " #   Column     Non-Null Count  Dtype \n",
      "---  ------     --------------  ----- \n",
      " 0   Document   3456 non-null   object\n",
      " 1   sentiment  3456 non-null   object\n",
      " 2   author     3456 non-null   object\n",
      " 3   commnents  540 non-null    object\n",
      "dtypes: object(4)\n",
      "memory usage: 135.0+ KB\n"
     ]
    }
   ],
   "source": [
    "# as per instruction given for labling atuhor entry was left blank if the author was not clear in the post\n",
    "# replace the NaN values in authot with 'layperson' \n",
    "aba_posts_labeled['author'].fillna('layperson', inplace=True)\n",
    "aba_posts_labeled.info()"
   ]
  },
  {
   "cell_type": "code",
   "execution_count": 174,
   "metadata": {},
   "outputs": [
    {
     "data": {
      "text/plain": [
       "sentiment\n",
       "Neutral              2223\n",
       "Negative              767\n",
       "Positive              229\n",
       "Pozitive              154\n",
       "Negative               67\n",
       "                        4\n",
       "Positive                4\n",
       "Neutral                 3\n",
       "Neutral?                2\n",
       "Negative?               1\n",
       "Pozitive Negative       1\n",
       "Ne                      1\n",
       "Name: count, dtype: int64"
      ]
     },
     "execution_count": 174,
     "metadata": {},
     "output_type": "execute_result"
    }
   ],
   "source": [
    "# look at sentiment classes \n",
    "# there are some misspelling -> can be corrected\n",
    "# sentiment is blank space in 4 rows\n",
    "aba_posts_labeled['sentiment'].value_counts()"
   ]
  },
  {
   "cell_type": "code",
   "execution_count": 175,
   "metadata": {},
   "outputs": [
    {
     "data": {
      "text/html": [
       "<div>\n",
       "<style scoped>\n",
       "    .dataframe tbody tr th:only-of-type {\n",
       "        vertical-align: middle;\n",
       "    }\n",
       "\n",
       "    .dataframe tbody tr th {\n",
       "        vertical-align: top;\n",
       "    }\n",
       "\n",
       "    .dataframe thead th {\n",
       "        text-align: right;\n",
       "    }\n",
       "</style>\n",
       "<table border=\"1\" class=\"dataframe\">\n",
       "  <thead>\n",
       "    <tr style=\"text-align: right;\">\n",
       "      <th></th>\n",
       "      <th>Document</th>\n",
       "      <th>sentiment</th>\n",
       "      <th>author</th>\n",
       "      <th>commnents</th>\n",
       "    </tr>\n",
       "  </thead>\n",
       "  <tbody>\n",
       "    <tr>\n",
       "      <th>11</th>\n",
       "      <td>Abata Therapeutics Announces First Development...</td>\n",
       "      <td></td>\n",
       "      <td>layperson</td>\n",
       "      <td>Not aba related</td>\n",
       "    </tr>\n",
       "    <tr>\n",
       "      <th>117</th>\n",
       "      <td>OT is amazing We have done speech and OT since...</td>\n",
       "      <td></td>\n",
       "      <td>Parent</td>\n",
       "      <td>Not aba related</td>\n",
       "    </tr>\n",
       "    <tr>\n",
       "      <th>160</th>\n",
       "      <td>I honestly don't know how Aba disagreed with P...</td>\n",
       "      <td></td>\n",
       "      <td>layperson</td>\n",
       "      <td>Aba N Preach - YouTube channel not relevant</td>\n",
       "    </tr>\n",
       "    <tr>\n",
       "      <th>184</th>\n",
       "      <td>Don't do SLPA It's extremely hard to find jobs...</td>\n",
       "      <td></td>\n",
       "      <td>layperson</td>\n",
       "      <td>Not aba</td>\n",
       "    </tr>\n",
       "  </tbody>\n",
       "</table>\n",
       "</div>"
      ],
      "text/plain": [
       "                                              Document sentiment     author  \\\n",
       "11   Abata Therapeutics Announces First Development...            layperson   \n",
       "117  OT is amazing We have done speech and OT since...               Parent   \n",
       "160  I honestly don't know how Aba disagreed with P...            layperson   \n",
       "184  Don't do SLPA It's extremely hard to find jobs...            layperson   \n",
       "\n",
       "                                        commnents  \n",
       "11                                Not aba related  \n",
       "117                               Not aba related  \n",
       "160   Aba N Preach - YouTube channel not relevant  \n",
       "184                                       Not aba  "
      ]
     },
     "execution_count": 175,
     "metadata": {},
     "output_type": "execute_result"
    }
   ],
   "source": [
    "empty_sentiment_rows = aba_posts_labeled[aba_posts_labeled['sentiment'].str.isspace()] \n",
    "empty_sentiment_rows  # posts not about aba -> drop them"
   ]
  },
  {
   "cell_type": "code",
   "execution_count": 176,
   "metadata": {},
   "outputs": [
    {
     "name": "stdout",
     "output_type": "stream",
     "text": [
      "<class 'pandas.core.frame.DataFrame'>\n",
      "Index: 3452 entries, 0 to 3559\n",
      "Data columns (total 4 columns):\n",
      " #   Column     Non-Null Count  Dtype \n",
      "---  ------     --------------  ----- \n",
      " 0   Document   3452 non-null   object\n",
      " 1   sentiment  3452 non-null   object\n",
      " 2   author     3452 non-null   object\n",
      " 3   commnents  536 non-null    object\n",
      "dtypes: object(4)\n",
      "memory usage: 134.8+ KB\n"
     ]
    }
   ],
   "source": [
    "aba_posts_labeled.drop(empty_sentiment_rows.index, inplace=True)\n",
    "aba_posts_labeled.info()\n",
    "# 3452 posts to be inlcuded in the analysis \n",
    "# comments columns has missing data - however this col. is only for reference and will be dropped for final analysis"
   ]
  },
  {
   "cell_type": "code",
   "execution_count": 177,
   "metadata": {},
   "outputs": [
    {
     "data": {
      "text/html": [
       "<div>\n",
       "<style scoped>\n",
       "    .dataframe tbody tr th:only-of-type {\n",
       "        vertical-align: middle;\n",
       "    }\n",
       "\n",
       "    .dataframe tbody tr th {\n",
       "        vertical-align: top;\n",
       "    }\n",
       "\n",
       "    .dataframe thead th {\n",
       "        text-align: right;\n",
       "    }\n",
       "</style>\n",
       "<table border=\"1\" class=\"dataframe\">\n",
       "  <thead>\n",
       "    <tr style=\"text-align: right;\">\n",
       "      <th></th>\n",
       "      <th>Document</th>\n",
       "      <th>sentiment</th>\n",
       "      <th>author</th>\n",
       "      <th>commnents</th>\n",
       "    </tr>\n",
       "  </thead>\n",
       "  <tbody>\n",
       "    <tr>\n",
       "      <th>103</th>\n",
       "      <td>This makes a lot of sense Thanks for giving su...</td>\n",
       "      <td>Negative?</td>\n",
       "      <td>ABA professional</td>\n",
       "      <td>Not sure if ABA is right to treat children wit...</td>\n",
       "    </tr>\n",
       "    <tr>\n",
       "      <th>147</th>\n",
       "      <td>Accommodating is one thing Installing a ramp f...</td>\n",
       "      <td>Neutral?</td>\n",
       "      <td>Parent</td>\n",
       "      <td>NaN</td>\n",
       "    </tr>\n",
       "    <tr>\n",
       "      <th>960</th>\n",
       "      <td>No I m saying he d be pissed about modern ABA ...</td>\n",
       "      <td>Neutral?</td>\n",
       "      <td>layperson</td>\n",
       "      <td>NaN</td>\n",
       "    </tr>\n",
       "  </tbody>\n",
       "</table>\n",
       "</div>"
      ],
      "text/plain": [
       "                                              Document  sentiment  \\\n",
       "103  This makes a lot of sense Thanks for giving su...  Negative?   \n",
       "147  Accommodating is one thing Installing a ramp f...   Neutral?   \n",
       "960  No I m saying he d be pissed about modern ABA ...   Neutral?   \n",
       "\n",
       "               author                                          commnents  \n",
       "103  ABA professional  Not sure if ABA is right to treat children wit...  \n",
       "147            Parent                                                NaN  \n",
       "960         layperson                                                NaN  "
      ]
     },
     "execution_count": 177,
     "metadata": {},
     "output_type": "execute_result"
    }
   ],
   "source": [
    "# check rows where sentiment contains a ? ( grader was unsure )\n",
    "question_mark_rows = aba_posts_labeled[aba_posts_labeled['sentiment'].str.contains('\\?', na=False, regex=True)]\n",
    "question_mark_rows"
   ]
  },
  {
   "cell_type": "code",
   "execution_count": 178,
   "metadata": {},
   "outputs": [
    {
     "name": "stdout",
     "output_type": "stream",
     "text": [
      "<class 'pandas.core.frame.DataFrame'>\n",
      "Index: 3449 entries, 0 to 3559\n",
      "Data columns (total 4 columns):\n",
      " #   Column     Non-Null Count  Dtype \n",
      "---  ------     --------------  ----- \n",
      " 0   Document   3449 non-null   object\n",
      " 1   sentiment  3449 non-null   object\n",
      " 2   author     3449 non-null   object\n",
      " 3   commnents  535 non-null    object\n",
      "dtypes: object(4)\n",
      "memory usage: 134.7+ KB\n"
     ]
    }
   ],
   "source": [
    "# if the coders were confused the ML algo. might be as well \n",
    "# drop rows where sentiment contains '?'\n",
    "aba_posts_labeled = aba_posts_labeled[~aba_posts_labeled['sentiment'].str.contains('\\?')]\n",
    "aba_posts_labeled.info()\n",
    "\n",
    "# 3449 rows / posts remain"
   ]
  },
  {
   "cell_type": "markdown",
   "metadata": {},
   "source": [
    "## Sentiment \n",
    "descriptive statistics"
   ]
  },
  {
   "cell_type": "code",
   "execution_count": 179,
   "metadata": {},
   "outputs": [
    {
     "data": {
      "text/plain": [
       "sentiment\n",
       "Neutral              2223\n",
       "Negative              767\n",
       "Positive              229\n",
       "Pozitive              154\n",
       "Negative               67\n",
       "Positive                4\n",
       "Neutral                 3\n",
       "Pozitive Negative       1\n",
       "Ne                      1\n",
       "Name: count, dtype: int64"
      ]
     },
     "execution_count": 179,
     "metadata": {},
     "output_type": "execute_result"
    }
   ],
   "source": [
    "aba_posts_labeled['sentiment'].value_counts()  # category labeles need cleaning ( spelling checks and consistency )"
   ]
  },
  {
   "cell_type": "code",
   "execution_count": 180,
   "metadata": {},
   "outputs": [
    {
     "name": "stdout",
     "output_type": "stream",
     "text": [
      "<class 'pandas.core.frame.DataFrame'>\n",
      "Index: 3448 entries, 0 to 3559\n",
      "Data columns (total 4 columns):\n",
      " #   Column     Non-Null Count  Dtype \n",
      "---  ------     --------------  ----- \n",
      " 0   Document   3448 non-null   object\n",
      " 1   sentiment  3448 non-null   object\n",
      " 2   author     3448 non-null   object\n",
      " 3   commnents  535 non-null    object\n",
      "dtypes: object(4)\n",
      "memory usage: 134.7+ KB\n"
     ]
    }
   ],
   "source": [
    "# drop Ne row - see reasoning in file: sentiment_analysis_aba_posts.ipynb\n",
    "aba_posts_labeled = aba_posts_labeled[aba_posts_labeled['sentiment'] != 'Ne']\n",
    "# Replace 'Pozitive Negative' with 'Neutral' in the 'sentiment' column\n",
    "aba_posts_labeled['sentiment'] = aba_posts_labeled['sentiment'].replace('Pozitive Negative', 'Neutral')\n",
    "# remove whitespace \n",
    "aba_posts_labeled['sentiment'] = aba_posts_labeled['sentiment'].str.strip()\n",
    "\n",
    "aba_posts_labeled.info()"
   ]
  },
  {
   "cell_type": "code",
   "execution_count": 181,
   "metadata": {},
   "outputs": [
    {
     "data": {
      "text/plain": [
       "sentiment\n",
       "Neutral     2227\n",
       "Negative     834\n",
       "Positive     233\n",
       "Pozitive     154\n",
       "Name: count, dtype: int64"
      ]
     },
     "execution_count": 181,
     "metadata": {},
     "output_type": "execute_result"
    }
   ],
   "source": [
    "aba_posts_labeled['sentiment'].value_counts() "
   ]
  },
  {
   "cell_type": "code",
   "execution_count": 182,
   "metadata": {},
   "outputs": [
    {
     "data": {
      "text/plain": [
       "sentiment\n",
       "Neutral     2227\n",
       "Negative     834\n",
       "Positive     387\n",
       "Name: count, dtype: int64"
      ]
     },
     "execution_count": 182,
     "metadata": {},
     "output_type": "execute_result"
    }
   ],
   "source": [
    "# make spelling uniform for pozitive sentiment label \n",
    "mask = aba_posts_labeled['sentiment'].str.startswith('Po')\n",
    "aba_posts_labeled.loc[mask, 'sentiment'] = 'Positive'\n",
    "aba_posts_labeled['sentiment'].value_counts() "
   ]
  },
  {
   "cell_type": "code",
   "execution_count": 183,
   "metadata": {},
   "outputs": [
    {
     "data": {
      "image/png": "[encoded data removed]",
      "text/plain": [
       "<Figure size 640x480 with 1 Axes>"
      ]
     },
     "metadata": {},
     "output_type": "display_data"
    }
   ],
   "source": [
    "import matplotlib.pyplot as plt\n",
    "\n",
    "# Plot the 'sentiment' column\n",
    "sentiment_counts = aba_posts_labeled['sentiment'].value_counts()\n",
    "sentiment_counts.plot(kind='bar', color='skyblue')\n",
    "plt.title('Sentiment Distribution')\n",
    "plt.xlabel('Sentiment')\n",
    "plt.ylabel('Number of posts')\n",
    "plt.show()\n",
    "\n",
    "# more than half the posts present as neutral regarding aba therapy \n",
    "# data is not balanced\n",
    "# the data distribution is similar to the smaller data set (used in file: sentiment_analysis_aba_posts.ipynb)\n",
    "\n",
    "# as per instructions and also by inspecting the comments column :\n",
    "# posts that are neutral are either:\n",
    "#   - information/advice seeking about aba therapy related\n",
    "#   - information/advice seeking about aba job related\n",
    "#   - information/advice seeking about aba in general\n",
    "#   - people expressing both pozitive and negative opinions about aba in the same post \n",
    "\n",
    "# negative sentiments were recorded for those posts that:\n",
    "#   - expressed only opinions against aba therapy or aba in general\n",
    "#   - expressed only opinions against aba as a career field/ job related \n",
    "\n",
    "# pozitive sentiments were recorded for those posts that:\n",
    "#   - expressed only pozitive opinions about aba therapy or aba in general\n",
    "#   - expressed only pozitive opinions about aba as a career field/ job related "
   ]
  },
  {
   "cell_type": "markdown",
   "metadata": {},
   "source": [
    "## Post's Author\n",
    "descriptive statistics"
   ]
  },
  {
   "cell_type": "code",
   "execution_count": 184,
   "metadata": {},
   "outputs": [
    {
     "data": {
      "text/plain": [
       "author\n",
       "layperson                                    2126\n",
       "aba professional                              564\n",
       "parent                                        379\n",
       "other professional                             99\n",
       "asd                                            72\n",
       "asd person                                     48\n",
       "professional                                   32\n",
       "aba student                                    24\n",
       "aba professional with asd                      12\n",
       "aba  professional/asd                           8\n",
       "aba professional?                               6\n",
       "family                                          5\n",
       "slp                                             5\n",
       "ex aba professional                             4\n",
       "teacher                                         4\n",
       "ex aba profesisonal                             4\n",
       "student                                         4\n",
       "other professional / asd                        4\n",
       "parent/asd                                      3\n",
       "relative                                        3\n",
       "aba professional / asd                          3\n",
       "aba professional/parent                         2\n",
       "other professional/asd                          2\n",
       "parent/other professional                       2\n",
       "professional?                                   2\n",
       "ex - aba professional                           2\n",
       "asd person?                                     2\n",
       "asd parent                                      2\n",
       "aba student with asd                            1\n",
       "ex aba profesional                              1\n",
       "relativeo of aba professional                   1\n",
       "parent with asd                                 1\n",
       "asd student                                     1\n",
       "friend of asd person                            1\n",
       "social worker with asd                          1\n",
       "salt                                            1\n",
       "psychologist with asd                           1\n",
       "education professional                          1\n",
       "occupational therapist                          1\n",
       "ot/parent                                       1\n",
       "psychologist                                    1\n",
       "professors                                      1\n",
       "asd teacher                                     1\n",
       "ex aba professional / ot                        1\n",
       "clinical therapist with asd                     1\n",
       "parent?                                         1\n",
       "ot with asd                                     1\n",
       "person with “special needs” not specified       1\n",
       "ot                                              1\n",
       "parent with asd child                           1\n",
       "sibling                                         1\n",
       "student?                                        1\n",
       "parent/aba professional                         1\n",
       "Name: count, dtype: int64"
      ]
     },
     "execution_count": 184,
     "metadata": {},
     "output_type": "execute_result"
    }
   ],
   "source": [
    "# look at categories of authors\n",
    "# strip white spaces\n",
    "aba_posts_labeled['author'] = aba_posts_labeled['author'].str.strip()\n",
    "# lowewrcase all lables\n",
    "aba_posts_labeled['author'] = aba_posts_labeled['author'].str.lower()\n",
    "aba_posts_labeled['author'].value_counts() "
   ]
  },
  {
   "cell_type": "code",
   "execution_count": 185,
   "metadata": {},
   "outputs": [
    {
     "data": {
      "text/plain": [
       "author\n",
       "layperson                                    2138\n",
       "aba professional                              564\n",
       "parent                                        379\n",
       "other professional                             99\n",
       "asd                                            72\n",
       "asd person                                     48\n",
       "professional                                   32\n",
       "aba student                                    24\n",
       "aba professional with asd                      12\n",
       "aba  professional/asd                           8\n",
       "slp                                             5\n",
       "family                                          5\n",
       "ex aba profesisonal                             4\n",
       "teacher                                         4\n",
       "student                                         4\n",
       "other professional / asd                        4\n",
       "ex aba professional                             4\n",
       "relative                                        3\n",
       "parent/asd                                      3\n",
       "aba professional / asd                          3\n",
       "aba professional/parent                         2\n",
       "parent/other professional                       2\n",
       "asd parent                                      2\n",
       "ex - aba professional                           2\n",
       "other professional/asd                          2\n",
       "relativeo of aba professional                   1\n",
       "ex aba profesional                              1\n",
       "parent with asd                                 1\n",
       "asd student                                     1\n",
       "aba student with asd                            1\n",
       "parent with asd child                           1\n",
       "social worker with asd                          1\n",
       "asd teacher                                     1\n",
       "psychologist with asd                           1\n",
       "education professional                          1\n",
       "occupational therapist                          1\n",
       "ot/parent                                       1\n",
       "psychologist                                    1\n",
       "professors                                      1\n",
       "salt                                            1\n",
       "clinical therapist with asd                     1\n",
       "ex aba professional / ot                        1\n",
       "ot with asd                                     1\n",
       "person with “special needs” not specified       1\n",
       "friend of asd person                            1\n",
       "ot                                              1\n",
       "sibling                                         1\n",
       "parent/aba professional                         1\n",
       "Name: count, dtype: int64"
      ]
     },
     "execution_count": 185,
     "metadata": {},
     "output_type": "execute_result"
    }
   ],
   "source": [
    "# replace ? containing labels with layperson ( as the grader was not sure , it means it is not clear in the text)\n",
    "question_mark_rows = aba_posts_labeled[aba_posts_labeled['author'].str.contains('\\?', na=False, regex=True)]\n",
    "aba_posts_labeled.loc[question_mark_rows.index, 'author'] = 'layperson'\n",
    "aba_posts_labeled['author'].value_counts()"
   ]
  },
  {
   "cell_type": "code",
   "execution_count": 186,
   "metadata": {},
   "outputs": [
    {
     "data": {
      "text/plain": [
       "author\n",
       "layperson                      2168\n",
       "aba professional                564\n",
       "parent                          379\n",
       "other professional               99\n",
       "asd                              72\n",
       "asd person                       48\n",
       "professional                     32\n",
       "aba professional with asd        12\n",
       "aba  professional/asd             8\n",
       "family                            5\n",
       "slp                               5\n",
       "ex aba profesisonal               4\n",
       "other professional / asd          4\n",
       "ex aba professional               4\n",
       "teacher                           4\n",
       "aba professional / asd            3\n",
       "parent/asd                        3\n",
       "relative                          3\n",
       "asd parent                        2\n",
       "other professional/asd            2\n",
       "parent/other professional         2\n",
       "ex - aba professional             2\n",
       "aba professional/parent           2\n",
       "aba student with asd              1\n",
       "ex aba profesional                1\n",
       "parent with asd                   1\n",
       "asd student                       1\n",
       "ot                                1\n",
       "social worker with asd            1\n",
       "clinical therapist with asd       1\n",
       "sibling                           1\n",
       "parent with asd child             1\n",
       "friend of asd person              1\n",
       "ot with asd                       1\n",
       "ex aba professional / ot          1\n",
       "salt                              1\n",
       "asd teacher                       1\n",
       "professors                        1\n",
       "psychologist                      1\n",
       "ot/parent                         1\n",
       "occupational therapist            1\n",
       "education professional            1\n",
       "psychologist with asd             1\n",
       "parent/aba professional           1\n",
       "Name: count, dtype: int64"
      ]
     },
     "execution_count": 186,
     "metadata": {},
     "output_type": "execute_result"
    }
   ],
   "source": [
    "# replace other people with layperson \n",
    "other_people = ['relativeo of aba professional', 'student', 'aba student', 'person with “special needs” not specified']\n",
    "\n",
    "other_people_mapping = {person: 'layperson' for person in other_people}\n",
    "aba_posts_labeled['author'] = aba_posts_labeled['author'].replace(other_people_mapping)\n",
    "\n",
    "aba_posts_labeled.author.value_counts()"
   ]
  },
  {
   "cell_type": "code",
   "execution_count": 187,
   "metadata": {},
   "outputs": [
    {
     "data": {
      "text/plain": [
       "author\n",
       "layperson                      2168\n",
       "aba professional                564\n",
       "parent                          379\n",
       "other professional               99\n",
       "asd                              72\n",
       "other_professional               48\n",
       "asd person                       48\n",
       "aba professional with asd        12\n",
       "aba  professional/asd             8\n",
       "family                            5\n",
       "other professional / asd          4\n",
       "ex aba professional               4\n",
       "ex aba profesisonal               4\n",
       "aba professional / asd            3\n",
       "parent/asd                        3\n",
       "relative                          3\n",
       "parent/other professional         2\n",
       "other professional/asd            2\n",
       "asd parent                        2\n",
       "aba professional/parent           2\n",
       "ex - aba professional             2\n",
       "ex aba profesional                1\n",
       "aba student with asd              1\n",
       "clinical therapist with asd       1\n",
       "parent with asd                   1\n",
       "asd student                       1\n",
       "social worker with asd            1\n",
       "sibling                           1\n",
       "parent with asd child             1\n",
       "friend of asd person              1\n",
       "ot with asd                       1\n",
       "asd teacher                       1\n",
       "ot/parent                         1\n",
       "psychologist with asd             1\n",
       "parent/aba professional           1\n",
       "Name: count, dtype: int64"
      ]
     },
     "execution_count": 187,
     "metadata": {},
     "output_type": "execute_result"
    }
   ],
   "source": [
    "# replace other therapy/education related professions with other_professions\n",
    "other_professions = ['slp', 'ot', 'salt', 'psychologist', 'teacher', 'education professional', 'professors', 'occupational therapist', 'professional', 'ex aba professional / ot']\n",
    "\n",
    "profession_mapping = {profession: 'other_professional' for profession in other_professions}\n",
    "\n",
    "aba_posts_labeled['author'] = aba_posts_labeled['author'].replace(profession_mapping)\n",
    "\n",
    "aba_posts_labeled.author.value_counts()"
   ]
  },
  {
   "cell_type": "code",
   "execution_count": 188,
   "metadata": {},
   "outputs": [
    {
     "data": {
      "text/plain": [
       "author\n",
       "layperson                      2168\n",
       "aba professional                564\n",
       "parent                          379\n",
       "other professional               99\n",
       "asd                              72\n",
       "asd person                       48\n",
       "other_professional               48\n",
       "aba professional with asd        12\n",
       "family                           10\n",
       "aba  professional/asd             8\n",
       "ex aba professional               4\n",
       "ex aba profesisonal               4\n",
       "other professional / asd          4\n",
       "aba professional / asd            3\n",
       "parent/asd                        3\n",
       "ex - aba professional             2\n",
       "aba professional/parent           2\n",
       "asd parent                        2\n",
       "parent/other professional         2\n",
       "other professional/asd            2\n",
       "aba student with asd              1\n",
       "social worker with asd            1\n",
       "ex aba profesional                1\n",
       "parent with asd                   1\n",
       "asd student                       1\n",
       "clinical therapist with asd       1\n",
       "parent with asd child             1\n",
       "ot with asd                       1\n",
       "asd teacher                       1\n",
       "ot/parent                         1\n",
       "psychologist with asd             1\n",
       "parent/aba professional           1\n",
       "Name: count, dtype: int64"
      ]
     },
     "execution_count": 188,
     "metadata": {},
     "output_type": "execute_result"
    }
   ],
   "source": [
    "# replace other therapy/education related professions with other_professions\n",
    "family = ['sibling', 'friend of asd person', 'relative']\n",
    "\n",
    "family_mapping = {member: 'family' for member in family}\n",
    "\n",
    "aba_posts_labeled['author'] = aba_posts_labeled['author'].replace(family_mapping)\n",
    "\n",
    "aba_posts_labeled.author.value_counts()"
   ]
  },
  {
   "cell_type": "code",
   "execution_count": 189,
   "metadata": {},
   "outputs": [
    {
     "data": {
      "text/plain": [
       "author\n",
       "layperson                      2168\n",
       "aba professional                564\n",
       "parent                          379\n",
       "other professional               99\n",
       "asd                              72\n",
       "asd person                       48\n",
       "other_professional               48\n",
       "aba professional with asd        12\n",
       "ex aba profesisonal              10\n",
       "family                           10\n",
       "aba  professional/asd             8\n",
       "other professional / asd          4\n",
       "aba professional / asd            3\n",
       "parent/asd                        3\n",
       "aba professional/parent           2\n",
       "parent/other professional         2\n",
       "other professional/asd            2\n",
       "asd parent                        2\n",
       "aba student with asd              1\n",
       "social worker with asd            1\n",
       "ex aba profesional                1\n",
       "parent with asd                   1\n",
       "asd student                       1\n",
       "clinical therapist with asd       1\n",
       "parent with asd child             1\n",
       "ot with asd                       1\n",
       "asd teacher                       1\n",
       "ot/parent                         1\n",
       "psychologist with asd             1\n",
       "parent/aba professional           1\n",
       "Name: count, dtype: int64"
      ]
     },
     "execution_count": 189,
     "metadata": {},
     "output_type": "execute_result"
    }
   ],
   "source": [
    "# standardize labels for ex aba professional\n",
    "ex_aba_professional = ['ex aba professional', 'ex - aba professional']\n",
    "\n",
    "ex_aba_mapping = {member: 'ex aba profesisonal' for member in ex_aba_professional}\n",
    "\n",
    "aba_posts_labeled['author'] = aba_posts_labeled['author'].replace(ex_aba_mapping)\n",
    "\n",
    "aba_posts_labeled.author.value_counts()"
   ]
  },
  {
   "cell_type": "code",
   "execution_count": 190,
   "metadata": {},
   "outputs": [
    {
     "data": {
      "text/plain": [
       "author\n",
       "layperson                      2168\n",
       "aba professional                564\n",
       "parent                          380\n",
       "other_professional              147\n",
       "asd                             121\n",
       "aba professional with asd        12\n",
       "ex aba profesisonal              10\n",
       "family                           10\n",
       "aba  professional/asd             8\n",
       "other professional / asd          4\n",
       "aba professional / asd            3\n",
       "parent/asd                        3\n",
       "aba professional/parent           2\n",
       "asd parent                        2\n",
       "parent/other professional         2\n",
       "other professional/asd            2\n",
       "aba student with asd              1\n",
       "clinical therapist with asd       1\n",
       "ex aba profesional                1\n",
       "parent with asd                   1\n",
       "social worker with asd            1\n",
       "ot with asd                       1\n",
       "asd teacher                       1\n",
       "ot/parent                         1\n",
       "psychologist with asd             1\n",
       "parent/aba professional           1\n",
       "Name: count, dtype: int64"
      ]
     },
     "execution_count": 190,
     "metadata": {},
     "output_type": "execute_result"
    }
   ],
   "source": [
    "# standardize labels for person with “special needs” not specified ( = layperson) and parent\n",
    "aba_posts_labeled['author'] = aba_posts_labeled['author'].replace('asd student', 'asd person')\n",
    "aba_posts_labeled['author'] = aba_posts_labeled['author'].replace('parent with asd child', 'parent')\n",
    "aba_posts_labeled['author'] = aba_posts_labeled['author'].replace('other professional', 'other_professional')\n",
    "aba_posts_labeled['author'] = aba_posts_labeled['author'].replace('asd person', 'asd')\n",
    "\n",
    "\n",
    "aba_posts_labeled.author.value_counts()"
   ]
  },
  {
   "cell_type": "code",
   "execution_count": 191,
   "metadata": {},
   "outputs": [
    {
     "data": {
      "text/plain": [
       "author\n",
       "layperson                                    2168\n",
       "aba professional                              564\n",
       "parent                                        380\n",
       "other_professionalher_professional            147\n",
       "asd                                           121\n",
       "aba professional with asd                      12\n",
       "family                                         10\n",
       "ex aba profesisonal                            10\n",
       "aba  professional/asd                           8\n",
       "other_professional with asd                     4\n",
       "other_professionalher professional / asd        4\n",
       "aba professional / asd                          3\n",
       "parent/asd                                      3\n",
       "asd parent                                      2\n",
       "other_professionalher professional/asd          2\n",
       "parent/other_professionalher professional       2\n",
       "aba professional/parent                         2\n",
       "other_professional/parent                       1\n",
       "asd other_professional                          1\n",
       "parent with asd                                 1\n",
       "ex aba profesional                              1\n",
       "aba student with asd                            1\n",
       "parent/aba professional                         1\n",
       "Name: count, dtype: int64"
      ]
     },
     "execution_count": 191,
     "metadata": {},
     "output_type": "execute_result"
    }
   ],
   "source": [
    "# replace other therapy/education related professions with other_professions in strings\n",
    "other_professions = [ 'ot', 'psychologist', 'teacher', 'social worker', 'clinical therapist']\n",
    "profession_mapping = {profession: 'other_professional' for profession in other_professions}\n",
    "\n",
    "aba_posts_labeled['author'] = aba_posts_labeled['author'].replace(profession_mapping, regex=True)\n",
    "\n",
    "aba_posts_labeled.author.value_counts()"
   ]
  },
  {
   "cell_type": "code",
   "execution_count": 192,
   "metadata": {},
   "outputs": [
    {
     "data": {
      "text/plain": [
       "author\n",
       "layperson                      2168\n",
       "aba professional                564\n",
       "parent                          380\n",
       "other_professional              147\n",
       "asd                             121\n",
       "aba professional with asd        12\n",
       "family                           10\n",
       "ex aba profesisonal              10\n",
       "aba  professional/asd             8\n",
       "other_professional with asd       4\n",
       "other_professional / asd          4\n",
       "aba professional / asd            3\n",
       "parent/asd                        3\n",
       "asd parent                        2\n",
       "other_professional/asd            2\n",
       "parent/other_professional         2\n",
       "aba professional/parent           2\n",
       "other_professional/parent         1\n",
       "asd other_professional            1\n",
       "parent with asd                   1\n",
       "ex aba profesional                1\n",
       "aba student with asd              1\n",
       "parent/aba professional           1\n",
       "Name: count, dtype: int64"
      ]
     },
     "execution_count": 192,
     "metadata": {},
     "output_type": "execute_result"
    }
   ],
   "source": [
    "aba_posts_labeled['author'] = aba_posts_labeled['author'].replace('other_professionalher_professional', 'other_professional')\n",
    "aba_posts_labeled['author'] = aba_posts_labeled['author'].replace('other_professionalher_professional', 'other_professional', regex=True)\n",
    "aba_posts_labeled['author'] = aba_posts_labeled['author'].replace('other_professionalher professional', 'other_professional', regex=True)\n",
    "\n",
    "aba_posts_labeled.author.value_counts()"
   ]
  },
  {
   "cell_type": "code",
   "execution_count": 193,
   "metadata": {},
   "outputs": [
    {
     "data": {
      "text/plain": [
       "author\n",
       "layperson                    2168\n",
       "aba professional              564\n",
       "parent                        380\n",
       "other_professional            147\n",
       "asd                           121\n",
       "aba professional / asd         15\n",
       "ex aba profesisonal            10\n",
       "family                         10\n",
       "aba  professional/asd           8\n",
       "other_professional / asd        8\n",
       "parent/asd                      3\n",
       "asd parent                      2\n",
       "aba professional/parent         2\n",
       "parent/other_professional       2\n",
       "other_professional/asd          2\n",
       "asd other_professional          1\n",
       "aba student / asd               1\n",
       "ex aba profesional              1\n",
       "parent / asd                    1\n",
       "other_professional/parent       1\n",
       "parent/aba professional         1\n",
       "Name: count, dtype: int64"
      ]
     },
     "execution_count": 193,
     "metadata": {},
     "output_type": "execute_result"
    }
   ],
   "source": [
    "# repalce 'with' with '/'\n",
    "aba_posts_labeled['author'] = aba_posts_labeled['author'].replace('with', '/', regex=True)\n",
    "aba_posts_labeled.author.value_counts()"
   ]
  },
  {
   "cell_type": "code",
   "execution_count": 194,
   "metadata": {},
   "outputs": [
    {
     "data": {
      "text/plain": [
       "author\n",
       "layperson                    2168\n",
       "aba professional              564\n",
       "parent                        380\n",
       "other_professional            147\n",
       "asd                           121\n",
       "aba professional / asd         15\n",
       "ex aba profesisonal            10\n",
       "family                         10\n",
       "other_professional / asd        8\n",
       "aba  professional/asd           8\n",
       "parent/asd                      3\n",
       "parent / asd                    3\n",
       "other_professional/asd          2\n",
       "aba professional/parent         2\n",
       "parent/other_professional       2\n",
       "asd / other_professional        1\n",
       "aba student / asd               1\n",
       "ex aba profesional              1\n",
       "other_professional/parent       1\n",
       "parent/aba professional         1\n",
       "Name: count, dtype: int64"
      ]
     },
     "execution_count": 194,
     "metadata": {},
     "output_type": "execute_result"
    }
   ],
   "source": [
    "aba_posts_labeled['author'] = aba_posts_labeled['author'].replace('asd person', 'asd')\n",
    "aba_posts_labeled['author'] = aba_posts_labeled['author'].replace('asd parent', 'parent / asd')\n",
    "aba_posts_labeled['author'] = aba_posts_labeled['author'].replace('asd other_professional', 'asd / other_professional')\n",
    "\n",
    "aba_posts_labeled.author.value_counts()"
   ]
  },
  {
   "cell_type": "code",
   "execution_count": 195,
   "metadata": {},
   "outputs": [
    {
     "data": {
      "text/plain": [
       "author\n",
       "layperson                    2178\n",
       "aba professional              564\n",
       "parent                        380\n",
       "other_professional            158\n",
       "asd                           122\n",
       "aba professional / asd         15\n",
       "other_professional / asd        8\n",
       "aba professional/asd            8\n",
       "parent / asd                    3\n",
       "parent/asd                      3\n",
       "other_professional/asd          2\n",
       "parent/other_professional       2\n",
       "aba professional/parent         2\n",
       "other_professional/parent       1\n",
       "asd / other_professional        1\n",
       "parent/aba professional         1\n",
       "Name: count, dtype: int64"
      ]
     },
     "execution_count": 195,
     "metadata": {},
     "output_type": "execute_result"
    }
   ],
   "source": [
    "# family - > move to layperson as they are not directly involved in decission making regarding the therapy\n",
    "aba_posts_labeled['author'] = aba_posts_labeled['author'].replace('family', 'layperson')\n",
    "# ex aba proffessionals go into other_professionals as they are not currently practicing aba\n",
    "aba_posts_labeled['author'] = aba_posts_labeled['author'].replace('ex aba profesisonal', 'other_professional')\n",
    "aba_posts_labeled['author'] = aba_posts_labeled['author'].replace('ex aba profesional', 'other_professional')\n",
    "\n",
    "aba_posts_labeled['author'] = aba_posts_labeled['author'].replace('aba student / asd', 'asd')\n",
    "\n",
    "aba_posts_labeled['author'] = aba_posts_labeled['author'].replace('aba  professional/asd', 'aba professional/asd')\n",
    "\n",
    "aba_posts_labeled.author.value_counts()"
   ]
  },
  {
   "cell_type": "code",
   "execution_count": 196,
   "metadata": {},
   "outputs": [
    {
     "data": {
      "text/plain": [
       "author\n",
       "[layperson]                     2178\n",
       "[aba professional]               564\n",
       "[parent]                         380\n",
       "[other_professional]             158\n",
       "[asd]                            122\n",
       "[aba professional, asd]           23\n",
       "[other_professional, asd]         10\n",
       "[parent, asd]                      6\n",
       "[parent, other_professional]       2\n",
       "[aba professional, parent]         2\n",
       "[other_professional, parent]       1\n",
       "[asd, other_professional]          1\n",
       "[parent, aba professional]         1\n",
       "Name: count, dtype: int64"
      ]
     },
     "execution_count": 196,
     "metadata": {},
     "output_type": "execute_result"
    }
   ],
   "source": [
    "# split the 'author' column and convert to lists\n",
    "aba_posts_labeled['author'] = aba_posts_labeled['author'].str.split('/')\n",
    "# strip white spaces from each element within the 'author' column\n",
    "aba_posts_labeled['author'] = aba_posts_labeled['author'].apply(lambda x: [i.strip() for i in x])\n",
    "aba_posts_labeled.author.value_counts()"
   ]
  },
  {
   "cell_type": "code",
   "execution_count": 197,
   "metadata": {},
   "outputs": [
    {
     "data": {
      "text/plain": [
       "author\n",
       "[layperson]                     2178\n",
       "[aba professional]               564\n",
       "[parent]                         380\n",
       "[other_professional]             158\n",
       "[asd]                            122\n",
       "[asd, aba professional]           23\n",
       "[asd, other_professional]         11\n",
       "[asd, parent]                      6\n",
       "[other_professional, parent]       3\n",
       "[aba professional, parent]         3\n",
       "Name: count, dtype: int64"
      ]
     },
     "execution_count": 197,
     "metadata": {},
     "output_type": "execute_result"
    }
   ],
   "source": [
    "# some list have the same entries but reversed orther -> make it uniform\n",
    "aba_posts_labeled['author'] = aba_posts_labeled['author'].apply(set)\n",
    "aba_posts_labeled['author'] = aba_posts_labeled['author'].apply(list)\n",
    "aba_posts_labeled.author.value_counts()"
   ]
  },
  {
   "cell_type": "code",
   "execution_count": 199,
   "metadata": {},
   "outputs": [
    {
     "name": "stdout",
     "output_type": "stream",
     "text": [
      "<class 'pandas.core.frame.DataFrame'>\n",
      "Index: 3448 entries, 0 to 3559\n",
      "Data columns (total 4 columns):\n",
      " #   Column     Non-Null Count  Dtype \n",
      "---  ------     --------------  ----- \n",
      " 0   Document   3448 non-null   object\n",
      " 1   sentiment  3448 non-null   object\n",
      " 2   author     3448 non-null   object\n",
      " 3   commnents  535 non-null    object\n",
      "dtypes: object(4)\n",
      "memory usage: 263.7+ KB\n"
     ]
    }
   ],
   "source": [
    "aba_posts_labeled.info()  # 3448 rows/ post to include in sentiment analisys"
   ]
  },
  {
   "cell_type": "code",
   "execution_count": 200,
   "metadata": {},
   "outputs": [
    {
     "data": {
      "text/plain": [
       "author\n",
       "layperson             2178\n",
       "aba professional       590\n",
       "parent                 392\n",
       "other_professional     172\n",
       "asd                    162\n",
       "Name: count, dtype: int64"
      ]
     },
     "execution_count": 200,
     "metadata": {},
     "output_type": "execute_result"
    }
   ],
   "source": [
    "# Count all the labels per category\n",
    "aba_posts_labeled[\"author\"].explode().value_counts()  "
   ]
  },
  {
   "cell_type": "code",
   "execution_count": 201,
   "metadata": {},
   "outputs": [
    {
     "data": {
      "image/png": "[encoded data removed]",
      "text/plain": [
       "<Figure size 1000x600 with 1 Axes>"
      ]
     },
     "metadata": {},
     "output_type": "display_data"
    }
   ],
   "source": [
    "# Get unique items & counts\n",
    "unique_values = aba_posts_labeled[\"author\"].explode().value_counts().index.tolist()\n",
    "unique_value_counts = aba_posts_labeled[\"author\"].explode().value_counts().values\n",
    "\n",
    "# Create plot\n",
    "fig, ax = plt.subplots(figsize = (10,6))\n",
    "ax.bar(unique_values, unique_value_counts)\n",
    "ax.set_ylabel(\"Frequency\", size = 12)\n",
    "ax.set_title(\"Type of author\", size = 14)\n",
    "plt.show()\n",
    "\n",
    "\n",
    "# data is not balanced\n",
    "# more than half the post do not explicitly state they are a professional, a parents/carer or if they have ASD\n",
    "# more than half the posts come from the general population ( that most likely has not directly experienced ABA, be it as a client or a proveder)"
   ]
  },
  {
   "cell_type": "code",
   "execution_count": 202,
   "metadata": {},
   "outputs": [],
   "source": [
    "# Create Individual Columns for All Unique Values\n",
    "\n",
    "def boolean_df(item_lists, unique_items):\n",
    "# Create empty dict\n",
    "    bool_dict = {}\n",
    "    \n",
    "    # Loop through all the tags\n",
    "    for i, item in enumerate(unique_items):\n",
    "        \n",
    "        # Apply boolean mask\n",
    "        bool_dict[item] = item_lists.apply(lambda x: item in x)\n",
    "            \n",
    "    # Return the results as a dataframe\n",
    "    return pd.DataFrame(bool_dict)\n"
   ]
  },
  {
   "cell_type": "code",
   "execution_count": 203,
   "metadata": {},
   "outputs": [],
   "source": [
    "aba_posts_labeled_bool = boolean_df(\n",
    "  item_lists = aba_posts_labeled[\"author\"],\n",
    "  unique_items = unique_values\n",
    ")"
   ]
  },
  {
   "cell_type": "code",
   "execution_count": 204,
   "metadata": {},
   "outputs": [
    {
     "data": {
      "text/html": [
       "<div>\n",
       "<style scoped>\n",
       "    .dataframe tbody tr th:only-of-type {\n",
       "        vertical-align: middle;\n",
       "    }\n",
       "\n",
       "    .dataframe tbody tr th {\n",
       "        vertical-align: top;\n",
       "    }\n",
       "\n",
       "    .dataframe thead th {\n",
       "        text-align: right;\n",
       "    }\n",
       "</style>\n",
       "<table border=\"1\" class=\"dataframe\">\n",
       "  <thead>\n",
       "    <tr style=\"text-align: right;\">\n",
       "      <th></th>\n",
       "      <th>layperson</th>\n",
       "      <th>aba professional</th>\n",
       "      <th>parent</th>\n",
       "      <th>other_professional</th>\n",
       "      <th>asd</th>\n",
       "    </tr>\n",
       "  </thead>\n",
       "  <tbody>\n",
       "    <tr>\n",
       "      <th>0</th>\n",
       "      <td>True</td>\n",
       "      <td>False</td>\n",
       "      <td>False</td>\n",
       "      <td>False</td>\n",
       "      <td>False</td>\n",
       "    </tr>\n",
       "    <tr>\n",
       "      <th>1</th>\n",
       "      <td>True</td>\n",
       "      <td>False</td>\n",
       "      <td>False</td>\n",
       "      <td>False</td>\n",
       "      <td>False</td>\n",
       "    </tr>\n",
       "    <tr>\n",
       "      <th>2</th>\n",
       "      <td>True</td>\n",
       "      <td>False</td>\n",
       "      <td>False</td>\n",
       "      <td>False</td>\n",
       "      <td>False</td>\n",
       "    </tr>\n",
       "    <tr>\n",
       "      <th>3</th>\n",
       "      <td>False</td>\n",
       "      <td>False</td>\n",
       "      <td>True</td>\n",
       "      <td>False</td>\n",
       "      <td>False</td>\n",
       "    </tr>\n",
       "    <tr>\n",
       "      <th>4</th>\n",
       "      <td>True</td>\n",
       "      <td>False</td>\n",
       "      <td>False</td>\n",
       "      <td>False</td>\n",
       "      <td>False</td>\n",
       "    </tr>\n",
       "  </tbody>\n",
       "</table>\n",
       "</div>"
      ],
      "text/plain": [
       "   layperson  aba professional  parent  other_professional    asd\n",
       "0       True             False   False               False  False\n",
       "1       True             False   False               False  False\n",
       "2       True             False   False               False  False\n",
       "3      False             False    True               False  False\n",
       "4       True             False   False               False  False"
      ]
     },
     "execution_count": 204,
     "metadata": {},
     "output_type": "execute_result"
    }
   ],
   "source": [
    "aba_posts_labeled_bool.head()"
   ]
  },
  {
   "cell_type": "code",
   "execution_count": 205,
   "metadata": {},
   "outputs": [
    {
     "name": "stdout",
     "output_type": "stream",
     "text": [
      "<class 'pandas.core.frame.DataFrame'>\n",
      "Index: 3448 entries, 0 to 3559\n",
      "Data columns (total 7 columns):\n",
      " #   Column              Non-Null Count  Dtype \n",
      "---  ------              --------------  ----- \n",
      " 0   Document            3448 non-null   object\n",
      " 1   sentiment           3448 non-null   object\n",
      " 2   layperson           3448 non-null   bool  \n",
      " 3   aba professional    3448 non-null   bool  \n",
      " 4   parent              3448 non-null   bool  \n",
      " 5   other_professional  3448 non-null   bool  \n",
      " 6   asd                 3448 non-null   bool  \n",
      "dtypes: bool(5), object(2)\n",
      "memory usage: 226.7+ KB\n"
     ]
    },
    {
     "data": {
      "text/html": [
       "<div>\n",
       "<style scoped>\n",
       "    .dataframe tbody tr th:only-of-type {\n",
       "        vertical-align: middle;\n",
       "    }\n",
       "\n",
       "    .dataframe tbody tr th {\n",
       "        vertical-align: top;\n",
       "    }\n",
       "\n",
       "    .dataframe thead th {\n",
       "        text-align: right;\n",
       "    }\n",
       "</style>\n",
       "<table border=\"1\" class=\"dataframe\">\n",
       "  <thead>\n",
       "    <tr style=\"text-align: right;\">\n",
       "      <th></th>\n",
       "      <th>Document</th>\n",
       "      <th>sentiment</th>\n",
       "      <th>layperson</th>\n",
       "      <th>aba professional</th>\n",
       "      <th>parent</th>\n",
       "      <th>other_professional</th>\n",
       "      <th>asd</th>\n",
       "    </tr>\n",
       "  </thead>\n",
       "  <tbody>\n",
       "    <tr>\n",
       "      <th>0</th>\n",
       "      <td>Is she in ABA therapy I only ask because my hu...</td>\n",
       "      <td>Neutral</td>\n",
       "      <td>True</td>\n",
       "      <td>False</td>\n",
       "      <td>False</td>\n",
       "      <td>False</td>\n",
       "      <td>False</td>\n",
       "    </tr>\n",
       "    <tr>\n",
       "      <th>1</th>\n",
       "      <td>I heard you are able to ask them questions May...</td>\n",
       "      <td>Neutral</td>\n",
       "      <td>True</td>\n",
       "      <td>False</td>\n",
       "      <td>False</td>\n",
       "      <td>False</td>\n",
       "      <td>False</td>\n",
       "    </tr>\n",
       "    <tr>\n",
       "      <th>2</th>\n",
       "      <td>I agree with that Even dr Lovaas said ABA does...</td>\n",
       "      <td>Positive</td>\n",
       "      <td>True</td>\n",
       "      <td>False</td>\n",
       "      <td>False</td>\n",
       "      <td>False</td>\n",
       "      <td>False</td>\n",
       "    </tr>\n",
       "    <tr>\n",
       "      <th>3</th>\n",
       "      <td>Thank you so so much for sharing your experien...</td>\n",
       "      <td>Positive</td>\n",
       "      <td>False</td>\n",
       "      <td>False</td>\n",
       "      <td>True</td>\n",
       "      <td>False</td>\n",
       "      <td>False</td>\n",
       "    </tr>\n",
       "    <tr>\n",
       "      <th>4</th>\n",
       "      <td>Thank you that makes a lot of sense Seems pret...</td>\n",
       "      <td>Neutral</td>\n",
       "      <td>True</td>\n",
       "      <td>False</td>\n",
       "      <td>False</td>\n",
       "      <td>False</td>\n",
       "      <td>False</td>\n",
       "    </tr>\n",
       "  </tbody>\n",
       "</table>\n",
       "</div>"
      ],
      "text/plain": [
       "                                            Document sentiment  layperson  \\\n",
       "0  Is she in ABA therapy I only ask because my hu...   Neutral       True   \n",
       "1  I heard you are able to ask them questions May...   Neutral       True   \n",
       "2  I agree with that Even dr Lovaas said ABA does...  Positive       True   \n",
       "3  Thank you so so much for sharing your experien...  Positive      False   \n",
       "4  Thank you that makes a lot of sense Seems pret...   Neutral       True   \n",
       "\n",
       "   aba professional  parent  other_professional    asd  \n",
       "0             False   False               False  False  \n",
       "1             False   False               False  False  \n",
       "2             False   False               False  False  \n",
       "3             False    True               False  False  \n",
       "4             False   False               False  False  "
      ]
     },
     "execution_count": 205,
     "metadata": {},
     "output_type": "execute_result"
    }
   ],
   "source": [
    "# join 'Document' and 'sentiment' columns from aba_posts_labeled with aba_posts_labeled_bool\n",
    "aba_posts_labeled_new = pd.concat([aba_posts_labeled[['Document', 'sentiment']], aba_posts_labeled_bool], axis=1)\n",
    "\n",
    "aba_posts_labeled_new.info()\n",
    "aba_posts_labeled_new.head()"
   ]
  },
  {
   "cell_type": "code",
   "execution_count": 206,
   "metadata": {},
   "outputs": [],
   "source": [
    "# save new dataset on google drive - needed to be imported in colab for running transformer models on GPU\n",
    "aba_posts_labeled_new.to_csv('/Users/andreeanistor/Google Drive/My Drive/MS_DS_NLP_project/aba_posts_labeled_cleaned_full_set.csv', index=False)"
   ]
  }
 ],
 "metadata": {
  "kernelspec": {
   "display_name": "Python 3",
   "language": "python",
   "name": "python3"
  },
  "language_info": {
   "codemirror_mode": {
    "name": "ipython",
    "version": 3
   },
   "file_extension": ".py",
   "mimetype": "text/x-python",
   "name": "python",
   "nbconvert_exporter": "python",
   "pygments_lexer": "ipython3",
   "version": "3.10.7"
  }
 },
 "nbformat": 4,
 "nbformat_minor": 2
}
